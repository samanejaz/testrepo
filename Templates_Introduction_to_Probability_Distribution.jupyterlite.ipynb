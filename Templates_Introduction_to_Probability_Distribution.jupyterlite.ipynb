{
  "metadata": {
    "language_info": {
      "codemirror_mode": {
        "name": "python",
        "version": 3
      },
      "file_extension": ".py",
      "mimetype": "text/x-python",
      "name": "python",
      "nbconvert_exporter": "python",
      "pygments_lexer": "ipython3",
      "version": "3.8"
    },
    "kernelspec": {
      "name": "python",
      "display_name": "Pyolite",
      "language": "python"
    }
  },
  "nbformat_minor": 4,
  "nbformat": 4,
  "cells": [
    {
      "cell_type": "markdown",
      "source": "<p style=\"text-align:center\">\n    <a href=\"https://skills.network/?utm_medium=Exinfluencer&utm_source=Exinfluencer&utm_content=000026UJ&utm_term=10006555&utm_id=NA-SkillsNetwork-Channel-SkillsNetworkCoursesIBMDeveloperSkillsNetworkST0151ENSkillsNetwork20531532-2022-01-01\" target=\"_blank\">\n    <img src=\"https://cf-courses-data.s3.us.cloud-object-storage.appdomain.cloud/assets/logos/SN_web_lightmode.png\" width=\"200\" alt=\"Skills Network Logo\"  />\n    </a>\n</p>\n",
      "metadata": {}
    },
    {
      "cell_type": "markdown",
      "source": "# **Introduction to Probability Distribution**\n",
      "metadata": {}
    },
    {
      "cell_type": "markdown",
      "source": "Estimated time needed: **30** minutes\n",
      "metadata": {}
    },
    {
      "cell_type": "markdown",
      "source": "In this lab, you will familiarize yourself with the normal probability distributions and work on some exercises\n",
      "metadata": {}
    },
    {
      "cell_type": "markdown",
      "source": "## Objectives\n",
      "metadata": {}
    },
    {
      "cell_type": "markdown",
      "source": "*   Import Libraries\n*   Introduction to Probability Distributions\n    *   Normal Distributions\n*   Lab Exercises\n",
      "metadata": {}
    },
    {
      "cell_type": "markdown",
      "source": "***\n",
      "metadata": {}
    },
    {
      "cell_type": "markdown",
      "source": "## Import Libraries\n",
      "metadata": {}
    },
    {
      "cell_type": "markdown",
      "source": "All Libraries required for this lab are listed below. The libraries pre-installed on Skills Network Labs are commented. If you run this notebook in a different environment, e.g. your desktop, you may need to uncomment and install certain libraries.\n",
      "metadata": {}
    },
    {
      "cell_type": "markdown",
      "source": "Import the libraries we need for the lab\n",
      "metadata": {}
    },
    {
      "cell_type": "code",
      "source": "import piplite\nawait piplite.install(['numpy'])\nawait piplite.install(['pandas'])",
      "metadata": {
        "trusted": true
      },
      "execution_count": 1,
      "outputs": []
    },
    {
      "cell_type": "code",
      "source": "import numpy as np\nimport pandas as pd\nimport matplotlib.pyplot as plt\nimport scipy.stats\nfrom math import sqrt",
      "metadata": {
        "trusted": true
      },
      "execution_count": 2,
      "outputs": []
    },
    {
      "cell_type": "markdown",
      "source": "Read in the csv file from the url using the request library\n",
      "metadata": {}
    },
    {
      "cell_type": "code",
      "source": "from js import fetch\nimport io\n\nURL = 'https://cf-courses-data.s3.us.cloud-object-storage.appdomain.cloud/IBMDeveloperSkillsNetwork-ST0151EN-SkillsNetwork/labs/teachingratings.csv'\nresp = await fetch(URL)\nratings_url = io.BytesIO((await resp.arrayBuffer()).to_py())",
      "metadata": {
        "trusted": true
      },
      "execution_count": 3,
      "outputs": []
    },
    {
      "cell_type": "code",
      "source": "ratings_df = pd.read_csv(ratings_url)",
      "metadata": {
        "trusted": true
      },
      "execution_count": 4,
      "outputs": []
    },
    {
      "cell_type": "markdown",
      "source": "## Introduction to Probability Distribution\n",
      "metadata": {}
    },
    {
      "cell_type": "markdown",
      "source": "In this section, you will learn how to create the plot distributions using the scipy library in python\n",
      "metadata": {}
    },
    {
      "cell_type": "markdown",
      "source": "### Normal Distribution\n",
      "metadata": {}
    },
    {
      "cell_type": "markdown",
      "source": "A normal distribution is a bell-shaped density curve described by its mean μ and standard deviation σ. The curve is symmetrical and centered around it's mean. A normal distribution curve looks like this:\n",
      "metadata": {}
    },
    {
      "cell_type": "markdown",
      "source": "![image.png](attachment:image.png)\n",
      "metadata": {}
    },
    {
      "cell_type": "markdown",
      "source": "We can visualize the curve. Import norm from scipy.stat and plot graph with matplotlib\n",
      "metadata": {}
    },
    {
      "cell_type": "code",
      "source": "from scipy.stats import norm\n\n# Plot between -4 and 4 with 0.1 steps.\nx_axis = np.arange(-4, 4, 0.1)\n# Mean = 0, SD = 1.\nplt.plot(x_axis, norm.pdf(x_axis, 0, 1))\nplt.show()",
      "metadata": {
        "trusted": true
      },
      "execution_count": 5,
      "outputs": [
        {
          "output_type": "display_data",
          "data": {
            "text/plain": "<pyolite.display.Image at 0x56fa358>",
            "image/png": "[encoded data removed]"
          },
          "metadata": {}
        }
      ]
    },
    {
      "cell_type": "markdown",
      "source": "## Lab Exercises\n",
      "metadata": {}
    },
    {
      "cell_type": "markdown",
      "source": "### Using the teachers' rating dataset, what is the probability of receiving an evaluation score of greater than 4.5\n",
      "metadata": {}
    },
    {
      "cell_type": "markdown",
      "source": "Find the mean and standard deviation of teachers' evaluation scores\n",
      "metadata": {}
    },
    {
      "cell_type": "code",
      "source": "eval_mean = round(ratings_df['eval'].mean(), 3)\neval_sd = round(ratings_df['eval'].std(), 3)\nprint(eval_mean, eval_sd)",
      "metadata": {
        "trusted": true
      },
      "execution_count": 6,
      "outputs": [
        {
          "name": "stdout",
          "text": "3.998 0.555\n",
          "output_type": "stream"
        }
      ]
    },
    {
      "cell_type": "markdown",
      "source": "Use the scipy.stats module. Because python only looks to the left i.e. less than, we do remove the probability from 1 to get the other side of the tail\n",
      "metadata": {}
    },
    {
      "cell_type": "code",
      "source": "prob0 = scipy.stats.norm.cdf((4.5 - eval_mean)/eval_sd)\nprint(1 - prob0)",
      "metadata": {
        "trusted": true
      },
      "execution_count": 7,
      "outputs": [
        {
          "name": "stdout",
          "text": "0.1828639734596742\n",
          "output_type": "stream"
        }
      ]
    },
    {
      "cell_type": "markdown",
      "source": "### Using the teachers' rating dataset, what is the probability of receiving an evaluation score greater than 3.5 and less than 4.2\n",
      "metadata": {}
    },
    {
      "cell_type": "markdown",
      "source": "First we find the probability of getting evaluation scores less than 3.5 using the <code>norm.cdf</code> function\n",
      "metadata": {}
    },
    {
      "cell_type": "code",
      "source": "x1 = 3.5\nprob1 = scipy.stats.norm.cdf((x1 - eval_mean)/eval_sd)\nprint(prob1)",
      "metadata": {
        "trusted": true
      },
      "execution_count": 8,
      "outputs": [
        {
          "name": "stdout",
          "text": "0.1847801491443654\n",
          "output_type": "stream"
        }
      ]
    },
    {
      "cell_type": "markdown",
      "source": "Then for less than 4.2\n",
      "metadata": {}
    },
    {
      "cell_type": "code",
      "source": "x2 = 4.2\nprob2 = scipy.stats.norm.cdf((x2 - eval_mean)/eval_sd)\nprint(prob2)",
      "metadata": {
        "trusted": true
      },
      "execution_count": 9,
      "outputs": [
        {
          "name": "stdout",
          "text": "0.642057540461896\n",
          "output_type": "stream"
        }
      ]
    },
    {
      "cell_type": "markdown",
      "source": "The probability of a teacher receiving an evaluation score that is between 3.5 and 4.2 is:\n",
      "metadata": {}
    },
    {
      "cell_type": "code",
      "source": "round((prob2 - prob1)*100, 1)",
      "metadata": {
        "trusted": true
      },
      "execution_count": 10,
      "outputs": [
        {
          "execution_count": 10,
          "output_type": "execute_result",
          "data": {
            "text/plain": "45.7"
          },
          "metadata": {}
        }
      ]
    },
    {
      "cell_type": "markdown",
      "source": "### Using the two-tailed test from a normal distribution:\n\n*   A professional  basketball  team wants to compare its performance with  that of players  in a regional league.\n*   The pros are known to have a historic mean of 12 points  per game with  a standard  deviation  of 5.5.\n*   A group  of 36 regional players recorded on average 10.7 points  per game.\n*   The pro coach would like to know whether  his professional  team scores on average are different from that of the regional players.\n",
      "metadata": {}
    },
    {
      "cell_type": "markdown",
      "source": "State the null hypothesis\n\n*   $H\\_0$: $x = µ\\_1$ (\"The mean point of the regional players is not different from the historic mean\")\n*   $H\\_1$: $x ≠ µ\\_1$ (\"The mean point of the regional players is different from the historic mean\")\n",
      "metadata": {}
    },
    {
      "cell_type": "markdown",
      "source": "When the population standard deviation is given and we are asked to deal with a sub-sample, the size (n) of the sub-sample is used in the formula:\n![image.png](attachment:image.png)\n",
      "metadata": {}
    },
    {
      "cell_type": "code",
      "source": "## because it is a two-tailed test we multiply by 2\n2*round(scipy.stats.norm.cdf((10.7 - 12)/(5.5/sqrt(36))), 3)",
      "metadata": {
        "trusted": true
      },
      "execution_count": 11,
      "outputs": [
        {
          "execution_count": 11,
          "output_type": "execute_result",
          "data": {
            "text/plain": "0.156"
          },
          "metadata": {}
        }
      ]
    },
    {
      "cell_type": "markdown",
      "source": "**Conclusion:** Because the p-value is greater than 0.05, we fail  to reject the null hypothesis as there is no sufficient evidence to prove that the mean point of the regional players is different from the historic mean\n",
      "metadata": {}
    },
    {
      "cell_type": "markdown",
      "source": "## Practice Questions\n",
      "metadata": {}
    },
    {
      "cell_type": "markdown",
      "source": "### Question 1: Using the teachers' rating dataset, what is the probability of receiving an evaluation score greater than 3.3?\n",
      "metadata": {}
    },
    {
      "cell_type": "code",
      "source": "##calculate the probability less than 3.3\nprob_less_than = scipy.stats.norm.cdf((3.3 - eval_mean)/eval_sd)\n##then remove the probability from 1 to get the area to the right of 3.3\nprint(1 - prob_less_than)",
      "metadata": {
        "trusted": true
      },
      "execution_count": 13,
      "outputs": [
        {
          "name": "stdout",
          "text": "0.8957422041794154\n",
          "output_type": "stream"
        }
      ]
    },
    {
      "cell_type": "markdown",
      "source": "Double-click **here** for the solution.\n\n<!-- The answer is below:\n##calculate the probability less than 3.3\nprob_less_than = scipy.stats.norm.cdf((3.3 - eval_mean)/eval_sd)\n##then remove the probability from 1 to get the area to the right of 3.3\nprint(1 - prob_less_than)\n-->\n",
      "metadata": {}
    },
    {
      "cell_type": "markdown",
      "source": "### Question 2: Using the teachers' rating dataset, what is the probability of receiving an evaluation score between 2 and 3?\n",
      "metadata": {}
    },
    {
      "cell_type": "code",
      "source": "## find the probablity of reciving a score of less than 2\nprob_less_than_2 = scipy.stats.norm.cdf((x1 - eval_mean)/eval_sd)\nprint(prob_less_than_2)\n\n## find the probablity of reciving a score of less than 3\nprob_less_than_3 = scipy.stats.norm.cdf((x2 - eval_mean)/eval_sd)\nprint(prob_less_than_3)\n\n## remove both probabilities from each other\nround((prob_less_than_3 - prob_less_than_2)*100, 1)",
      "metadata": {
        "trusted": true
      },
      "execution_count": 14,
      "outputs": [
        {
          "name": "stdout",
          "text": "0.1847801491443654\n0.642057540461896\n",
          "output_type": "stream"
        },
        {
          "execution_count": 14,
          "output_type": "execute_result",
          "data": {
            "text/plain": "45.7"
          },
          "metadata": {}
        }
      ]
    },
    {
      "cell_type": "markdown",
      "source": "Double-click **here** for the solution.\n\n<!-- The answer is below:\n## find the probablity of reciving a score of less than 2\nprob_less_than_2 = scipy.stats.norm.cdf((x1 - eval_mean)/eval_sd)\nprint(prob_less_than_2)\n\n## find the probablity of reciving a score of less than 3\nprob_less_than_3 = scipy.stats.norm.cdf((x2 - eval_mean)/eval_sd)\nprint(prob_less_than_3)\n\n## remove both probabilities from each other\nround((prob_less_than_3 - prob_less_than_2)*100, 1)\n-->\n",
      "metadata": {}
    },
    {
      "cell_type": "markdown",
      "source": "### Question 3: To test the hypothesis that sleeping for at least 8 hours makes one smarter, 12 people who have slept for at least 8 hours every day  for the past one year  have their IQ tested.\n\n*   Here are the results: 116, 111, 101, 120, 99, 94, 106, 115, 107, 101, 110, 92\n*   Test using the following hypotheses: H0: μ = 100 or Ha: μ > 100\n",
      "metadata": {}
    },
    {
      "cell_type": "code",
      "source": "### remember to remove from 1 because we want the value for when IQs are greater than 100\niqs = [116, 111, 101, 120, 99, 94, 106, 115, 107, 101, 110, 92]\nsample_size = len(iqs)\ndegree_freedom = sample_size - 1\niq_mean = sum(iqs) / sample_size\nmean_diff = [(iq - iq_mean) ** 2 for iq in iqs]\niq_std = sqrt(sum(mean_diff) / degree_freedom)\nvariance = iq_std ** 2\nprint(f\"IQ mean is {iq_mean}, sd is {iq_std}, variance is {variance}\")\nround(1-scipy.stats.norm.cdf((iq_mean - 100)/(iq_std/sqrt(12))), 3)",
      "metadata": {
        "trusted": true
      },
      "execution_count": 15,
      "outputs": [
        {
          "name": "stdout",
          "text": "IQ mean is 106.0, sd is 8.831760866327848, variance is 78.00000000000001\n",
          "output_type": "stream"
        },
        {
          "execution_count": 15,
          "output_type": "execute_result",
          "data": {
            "text/plain": "0.009"
          },
          "metadata": {}
        }
      ]
    },
    {
      "cell_type": "markdown",
      "source": "Double-click **here** for a hint.\n\n<!-- The hint is below:\n### find the mean and standard deviation of the 12 IQs\niqs = [116, 111, 101, 120, 99, 94, 106, 115, 107, 101, 110, 92]\nsample_size = len(iqs)\ndegree_freedom = sample_size - 1\niq_mean = sum(iqs) / sample_size\nmean_diff = [(iq - iq_mean) ** 2 for iq in iqs]\niq_std = sqrt(sum(mean_diff) / degree_freedom)\nvariance = iq_std ** 2\n-->\n",
      "metadata": {}
    },
    {
      "cell_type": "markdown",
      "source": "Double-click **here** for the solution.\n\n<!-- The answer is below:\n### remember to remove from 1 because we want the value for when IQs are greater than 100\niqs = [116, 111, 101, 120, 99, 94, 106, 115, 107, 101, 110, 92]\nsample_size = len(iqs)\ndegree_freedom = sample_size - 1\niq_mean = sum(iqs) / sample_size\nmean_diff = [(iq - iq_mean) ** 2 for iq in iqs]\niq_std = sqrt(sum(mean_diff) / degree_freedom)\nvariance = iq_std ** 2\nprint(f\"IQ mean is {iq_mean}, sd is {iq_std}, variance is {variance}\")\nround(1-scipy.stats.norm.cdf((iq_mean - 100)/(iq_std/sqrt(12))), 3)\n-->\n",
      "metadata": {}
    },
    {
      "cell_type": "markdown",
      "source": "## Authors\n\n[Pratiksha Verma](https://www.linkedin.com/in/pratiksha-verma-6487561b1/?utm_medium=Exinfluencer&utm_source=Exinfluencer&utm_content=000026UJ&utm_term=10006555&utm_id=NA-SkillsNetwork-Channel-SkillsNetworkCoursesIBMDeveloperSkillsNetworkST0151ENSkillsNetwork956-2022-01-01)\n\n## Change Log\n\n| Date (YYYY-MM-DD) | Version | Changed By      | Change Description      |\n| ----------------- | ------- | -------------   | ----------------------- |\n| 2022-11-09        | 1.0     | Pratiksha Verma | Converted initial version to Jupyterlite|\n\n\n<hr>\n\n## <h3 align=\"center\"> IBM Corporation 2022. All rights reserved. <h3/>\n",
      "metadata": {}
    }
  ]
}