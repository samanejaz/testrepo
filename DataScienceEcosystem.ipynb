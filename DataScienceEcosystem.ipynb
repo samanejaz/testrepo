{
 "cells": [
  {
   "cell_type": "markdown",
   "id": "30ffa4ee-0188-4fff-84e3-67f2d2279b39",
   "metadata": {},
   "source": [
    "# DataScience Tools and Ecosystem"
   ]
  },
  {
   "cell_type": "markdown",
   "id": "7d8effcb-23db-427d-97f9-3418cfef6b99",
   "metadata": {},
   "source": [
    "## In this notebook Datascience tools and Ecosystem are summarized"
   ]
  },
  {
   "cell_type": "markdown",
   "id": "d6bb2f3f-f80b-41d8-b6cf-b0bc1f080a3f",
   "metadata": {},
   "source": [
    "## Some of the popular languages that Data Scientists use are:"
   ]
  },
  {
   "cell_type": "markdown",
   "id": "3ad29f74-730b-43fa-a8e7-996ddde82b0d",
   "metadata": {},
   "source": [
    "1. Python\n",
    "2. R\n",
    "3. SQL"
   ]
  },
  {
   "cell_type": "markdown",
   "id": "96f40fc1-1cc6-447b-a2b0-11a1bd879101",
   "metadata": {},
   "source": [
    "## Some of the popular libraries t5hat Data Scientists usse are:\n"
   ]
  },
  {
   "cell_type": "markdown",
   "id": "b5b58545-0899-444b-9bc1-1ba3fcc827ea",
   "metadata": {},
   "source": [
    "1. NumPy\n",
    "2. Pandas\n",
    "3. ScikitLearn"
   ]
  },
  {
   "cell_type": "markdown",
   "id": "76ab7564-044a-4ef5-a768-335797a28862",
   "metadata": {},
   "source": [
    "| DataScienceTools|\n",
    "|:---------------:|\n",
    "|TensorFlowLite|\n",
    "|Tensorflow.JS|\n",
    "|Mleap|"
   ]
  },
  {
   "cell_type": "markdown",
   "id": "c40aa3e8-bd6d-4793-8390-207162e06229",
   "metadata": {},
   "source": [
    "## Below are the few examples of evaluating arithmetic expressions in python"
   ]
  },
  {
   "cell_type": "markdown",
   "id": "e24b1884-bb37-4be0-86b4-df4e765c4219",
   "metadata": {},
   "source": [
    "## This is a simple arithmetic expression of simply multiply then add integer"
   ]
  },
  {
   "cell_type": "code",
   "execution_count": 2,
   "id": "978c96ff-0560-4e4b-b0e4-f69400cdd641",
   "metadata": {},
   "outputs": [
    {
     "data": {
      "text/plain": [
       "17"
      ]
     },
     "execution_count": 2,
     "metadata": {},
     "output_type": "execute_result"
    }
   ],
   "source": [
    "(3*4)+5"
   ]
  },
  {
   "cell_type": "markdown",
   "id": "6696562b-955f-40d3-9528-7a68ec48ac54",
   "metadata": {},
   "source": [
    "## This will convert minutes into hours"
   ]
  },
  {
   "cell_type": "code",
   "execution_count": 3,
   "id": "8ab525d7-c969-4596-9504-049d16faf031",
   "metadata": {},
   "outputs": [
    {
     "data": {
      "text/plain": [
       "3.3333333333333335"
      ]
     },
     "execution_count": 3,
     "metadata": {},
     "output_type": "execute_result"
    }
   ],
   "source": [
    "200/60"
   ]
  },
  {
   "cell_type": "markdown",
   "id": "dc05ad9c-a393-49e6-9bf8-4be0adf169d4",
   "metadata": {},
   "source": [
    "## **Objective of the course is**\n",
    "* Python \n",
    "* R\n",
    "* SQL"
   ]
  },
  {
   "cell_type": "markdown",
   "id": "a666ae0b-58a6-4e28-921f-e690b781e781",
   "metadata": {},
   "source": [
    "## Author\n",
    "Samavia Ejaz"
   ]
  },
  {
   "cell_type": "code",
   "execution_count": null,
   "id": "ee3ed8a1-32f6-4dc8-b530-8a2af7351312",
   "metadata": {},
   "outputs": [],
   "source": []
  }
 ],
 "metadata": {
  "kernelspec": {
   "display_name": "Python 3 (ipykernel)",
   "language": "python",
   "name": "python3"
  },
  "language_info": {
   "codemirror_mode": {
    "name": "ipython",
    "version": 3
   },
   "file_extension": ".py",
   "mimetype": "text/x-python",
   "name": "python",
   "nbconvert_exporter": "python",
   "pygments_lexer": "ipython3",
   "version": "3.9.13"
  }
 },
 "nbformat": 4,
 "nbformat_minor": 5
}
