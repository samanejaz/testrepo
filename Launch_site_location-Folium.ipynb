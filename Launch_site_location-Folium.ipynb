{
  "metadata": {
    "kernelspec": {
      "name": "python",
      "display_name": "Python (Pyodide)",
      "language": "python"
    },
    "language_info": {
      "codemirror_mode": {
        "name": "python",
        "version": 3
      },
      "file_extension": ".py",
      "mimetype": "text/x-python",
      "name": "python",
      "nbconvert_exporter": "python",
      "pygments_lexer": "ipython3",
      "version": "3.8"
    }
  },
  "nbformat_minor": 4,
  "nbformat": 4,
  "cells": [
    {
      "cell_type": "markdown",
      "source": "<p style=\"text-align:center\">\n    <a href=\"https://skills.network/?utm_medium=Exinfluencer&utm_source=Exinfluencer&utm_content=000026UJ&utm_term=10006555&utm_id=NA-SkillsNetwork-Channel-SkillsNetworkCoursesIBMDS0321ENSkillsNetwork26802033-2022-01-01\" target=\"_blank\">\n    <img src=\"https://cf-courses-data.s3.us.cloud-object-storage.appdomain.cloud/assets/logos/SN_web_lightmode.png\" width=\"200\" alt=\"Skills Network Logo\"  />\n    </a>\n</p>\n",
      "metadata": {}
    },
    {
      "cell_type": "markdown",
      "source": "# **Launch Sites Locations Analysis with Folium**\n",
      "metadata": {}
    },
    {
      "cell_type": "markdown",
      "source": "Estimated time needed: **40** minutes\n",
      "metadata": {}
    },
    {
      "cell_type": "markdown",
      "source": "The launch success rate may depend on many factors such as payload mass, orbit type, and so on. It may also depend on the location and proximities of a launch site, i.e., the initial position of rocket trajectories. Finding an optimal location for building a launch site certainly involves many factors and hopefully we could discover some of the factors by analyzing the existing launch site locations.\n",
      "metadata": {}
    },
    {
      "cell_type": "markdown",
      "source": "In the previous exploratory data analysis labs, you have visualized the SpaceX launch dataset using `matplotlib` and `seaborn` and discovered some preliminary correlations between the launch site and success rates. In this lab, you will be performing more interactive visual analytics using `Folium`.\n",
      "metadata": {}
    },
    {
      "cell_type": "markdown",
      "source": "## Objectives\n",
      "metadata": {}
    },
    {
      "cell_type": "markdown",
      "source": "This lab contains the following tasks:\n\n*   **TASK 1:** Mark all launch sites on a map\n*   **TASK 2:** Mark the success/failed launches for each site on the map\n*   **TASK 3:** Calculate the distances between a launch site to its proximities\n\nAfter completed the above tasks, you should be able to find some geographical patterns about launch sites.\n",
      "metadata": {}
    },
    {
      "cell_type": "markdown",
      "source": "Let's first import required Python packages for this lab:\n",
      "metadata": {}
    },
    {
      "cell_type": "code",
      "source": "import piplite\nawait piplite.install(['folium'])\nawait piplite.install(['pandas'])",
      "metadata": {
        "trusted": true
      },
      "outputs": [],
      "execution_count": 1
    },
    {
      "cell_type": "code",
      "source": "import folium\nimport pandas as pd",
      "metadata": {
        "trusted": true
      },
      "outputs": [],
      "execution_count": 2
    },
    {
      "cell_type": "code",
      "source": "# Import folium MarkerCluster plugin\nfrom folium.plugins import MarkerCluster\n# Import folium MousePosition plugin\nfrom folium.plugins import MousePosition\n# Import folium DivIcon plugin\nfrom folium.features import DivIcon",
      "metadata": {
        "trusted": true
      },
      "outputs": [],
      "execution_count": 3
    },
    {
      "cell_type": "markdown",
      "source": "If you need to refresh your memory about folium, you may download and refer to this previous folium lab:\n",
      "metadata": {}
    },
    {
      "cell_type": "markdown",
      "source": "[Generating Maps with Python](https://cf-courses-data.s3.us.cloud-object-storage.appdomain.cloud/IBM-DS0321EN-SkillsNetwork/labs/module\\_3/DV0101EN-3-5-1-Generating-Maps-in-Python-py-v2.0.ipynb)\n",
      "metadata": {}
    },
    {
      "cell_type": "markdown",
      "source": "## Task 1: Mark all launch sites on a map\n",
      "metadata": {}
    },
    {
      "cell_type": "markdown",
      "source": "First, let's try to add each site's location on a map using site's latitude and longitude coordinates\n",
      "metadata": {}
    },
    {
      "cell_type": "markdown",
      "source": "The following dataset with the name `spacex_launch_geo.csv` is an augmented dataset with latitude and longitude added for each site.\n",
      "metadata": {}
    },
    {
      "cell_type": "code",
      "source": "# Download and read the `spacex_launch_geo.csv`\nfrom js import fetch\nimport io\n\nURL = 'https://cf-courses-data.s3.us.cloud-object-storage.appdomain.cloud/IBM-DS0321EN-SkillsNetwork/datasets/spacex_launch_geo.csv'\nresp = await fetch(URL)\nspacex_csv_file = io.BytesIO((await resp.arrayBuffer()).to_py())\nspacex_df=pd.read_csv(spacex_csv_file)\nspacex_df.head(2)",
      "metadata": {
        "trusted": true
      },
      "outputs": [
        {
          "execution_count": 4,
          "output_type": "execute_result",
          "data": {
            "text/plain": "   Flight Number        Date Time (UTC) Booster Version  Launch Site  \\\n0              1  2010-06-04   18:45:00  F9 v1.0  B0003  CCAFS LC-40   \n1              2  2010-12-08   15:43:00  F9 v1.0  B0004  CCAFS LC-40   \n\n                                             Payload  Payload Mass (kg)  \\\n0               Dragon Spacecraft Qualification Unit                0.0   \n1  Dragon demo flight C1, two CubeSats,  barrel o...                0.0   \n\n       Orbit         Customer        Landing Outcome  class        Lat  \\\n0        LEO           SpaceX  Failure   (parachute)      0  28.562302   \n1  LEO (ISS)  NASA (COTS) NRO  Failure   (parachute)      0  28.562302   \n\n        Long  \n0 -80.577356  \n1 -80.577356  ",
            "text/html": "<div>\n<style scoped>\n    .dataframe tbody tr th:only-of-type {\n        vertical-align: middle;\n    }\n\n    .dataframe tbody tr th {\n        vertical-align: top;\n    }\n\n    .dataframe thead th {\n        text-align: right;\n    }\n</style>\n<table border=\"1\" class=\"dataframe\">\n  <thead>\n    <tr style=\"text-align: right;\">\n      <th></th>\n      <th>Flight Number</th>\n      <th>Date</th>\n      <th>Time (UTC)</th>\n      <th>Booster Version</th>\n      <th>Launch Site</th>\n      <th>Payload</th>\n      <th>Payload Mass (kg)</th>\n      <th>Orbit</th>\n      <th>Customer</th>\n      <th>Landing Outcome</th>\n      <th>class</th>\n      <th>Lat</th>\n      <th>Long</th>\n    </tr>\n  </thead>\n  <tbody>\n    <tr>\n      <th>0</th>\n      <td>1</td>\n      <td>2010-06-04</td>\n      <td>18:45:00</td>\n      <td>F9 v1.0  B0003</td>\n      <td>CCAFS LC-40</td>\n      <td>Dragon Spacecraft Qualification Unit</td>\n      <td>0.0</td>\n      <td>LEO</td>\n      <td>SpaceX</td>\n      <td>Failure   (parachute)</td>\n      <td>0</td>\n      <td>28.562302</td>\n      <td>-80.577356</td>\n    </tr>\n    <tr>\n      <th>1</th>\n      <td>2</td>\n      <td>2010-12-08</td>\n      <td>15:43:00</td>\n      <td>F9 v1.0  B0004</td>\n      <td>CCAFS LC-40</td>\n      <td>Dragon demo flight C1, two CubeSats,  barrel o...</td>\n      <td>0.0</td>\n      <td>LEO (ISS)</td>\n      <td>NASA (COTS) NRO</td>\n      <td>Failure   (parachute)</td>\n      <td>0</td>\n      <td>28.562302</td>\n      <td>-80.577356</td>\n    </tr>\n  </tbody>\n</table>\n</div>"
          },
          "metadata": {}
        }
      ],
      "execution_count": 4
    },
    {
      "cell_type": "markdown",
      "source": "Now, you can take a look at what are the coordinates for each site.\n",
      "metadata": {}
    },
    {
      "cell_type": "code",
      "source": "# Select relevant sub-columns: `Launch Site`, `Lat(Latitude)`, `Long(Longitude)`, `class`\nspacex_df = spacex_df[['Launch Site', 'Lat', 'Long', 'class']]\nlaunch_sites_df = spacex_df.groupby(['Launch Site'], as_index=False).first()\nlaunch_sites_df = launch_sites_df[['Launch Site', 'Lat', 'Long']]\nlaunch_sites_df",
      "metadata": {
        "trusted": true
      },
      "outputs": [
        {
          "execution_count": 5,
          "output_type": "execute_result",
          "data": {
            "text/plain": "    Launch Site        Lat        Long\n0   CCAFS LC-40  28.562302  -80.577356\n1  CCAFS SLC-40  28.563197  -80.576820\n2    KSC LC-39A  28.573255  -80.646895\n3   VAFB SLC-4E  34.632834 -120.610745",
            "text/html": "<div>\n<style scoped>\n    .dataframe tbody tr th:only-of-type {\n        vertical-align: middle;\n    }\n\n    .dataframe tbody tr th {\n        vertical-align: top;\n    }\n\n    .dataframe thead th {\n        text-align: right;\n    }\n</style>\n<table border=\"1\" class=\"dataframe\">\n  <thead>\n    <tr style=\"text-align: right;\">\n      <th></th>\n      <th>Launch Site</th>\n      <th>Lat</th>\n      <th>Long</th>\n    </tr>\n  </thead>\n  <tbody>\n    <tr>\n      <th>0</th>\n      <td>CCAFS LC-40</td>\n      <td>28.562302</td>\n      <td>-80.577356</td>\n    </tr>\n    <tr>\n      <th>1</th>\n      <td>CCAFS SLC-40</td>\n      <td>28.563197</td>\n      <td>-80.576820</td>\n    </tr>\n    <tr>\n      <th>2</th>\n      <td>KSC LC-39A</td>\n      <td>28.573255</td>\n      <td>-80.646895</td>\n    </tr>\n    <tr>\n      <th>3</th>\n      <td>VAFB SLC-4E</td>\n      <td>34.632834</td>\n      <td>-120.610745</td>\n    </tr>\n  </tbody>\n</table>\n</div>"
          },
          "metadata": {}
        }
      ],
      "execution_count": 5
    },
    {
      "cell_type": "markdown",
      "source": "Above coordinates are just plain numbers that can not give you any intuitive insights about where are those launch sites. If you are very good at geography, you can interpret those numbers directly in your mind. If not, that's fine too. Let's visualize those locations by pinning them on a map.\n",
      "metadata": {}
    },
    {
      "cell_type": "markdown",
      "source": "We first need to create a folium `Map` object, with an initial center location to be NASA Johnson Space Center at Houston, Texas.\n",
      "metadata": {}
    },
    {
      "cell_type": "code",
      "source": "# Start location is NASA Johnson Space Center\nnasa_coordinate = [29.559684888503615, -95.0830971930759]\nsite_map = folium.Map(location=nasa_coordinate, zoom_start=10)",
      "metadata": {
        "trusted": true
      },
      "outputs": [],
      "execution_count": 7
    },
    {
      "cell_type": "markdown",
      "source": "We could use `folium.Circle` to add a highlighted circle area with a text label on a specific coordinate. For example,\n",
      "metadata": {}
    },
    {
      "cell_type": "code",
      "source": "# Create a blue circle at NASA Johnson Space Center's coordinate with a popup label showing its name\ncircle = folium.Circle(nasa_coordinate, radius=1000, color='#d35400', fill=True).add_child(folium.Popup('NASA Johnson Space Center'))\n# Create a blue circle at NASA Johnson Space Center's coordinate with a icon showing its name\nmarker = folium.map.Marker(\n    nasa_coordinate,\n    # Create an icon as a text label\n    icon=DivIcon(\n        icon_size=(20,20),\n        icon_anchor=(0,0),\n        html='<div style=\"font-size: 12; color:#d35400;\"><b>%s</b></div>' % 'NASA JSC',\n        )\n    )\nsite_map.add_child(circle)\nsite_map.add_child(marker)",
      "metadata": {
        "trusted": true
      },
      "outputs": [
        {
          "execution_count": 8,
          "output_type": "execute_result",
          "data": {
            "text/plain": "<folium.folium.Map at 0x546e9d0>",
            "text/html": "<div style=\"width:100%;\"><div style=\"position:relative;width:100%;height:0;padding-bottom:60%;\"><span style=\"color:#565656\">Make this Notebook Trusted to load map: File -> Trust Notebook</span><iframe srcdoc=\"&lt;!DOCTYPE html&gt;\n&lt;html&gt;\n&lt;head&gt;\n    \n    &lt;meta http-equiv=&quot;content-type&quot; content=&quot;text/html; charset=UTF-8&quot; /&gt;\n    \n        &lt;script&gt;\n            L_NO_TOUCH = false;\n            L_DISABLE_3D = false;\n        &lt;/script&gt;\n    \n    &lt;style&gt;html, body {width: 100%;height: 100%;margin: 0;padding: 0;}&lt;/style&gt;\n    &lt;style&gt;#map {position:absolute;top:0;bottom:0;right:0;left:0;}&lt;/style&gt;\n    &lt;script src=&quot;https://cdn.jsdelivr.net/npm/leaflet@1.9.3/dist/leaflet.js&quot;&gt;&lt;/script&gt;\n    &lt;script src=&quot;https://code.jquery.com/jquery-3.7.1.min.js&quot;&gt;&lt;/script&gt;\n    &lt;script src=&quot;https://cdn.jsdelivr.net/npm/bootstrap@5.2.2/dist/js/bootstrap.bundle.min.js&quot;&gt;&lt;/script&gt;\n    &lt;script src=&quot;https://cdnjs.cloudflare.com/ajax/libs/Leaflet.awesome-markers/2.0.2/leaflet.awesome-markers.js&quot;&gt;&lt;/script&gt;\n    &lt;link rel=&quot;stylesheet&quot; href=&quot;https://cdn.jsdelivr.net/npm/leaflet@1.9.3/dist/leaflet.css&quot;/&gt;\n    &lt;link rel=&quot;stylesheet&quot; href=&quot;https://cdn.jsdelivr.net/npm/bootstrap@5.2.2/dist/css/bootstrap.min.css&quot;/&gt;\n    &lt;link rel=&quot;stylesheet&quot; href=&quot;https://netdna.bootstrapcdn.com/bootstrap/3.0.0/css/bootstrap-glyphicons.css&quot;/&gt;\n    &lt;link rel=&quot;stylesheet&quot; href=&quot;https://cdn.jsdelivr.net/npm/@fortawesome/fontawesome-free@6.2.0/css/all.min.css&quot;/&gt;\n    &lt;link rel=&quot;stylesheet&quot; href=&quot;https://cdnjs.cloudflare.com/ajax/libs/Leaflet.awesome-markers/2.0.2/leaflet.awesome-markers.css&quot;/&gt;\n    &lt;link rel=&quot;stylesheet&quot; href=&quot;https://cdn.jsdelivr.net/gh/python-visualization/folium/folium/templates/leaflet.awesome.rotate.min.css&quot;/&gt;\n    \n            &lt;meta name=&quot;viewport&quot; content=&quot;width=device-width,\n                initial-scale=1.0, maximum-scale=1.0, user-scalable=no&quot; /&gt;\n            &lt;style&gt;\n                #map_db1a76100eeba49bed2cd73b888c55c6 {\n                    position: relative;\n                    width: 100.0%;\n                    height: 100.0%;\n                    left: 0.0%;\n                    top: 0.0%;\n                }\n                .leaflet-container { font-size: 1rem; }\n            &lt;/style&gt;\n        \n&lt;/head&gt;\n&lt;body&gt;\n    \n    \n            &lt;div class=&quot;folium-map&quot; id=&quot;map_db1a76100eeba49bed2cd73b888c55c6&quot; &gt;&lt;/div&gt;\n        \n&lt;/body&gt;\n&lt;script&gt;\n    \n    \n            var map_db1a76100eeba49bed2cd73b888c55c6 = L.map(\n                &quot;map_db1a76100eeba49bed2cd73b888c55c6&quot;,\n                {\n                    center: [29.559684888503615, -95.0830971930759],\n                    crs: L.CRS.EPSG3857,\n                    zoom: 10,\n                    zoomControl: true,\n                    preferCanvas: false,\n                }\n            );\n\n            \n\n        \n    \n            var tile_layer_4e514dc464f7081699289c14b8a33a21 = L.tileLayer(\n                &quot;https://tile.openstreetmap.org/{z}/{x}/{y}.png&quot;,\n                {&quot;attribution&quot;: &quot;\\u0026copy; \\u003ca href=\\&quot;https://www.openstreetmap.org/copyright\\&quot;\\u003eOpenStreetMap\\u003c/a\\u003e contributors&quot;, &quot;detectRetina&quot;: false, &quot;maxNativeZoom&quot;: 19, &quot;maxZoom&quot;: 19, &quot;minZoom&quot;: 0, &quot;noWrap&quot;: false, &quot;opacity&quot;: 1, &quot;subdomains&quot;: &quot;abc&quot;, &quot;tms&quot;: false}\n            );\n        \n    \n            tile_layer_4e514dc464f7081699289c14b8a33a21.addTo(map_db1a76100eeba49bed2cd73b888c55c6);\n        \n    \n            var circle_92c054a1c31d33911ce979a8c92196a0 = L.circle(\n                [29.559684888503615, -95.0830971930759],\n                {&quot;bubblingMouseEvents&quot;: true, &quot;color&quot;: &quot;#d35400&quot;, &quot;dashArray&quot;: null, &quot;dashOffset&quot;: null, &quot;fill&quot;: true, &quot;fillColor&quot;: &quot;#d35400&quot;, &quot;fillOpacity&quot;: 0.2, &quot;fillRule&quot;: &quot;evenodd&quot;, &quot;lineCap&quot;: &quot;round&quot;, &quot;lineJoin&quot;: &quot;round&quot;, &quot;opacity&quot;: 1.0, &quot;radius&quot;: 1000, &quot;stroke&quot;: true, &quot;weight&quot;: 3}\n            ).addTo(map_db1a76100eeba49bed2cd73b888c55c6);\n        \n    \n        var popup_cf9988a2c33d0a9515423134a58dbc38 = L.popup({&quot;maxWidth&quot;: &quot;100%&quot;});\n\n        \n            \n                var html_dced9319ab3d0c27a275b70c7ebd47f7 = $(`&lt;div id=&quot;html_dced9319ab3d0c27a275b70c7ebd47f7&quot; style=&quot;width: 100.0%; height: 100.0%;&quot;&gt;NASA Johnson Space Center&lt;/div&gt;`)[0];\n                popup_cf9988a2c33d0a9515423134a58dbc38.setContent(html_dced9319ab3d0c27a275b70c7ebd47f7);\n            \n        \n\n        circle_92c054a1c31d33911ce979a8c92196a0.bindPopup(popup_cf9988a2c33d0a9515423134a58dbc38)\n        ;\n\n        \n    \n    \n            var marker_ac149ad491e384f5e928d8a5ef45987e = L.marker(\n                [29.559684888503615, -95.0830971930759],\n                {}\n            ).addTo(map_db1a76100eeba49bed2cd73b888c55c6);\n        \n    \n            var div_icon_df652d3631f1f04ec5180c798c798c44 = L.divIcon({&quot;className&quot;: &quot;empty&quot;, &quot;html&quot;: &quot;\\u003cdiv style=\\&quot;font-size: 12; color:#d35400;\\&quot;\\u003e\\u003cb\\u003eNASA JSC\\u003c/b\\u003e\\u003c/div\\u003e&quot;, &quot;iconAnchor&quot;: [0, 0], &quot;iconSize&quot;: [20, 20]});\n            marker_ac149ad491e384f5e928d8a5ef45987e.setIcon(div_icon_df652d3631f1f04ec5180c798c798c44);\n        \n&lt;/script&gt;\n&lt;/html&gt;\" style=\"position:absolute;width:100%;height:100%;left:0;top:0;border:none !important;\" allowfullscreen webkitallowfullscreen mozallowfullscreen></iframe></div></div>"
          },
          "metadata": {}
        }
      ],
      "execution_count": 8
    },
    {
      "cell_type": "markdown",
      "source": "and you should find a small yellow circle near the city of Houston and you can zoom-in to see a larger circle.\n",
      "metadata": {}
    },
    {
      "cell_type": "markdown",
      "source": "Now, let's add a circle for each launch site in data frame `launch_sites`\n",
      "metadata": {}
    },
    {
      "cell_type": "markdown",
      "source": "*TODO:*  Create and add `folium.Circle` and `folium.Marker` for each launch site on the site map\n",
      "metadata": {}
    },
    {
      "cell_type": "markdown",
      "source": "An example of folium.Circle:\n",
      "metadata": {}
    },
    {
      "cell_type": "markdown",
      "source": "`folium.Circle(coordinate, radius=1000, color='#000000', fill=True).add_child(folium.Popup(...))`\n",
      "metadata": {}
    },
    {
      "cell_type": "markdown",
      "source": "An example of folium.Marker:\n",
      "metadata": {}
    },
    {
      "cell_type": "markdown",
      "source": "`folium.map.Marker(coordinate, icon=DivIcon(icon_size=(20,20),icon_anchor=(0,0), html='<div style=\"font-size: 12; color:#d35400;\"><b>%s</b></div>' % 'label', ))`\n",
      "metadata": {}
    },
    {
      "cell_type": "code",
      "source": "# Initial the map\nsite_map = folium.Map(location=nasa_coordinate, zoom_start=4)\n# For each launch site, add a Circle object based on its coordinate (Lat, Long) values. In addition, add Launch site name as a popup label\nincidents=folium.map.FeatureGroup()\nfor lat,lng,label in zip(launch_sites_df['Lat'],launch_sites_df['Long'],launch_sites_df['Launch Site']):\n    incidents.add_child(folium.vector_layers.CircleMarker([lat,lng],radius=5,color='#d35400',fill=True))\n    folium.map.Marker([lat,lng], icon=DivIcon(icon_size=(20,20),icon_anchor=(0,0), html='<div style=\"font-size: 12; color:#d35400;\"><b>%s</b></div>' % label, )).add_to(site_map)\nsite_map.add_child(incidents)\n\n\n\n",
      "metadata": {
        "trusted": true
      },
      "outputs": [
        {
          "execution_count": 9,
          "output_type": "execute_result",
          "data": {
            "text/plain": "<folium.folium.Map at 0x546e928>",
            "text/html": "<div style=\"width:100%;\"><div style=\"position:relative;width:100%;height:0;padding-bottom:60%;\"><span style=\"color:#565656\">Make this Notebook Trusted to load map: File -> Trust Notebook</span><iframe srcdoc=\"&lt;!DOCTYPE html&gt;\n&lt;html&gt;\n&lt;head&gt;\n    \n    &lt;meta http-equiv=&quot;content-type&quot; content=&quot;text/html; charset=UTF-8&quot; /&gt;\n    \n        &lt;script&gt;\n            L_NO_TOUCH = false;\n            L_DISABLE_3D = false;\n        &lt;/script&gt;\n    \n    &lt;style&gt;html, body {width: 100%;height: 100%;margin: 0;padding: 0;}&lt;/style&gt;\n    &lt;style&gt;#map {position:absolute;top:0;bottom:0;right:0;left:0;}&lt;/style&gt;\n    &lt;script src=&quot;https://cdn.jsdelivr.net/npm/leaflet@1.9.3/dist/leaflet.js&quot;&gt;&lt;/script&gt;\n    &lt;script src=&quot;https://code.jquery.com/jquery-3.7.1.min.js&quot;&gt;&lt;/script&gt;\n    &lt;script src=&quot;https://cdn.jsdelivr.net/npm/bootstrap@5.2.2/dist/js/bootstrap.bundle.min.js&quot;&gt;&lt;/script&gt;\n    &lt;script src=&quot;https://cdnjs.cloudflare.com/ajax/libs/Leaflet.awesome-markers/2.0.2/leaflet.awesome-markers.js&quot;&gt;&lt;/script&gt;\n    &lt;link rel=&quot;stylesheet&quot; href=&quot;https://cdn.jsdelivr.net/npm/leaflet@1.9.3/dist/leaflet.css&quot;/&gt;\n    &lt;link rel=&quot;stylesheet&quot; href=&quot;https://cdn.jsdelivr.net/npm/bootstrap@5.2.2/dist/css/bootstrap.min.css&quot;/&gt;\n    &lt;link rel=&quot;stylesheet&quot; href=&quot;https://netdna.bootstrapcdn.com/bootstrap/3.0.0/css/bootstrap-glyphicons.css&quot;/&gt;\n    &lt;link rel=&quot;stylesheet&quot; href=&quot;https://cdn.jsdelivr.net/npm/@fortawesome/fontawesome-free@6.2.0/css/all.min.css&quot;/&gt;\n    &lt;link rel=&quot;stylesheet&quot; href=&quot;https://cdnjs.cloudflare.com/ajax/libs/Leaflet.awesome-markers/2.0.2/leaflet.awesome-markers.css&quot;/&gt;\n    &lt;link rel=&quot;stylesheet&quot; href=&quot;https://cdn.jsdelivr.net/gh/python-visualization/folium/folium/templates/leaflet.awesome.rotate.min.css&quot;/&gt;\n    \n            &lt;meta name=&quot;viewport&quot; content=&quot;width=device-width,\n                initial-scale=1.0, maximum-scale=1.0, user-scalable=no&quot; /&gt;\n            &lt;style&gt;\n                #map_8d3b6cf5b9ae068b02deec1419bcbb51 {\n                    position: relative;\n                    width: 100.0%;\n                    height: 100.0%;\n                    left: 0.0%;\n                    top: 0.0%;\n                }\n                .leaflet-container { font-size: 1rem; }\n            &lt;/style&gt;\n        \n&lt;/head&gt;\n&lt;body&gt;\n    \n    \n            &lt;div class=&quot;folium-map&quot; id=&quot;map_8d3b6cf5b9ae068b02deec1419bcbb51&quot; &gt;&lt;/div&gt;\n        \n&lt;/body&gt;\n&lt;script&gt;\n    \n    \n            var map_8d3b6cf5b9ae068b02deec1419bcbb51 = L.map(\n                &quot;map_8d3b6cf5b9ae068b02deec1419bcbb51&quot;,\n                {\n                    center: [29.559684888503615, -95.0830971930759],\n                    crs: L.CRS.EPSG3857,\n                    zoom: 4,\n                    zoomControl: true,\n                    preferCanvas: false,\n                }\n            );\n\n            \n\n        \n    \n            var tile_layer_5f77d4427cd19b57fee834993b1136f9 = L.tileLayer(\n                &quot;https://tile.openstreetmap.org/{z}/{x}/{y}.png&quot;,\n                {&quot;attribution&quot;: &quot;\\u0026copy; \\u003ca href=\\&quot;https://www.openstreetmap.org/copyright\\&quot;\\u003eOpenStreetMap\\u003c/a\\u003e contributors&quot;, &quot;detectRetina&quot;: false, &quot;maxNativeZoom&quot;: 19, &quot;maxZoom&quot;: 19, &quot;minZoom&quot;: 0, &quot;noWrap&quot;: false, &quot;opacity&quot;: 1, &quot;subdomains&quot;: &quot;abc&quot;, &quot;tms&quot;: false}\n            );\n        \n    \n            tile_layer_5f77d4427cd19b57fee834993b1136f9.addTo(map_8d3b6cf5b9ae068b02deec1419bcbb51);\n        \n    \n            var marker_2e31075d6160df7df01458d26410099b = L.marker(\n                [28.56230197, -80.57735648],\n                {}\n            ).addTo(map_8d3b6cf5b9ae068b02deec1419bcbb51);\n        \n    \n            var div_icon_7b9859d46238ee8cce38e99267c7289c = L.divIcon({&quot;className&quot;: &quot;empty&quot;, &quot;html&quot;: &quot;\\u003cdiv style=\\&quot;font-size: 12; color:#d35400;\\&quot;\\u003e\\u003cb\\u003eCCAFS LC-40\\u003c/b\\u003e\\u003c/div\\u003e&quot;, &quot;iconAnchor&quot;: [0, 0], &quot;iconSize&quot;: [20, 20]});\n            marker_2e31075d6160df7df01458d26410099b.setIcon(div_icon_7b9859d46238ee8cce38e99267c7289c);\n        \n    \n            var marker_daab8393e90259182877d99d74b9be4c = L.marker(\n                [28.56319718, -80.57682003],\n                {}\n            ).addTo(map_8d3b6cf5b9ae068b02deec1419bcbb51);\n        \n    \n            var div_icon_74e786d8924e14eb21efcc6ccc8c3ea8 = L.divIcon({&quot;className&quot;: &quot;empty&quot;, &quot;html&quot;: &quot;\\u003cdiv style=\\&quot;font-size: 12; color:#d35400;\\&quot;\\u003e\\u003cb\\u003eCCAFS SLC-40\\u003c/b\\u003e\\u003c/div\\u003e&quot;, &quot;iconAnchor&quot;: [0, 0], &quot;iconSize&quot;: [20, 20]});\n            marker_daab8393e90259182877d99d74b9be4c.setIcon(div_icon_74e786d8924e14eb21efcc6ccc8c3ea8);\n        \n    \n            var marker_68127823e4f72ff607bc4071c115b252 = L.marker(\n                [28.57325457, -80.64689529],\n                {}\n            ).addTo(map_8d3b6cf5b9ae068b02deec1419bcbb51);\n        \n    \n            var div_icon_567b664c075741504fb5df215913db7d = L.divIcon({&quot;className&quot;: &quot;empty&quot;, &quot;html&quot;: &quot;\\u003cdiv style=\\&quot;font-size: 12; color:#d35400;\\&quot;\\u003e\\u003cb\\u003eKSC LC-39A\\u003c/b\\u003e\\u003c/div\\u003e&quot;, &quot;iconAnchor&quot;: [0, 0], &quot;iconSize&quot;: [20, 20]});\n            marker_68127823e4f72ff607bc4071c115b252.setIcon(div_icon_567b664c075741504fb5df215913db7d);\n        \n    \n            var marker_01d2e5851418520a7789b25185ff4ab3 = L.marker(\n                [34.63283416, -120.6107455],\n                {}\n            ).addTo(map_8d3b6cf5b9ae068b02deec1419bcbb51);\n        \n    \n            var div_icon_b0264f86aad5da5d60de698465ee63b7 = L.divIcon({&quot;className&quot;: &quot;empty&quot;, &quot;html&quot;: &quot;\\u003cdiv style=\\&quot;font-size: 12; color:#d35400;\\&quot;\\u003e\\u003cb\\u003eVAFB SLC-4E\\u003c/b\\u003e\\u003c/div\\u003e&quot;, &quot;iconAnchor&quot;: [0, 0], &quot;iconSize&quot;: [20, 20]});\n            marker_01d2e5851418520a7789b25185ff4ab3.setIcon(div_icon_b0264f86aad5da5d60de698465ee63b7);\n        \n    \n            var feature_group_c4c13f5d3d18f15094ef4bb98671d65e = L.featureGroup(\n                {}\n            );\n        \n    \n            var circle_marker_e1f9184a07fcc440fd375460e9a26c14 = L.circleMarker(\n                [28.56230197, -80.57735648],\n                {&quot;bubblingMouseEvents&quot;: true, &quot;color&quot;: &quot;#d35400&quot;, &quot;dashArray&quot;: null, &quot;dashOffset&quot;: null, &quot;fill&quot;: true, &quot;fillColor&quot;: &quot;#d35400&quot;, &quot;fillOpacity&quot;: 0.2, &quot;fillRule&quot;: &quot;evenodd&quot;, &quot;lineCap&quot;: &quot;round&quot;, &quot;lineJoin&quot;: &quot;round&quot;, &quot;opacity&quot;: 1.0, &quot;radius&quot;: 5, &quot;stroke&quot;: true, &quot;weight&quot;: 3}\n            ).addTo(feature_group_c4c13f5d3d18f15094ef4bb98671d65e);\n        \n    \n            var circle_marker_2aadb29ca5d5a9080dc7d47c40991264 = L.circleMarker(\n                [28.56319718, -80.57682003],\n                {&quot;bubblingMouseEvents&quot;: true, &quot;color&quot;: &quot;#d35400&quot;, &quot;dashArray&quot;: null, &quot;dashOffset&quot;: null, &quot;fill&quot;: true, &quot;fillColor&quot;: &quot;#d35400&quot;, &quot;fillOpacity&quot;: 0.2, &quot;fillRule&quot;: &quot;evenodd&quot;, &quot;lineCap&quot;: &quot;round&quot;, &quot;lineJoin&quot;: &quot;round&quot;, &quot;opacity&quot;: 1.0, &quot;radius&quot;: 5, &quot;stroke&quot;: true, &quot;weight&quot;: 3}\n            ).addTo(feature_group_c4c13f5d3d18f15094ef4bb98671d65e);\n        \n    \n            var circle_marker_c5fe54752b9176395d1ef6b8b30fe668 = L.circleMarker(\n                [28.57325457, -80.64689529],\n                {&quot;bubblingMouseEvents&quot;: true, &quot;color&quot;: &quot;#d35400&quot;, &quot;dashArray&quot;: null, &quot;dashOffset&quot;: null, &quot;fill&quot;: true, &quot;fillColor&quot;: &quot;#d35400&quot;, &quot;fillOpacity&quot;: 0.2, &quot;fillRule&quot;: &quot;evenodd&quot;, &quot;lineCap&quot;: &quot;round&quot;, &quot;lineJoin&quot;: &quot;round&quot;, &quot;opacity&quot;: 1.0, &quot;radius&quot;: 5, &quot;stroke&quot;: true, &quot;weight&quot;: 3}\n            ).addTo(feature_group_c4c13f5d3d18f15094ef4bb98671d65e);\n        \n    \n            var circle_marker_31a0e096e127657047991b583089548e = L.circleMarker(\n                [34.63283416, -120.6107455],\n                {&quot;bubblingMouseEvents&quot;: true, &quot;color&quot;: &quot;#d35400&quot;, &quot;dashArray&quot;: null, &quot;dashOffset&quot;: null, &quot;fill&quot;: true, &quot;fillColor&quot;: &quot;#d35400&quot;, &quot;fillOpacity&quot;: 0.2, &quot;fillRule&quot;: &quot;evenodd&quot;, &quot;lineCap&quot;: &quot;round&quot;, &quot;lineJoin&quot;: &quot;round&quot;, &quot;opacity&quot;: 1.0, &quot;radius&quot;: 5, &quot;stroke&quot;: true, &quot;weight&quot;: 3}\n            ).addTo(feature_group_c4c13f5d3d18f15094ef4bb98671d65e);\n        \n    \n            feature_group_c4c13f5d3d18f15094ef4bb98671d65e.addTo(map_8d3b6cf5b9ae068b02deec1419bcbb51);\n        \n&lt;/script&gt;\n&lt;/html&gt;\" style=\"position:absolute;width:100%;height:100%;left:0;top:0;border:none !important;\" allowfullscreen webkitallowfullscreen mozallowfullscreen></iframe></div></div>"
          },
          "metadata": {}
        }
      ],
      "execution_count": 9
    },
    {
      "cell_type": "markdown",
      "source": "The generated map with marked launch sites should look similar to the following:\n",
      "metadata": {}
    },
    {
      "cell_type": "markdown",
      "source": "<center>\n    <img src=\"https://cf-courses-data.s3.us.cloud-object-storage.appdomain.cloud/IBM-DS0321EN-SkillsNetwork/labs/module_3/images/launch_site_markers.png\">\n</center>\n",
      "metadata": {}
    },
    {
      "cell_type": "markdown",
      "source": "Now, you can explore the map by zoom-in/out the marked areas\n, and try to answer the following questions:\n\n*   Are all launch sites in proximity to the Equator line?\n*   Are all launch sites in very close proximity to the coast?\n\nAlso please try to explain your findings.\n",
      "metadata": {}
    },
    {
      "cell_type": "markdown",
      "source": "# Task 2: Mark the success/failed launches for each site on the map\n",
      "metadata": {}
    },
    {
      "cell_type": "markdown",
      "source": "Next, let's try to enhance the map by adding the launch outcomes for each site, and see which sites have high success rates.\nRecall that data frame spacex_df has detailed launch records, and the `class` column indicates if this launch was successful or not\n",
      "metadata": {}
    },
    {
      "cell_type": "code",
      "source": "spacex_df.tail(10)",
      "metadata": {
        "trusted": true
      },
      "outputs": [
        {
          "execution_count": 10,
          "output_type": "execute_result",
          "data": {
            "text/plain": "     Launch Site        Lat       Long  class\n46    KSC LC-39A  28.573255 -80.646895      1\n47    KSC LC-39A  28.573255 -80.646895      1\n48    KSC LC-39A  28.573255 -80.646895      1\n49  CCAFS SLC-40  28.563197 -80.576820      1\n50  CCAFS SLC-40  28.563197 -80.576820      1\n51  CCAFS SLC-40  28.563197 -80.576820      0\n52  CCAFS SLC-40  28.563197 -80.576820      0\n53  CCAFS SLC-40  28.563197 -80.576820      0\n54  CCAFS SLC-40  28.563197 -80.576820      1\n55  CCAFS SLC-40  28.563197 -80.576820      0",
            "text/html": "<div>\n<style scoped>\n    .dataframe tbody tr th:only-of-type {\n        vertical-align: middle;\n    }\n\n    .dataframe tbody tr th {\n        vertical-align: top;\n    }\n\n    .dataframe thead th {\n        text-align: right;\n    }\n</style>\n<table border=\"1\" class=\"dataframe\">\n  <thead>\n    <tr style=\"text-align: right;\">\n      <th></th>\n      <th>Launch Site</th>\n      <th>Lat</th>\n      <th>Long</th>\n      <th>class</th>\n    </tr>\n  </thead>\n  <tbody>\n    <tr>\n      <th>46</th>\n      <td>KSC LC-39A</td>\n      <td>28.573255</td>\n      <td>-80.646895</td>\n      <td>1</td>\n    </tr>\n    <tr>\n      <th>47</th>\n      <td>KSC LC-39A</td>\n      <td>28.573255</td>\n      <td>-80.646895</td>\n      <td>1</td>\n    </tr>\n    <tr>\n      <th>48</th>\n      <td>KSC LC-39A</td>\n      <td>28.573255</td>\n      <td>-80.646895</td>\n      <td>1</td>\n    </tr>\n    <tr>\n      <th>49</th>\n      <td>CCAFS SLC-40</td>\n      <td>28.563197</td>\n      <td>-80.576820</td>\n      <td>1</td>\n    </tr>\n    <tr>\n      <th>50</th>\n      <td>CCAFS SLC-40</td>\n      <td>28.563197</td>\n      <td>-80.576820</td>\n      <td>1</td>\n    </tr>\n    <tr>\n      <th>51</th>\n      <td>CCAFS SLC-40</td>\n      <td>28.563197</td>\n      <td>-80.576820</td>\n      <td>0</td>\n    </tr>\n    <tr>\n      <th>52</th>\n      <td>CCAFS SLC-40</td>\n      <td>28.563197</td>\n      <td>-80.576820</td>\n      <td>0</td>\n    </tr>\n    <tr>\n      <th>53</th>\n      <td>CCAFS SLC-40</td>\n      <td>28.563197</td>\n      <td>-80.576820</td>\n      <td>0</td>\n    </tr>\n    <tr>\n      <th>54</th>\n      <td>CCAFS SLC-40</td>\n      <td>28.563197</td>\n      <td>-80.576820</td>\n      <td>1</td>\n    </tr>\n    <tr>\n      <th>55</th>\n      <td>CCAFS SLC-40</td>\n      <td>28.563197</td>\n      <td>-80.576820</td>\n      <td>0</td>\n    </tr>\n  </tbody>\n</table>\n</div>"
          },
          "metadata": {}
        }
      ],
      "execution_count": 10
    },
    {
      "cell_type": "markdown",
      "source": "Next, let's create markers for all launch records.\nIf a launch was successful `(class=1)`, then we use a green marker and if a launch was failed, we use a red marker `(class=0)`\n",
      "metadata": {}
    },
    {
      "cell_type": "markdown",
      "source": "Note that a launch only happens in one of the four launch sites, which means many launch records will have the exact same coordinate. Marker clusters can be a good way to simplify a map containing many markers having the same coordinate.\n",
      "metadata": {}
    },
    {
      "cell_type": "markdown",
      "source": "Let's first create a `MarkerCluster` object\n",
      "metadata": {}
    },
    {
      "cell_type": "code",
      "source": "marker_cluster = MarkerCluster()\n",
      "metadata": {
        "trusted": true
      },
      "outputs": [],
      "execution_count": 11
    },
    {
      "cell_type": "markdown",
      "source": "*TODO:* Create a new column in `launch_sites` dataframe called `marker_color` to store the marker colors based on the `class` value\n",
      "metadata": {}
    },
    {
      "cell_type": "code",
      "source": "\n# Apply a function to check the value of `class` column\n# If class=1, marker_color value will be green\n# If class=0, marker_color value will be red\nmarker_color=['red']*56\nfor i,x in enumerate(spacex_df['class']):\n    if x==1:\n        marker_color[i]='green'\nspacex_df['marker_color']=marker_color\n",
      "metadata": {
        "trusted": true
      },
      "outputs": [],
      "execution_count": 12
    },
    {
      "cell_type": "markdown",
      "source": "*TODO:* For each launch result in `spacex_df` data frame, add a `folium.Marker` to `marker_cluster`\n",
      "metadata": {}
    },
    {
      "cell_type": "code",
      "source": "# Add marker_cluster to current site_map\nsite_map.add_child(marker_cluster)\n\n# for each row in spacex_df data frame\n# create a Marker object with its coordinate\n# and customize the Marker's icon property to indicate if this launch was successed or failed, \n# e.g., icon=folium.Icon(color='white', icon_color=row['marker_color']\nfor index, record in spacex_df.iterrows():\n    # TODO: Create and add a Marker cluster to the site map\n    marker = folium.Marker([record['Lat'],record['Long']],popup=record['Launch Site'],icon=folium.Icon(color='white', icon_color=record['marker_color']))\n    marker_cluster.add_child(marker)\n\nsite_map",
      "metadata": {
        "trusted": true
      },
      "outputs": [
        {
          "execution_count": 13,
          "output_type": "execute_result",
          "data": {
            "text/plain": "<folium.folium.Map at 0x546e928>",
            "text/html": "<div style=\"width:100%;\"><div style=\"position:relative;width:100%;height:0;padding-bottom:60%;\"><span style=\"color:#565656\">Make this Notebook Trusted to load map: File -> Trust Notebook</span><iframe srcdoc=\"&lt;!DOCTYPE html&gt;\n&lt;html&gt;\n&lt;head&gt;\n    \n    &lt;meta http-equiv=&quot;content-type&quot; content=&quot;text/html; charset=UTF-8&quot; /&gt;\n    \n        &lt;script&gt;\n            L_NO_TOUCH = false;\n            L_DISABLE_3D = false;\n        &lt;/script&gt;\n    \n    &lt;style&gt;html, body {width: 100%;height: 100%;margin: 0;padding: 0;}&lt;/style&gt;\n    &lt;style&gt;#map {position:absolute;top:0;bottom:0;right:0;left:0;}&lt;/style&gt;\n    &lt;script src=&quot;https://cdn.jsdelivr.net/npm/leaflet@1.9.3/dist/leaflet.js&quot;&gt;&lt;/script&gt;\n    &lt;script src=&quot;https://code.jquery.com/jquery-3.7.1.min.js&quot;&gt;&lt;/script&gt;\n    &lt;script src=&quot;https://cdn.jsdelivr.net/npm/bootstrap@5.2.2/dist/js/bootstrap.bundle.min.js&quot;&gt;&lt;/script&gt;\n    &lt;script src=&quot;https://cdnjs.cloudflare.com/ajax/libs/Leaflet.awesome-markers/2.0.2/leaflet.awesome-markers.js&quot;&gt;&lt;/script&gt;\n    &lt;link rel=&quot;stylesheet&quot; href=&quot;https://cdn.jsdelivr.net/npm/leaflet@1.9.3/dist/leaflet.css&quot;/&gt;\n    &lt;link rel=&quot;stylesheet&quot; href=&quot;https://cdn.jsdelivr.net/npm/bootstrap@5.2.2/dist/css/bootstrap.min.css&quot;/&gt;\n    &lt;link rel=&quot;stylesheet&quot; href=&quot;https://netdna.bootstrapcdn.com/bootstrap/3.0.0/css/bootstrap-glyphicons.css&quot;/&gt;\n    &lt;link rel=&quot;stylesheet&quot; href=&quot;https://cdn.jsdelivr.net/npm/@fortawesome/fontawesome-free@6.2.0/css/all.min.css&quot;/&gt;\n    &lt;link rel=&quot;stylesheet&quot; href=&quot;https://cdnjs.cloudflare.com/ajax/libs/Leaflet.awesome-markers/2.0.2/leaflet.awesome-markers.css&quot;/&gt;\n    &lt;link rel=&quot;stylesheet&quot; href=&quot;https://cdn.jsdelivr.net/gh/python-visualization/folium/folium/templates/leaflet.awesome.rotate.min.css&quot;/&gt;\n    \n            &lt;meta name=&quot;viewport&quot; content=&quot;width=device-width,\n                initial-scale=1.0, maximum-scale=1.0, user-scalable=no&quot; /&gt;\n            &lt;style&gt;\n                #map_8d3b6cf5b9ae068b02deec1419bcbb51 {\n                    position: relative;\n                    width: 100.0%;\n                    height: 100.0%;\n                    left: 0.0%;\n                    top: 0.0%;\n                }\n                .leaflet-container { font-size: 1rem; }\n            &lt;/style&gt;\n        \n    &lt;script src=&quot;https://cdnjs.cloudflare.com/ajax/libs/leaflet.markercluster/1.1.0/leaflet.markercluster.js&quot;&gt;&lt;/script&gt;\n    &lt;link rel=&quot;stylesheet&quot; href=&quot;https://cdnjs.cloudflare.com/ajax/libs/leaflet.markercluster/1.1.0/MarkerCluster.css&quot;/&gt;\n    &lt;link rel=&quot;stylesheet&quot; href=&quot;https://cdnjs.cloudflare.com/ajax/libs/leaflet.markercluster/1.1.0/MarkerCluster.Default.css&quot;/&gt;\n&lt;/head&gt;\n&lt;body&gt;\n    \n    \n            &lt;div class=&quot;folium-map&quot; id=&quot;map_8d3b6cf5b9ae068b02deec1419bcbb51&quot; &gt;&lt;/div&gt;\n        \n&lt;/body&gt;\n&lt;script&gt;\n    \n    \n            var map_8d3b6cf5b9ae068b02deec1419bcbb51 = L.map(\n                &quot;map_8d3b6cf5b9ae068b02deec1419bcbb51&quot;,\n                {\n                    center: [29.559684888503615, -95.0830971930759],\n                    crs: L.CRS.EPSG3857,\n                    zoom: 4,\n                    zoomControl: true,\n                    preferCanvas: false,\n                }\n            );\n\n            \n\n        \n    \n            var tile_layer_5f77d4427cd19b57fee834993b1136f9 = L.tileLayer(\n                &quot;https://tile.openstreetmap.org/{z}/{x}/{y}.png&quot;,\n                {&quot;attribution&quot;: &quot;\\u0026copy; \\u003ca href=\\&quot;https://www.openstreetmap.org/copyright\\&quot;\\u003eOpenStreetMap\\u003c/a\\u003e contributors&quot;, &quot;detectRetina&quot;: false, &quot;maxNativeZoom&quot;: 19, &quot;maxZoom&quot;: 19, &quot;minZoom&quot;: 0, &quot;noWrap&quot;: false, &quot;opacity&quot;: 1, &quot;subdomains&quot;: &quot;abc&quot;, &quot;tms&quot;: false}\n            );\n        \n    \n            tile_layer_5f77d4427cd19b57fee834993b1136f9.addTo(map_8d3b6cf5b9ae068b02deec1419bcbb51);\n        \n    \n            var marker_2e31075d6160df7df01458d26410099b = L.marker(\n                [28.56230197, -80.57735648],\n                {}\n            ).addTo(map_8d3b6cf5b9ae068b02deec1419bcbb51);\n        \n    \n            var div_icon_7b9859d46238ee8cce38e99267c7289c = L.divIcon({&quot;className&quot;: &quot;empty&quot;, &quot;html&quot;: &quot;\\u003cdiv style=\\&quot;font-size: 12; color:#d35400;\\&quot;\\u003e\\u003cb\\u003eCCAFS LC-40\\u003c/b\\u003e\\u003c/div\\u003e&quot;, &quot;iconAnchor&quot;: [0, 0], &quot;iconSize&quot;: [20, 20]});\n            marker_2e31075d6160df7df01458d26410099b.setIcon(div_icon_7b9859d46238ee8cce38e99267c7289c);\n        \n    \n            var marker_daab8393e90259182877d99d74b9be4c = L.marker(\n                [28.56319718, -80.57682003],\n                {}\n            ).addTo(map_8d3b6cf5b9ae068b02deec1419bcbb51);\n        \n    \n            var div_icon_74e786d8924e14eb21efcc6ccc8c3ea8 = L.divIcon({&quot;className&quot;: &quot;empty&quot;, &quot;html&quot;: &quot;\\u003cdiv style=\\&quot;font-size: 12; color:#d35400;\\&quot;\\u003e\\u003cb\\u003eCCAFS SLC-40\\u003c/b\\u003e\\u003c/div\\u003e&quot;, &quot;iconAnchor&quot;: [0, 0], &quot;iconSize&quot;: [20, 20]});\n            marker_daab8393e90259182877d99d74b9be4c.setIcon(div_icon_74e786d8924e14eb21efcc6ccc8c3ea8);\n        \n    \n            var marker_68127823e4f72ff607bc4071c115b252 = L.marker(\n                [28.57325457, -80.64689529],\n                {}\n            ).addTo(map_8d3b6cf5b9ae068b02deec1419bcbb51);\n        \n    \n            var div_icon_567b664c075741504fb5df215913db7d = L.divIcon({&quot;className&quot;: &quot;empty&quot;, &quot;html&quot;: &quot;\\u003cdiv style=\\&quot;font-size: 12; color:#d35400;\\&quot;\\u003e\\u003cb\\u003eKSC LC-39A\\u003c/b\\u003e\\u003c/div\\u003e&quot;, &quot;iconAnchor&quot;: [0, 0], &quot;iconSize&quot;: [20, 20]});\n            marker_68127823e4f72ff607bc4071c115b252.setIcon(div_icon_567b664c075741504fb5df215913db7d);\n        \n    \n            var marker_01d2e5851418520a7789b25185ff4ab3 = L.marker(\n                [34.63283416, -120.6107455],\n                {}\n            ).addTo(map_8d3b6cf5b9ae068b02deec1419bcbb51);\n        \n    \n            var div_icon_b0264f86aad5da5d60de698465ee63b7 = L.divIcon({&quot;className&quot;: &quot;empty&quot;, &quot;html&quot;: &quot;\\u003cdiv style=\\&quot;font-size: 12; color:#d35400;\\&quot;\\u003e\\u003cb\\u003eVAFB SLC-4E\\u003c/b\\u003e\\u003c/div\\u003e&quot;, &quot;iconAnchor&quot;: [0, 0], &quot;iconSize&quot;: [20, 20]});\n            marker_01d2e5851418520a7789b25185ff4ab3.setIcon(div_icon_b0264f86aad5da5d60de698465ee63b7);\n        \n    \n            var feature_group_c4c13f5d3d18f15094ef4bb98671d65e = L.featureGroup(\n                {}\n            );\n        \n    \n            var circle_marker_e1f9184a07fcc440fd375460e9a26c14 = L.circleMarker(\n                [28.56230197, -80.57735648],\n                {&quot;bubblingMouseEvents&quot;: true, &quot;color&quot;: &quot;#d35400&quot;, &quot;dashArray&quot;: null, &quot;dashOffset&quot;: null, &quot;fill&quot;: true, &quot;fillColor&quot;: &quot;#d35400&quot;, &quot;fillOpacity&quot;: 0.2, &quot;fillRule&quot;: &quot;evenodd&quot;, &quot;lineCap&quot;: &quot;round&quot;, &quot;lineJoin&quot;: &quot;round&quot;, &quot;opacity&quot;: 1.0, &quot;radius&quot;: 5, &quot;stroke&quot;: true, &quot;weight&quot;: 3}\n            ).addTo(feature_group_c4c13f5d3d18f15094ef4bb98671d65e);\n        \n    \n            var circle_marker_2aadb29ca5d5a9080dc7d47c40991264 = L.circleMarker(\n                [28.56319718, -80.57682003],\n                {&quot;bubblingMouseEvents&quot;: true, &quot;color&quot;: &quot;#d35400&quot;, &quot;dashArray&quot;: null, &quot;dashOffset&quot;: null, &quot;fill&quot;: true, &quot;fillColor&quot;: &quot;#d35400&quot;, &quot;fillOpacity&quot;: 0.2, &quot;fillRule&quot;: &quot;evenodd&quot;, &quot;lineCap&quot;: &quot;round&quot;, &quot;lineJoin&quot;: &quot;round&quot;, &quot;opacity&quot;: 1.0, &quot;radius&quot;: 5, &quot;stroke&quot;: true, &quot;weight&quot;: 3}\n            ).addTo(feature_group_c4c13f5d3d18f15094ef4bb98671d65e);\n        \n    \n            var circle_marker_c5fe54752b9176395d1ef6b8b30fe668 = L.circleMarker(\n                [28.57325457, -80.64689529],\n                {&quot;bubblingMouseEvents&quot;: true, &quot;color&quot;: &quot;#d35400&quot;, &quot;dashArray&quot;: null, &quot;dashOffset&quot;: null, &quot;fill&quot;: true, &quot;fillColor&quot;: &quot;#d35400&quot;, &quot;fillOpacity&quot;: 0.2, &quot;fillRule&quot;: &quot;evenodd&quot;, &quot;lineCap&quot;: &quot;round&quot;, &quot;lineJoin&quot;: &quot;round&quot;, &quot;opacity&quot;: 1.0, &quot;radius&quot;: 5, &quot;stroke&quot;: true, &quot;weight&quot;: 3}\n            ).addTo(feature_group_c4c13f5d3d18f15094ef4bb98671d65e);\n        \n    \n            var circle_marker_31a0e096e127657047991b583089548e = L.circleMarker(\n                [34.63283416, -120.6107455],\n                {&quot;bubblingMouseEvents&quot;: true, &quot;color&quot;: &quot;#d35400&quot;, &quot;dashArray&quot;: null, &quot;dashOffset&quot;: null, &quot;fill&quot;: true, &quot;fillColor&quot;: &quot;#d35400&quot;, &quot;fillOpacity&quot;: 0.2, &quot;fillRule&quot;: &quot;evenodd&quot;, &quot;lineCap&quot;: &quot;round&quot;, &quot;lineJoin&quot;: &quot;round&quot;, &quot;opacity&quot;: 1.0, &quot;radius&quot;: 5, &quot;stroke&quot;: true, &quot;weight&quot;: 3}\n            ).addTo(feature_group_c4c13f5d3d18f15094ef4bb98671d65e);\n        \n    \n            feature_group_c4c13f5d3d18f15094ef4bb98671d65e.addTo(map_8d3b6cf5b9ae068b02deec1419bcbb51);\n        \n    \n            tile_layer_5f77d4427cd19b57fee834993b1136f9.addTo(map_8d3b6cf5b9ae068b02deec1419bcbb51);\n        \n    \n            feature_group_c4c13f5d3d18f15094ef4bb98671d65e.addTo(map_8d3b6cf5b9ae068b02deec1419bcbb51);\n        \n    \n            var marker_cluster_0504ff2e50b9ff81059249bf9abde0fb = L.markerClusterGroup(\n                {}\n            );\n        \n    \n            var marker_11a8e11228a84a828ce2ebd8daeb63ec = L.marker(\n                [28.56230197, -80.57735648],\n                {}\n            ).addTo(marker_cluster_0504ff2e50b9ff81059249bf9abde0fb);\n        \n    \n            var icon_483a68947516155caa1a16ddf24cd5f7 = L.AwesomeMarkers.icon(\n                {&quot;extraClasses&quot;: &quot;fa-rotate-0&quot;, &quot;icon&quot;: &quot;info-sign&quot;, &quot;iconColor&quot;: &quot;red&quot;, &quot;markerColor&quot;: &quot;white&quot;, &quot;prefix&quot;: &quot;glyphicon&quot;}\n            );\n            marker_11a8e11228a84a828ce2ebd8daeb63ec.setIcon(icon_483a68947516155caa1a16ddf24cd5f7);\n        \n    \n        var popup_07b811736e289340b28327741ad90f0c = L.popup({&quot;maxWidth&quot;: &quot;100%&quot;});\n\n        \n            \n                var html_3ab07d7e53a22541b9bad0afe03c8cb7 = $(`&lt;div id=&quot;html_3ab07d7e53a22541b9bad0afe03c8cb7&quot; style=&quot;width: 100.0%; height: 100.0%;&quot;&gt;CCAFS LC-40&lt;/div&gt;`)[0];\n                popup_07b811736e289340b28327741ad90f0c.setContent(html_3ab07d7e53a22541b9bad0afe03c8cb7);\n            \n        \n\n        marker_11a8e11228a84a828ce2ebd8daeb63ec.bindPopup(popup_07b811736e289340b28327741ad90f0c)\n        ;\n\n        \n    \n    \n            var marker_918a4eb71f85ba1950efb3f43123bb54 = L.marker(\n                [28.56230197, -80.57735648],\n                {}\n            ).addTo(marker_cluster_0504ff2e50b9ff81059249bf9abde0fb);\n        \n    \n            var icon_4dd2a66dffacac8a15e73b7b6f27c946 = L.AwesomeMarkers.icon(\n                {&quot;extraClasses&quot;: &quot;fa-rotate-0&quot;, &quot;icon&quot;: &quot;info-sign&quot;, &quot;iconColor&quot;: &quot;red&quot;, &quot;markerColor&quot;: &quot;white&quot;, &quot;prefix&quot;: &quot;glyphicon&quot;}\n            );\n            marker_918a4eb71f85ba1950efb3f43123bb54.setIcon(icon_4dd2a66dffacac8a15e73b7b6f27c946);\n        \n    \n        var popup_e6e775321b099285f26b78a0690514fe = L.popup({&quot;maxWidth&quot;: &quot;100%&quot;});\n\n        \n            \n                var html_a521870599d437a91122834741f8e1e8 = $(`&lt;div id=&quot;html_a521870599d437a91122834741f8e1e8&quot; style=&quot;width: 100.0%; height: 100.0%;&quot;&gt;CCAFS LC-40&lt;/div&gt;`)[0];\n                popup_e6e775321b099285f26b78a0690514fe.setContent(html_a521870599d437a91122834741f8e1e8);\n            \n        \n\n        marker_918a4eb71f85ba1950efb3f43123bb54.bindPopup(popup_e6e775321b099285f26b78a0690514fe)\n        ;\n\n        \n    \n    \n            var marker_000caa175c1668c746d20772b80f8a12 = L.marker(\n                [28.56230197, -80.57735648],\n                {}\n            ).addTo(marker_cluster_0504ff2e50b9ff81059249bf9abde0fb);\n        \n    \n            var icon_e5eaccb969bf94b965166d888ca6fd86 = L.AwesomeMarkers.icon(\n                {&quot;extraClasses&quot;: &quot;fa-rotate-0&quot;, &quot;icon&quot;: &quot;info-sign&quot;, &quot;iconColor&quot;: &quot;red&quot;, &quot;markerColor&quot;: &quot;white&quot;, &quot;prefix&quot;: &quot;glyphicon&quot;}\n            );\n            marker_000caa175c1668c746d20772b80f8a12.setIcon(icon_e5eaccb969bf94b965166d888ca6fd86);\n        \n    \n        var popup_b331e4990ae2090146063e1d48c1b88f = L.popup({&quot;maxWidth&quot;: &quot;100%&quot;});\n\n        \n            \n                var html_9fa62b146aa733b61337fa1b0006bb18 = $(`&lt;div id=&quot;html_9fa62b146aa733b61337fa1b0006bb18&quot; style=&quot;width: 100.0%; height: 100.0%;&quot;&gt;CCAFS LC-40&lt;/div&gt;`)[0];\n                popup_b331e4990ae2090146063e1d48c1b88f.setContent(html_9fa62b146aa733b61337fa1b0006bb18);\n            \n        \n\n        marker_000caa175c1668c746d20772b80f8a12.bindPopup(popup_b331e4990ae2090146063e1d48c1b88f)\n        ;\n\n        \n    \n    \n            var marker_71c5de633b17a36d74e38d269115d035 = L.marker(\n                [28.56230197, -80.57735648],\n                {}\n            ).addTo(marker_cluster_0504ff2e50b9ff81059249bf9abde0fb);\n        \n    \n            var icon_df87aa2111e4264cbb403e52e2e86e09 = L.AwesomeMarkers.icon(\n                {&quot;extraClasses&quot;: &quot;fa-rotate-0&quot;, &quot;icon&quot;: &quot;info-sign&quot;, &quot;iconColor&quot;: &quot;red&quot;, &quot;markerColor&quot;: &quot;white&quot;, &quot;prefix&quot;: &quot;glyphicon&quot;}\n            );\n            marker_71c5de633b17a36d74e38d269115d035.setIcon(icon_df87aa2111e4264cbb403e52e2e86e09);\n        \n    \n        var popup_a0bd8dfc38bfb6d28a138610fb442934 = L.popup({&quot;maxWidth&quot;: &quot;100%&quot;});\n\n        \n            \n                var html_12081c322661eb5e534d77b802fc86ce = $(`&lt;div id=&quot;html_12081c322661eb5e534d77b802fc86ce&quot; style=&quot;width: 100.0%; height: 100.0%;&quot;&gt;CCAFS LC-40&lt;/div&gt;`)[0];\n                popup_a0bd8dfc38bfb6d28a138610fb442934.setContent(html_12081c322661eb5e534d77b802fc86ce);\n            \n        \n\n        marker_71c5de633b17a36d74e38d269115d035.bindPopup(popup_a0bd8dfc38bfb6d28a138610fb442934)\n        ;\n\n        \n    \n    \n            var marker_fe48ed96c2411e6125db7e4daef64841 = L.marker(\n                [28.56230197, -80.57735648],\n                {}\n            ).addTo(marker_cluster_0504ff2e50b9ff81059249bf9abde0fb);\n        \n    \n            var icon_74edd004f4b9b894e98618146c44430b = L.AwesomeMarkers.icon(\n                {&quot;extraClasses&quot;: &quot;fa-rotate-0&quot;, &quot;icon&quot;: &quot;info-sign&quot;, &quot;iconColor&quot;: &quot;red&quot;, &quot;markerColor&quot;: &quot;white&quot;, &quot;prefix&quot;: &quot;glyphicon&quot;}\n            );\n            marker_fe48ed96c2411e6125db7e4daef64841.setIcon(icon_74edd004f4b9b894e98618146c44430b);\n        \n    \n        var popup_cb64e459c53f16e4486a27f35ad0371c = L.popup({&quot;maxWidth&quot;: &quot;100%&quot;});\n\n        \n            \n                var html_21ba1c193bdb10b56ad036c559869b6c = $(`&lt;div id=&quot;html_21ba1c193bdb10b56ad036c559869b6c&quot; style=&quot;width: 100.0%; height: 100.0%;&quot;&gt;CCAFS LC-40&lt;/div&gt;`)[0];\n                popup_cb64e459c53f16e4486a27f35ad0371c.setContent(html_21ba1c193bdb10b56ad036c559869b6c);\n            \n        \n\n        marker_fe48ed96c2411e6125db7e4daef64841.bindPopup(popup_cb64e459c53f16e4486a27f35ad0371c)\n        ;\n\n        \n    \n    \n            var marker_0eff492c35371cab941d6b18e00c0fd1 = L.marker(\n                [28.56230197, -80.57735648],\n                {}\n            ).addTo(marker_cluster_0504ff2e50b9ff81059249bf9abde0fb);\n        \n    \n            var icon_b874ae859dfe89facaba6482464e203c = L.AwesomeMarkers.icon(\n                {&quot;extraClasses&quot;: &quot;fa-rotate-0&quot;, &quot;icon&quot;: &quot;info-sign&quot;, &quot;iconColor&quot;: &quot;red&quot;, &quot;markerColor&quot;: &quot;white&quot;, &quot;prefix&quot;: &quot;glyphicon&quot;}\n            );\n            marker_0eff492c35371cab941d6b18e00c0fd1.setIcon(icon_b874ae859dfe89facaba6482464e203c);\n        \n    \n        var popup_e353626493e06f6bc1dcb3ab001d30c0 = L.popup({&quot;maxWidth&quot;: &quot;100%&quot;});\n\n        \n            \n                var html_ea301d1675a9cbcef090c9c4a65fbc25 = $(`&lt;div id=&quot;html_ea301d1675a9cbcef090c9c4a65fbc25&quot; style=&quot;width: 100.0%; height: 100.0%;&quot;&gt;CCAFS LC-40&lt;/div&gt;`)[0];\n                popup_e353626493e06f6bc1dcb3ab001d30c0.setContent(html_ea301d1675a9cbcef090c9c4a65fbc25);\n            \n        \n\n        marker_0eff492c35371cab941d6b18e00c0fd1.bindPopup(popup_e353626493e06f6bc1dcb3ab001d30c0)\n        ;\n\n        \n    \n    \n            var marker_ef8f93189de4e2c497fced0cbb101601 = L.marker(\n                [28.56230197, -80.57735648],\n                {}\n            ).addTo(marker_cluster_0504ff2e50b9ff81059249bf9abde0fb);\n        \n    \n            var icon_b6e5674288bd0c4871c9ae733b57363a = L.AwesomeMarkers.icon(\n                {&quot;extraClasses&quot;: &quot;fa-rotate-0&quot;, &quot;icon&quot;: &quot;info-sign&quot;, &quot;iconColor&quot;: &quot;red&quot;, &quot;markerColor&quot;: &quot;white&quot;, &quot;prefix&quot;: &quot;glyphicon&quot;}\n            );\n            marker_ef8f93189de4e2c497fced0cbb101601.setIcon(icon_b6e5674288bd0c4871c9ae733b57363a);\n        \n    \n        var popup_0ffd81ff7e5bdfc4486cb92ab7ef03ad = L.popup({&quot;maxWidth&quot;: &quot;100%&quot;});\n\n        \n            \n                var html_67d32ae1a01db9fb2d182d80eec10b3b = $(`&lt;div id=&quot;html_67d32ae1a01db9fb2d182d80eec10b3b&quot; style=&quot;width: 100.0%; height: 100.0%;&quot;&gt;CCAFS LC-40&lt;/div&gt;`)[0];\n                popup_0ffd81ff7e5bdfc4486cb92ab7ef03ad.setContent(html_67d32ae1a01db9fb2d182d80eec10b3b);\n            \n        \n\n        marker_ef8f93189de4e2c497fced0cbb101601.bindPopup(popup_0ffd81ff7e5bdfc4486cb92ab7ef03ad)\n        ;\n\n        \n    \n    \n            var marker_c06ea8ad18129c9c670ba7a1a2ec15e9 = L.marker(\n                [28.56230197, -80.57735648],\n                {}\n            ).addTo(marker_cluster_0504ff2e50b9ff81059249bf9abde0fb);\n        \n    \n            var icon_e88e5ba66ed32b2c407f9e983ccdb1d7 = L.AwesomeMarkers.icon(\n                {&quot;extraClasses&quot;: &quot;fa-rotate-0&quot;, &quot;icon&quot;: &quot;info-sign&quot;, &quot;iconColor&quot;: &quot;red&quot;, &quot;markerColor&quot;: &quot;white&quot;, &quot;prefix&quot;: &quot;glyphicon&quot;}\n            );\n            marker_c06ea8ad18129c9c670ba7a1a2ec15e9.setIcon(icon_e88e5ba66ed32b2c407f9e983ccdb1d7);\n        \n    \n        var popup_1740ed287b9516ca1dfb4fae2dbf5c93 = L.popup({&quot;maxWidth&quot;: &quot;100%&quot;});\n\n        \n            \n                var html_63046fffa1c52f48ea3cf3cf53f02162 = $(`&lt;div id=&quot;html_63046fffa1c52f48ea3cf3cf53f02162&quot; style=&quot;width: 100.0%; height: 100.0%;&quot;&gt;CCAFS LC-40&lt;/div&gt;`)[0];\n                popup_1740ed287b9516ca1dfb4fae2dbf5c93.setContent(html_63046fffa1c52f48ea3cf3cf53f02162);\n            \n        \n\n        marker_c06ea8ad18129c9c670ba7a1a2ec15e9.bindPopup(popup_1740ed287b9516ca1dfb4fae2dbf5c93)\n        ;\n\n        \n    \n    \n            var marker_6178c24585c197f1b5df28d5f77714ad = L.marker(\n                [28.56230197, -80.57735648],\n                {}\n            ).addTo(marker_cluster_0504ff2e50b9ff81059249bf9abde0fb);\n        \n    \n            var icon_a9480d7e1dc5a44441450a6dab24bdd1 = L.AwesomeMarkers.icon(\n                {&quot;extraClasses&quot;: &quot;fa-rotate-0&quot;, &quot;icon&quot;: &quot;info-sign&quot;, &quot;iconColor&quot;: &quot;red&quot;, &quot;markerColor&quot;: &quot;white&quot;, &quot;prefix&quot;: &quot;glyphicon&quot;}\n            );\n            marker_6178c24585c197f1b5df28d5f77714ad.setIcon(icon_a9480d7e1dc5a44441450a6dab24bdd1);\n        \n    \n        var popup_8a93e8ece7ab0894e9b64b33252d1240 = L.popup({&quot;maxWidth&quot;: &quot;100%&quot;});\n\n        \n            \n                var html_30571e8e335fd8e1c596c7b9d57cd684 = $(`&lt;div id=&quot;html_30571e8e335fd8e1c596c7b9d57cd684&quot; style=&quot;width: 100.0%; height: 100.0%;&quot;&gt;CCAFS LC-40&lt;/div&gt;`)[0];\n                popup_8a93e8ece7ab0894e9b64b33252d1240.setContent(html_30571e8e335fd8e1c596c7b9d57cd684);\n            \n        \n\n        marker_6178c24585c197f1b5df28d5f77714ad.bindPopup(popup_8a93e8ece7ab0894e9b64b33252d1240)\n        ;\n\n        \n    \n    \n            var marker_522333efc78801ef6b3affb952178928 = L.marker(\n                [28.56230197, -80.57735648],\n                {}\n            ).addTo(marker_cluster_0504ff2e50b9ff81059249bf9abde0fb);\n        \n    \n            var icon_4242231cccc4d2522265f4a98a19f06a = L.AwesomeMarkers.icon(\n                {&quot;extraClasses&quot;: &quot;fa-rotate-0&quot;, &quot;icon&quot;: &quot;info-sign&quot;, &quot;iconColor&quot;: &quot;red&quot;, &quot;markerColor&quot;: &quot;white&quot;, &quot;prefix&quot;: &quot;glyphicon&quot;}\n            );\n            marker_522333efc78801ef6b3affb952178928.setIcon(icon_4242231cccc4d2522265f4a98a19f06a);\n        \n    \n        var popup_48c95caa54341f6689742d17613f25b5 = L.popup({&quot;maxWidth&quot;: &quot;100%&quot;});\n\n        \n            \n                var html_5df8fc91cb6c3b770f3cffc5641d2f20 = $(`&lt;div id=&quot;html_5df8fc91cb6c3b770f3cffc5641d2f20&quot; style=&quot;width: 100.0%; height: 100.0%;&quot;&gt;CCAFS LC-40&lt;/div&gt;`)[0];\n                popup_48c95caa54341f6689742d17613f25b5.setContent(html_5df8fc91cb6c3b770f3cffc5641d2f20);\n            \n        \n\n        marker_522333efc78801ef6b3affb952178928.bindPopup(popup_48c95caa54341f6689742d17613f25b5)\n        ;\n\n        \n    \n    \n            var marker_9e7ca90a7a3329936d137cd4013b43c9 = L.marker(\n                [28.56230197, -80.57735648],\n                {}\n            ).addTo(marker_cluster_0504ff2e50b9ff81059249bf9abde0fb);\n        \n    \n            var icon_adcfd09d7ef84ef569777e37045a6afa = L.AwesomeMarkers.icon(\n                {&quot;extraClasses&quot;: &quot;fa-rotate-0&quot;, &quot;icon&quot;: &quot;info-sign&quot;, &quot;iconColor&quot;: &quot;red&quot;, &quot;markerColor&quot;: &quot;white&quot;, &quot;prefix&quot;: &quot;glyphicon&quot;}\n            );\n            marker_9e7ca90a7a3329936d137cd4013b43c9.setIcon(icon_adcfd09d7ef84ef569777e37045a6afa);\n        \n    \n        var popup_52b584cf6f1c071dcf0669052b2b0a3b = L.popup({&quot;maxWidth&quot;: &quot;100%&quot;});\n\n        \n            \n                var html_9e3867533a32051bee41c7cb7850f690 = $(`&lt;div id=&quot;html_9e3867533a32051bee41c7cb7850f690&quot; style=&quot;width: 100.0%; height: 100.0%;&quot;&gt;CCAFS LC-40&lt;/div&gt;`)[0];\n                popup_52b584cf6f1c071dcf0669052b2b0a3b.setContent(html_9e3867533a32051bee41c7cb7850f690);\n            \n        \n\n        marker_9e7ca90a7a3329936d137cd4013b43c9.bindPopup(popup_52b584cf6f1c071dcf0669052b2b0a3b)\n        ;\n\n        \n    \n    \n            var marker_d6faa06fde810b97c34c1887eb16ad01 = L.marker(\n                [28.56230197, -80.57735648],\n                {}\n            ).addTo(marker_cluster_0504ff2e50b9ff81059249bf9abde0fb);\n        \n    \n            var icon_eaf4d1c12c056338b826c604ff23c1dd = L.AwesomeMarkers.icon(\n                {&quot;extraClasses&quot;: &quot;fa-rotate-0&quot;, &quot;icon&quot;: &quot;info-sign&quot;, &quot;iconColor&quot;: &quot;red&quot;, &quot;markerColor&quot;: &quot;white&quot;, &quot;prefix&quot;: &quot;glyphicon&quot;}\n            );\n            marker_d6faa06fde810b97c34c1887eb16ad01.setIcon(icon_eaf4d1c12c056338b826c604ff23c1dd);\n        \n    \n        var popup_55a9bdb7e7e9ceaece20ecd8e79e31a5 = L.popup({&quot;maxWidth&quot;: &quot;100%&quot;});\n\n        \n            \n                var html_8337dec88605e2c420ef59d661c6483a = $(`&lt;div id=&quot;html_8337dec88605e2c420ef59d661c6483a&quot; style=&quot;width: 100.0%; height: 100.0%;&quot;&gt;CCAFS LC-40&lt;/div&gt;`)[0];\n                popup_55a9bdb7e7e9ceaece20ecd8e79e31a5.setContent(html_8337dec88605e2c420ef59d661c6483a);\n            \n        \n\n        marker_d6faa06fde810b97c34c1887eb16ad01.bindPopup(popup_55a9bdb7e7e9ceaece20ecd8e79e31a5)\n        ;\n\n        \n    \n    \n            var marker_e0eda54a2d178be3ee6bf74fccfaa3c4 = L.marker(\n                [28.56230197, -80.57735648],\n                {}\n            ).addTo(marker_cluster_0504ff2e50b9ff81059249bf9abde0fb);\n        \n    \n            var icon_eb3d4e762daf99520e82b33c0242491d = L.AwesomeMarkers.icon(\n                {&quot;extraClasses&quot;: &quot;fa-rotate-0&quot;, &quot;icon&quot;: &quot;info-sign&quot;, &quot;iconColor&quot;: &quot;red&quot;, &quot;markerColor&quot;: &quot;white&quot;, &quot;prefix&quot;: &quot;glyphicon&quot;}\n            );\n            marker_e0eda54a2d178be3ee6bf74fccfaa3c4.setIcon(icon_eb3d4e762daf99520e82b33c0242491d);\n        \n    \n        var popup_5f82f47db7ceb50f45e8e83cf9216e7c = L.popup({&quot;maxWidth&quot;: &quot;100%&quot;});\n\n        \n            \n                var html_5709a3be531840ee8aa565654cb54618 = $(`&lt;div id=&quot;html_5709a3be531840ee8aa565654cb54618&quot; style=&quot;width: 100.0%; height: 100.0%;&quot;&gt;CCAFS LC-40&lt;/div&gt;`)[0];\n                popup_5f82f47db7ceb50f45e8e83cf9216e7c.setContent(html_5709a3be531840ee8aa565654cb54618);\n            \n        \n\n        marker_e0eda54a2d178be3ee6bf74fccfaa3c4.bindPopup(popup_5f82f47db7ceb50f45e8e83cf9216e7c)\n        ;\n\n        \n    \n    \n            var marker_eb71685571155e3c2d530b81999e9f18 = L.marker(\n                [28.56230197, -80.57735648],\n                {}\n            ).addTo(marker_cluster_0504ff2e50b9ff81059249bf9abde0fb);\n        \n    \n            var icon_a32de7d3bfd94a1a66d57bfa21efaf46 = L.AwesomeMarkers.icon(\n                {&quot;extraClasses&quot;: &quot;fa-rotate-0&quot;, &quot;icon&quot;: &quot;info-sign&quot;, &quot;iconColor&quot;: &quot;red&quot;, &quot;markerColor&quot;: &quot;white&quot;, &quot;prefix&quot;: &quot;glyphicon&quot;}\n            );\n            marker_eb71685571155e3c2d530b81999e9f18.setIcon(icon_a32de7d3bfd94a1a66d57bfa21efaf46);\n        \n    \n        var popup_53f61cb529ae0c996a48967f9e871e28 = L.popup({&quot;maxWidth&quot;: &quot;100%&quot;});\n\n        \n            \n                var html_d43ba674807fd5a45f36fd3a2395d504 = $(`&lt;div id=&quot;html_d43ba674807fd5a45f36fd3a2395d504&quot; style=&quot;width: 100.0%; height: 100.0%;&quot;&gt;CCAFS LC-40&lt;/div&gt;`)[0];\n                popup_53f61cb529ae0c996a48967f9e871e28.setContent(html_d43ba674807fd5a45f36fd3a2395d504);\n            \n        \n\n        marker_eb71685571155e3c2d530b81999e9f18.bindPopup(popup_53f61cb529ae0c996a48967f9e871e28)\n        ;\n\n        \n    \n    \n            var marker_ae6742ef512a315b79119c2ca930105c = L.marker(\n                [28.56230197, -80.57735648],\n                {}\n            ).addTo(marker_cluster_0504ff2e50b9ff81059249bf9abde0fb);\n        \n    \n            var icon_2ed007e49d6ab911c55dec1ede9bf40f = L.AwesomeMarkers.icon(\n                {&quot;extraClasses&quot;: &quot;fa-rotate-0&quot;, &quot;icon&quot;: &quot;info-sign&quot;, &quot;iconColor&quot;: &quot;red&quot;, &quot;markerColor&quot;: &quot;white&quot;, &quot;prefix&quot;: &quot;glyphicon&quot;}\n            );\n            marker_ae6742ef512a315b79119c2ca930105c.setIcon(icon_2ed007e49d6ab911c55dec1ede9bf40f);\n        \n    \n        var popup_a93995e2934d472309c4d91b2f268797 = L.popup({&quot;maxWidth&quot;: &quot;100%&quot;});\n\n        \n            \n                var html_7126d51bcb4a8c3bd21ce5135d640e10 = $(`&lt;div id=&quot;html_7126d51bcb4a8c3bd21ce5135d640e10&quot; style=&quot;width: 100.0%; height: 100.0%;&quot;&gt;CCAFS LC-40&lt;/div&gt;`)[0];\n                popup_a93995e2934d472309c4d91b2f268797.setContent(html_7126d51bcb4a8c3bd21ce5135d640e10);\n            \n        \n\n        marker_ae6742ef512a315b79119c2ca930105c.bindPopup(popup_a93995e2934d472309c4d91b2f268797)\n        ;\n\n        \n    \n    \n            var marker_d7d4b8a413cabb3fa782844d09feed2b = L.marker(\n                [28.56230197, -80.57735648],\n                {}\n            ).addTo(marker_cluster_0504ff2e50b9ff81059249bf9abde0fb);\n        \n    \n            var icon_165a5cbb3d96bde1bb80f6ceff64426c = L.AwesomeMarkers.icon(\n                {&quot;extraClasses&quot;: &quot;fa-rotate-0&quot;, &quot;icon&quot;: &quot;info-sign&quot;, &quot;iconColor&quot;: &quot;red&quot;, &quot;markerColor&quot;: &quot;white&quot;, &quot;prefix&quot;: &quot;glyphicon&quot;}\n            );\n            marker_d7d4b8a413cabb3fa782844d09feed2b.setIcon(icon_165a5cbb3d96bde1bb80f6ceff64426c);\n        \n    \n        var popup_eb4adfa9dcf8076db5650620b93c3d71 = L.popup({&quot;maxWidth&quot;: &quot;100%&quot;});\n\n        \n            \n                var html_baa25397d2c2204f0249c9b1708be753 = $(`&lt;div id=&quot;html_baa25397d2c2204f0249c9b1708be753&quot; style=&quot;width: 100.0%; height: 100.0%;&quot;&gt;CCAFS LC-40&lt;/div&gt;`)[0];\n                popup_eb4adfa9dcf8076db5650620b93c3d71.setContent(html_baa25397d2c2204f0249c9b1708be753);\n            \n        \n\n        marker_d7d4b8a413cabb3fa782844d09feed2b.bindPopup(popup_eb4adfa9dcf8076db5650620b93c3d71)\n        ;\n\n        \n    \n    \n            var marker_83f76fbecb83a4352848904165d6b66e = L.marker(\n                [28.56230197, -80.57735648],\n                {}\n            ).addTo(marker_cluster_0504ff2e50b9ff81059249bf9abde0fb);\n        \n    \n            var icon_ecfb3c6cded8f766e7561d650655b4da = L.AwesomeMarkers.icon(\n                {&quot;extraClasses&quot;: &quot;fa-rotate-0&quot;, &quot;icon&quot;: &quot;info-sign&quot;, &quot;iconColor&quot;: &quot;red&quot;, &quot;markerColor&quot;: &quot;white&quot;, &quot;prefix&quot;: &quot;glyphicon&quot;}\n            );\n            marker_83f76fbecb83a4352848904165d6b66e.setIcon(icon_ecfb3c6cded8f766e7561d650655b4da);\n        \n    \n        var popup_3544a1003e4ac8e2d9154281cb561235 = L.popup({&quot;maxWidth&quot;: &quot;100%&quot;});\n\n        \n            \n                var html_13d7a940efb4d5330a18f282ca4d0652 = $(`&lt;div id=&quot;html_13d7a940efb4d5330a18f282ca4d0652&quot; style=&quot;width: 100.0%; height: 100.0%;&quot;&gt;CCAFS LC-40&lt;/div&gt;`)[0];\n                popup_3544a1003e4ac8e2d9154281cb561235.setContent(html_13d7a940efb4d5330a18f282ca4d0652);\n            \n        \n\n        marker_83f76fbecb83a4352848904165d6b66e.bindPopup(popup_3544a1003e4ac8e2d9154281cb561235)\n        ;\n\n        \n    \n    \n            var marker_45c71e3c7398f468e01b2268bceb95e4 = L.marker(\n                [28.56230197, -80.57735648],\n                {}\n            ).addTo(marker_cluster_0504ff2e50b9ff81059249bf9abde0fb);\n        \n    \n            var icon_e97469eb2947ff23ac62b1e72fb13b4c = L.AwesomeMarkers.icon(\n                {&quot;extraClasses&quot;: &quot;fa-rotate-0&quot;, &quot;icon&quot;: &quot;info-sign&quot;, &quot;iconColor&quot;: &quot;green&quot;, &quot;markerColor&quot;: &quot;white&quot;, &quot;prefix&quot;: &quot;glyphicon&quot;}\n            );\n            marker_45c71e3c7398f468e01b2268bceb95e4.setIcon(icon_e97469eb2947ff23ac62b1e72fb13b4c);\n        \n    \n        var popup_db4feff8e54b7515f6945c2e58439309 = L.popup({&quot;maxWidth&quot;: &quot;100%&quot;});\n\n        \n            \n                var html_c4239d71cec56895e375b183db3e206d = $(`&lt;div id=&quot;html_c4239d71cec56895e375b183db3e206d&quot; style=&quot;width: 100.0%; height: 100.0%;&quot;&gt;CCAFS LC-40&lt;/div&gt;`)[0];\n                popup_db4feff8e54b7515f6945c2e58439309.setContent(html_c4239d71cec56895e375b183db3e206d);\n            \n        \n\n        marker_45c71e3c7398f468e01b2268bceb95e4.bindPopup(popup_db4feff8e54b7515f6945c2e58439309)\n        ;\n\n        \n    \n    \n            var marker_413f2c18abe73c0d59114e2fcd7c0b16 = L.marker(\n                [28.56230197, -80.57735648],\n                {}\n            ).addTo(marker_cluster_0504ff2e50b9ff81059249bf9abde0fb);\n        \n    \n            var icon_b645f48d6e849631ce5c2f2f90f8b60e = L.AwesomeMarkers.icon(\n                {&quot;extraClasses&quot;: &quot;fa-rotate-0&quot;, &quot;icon&quot;: &quot;info-sign&quot;, &quot;iconColor&quot;: &quot;green&quot;, &quot;markerColor&quot;: &quot;white&quot;, &quot;prefix&quot;: &quot;glyphicon&quot;}\n            );\n            marker_413f2c18abe73c0d59114e2fcd7c0b16.setIcon(icon_b645f48d6e849631ce5c2f2f90f8b60e);\n        \n    \n        var popup_1d47102bf046408255143af32a7eabe9 = L.popup({&quot;maxWidth&quot;: &quot;100%&quot;});\n\n        \n            \n                var html_6f146a5bac4be098f9e6dc6437a37dc6 = $(`&lt;div id=&quot;html_6f146a5bac4be098f9e6dc6437a37dc6&quot; style=&quot;width: 100.0%; height: 100.0%;&quot;&gt;CCAFS LC-40&lt;/div&gt;`)[0];\n                popup_1d47102bf046408255143af32a7eabe9.setContent(html_6f146a5bac4be098f9e6dc6437a37dc6);\n            \n        \n\n        marker_413f2c18abe73c0d59114e2fcd7c0b16.bindPopup(popup_1d47102bf046408255143af32a7eabe9)\n        ;\n\n        \n    \n    \n            var marker_bcbd8b6d072ee399ceacb7ffd9485ffa = L.marker(\n                [28.56230197, -80.57735648],\n                {}\n            ).addTo(marker_cluster_0504ff2e50b9ff81059249bf9abde0fb);\n        \n    \n            var icon_a8583ad5f640b6692659a78f2f8c35c0 = L.AwesomeMarkers.icon(\n                {&quot;extraClasses&quot;: &quot;fa-rotate-0&quot;, &quot;icon&quot;: &quot;info-sign&quot;, &quot;iconColor&quot;: &quot;red&quot;, &quot;markerColor&quot;: &quot;white&quot;, &quot;prefix&quot;: &quot;glyphicon&quot;}\n            );\n            marker_bcbd8b6d072ee399ceacb7ffd9485ffa.setIcon(icon_a8583ad5f640b6692659a78f2f8c35c0);\n        \n    \n        var popup_bf5f8143e250c42ce28e74858277cbcb = L.popup({&quot;maxWidth&quot;: &quot;100%&quot;});\n\n        \n            \n                var html_172031c3a817dad521780047293adb9f = $(`&lt;div id=&quot;html_172031c3a817dad521780047293adb9f&quot; style=&quot;width: 100.0%; height: 100.0%;&quot;&gt;CCAFS LC-40&lt;/div&gt;`)[0];\n                popup_bf5f8143e250c42ce28e74858277cbcb.setContent(html_172031c3a817dad521780047293adb9f);\n            \n        \n\n        marker_bcbd8b6d072ee399ceacb7ffd9485ffa.bindPopup(popup_bf5f8143e250c42ce28e74858277cbcb)\n        ;\n\n        \n    \n    \n            var marker_b9a65b7be2dc300855feb4e1c43868d7 = L.marker(\n                [28.56230197, -80.57735648],\n                {}\n            ).addTo(marker_cluster_0504ff2e50b9ff81059249bf9abde0fb);\n        \n    \n            var icon_ae7f45b16c8152c0eda5e05355e8e0d6 = L.AwesomeMarkers.icon(\n                {&quot;extraClasses&quot;: &quot;fa-rotate-0&quot;, &quot;icon&quot;: &quot;info-sign&quot;, &quot;iconColor&quot;: &quot;green&quot;, &quot;markerColor&quot;: &quot;white&quot;, &quot;prefix&quot;: &quot;glyphicon&quot;}\n            );\n            marker_b9a65b7be2dc300855feb4e1c43868d7.setIcon(icon_ae7f45b16c8152c0eda5e05355e8e0d6);\n        \n    \n        var popup_a25c9fb7cc99644d38eadb95454c12f0 = L.popup({&quot;maxWidth&quot;: &quot;100%&quot;});\n\n        \n            \n                var html_ff71a22a6037dde2883219c87a81fe64 = $(`&lt;div id=&quot;html_ff71a22a6037dde2883219c87a81fe64&quot; style=&quot;width: 100.0%; height: 100.0%;&quot;&gt;CCAFS LC-40&lt;/div&gt;`)[0];\n                popup_a25c9fb7cc99644d38eadb95454c12f0.setContent(html_ff71a22a6037dde2883219c87a81fe64);\n            \n        \n\n        marker_b9a65b7be2dc300855feb4e1c43868d7.bindPopup(popup_a25c9fb7cc99644d38eadb95454c12f0)\n        ;\n\n        \n    \n    \n            var marker_cd7002e00aa2fd4019f2b0da550416e9 = L.marker(\n                [28.56230197, -80.57735648],\n                {}\n            ).addTo(marker_cluster_0504ff2e50b9ff81059249bf9abde0fb);\n        \n    \n            var icon_bd74537cd6ebe208d7e873f15e7be127 = L.AwesomeMarkers.icon(\n                {&quot;extraClasses&quot;: &quot;fa-rotate-0&quot;, &quot;icon&quot;: &quot;info-sign&quot;, &quot;iconColor&quot;: &quot;green&quot;, &quot;markerColor&quot;: &quot;white&quot;, &quot;prefix&quot;: &quot;glyphicon&quot;}\n            );\n            marker_cd7002e00aa2fd4019f2b0da550416e9.setIcon(icon_bd74537cd6ebe208d7e873f15e7be127);\n        \n    \n        var popup_5797e492ffdefd8600711a822372606e = L.popup({&quot;maxWidth&quot;: &quot;100%&quot;});\n\n        \n            \n                var html_6b8f6aed3d989d61e8d31dbecf1885c7 = $(`&lt;div id=&quot;html_6b8f6aed3d989d61e8d31dbecf1885c7&quot; style=&quot;width: 100.0%; height: 100.0%;&quot;&gt;CCAFS LC-40&lt;/div&gt;`)[0];\n                popup_5797e492ffdefd8600711a822372606e.setContent(html_6b8f6aed3d989d61e8d31dbecf1885c7);\n            \n        \n\n        marker_cd7002e00aa2fd4019f2b0da550416e9.bindPopup(popup_5797e492ffdefd8600711a822372606e)\n        ;\n\n        \n    \n    \n            var marker_8edd1055e47b632a8b8310a57df03aa3 = L.marker(\n                [28.56230197, -80.57735648],\n                {}\n            ).addTo(marker_cluster_0504ff2e50b9ff81059249bf9abde0fb);\n        \n    \n            var icon_20b5eda3a960bfd7b3e2caa901213db6 = L.AwesomeMarkers.icon(\n                {&quot;extraClasses&quot;: &quot;fa-rotate-0&quot;, &quot;icon&quot;: &quot;info-sign&quot;, &quot;iconColor&quot;: &quot;green&quot;, &quot;markerColor&quot;: &quot;white&quot;, &quot;prefix&quot;: &quot;glyphicon&quot;}\n            );\n            marker_8edd1055e47b632a8b8310a57df03aa3.setIcon(icon_20b5eda3a960bfd7b3e2caa901213db6);\n        \n    \n        var popup_074417d2fa8e5da07f52a80e8478952d = L.popup({&quot;maxWidth&quot;: &quot;100%&quot;});\n\n        \n            \n                var html_4b5b18e5d14b0c13f0e2b17a1b01b82a = $(`&lt;div id=&quot;html_4b5b18e5d14b0c13f0e2b17a1b01b82a&quot; style=&quot;width: 100.0%; height: 100.0%;&quot;&gt;CCAFS LC-40&lt;/div&gt;`)[0];\n                popup_074417d2fa8e5da07f52a80e8478952d.setContent(html_4b5b18e5d14b0c13f0e2b17a1b01b82a);\n            \n        \n\n        marker_8edd1055e47b632a8b8310a57df03aa3.bindPopup(popup_074417d2fa8e5da07f52a80e8478952d)\n        ;\n\n        \n    \n    \n            var marker_1ee1038a51f66503fdc26ecad374e4f6 = L.marker(\n                [28.56230197, -80.57735648],\n                {}\n            ).addTo(marker_cluster_0504ff2e50b9ff81059249bf9abde0fb);\n        \n    \n            var icon_e332b33b900513e21da2a059fcedb147 = L.AwesomeMarkers.icon(\n                {&quot;extraClasses&quot;: &quot;fa-rotate-0&quot;, &quot;icon&quot;: &quot;info-sign&quot;, &quot;iconColor&quot;: &quot;red&quot;, &quot;markerColor&quot;: &quot;white&quot;, &quot;prefix&quot;: &quot;glyphicon&quot;}\n            );\n            marker_1ee1038a51f66503fdc26ecad374e4f6.setIcon(icon_e332b33b900513e21da2a059fcedb147);\n        \n    \n        var popup_ac8508c10d1ed659f5c5d9f01829e40c = L.popup({&quot;maxWidth&quot;: &quot;100%&quot;});\n\n        \n            \n                var html_051ce2e40ba23c97799f164abc5c2ec8 = $(`&lt;div id=&quot;html_051ce2e40ba23c97799f164abc5c2ec8&quot; style=&quot;width: 100.0%; height: 100.0%;&quot;&gt;CCAFS LC-40&lt;/div&gt;`)[0];\n                popup_ac8508c10d1ed659f5c5d9f01829e40c.setContent(html_051ce2e40ba23c97799f164abc5c2ec8);\n            \n        \n\n        marker_1ee1038a51f66503fdc26ecad374e4f6.bindPopup(popup_ac8508c10d1ed659f5c5d9f01829e40c)\n        ;\n\n        \n    \n    \n            var marker_41e7ff830cec730a1a481d2fc1e2476a = L.marker(\n                [28.56230197, -80.57735648],\n                {}\n            ).addTo(marker_cluster_0504ff2e50b9ff81059249bf9abde0fb);\n        \n    \n            var icon_74149b386c402f28b4920a07ad11deee = L.AwesomeMarkers.icon(\n                {&quot;extraClasses&quot;: &quot;fa-rotate-0&quot;, &quot;icon&quot;: &quot;info-sign&quot;, &quot;iconColor&quot;: &quot;green&quot;, &quot;markerColor&quot;: &quot;white&quot;, &quot;prefix&quot;: &quot;glyphicon&quot;}\n            );\n            marker_41e7ff830cec730a1a481d2fc1e2476a.setIcon(icon_74149b386c402f28b4920a07ad11deee);\n        \n    \n        var popup_ac85e4d2a33750eeb818c612b1708b61 = L.popup({&quot;maxWidth&quot;: &quot;100%&quot;});\n\n        \n            \n                var html_f48cfebf7f95486ca7d40b43722510f7 = $(`&lt;div id=&quot;html_f48cfebf7f95486ca7d40b43722510f7&quot; style=&quot;width: 100.0%; height: 100.0%;&quot;&gt;CCAFS LC-40&lt;/div&gt;`)[0];\n                popup_ac85e4d2a33750eeb818c612b1708b61.setContent(html_f48cfebf7f95486ca7d40b43722510f7);\n            \n        \n\n        marker_41e7ff830cec730a1a481d2fc1e2476a.bindPopup(popup_ac85e4d2a33750eeb818c612b1708b61)\n        ;\n\n        \n    \n    \n            var marker_3010e44a59b713caba8a2a12a4dc6bfa = L.marker(\n                [28.56230197, -80.57735648],\n                {}\n            ).addTo(marker_cluster_0504ff2e50b9ff81059249bf9abde0fb);\n        \n    \n            var icon_292784890fa7f6723f726efacec37704 = L.AwesomeMarkers.icon(\n                {&quot;extraClasses&quot;: &quot;fa-rotate-0&quot;, &quot;icon&quot;: &quot;info-sign&quot;, &quot;iconColor&quot;: &quot;green&quot;, &quot;markerColor&quot;: &quot;white&quot;, &quot;prefix&quot;: &quot;glyphicon&quot;}\n            );\n            marker_3010e44a59b713caba8a2a12a4dc6bfa.setIcon(icon_292784890fa7f6723f726efacec37704);\n        \n    \n        var popup_110cdf3d701f2bd554db18b07b38e5cb = L.popup({&quot;maxWidth&quot;: &quot;100%&quot;});\n\n        \n            \n                var html_047bb7100f4ae7ab04f8e229c4ef830a = $(`&lt;div id=&quot;html_047bb7100f4ae7ab04f8e229c4ef830a&quot; style=&quot;width: 100.0%; height: 100.0%;&quot;&gt;CCAFS LC-40&lt;/div&gt;`)[0];\n                popup_110cdf3d701f2bd554db18b07b38e5cb.setContent(html_047bb7100f4ae7ab04f8e229c4ef830a);\n            \n        \n\n        marker_3010e44a59b713caba8a2a12a4dc6bfa.bindPopup(popup_110cdf3d701f2bd554db18b07b38e5cb)\n        ;\n\n        \n    \n    \n            var marker_bf94580220f2c19c68b3a99767c764a7 = L.marker(\n                [34.63283416, -120.6107455],\n                {}\n            ).addTo(marker_cluster_0504ff2e50b9ff81059249bf9abde0fb);\n        \n    \n            var icon_b074208082b6af3faecaf7dfd467dcf3 = L.AwesomeMarkers.icon(\n                {&quot;extraClasses&quot;: &quot;fa-rotate-0&quot;, &quot;icon&quot;: &quot;info-sign&quot;, &quot;iconColor&quot;: &quot;red&quot;, &quot;markerColor&quot;: &quot;white&quot;, &quot;prefix&quot;: &quot;glyphicon&quot;}\n            );\n            marker_bf94580220f2c19c68b3a99767c764a7.setIcon(icon_b074208082b6af3faecaf7dfd467dcf3);\n        \n    \n        var popup_d99e4aa518a74ea48b8cb0ffdb32d8f3 = L.popup({&quot;maxWidth&quot;: &quot;100%&quot;});\n\n        \n            \n                var html_6f87305a418de8f5b9f36b4fc34d5182 = $(`&lt;div id=&quot;html_6f87305a418de8f5b9f36b4fc34d5182&quot; style=&quot;width: 100.0%; height: 100.0%;&quot;&gt;VAFB SLC-4E&lt;/div&gt;`)[0];\n                popup_d99e4aa518a74ea48b8cb0ffdb32d8f3.setContent(html_6f87305a418de8f5b9f36b4fc34d5182);\n            \n        \n\n        marker_bf94580220f2c19c68b3a99767c764a7.bindPopup(popup_d99e4aa518a74ea48b8cb0ffdb32d8f3)\n        ;\n\n        \n    \n    \n            var marker_471db8fe5c086f6b5a7e43c6f2a43bb8 = L.marker(\n                [34.63283416, -120.6107455],\n                {}\n            ).addTo(marker_cluster_0504ff2e50b9ff81059249bf9abde0fb);\n        \n    \n            var icon_3028bed7997667d574e75ffaa4ff715e = L.AwesomeMarkers.icon(\n                {&quot;extraClasses&quot;: &quot;fa-rotate-0&quot;, &quot;icon&quot;: &quot;info-sign&quot;, &quot;iconColor&quot;: &quot;red&quot;, &quot;markerColor&quot;: &quot;white&quot;, &quot;prefix&quot;: &quot;glyphicon&quot;}\n            );\n            marker_471db8fe5c086f6b5a7e43c6f2a43bb8.setIcon(icon_3028bed7997667d574e75ffaa4ff715e);\n        \n    \n        var popup_7870c56e9a13aa5a6d9368f3bfb8108a = L.popup({&quot;maxWidth&quot;: &quot;100%&quot;});\n\n        \n            \n                var html_630fd8c7313fc0a9ed047218e2d35495 = $(`&lt;div id=&quot;html_630fd8c7313fc0a9ed047218e2d35495&quot; style=&quot;width: 100.0%; height: 100.0%;&quot;&gt;VAFB SLC-4E&lt;/div&gt;`)[0];\n                popup_7870c56e9a13aa5a6d9368f3bfb8108a.setContent(html_630fd8c7313fc0a9ed047218e2d35495);\n            \n        \n\n        marker_471db8fe5c086f6b5a7e43c6f2a43bb8.bindPopup(popup_7870c56e9a13aa5a6d9368f3bfb8108a)\n        ;\n\n        \n    \n    \n            var marker_8e3f53dec10ecc8512a8eb450d6212d8 = L.marker(\n                [34.63283416, -120.6107455],\n                {}\n            ).addTo(marker_cluster_0504ff2e50b9ff81059249bf9abde0fb);\n        \n    \n            var icon_22d6abeef8dcc1168129c9c3afe34e7a = L.AwesomeMarkers.icon(\n                {&quot;extraClasses&quot;: &quot;fa-rotate-0&quot;, &quot;icon&quot;: &quot;info-sign&quot;, &quot;iconColor&quot;: &quot;green&quot;, &quot;markerColor&quot;: &quot;white&quot;, &quot;prefix&quot;: &quot;glyphicon&quot;}\n            );\n            marker_8e3f53dec10ecc8512a8eb450d6212d8.setIcon(icon_22d6abeef8dcc1168129c9c3afe34e7a);\n        \n    \n        var popup_341ddef18074158e4715c8febc1dc170 = L.popup({&quot;maxWidth&quot;: &quot;100%&quot;});\n\n        \n            \n                var html_54add54061509cb6a357f256b823459f = $(`&lt;div id=&quot;html_54add54061509cb6a357f256b823459f&quot; style=&quot;width: 100.0%; height: 100.0%;&quot;&gt;VAFB SLC-4E&lt;/div&gt;`)[0];\n                popup_341ddef18074158e4715c8febc1dc170.setContent(html_54add54061509cb6a357f256b823459f);\n            \n        \n\n        marker_8e3f53dec10ecc8512a8eb450d6212d8.bindPopup(popup_341ddef18074158e4715c8febc1dc170)\n        ;\n\n        \n    \n    \n            var marker_2b8511340374fce2dff0290a125450a6 = L.marker(\n                [34.63283416, -120.6107455],\n                {}\n            ).addTo(marker_cluster_0504ff2e50b9ff81059249bf9abde0fb);\n        \n    \n            var icon_f201cedae17d3b279f45bd654e126986 = L.AwesomeMarkers.icon(\n                {&quot;extraClasses&quot;: &quot;fa-rotate-0&quot;, &quot;icon&quot;: &quot;info-sign&quot;, &quot;iconColor&quot;: &quot;green&quot;, &quot;markerColor&quot;: &quot;white&quot;, &quot;prefix&quot;: &quot;glyphicon&quot;}\n            );\n            marker_2b8511340374fce2dff0290a125450a6.setIcon(icon_f201cedae17d3b279f45bd654e126986);\n        \n    \n        var popup_900e33db5668e87af66f3487a0bdbb22 = L.popup({&quot;maxWidth&quot;: &quot;100%&quot;});\n\n        \n            \n                var html_c97a21fe05603d3583a9e96f2c1c2c3a = $(`&lt;div id=&quot;html_c97a21fe05603d3583a9e96f2c1c2c3a&quot; style=&quot;width: 100.0%; height: 100.0%;&quot;&gt;VAFB SLC-4E&lt;/div&gt;`)[0];\n                popup_900e33db5668e87af66f3487a0bdbb22.setContent(html_c97a21fe05603d3583a9e96f2c1c2c3a);\n            \n        \n\n        marker_2b8511340374fce2dff0290a125450a6.bindPopup(popup_900e33db5668e87af66f3487a0bdbb22)\n        ;\n\n        \n    \n    \n            var marker_974905869ee39201477053667c8ca0c4 = L.marker(\n                [34.63283416, -120.6107455],\n                {}\n            ).addTo(marker_cluster_0504ff2e50b9ff81059249bf9abde0fb);\n        \n    \n            var icon_89eb8f6f38617d1b73adc7e48e5d181d = L.AwesomeMarkers.icon(\n                {&quot;extraClasses&quot;: &quot;fa-rotate-0&quot;, &quot;icon&quot;: &quot;info-sign&quot;, &quot;iconColor&quot;: &quot;green&quot;, &quot;markerColor&quot;: &quot;white&quot;, &quot;prefix&quot;: &quot;glyphicon&quot;}\n            );\n            marker_974905869ee39201477053667c8ca0c4.setIcon(icon_89eb8f6f38617d1b73adc7e48e5d181d);\n        \n    \n        var popup_c4543f7d1344d52437e91af01ae6b155 = L.popup({&quot;maxWidth&quot;: &quot;100%&quot;});\n\n        \n            \n                var html_de1de7989b28e34ab46f75801e2d8d9d = $(`&lt;div id=&quot;html_de1de7989b28e34ab46f75801e2d8d9d&quot; style=&quot;width: 100.0%; height: 100.0%;&quot;&gt;VAFB SLC-4E&lt;/div&gt;`)[0];\n                popup_c4543f7d1344d52437e91af01ae6b155.setContent(html_de1de7989b28e34ab46f75801e2d8d9d);\n            \n        \n\n        marker_974905869ee39201477053667c8ca0c4.bindPopup(popup_c4543f7d1344d52437e91af01ae6b155)\n        ;\n\n        \n    \n    \n            var marker_023e187e1349b1973a99a9f3b00c23a9 = L.marker(\n                [34.63283416, -120.6107455],\n                {}\n            ).addTo(marker_cluster_0504ff2e50b9ff81059249bf9abde0fb);\n        \n    \n            var icon_9a672ece5df20053efe51aaed1bd92f7 = L.AwesomeMarkers.icon(\n                {&quot;extraClasses&quot;: &quot;fa-rotate-0&quot;, &quot;icon&quot;: &quot;info-sign&quot;, &quot;iconColor&quot;: &quot;green&quot;, &quot;markerColor&quot;: &quot;white&quot;, &quot;prefix&quot;: &quot;glyphicon&quot;}\n            );\n            marker_023e187e1349b1973a99a9f3b00c23a9.setIcon(icon_9a672ece5df20053efe51aaed1bd92f7);\n        \n    \n        var popup_fc796c393c74761441544a8dbec477ff = L.popup({&quot;maxWidth&quot;: &quot;100%&quot;});\n\n        \n            \n                var html_20f043633f1103c5d4445ec3f5a961ec = $(`&lt;div id=&quot;html_20f043633f1103c5d4445ec3f5a961ec&quot; style=&quot;width: 100.0%; height: 100.0%;&quot;&gt;VAFB SLC-4E&lt;/div&gt;`)[0];\n                popup_fc796c393c74761441544a8dbec477ff.setContent(html_20f043633f1103c5d4445ec3f5a961ec);\n            \n        \n\n        marker_023e187e1349b1973a99a9f3b00c23a9.bindPopup(popup_fc796c393c74761441544a8dbec477ff)\n        ;\n\n        \n    \n    \n            var marker_b9b52bdc2a395b347e26a66891f85f77 = L.marker(\n                [34.63283416, -120.6107455],\n                {}\n            ).addTo(marker_cluster_0504ff2e50b9ff81059249bf9abde0fb);\n        \n    \n            var icon_eb02d0207e3c6347127683a89d763037 = L.AwesomeMarkers.icon(\n                {&quot;extraClasses&quot;: &quot;fa-rotate-0&quot;, &quot;icon&quot;: &quot;info-sign&quot;, &quot;iconColor&quot;: &quot;red&quot;, &quot;markerColor&quot;: &quot;white&quot;, &quot;prefix&quot;: &quot;glyphicon&quot;}\n            );\n            marker_b9b52bdc2a395b347e26a66891f85f77.setIcon(icon_eb02d0207e3c6347127683a89d763037);\n        \n    \n        var popup_03566b5ca38d74a830ea9b44deca3572 = L.popup({&quot;maxWidth&quot;: &quot;100%&quot;});\n\n        \n            \n                var html_866073d4c7a6a148da41c80aad059c98 = $(`&lt;div id=&quot;html_866073d4c7a6a148da41c80aad059c98&quot; style=&quot;width: 100.0%; height: 100.0%;&quot;&gt;VAFB SLC-4E&lt;/div&gt;`)[0];\n                popup_03566b5ca38d74a830ea9b44deca3572.setContent(html_866073d4c7a6a148da41c80aad059c98);\n            \n        \n\n        marker_b9b52bdc2a395b347e26a66891f85f77.bindPopup(popup_03566b5ca38d74a830ea9b44deca3572)\n        ;\n\n        \n    \n    \n            var marker_5420797a3c80f66320e71c8fd5a34dd5 = L.marker(\n                [34.63283416, -120.6107455],\n                {}\n            ).addTo(marker_cluster_0504ff2e50b9ff81059249bf9abde0fb);\n        \n    \n            var icon_7280294331d70192df616853b4eeab63 = L.AwesomeMarkers.icon(\n                {&quot;extraClasses&quot;: &quot;fa-rotate-0&quot;, &quot;icon&quot;: &quot;info-sign&quot;, &quot;iconColor&quot;: &quot;red&quot;, &quot;markerColor&quot;: &quot;white&quot;, &quot;prefix&quot;: &quot;glyphicon&quot;}\n            );\n            marker_5420797a3c80f66320e71c8fd5a34dd5.setIcon(icon_7280294331d70192df616853b4eeab63);\n        \n    \n        var popup_e3fe52d8c4ebf308c4da23991e0b6ebf = L.popup({&quot;maxWidth&quot;: &quot;100%&quot;});\n\n        \n            \n                var html_a5540658d43b001253fc5a05a50a9df4 = $(`&lt;div id=&quot;html_a5540658d43b001253fc5a05a50a9df4&quot; style=&quot;width: 100.0%; height: 100.0%;&quot;&gt;VAFB SLC-4E&lt;/div&gt;`)[0];\n                popup_e3fe52d8c4ebf308c4da23991e0b6ebf.setContent(html_a5540658d43b001253fc5a05a50a9df4);\n            \n        \n\n        marker_5420797a3c80f66320e71c8fd5a34dd5.bindPopup(popup_e3fe52d8c4ebf308c4da23991e0b6ebf)\n        ;\n\n        \n    \n    \n            var marker_cb4810b64a28a4619bc84b1f1620874e = L.marker(\n                [34.63283416, -120.6107455],\n                {}\n            ).addTo(marker_cluster_0504ff2e50b9ff81059249bf9abde0fb);\n        \n    \n            var icon_8ba7f5a3b3331254ee0bd9ec2ef52ef6 = L.AwesomeMarkers.icon(\n                {&quot;extraClasses&quot;: &quot;fa-rotate-0&quot;, &quot;icon&quot;: &quot;info-sign&quot;, &quot;iconColor&quot;: &quot;red&quot;, &quot;markerColor&quot;: &quot;white&quot;, &quot;prefix&quot;: &quot;glyphicon&quot;}\n            );\n            marker_cb4810b64a28a4619bc84b1f1620874e.setIcon(icon_8ba7f5a3b3331254ee0bd9ec2ef52ef6);\n        \n    \n        var popup_57f5d39a0c89ca8c2dede9b32f27d153 = L.popup({&quot;maxWidth&quot;: &quot;100%&quot;});\n\n        \n            \n                var html_7f542266cbade624710cf7db325c6684 = $(`&lt;div id=&quot;html_7f542266cbade624710cf7db325c6684&quot; style=&quot;width: 100.0%; height: 100.0%;&quot;&gt;VAFB SLC-4E&lt;/div&gt;`)[0];\n                popup_57f5d39a0c89ca8c2dede9b32f27d153.setContent(html_7f542266cbade624710cf7db325c6684);\n            \n        \n\n        marker_cb4810b64a28a4619bc84b1f1620874e.bindPopup(popup_57f5d39a0c89ca8c2dede9b32f27d153)\n        ;\n\n        \n    \n    \n            var marker_9ee16915d6e0e5c5c4874cea59962570 = L.marker(\n                [34.63283416, -120.6107455],\n                {}\n            ).addTo(marker_cluster_0504ff2e50b9ff81059249bf9abde0fb);\n        \n    \n            var icon_a60a51ca70823964f4aaf02a60eb707c = L.AwesomeMarkers.icon(\n                {&quot;extraClasses&quot;: &quot;fa-rotate-0&quot;, &quot;icon&quot;: &quot;info-sign&quot;, &quot;iconColor&quot;: &quot;red&quot;, &quot;markerColor&quot;: &quot;white&quot;, &quot;prefix&quot;: &quot;glyphicon&quot;}\n            );\n            marker_9ee16915d6e0e5c5c4874cea59962570.setIcon(icon_a60a51ca70823964f4aaf02a60eb707c);\n        \n    \n        var popup_99fb7a138540da775cbf49c432fa8865 = L.popup({&quot;maxWidth&quot;: &quot;100%&quot;});\n\n        \n            \n                var html_2770951c92a1de96cc04eff8776255f2 = $(`&lt;div id=&quot;html_2770951c92a1de96cc04eff8776255f2&quot; style=&quot;width: 100.0%; height: 100.0%;&quot;&gt;VAFB SLC-4E&lt;/div&gt;`)[0];\n                popup_99fb7a138540da775cbf49c432fa8865.setContent(html_2770951c92a1de96cc04eff8776255f2);\n            \n        \n\n        marker_9ee16915d6e0e5c5c4874cea59962570.bindPopup(popup_99fb7a138540da775cbf49c432fa8865)\n        ;\n\n        \n    \n    \n            var marker_e0354a5b44916691254d477b75c2a558 = L.marker(\n                [28.57325457, -80.64689529],\n                {}\n            ).addTo(marker_cluster_0504ff2e50b9ff81059249bf9abde0fb);\n        \n    \n            var icon_3d1bb3b4db79f87dea3277969c78d46e = L.AwesomeMarkers.icon(\n                {&quot;extraClasses&quot;: &quot;fa-rotate-0&quot;, &quot;icon&quot;: &quot;info-sign&quot;, &quot;iconColor&quot;: &quot;green&quot;, &quot;markerColor&quot;: &quot;white&quot;, &quot;prefix&quot;: &quot;glyphicon&quot;}\n            );\n            marker_e0354a5b44916691254d477b75c2a558.setIcon(icon_3d1bb3b4db79f87dea3277969c78d46e);\n        \n    \n        var popup_5d4938181d3150f14f632170cef239ed = L.popup({&quot;maxWidth&quot;: &quot;100%&quot;});\n\n        \n            \n                var html_0b0cdf172f20d3748235c7e0484aa165 = $(`&lt;div id=&quot;html_0b0cdf172f20d3748235c7e0484aa165&quot; style=&quot;width: 100.0%; height: 100.0%;&quot;&gt;KSC LC-39A&lt;/div&gt;`)[0];\n                popup_5d4938181d3150f14f632170cef239ed.setContent(html_0b0cdf172f20d3748235c7e0484aa165);\n            \n        \n\n        marker_e0354a5b44916691254d477b75c2a558.bindPopup(popup_5d4938181d3150f14f632170cef239ed)\n        ;\n\n        \n    \n    \n            var marker_61bbfbae1de8c0472fc453d5fedc7ad1 = L.marker(\n                [28.57325457, -80.64689529],\n                {}\n            ).addTo(marker_cluster_0504ff2e50b9ff81059249bf9abde0fb);\n        \n    \n            var icon_5727387109a807c8be3befb21d5c6b3b = L.AwesomeMarkers.icon(\n                {&quot;extraClasses&quot;: &quot;fa-rotate-0&quot;, &quot;icon&quot;: &quot;info-sign&quot;, &quot;iconColor&quot;: &quot;red&quot;, &quot;markerColor&quot;: &quot;white&quot;, &quot;prefix&quot;: &quot;glyphicon&quot;}\n            );\n            marker_61bbfbae1de8c0472fc453d5fedc7ad1.setIcon(icon_5727387109a807c8be3befb21d5c6b3b);\n        \n    \n        var popup_334672831e96dd6f2bb9c04ea8a87887 = L.popup({&quot;maxWidth&quot;: &quot;100%&quot;});\n\n        \n            \n                var html_13162e4e663a860da1e20f574453bd75 = $(`&lt;div id=&quot;html_13162e4e663a860da1e20f574453bd75&quot; style=&quot;width: 100.0%; height: 100.0%;&quot;&gt;KSC LC-39A&lt;/div&gt;`)[0];\n                popup_334672831e96dd6f2bb9c04ea8a87887.setContent(html_13162e4e663a860da1e20f574453bd75);\n            \n        \n\n        marker_61bbfbae1de8c0472fc453d5fedc7ad1.bindPopup(popup_334672831e96dd6f2bb9c04ea8a87887)\n        ;\n\n        \n    \n    \n            var marker_ffb3cf7dcc8fd941c7a161af68d44537 = L.marker(\n                [28.57325457, -80.64689529],\n                {}\n            ).addTo(marker_cluster_0504ff2e50b9ff81059249bf9abde0fb);\n        \n    \n            var icon_007d59d02d45e4e62e7bffa8660f99c4 = L.AwesomeMarkers.icon(\n                {&quot;extraClasses&quot;: &quot;fa-rotate-0&quot;, &quot;icon&quot;: &quot;info-sign&quot;, &quot;iconColor&quot;: &quot;green&quot;, &quot;markerColor&quot;: &quot;white&quot;, &quot;prefix&quot;: &quot;glyphicon&quot;}\n            );\n            marker_ffb3cf7dcc8fd941c7a161af68d44537.setIcon(icon_007d59d02d45e4e62e7bffa8660f99c4);\n        \n    \n        var popup_806e065f3ad679c3aba94adb6145c691 = L.popup({&quot;maxWidth&quot;: &quot;100%&quot;});\n\n        \n            \n                var html_7f2ec2d602a75b1c6ec6ff0e6c8c3c4c = $(`&lt;div id=&quot;html_7f2ec2d602a75b1c6ec6ff0e6c8c3c4c&quot; style=&quot;width: 100.0%; height: 100.0%;&quot;&gt;KSC LC-39A&lt;/div&gt;`)[0];\n                popup_806e065f3ad679c3aba94adb6145c691.setContent(html_7f2ec2d602a75b1c6ec6ff0e6c8c3c4c);\n            \n        \n\n        marker_ffb3cf7dcc8fd941c7a161af68d44537.bindPopup(popup_806e065f3ad679c3aba94adb6145c691)\n        ;\n\n        \n    \n    \n            var marker_d212ec764984cc919ed409daf8add62d = L.marker(\n                [28.57325457, -80.64689529],\n                {}\n            ).addTo(marker_cluster_0504ff2e50b9ff81059249bf9abde0fb);\n        \n    \n            var icon_e02449ab57e3d6ab79699b3592bd89f1 = L.AwesomeMarkers.icon(\n                {&quot;extraClasses&quot;: &quot;fa-rotate-0&quot;, &quot;icon&quot;: &quot;info-sign&quot;, &quot;iconColor&quot;: &quot;green&quot;, &quot;markerColor&quot;: &quot;white&quot;, &quot;prefix&quot;: &quot;glyphicon&quot;}\n            );\n            marker_d212ec764984cc919ed409daf8add62d.setIcon(icon_e02449ab57e3d6ab79699b3592bd89f1);\n        \n    \n        var popup_bbf9fc80c3b96f32a3e6cf29daf4732c = L.popup({&quot;maxWidth&quot;: &quot;100%&quot;});\n\n        \n            \n                var html_9cd3af6d17200e86dea3d312a90ece9d = $(`&lt;div id=&quot;html_9cd3af6d17200e86dea3d312a90ece9d&quot; style=&quot;width: 100.0%; height: 100.0%;&quot;&gt;KSC LC-39A&lt;/div&gt;`)[0];\n                popup_bbf9fc80c3b96f32a3e6cf29daf4732c.setContent(html_9cd3af6d17200e86dea3d312a90ece9d);\n            \n        \n\n        marker_d212ec764984cc919ed409daf8add62d.bindPopup(popup_bbf9fc80c3b96f32a3e6cf29daf4732c)\n        ;\n\n        \n    \n    \n            var marker_306c9b1d7bcd88aa278d22068ef92ff3 = L.marker(\n                [28.57325457, -80.64689529],\n                {}\n            ).addTo(marker_cluster_0504ff2e50b9ff81059249bf9abde0fb);\n        \n    \n            var icon_cff7e3828ddb4cd51a902f69cdd18d05 = L.AwesomeMarkers.icon(\n                {&quot;extraClasses&quot;: &quot;fa-rotate-0&quot;, &quot;icon&quot;: &quot;info-sign&quot;, &quot;iconColor&quot;: &quot;red&quot;, &quot;markerColor&quot;: &quot;white&quot;, &quot;prefix&quot;: &quot;glyphicon&quot;}\n            );\n            marker_306c9b1d7bcd88aa278d22068ef92ff3.setIcon(icon_cff7e3828ddb4cd51a902f69cdd18d05);\n        \n    \n        var popup_38241c235ab4111e9219b7a825ecf110 = L.popup({&quot;maxWidth&quot;: &quot;100%&quot;});\n\n        \n            \n                var html_49f963bb9c363e598610a9dff31b43b2 = $(`&lt;div id=&quot;html_49f963bb9c363e598610a9dff31b43b2&quot; style=&quot;width: 100.0%; height: 100.0%;&quot;&gt;KSC LC-39A&lt;/div&gt;`)[0];\n                popup_38241c235ab4111e9219b7a825ecf110.setContent(html_49f963bb9c363e598610a9dff31b43b2);\n            \n        \n\n        marker_306c9b1d7bcd88aa278d22068ef92ff3.bindPopup(popup_38241c235ab4111e9219b7a825ecf110)\n        ;\n\n        \n    \n    \n            var marker_f7a0304422a8646a3497259a762b24d6 = L.marker(\n                [28.57325457, -80.64689529],\n                {}\n            ).addTo(marker_cluster_0504ff2e50b9ff81059249bf9abde0fb);\n        \n    \n            var icon_2dbd97181ff56f2ad2bde99b3a7daaf2 = L.AwesomeMarkers.icon(\n                {&quot;extraClasses&quot;: &quot;fa-rotate-0&quot;, &quot;icon&quot;: &quot;info-sign&quot;, &quot;iconColor&quot;: &quot;green&quot;, &quot;markerColor&quot;: &quot;white&quot;, &quot;prefix&quot;: &quot;glyphicon&quot;}\n            );\n            marker_f7a0304422a8646a3497259a762b24d6.setIcon(icon_2dbd97181ff56f2ad2bde99b3a7daaf2);\n        \n    \n        var popup_f2c1ecfe9ab7d4e672af92c7808d6330 = L.popup({&quot;maxWidth&quot;: &quot;100%&quot;});\n\n        \n            \n                var html_7939413510f2447d2b7a132c1c95395e = $(`&lt;div id=&quot;html_7939413510f2447d2b7a132c1c95395e&quot; style=&quot;width: 100.0%; height: 100.0%;&quot;&gt;KSC LC-39A&lt;/div&gt;`)[0];\n                popup_f2c1ecfe9ab7d4e672af92c7808d6330.setContent(html_7939413510f2447d2b7a132c1c95395e);\n            \n        \n\n        marker_f7a0304422a8646a3497259a762b24d6.bindPopup(popup_f2c1ecfe9ab7d4e672af92c7808d6330)\n        ;\n\n        \n    \n    \n            var marker_35ef4e2e2a93896f31b78a018fa4f773 = L.marker(\n                [28.57325457, -80.64689529],\n                {}\n            ).addTo(marker_cluster_0504ff2e50b9ff81059249bf9abde0fb);\n        \n    \n            var icon_03fe0551782ae84049d6cc0cc6ef4104 = L.AwesomeMarkers.icon(\n                {&quot;extraClasses&quot;: &quot;fa-rotate-0&quot;, &quot;icon&quot;: &quot;info-sign&quot;, &quot;iconColor&quot;: &quot;green&quot;, &quot;markerColor&quot;: &quot;white&quot;, &quot;prefix&quot;: &quot;glyphicon&quot;}\n            );\n            marker_35ef4e2e2a93896f31b78a018fa4f773.setIcon(icon_03fe0551782ae84049d6cc0cc6ef4104);\n        \n    \n        var popup_668d23d192616d6830198c0a346c1302 = L.popup({&quot;maxWidth&quot;: &quot;100%&quot;});\n\n        \n            \n                var html_8e7afc658bd3f3071361daf2df758124 = $(`&lt;div id=&quot;html_8e7afc658bd3f3071361daf2df758124&quot; style=&quot;width: 100.0%; height: 100.0%;&quot;&gt;KSC LC-39A&lt;/div&gt;`)[0];\n                popup_668d23d192616d6830198c0a346c1302.setContent(html_8e7afc658bd3f3071361daf2df758124);\n            \n        \n\n        marker_35ef4e2e2a93896f31b78a018fa4f773.bindPopup(popup_668d23d192616d6830198c0a346c1302)\n        ;\n\n        \n    \n    \n            var marker_5897bcce464530376cfd75d27a526a1d = L.marker(\n                [28.57325457, -80.64689529],\n                {}\n            ).addTo(marker_cluster_0504ff2e50b9ff81059249bf9abde0fb);\n        \n    \n            var icon_f0de38b680af77f450ffa638f51b9046 = L.AwesomeMarkers.icon(\n                {&quot;extraClasses&quot;: &quot;fa-rotate-0&quot;, &quot;icon&quot;: &quot;info-sign&quot;, &quot;iconColor&quot;: &quot;red&quot;, &quot;markerColor&quot;: &quot;white&quot;, &quot;prefix&quot;: &quot;glyphicon&quot;}\n            );\n            marker_5897bcce464530376cfd75d27a526a1d.setIcon(icon_f0de38b680af77f450ffa638f51b9046);\n        \n    \n        var popup_e68239fd9eabad074de060273a731d76 = L.popup({&quot;maxWidth&quot;: &quot;100%&quot;});\n\n        \n            \n                var html_b345ee91206beaae4624d5dddbc0e726 = $(`&lt;div id=&quot;html_b345ee91206beaae4624d5dddbc0e726&quot; style=&quot;width: 100.0%; height: 100.0%;&quot;&gt;KSC LC-39A&lt;/div&gt;`)[0];\n                popup_e68239fd9eabad074de060273a731d76.setContent(html_b345ee91206beaae4624d5dddbc0e726);\n            \n        \n\n        marker_5897bcce464530376cfd75d27a526a1d.bindPopup(popup_e68239fd9eabad074de060273a731d76)\n        ;\n\n        \n    \n    \n            var marker_073c37564404baa9c5c7d1092f3fddfe = L.marker(\n                [28.57325457, -80.64689529],\n                {}\n            ).addTo(marker_cluster_0504ff2e50b9ff81059249bf9abde0fb);\n        \n    \n            var icon_205ce0236c016b4cd8000cd6658a4c5c = L.AwesomeMarkers.icon(\n                {&quot;extraClasses&quot;: &quot;fa-rotate-0&quot;, &quot;icon&quot;: &quot;info-sign&quot;, &quot;iconColor&quot;: &quot;green&quot;, &quot;markerColor&quot;: &quot;white&quot;, &quot;prefix&quot;: &quot;glyphicon&quot;}\n            );\n            marker_073c37564404baa9c5c7d1092f3fddfe.setIcon(icon_205ce0236c016b4cd8000cd6658a4c5c);\n        \n    \n        var popup_fb357a7586c7c3cc0314028ab7c8e34a = L.popup({&quot;maxWidth&quot;: &quot;100%&quot;});\n\n        \n            \n                var html_dbc7b828894545caf7427a83c01ba364 = $(`&lt;div id=&quot;html_dbc7b828894545caf7427a83c01ba364&quot; style=&quot;width: 100.0%; height: 100.0%;&quot;&gt;KSC LC-39A&lt;/div&gt;`)[0];\n                popup_fb357a7586c7c3cc0314028ab7c8e34a.setContent(html_dbc7b828894545caf7427a83c01ba364);\n            \n        \n\n        marker_073c37564404baa9c5c7d1092f3fddfe.bindPopup(popup_fb357a7586c7c3cc0314028ab7c8e34a)\n        ;\n\n        \n    \n    \n            var marker_0edf5ee3fae2d91c1988370c73e3e25c = L.marker(\n                [28.57325457, -80.64689529],\n                {}\n            ).addTo(marker_cluster_0504ff2e50b9ff81059249bf9abde0fb);\n        \n    \n            var icon_dfad7609d74a2be8156a530a3409e6db = L.AwesomeMarkers.icon(\n                {&quot;extraClasses&quot;: &quot;fa-rotate-0&quot;, &quot;icon&quot;: &quot;info-sign&quot;, &quot;iconColor&quot;: &quot;green&quot;, &quot;markerColor&quot;: &quot;white&quot;, &quot;prefix&quot;: &quot;glyphicon&quot;}\n            );\n            marker_0edf5ee3fae2d91c1988370c73e3e25c.setIcon(icon_dfad7609d74a2be8156a530a3409e6db);\n        \n    \n        var popup_a3fa00df932c464760dd69edc777bf4f = L.popup({&quot;maxWidth&quot;: &quot;100%&quot;});\n\n        \n            \n                var html_a31aeff6d4d9722a70e830422a208a53 = $(`&lt;div id=&quot;html_a31aeff6d4d9722a70e830422a208a53&quot; style=&quot;width: 100.0%; height: 100.0%;&quot;&gt;KSC LC-39A&lt;/div&gt;`)[0];\n                popup_a3fa00df932c464760dd69edc777bf4f.setContent(html_a31aeff6d4d9722a70e830422a208a53);\n            \n        \n\n        marker_0edf5ee3fae2d91c1988370c73e3e25c.bindPopup(popup_a3fa00df932c464760dd69edc777bf4f)\n        ;\n\n        \n    \n    \n            var marker_df03d9c4a02b0a0f18a5292b046fc36c = L.marker(\n                [28.57325457, -80.64689529],\n                {}\n            ).addTo(marker_cluster_0504ff2e50b9ff81059249bf9abde0fb);\n        \n    \n            var icon_844bd8237cae6942283afe8511badf5d = L.AwesomeMarkers.icon(\n                {&quot;extraClasses&quot;: &quot;fa-rotate-0&quot;, &quot;icon&quot;: &quot;info-sign&quot;, &quot;iconColor&quot;: &quot;green&quot;, &quot;markerColor&quot;: &quot;white&quot;, &quot;prefix&quot;: &quot;glyphicon&quot;}\n            );\n            marker_df03d9c4a02b0a0f18a5292b046fc36c.setIcon(icon_844bd8237cae6942283afe8511badf5d);\n        \n    \n        var popup_7b8b0d2f5aee431d86e44aa02070f354 = L.popup({&quot;maxWidth&quot;: &quot;100%&quot;});\n\n        \n            \n                var html_688b409a1f5a89eacabdfc7227cb948a = $(`&lt;div id=&quot;html_688b409a1f5a89eacabdfc7227cb948a&quot; style=&quot;width: 100.0%; height: 100.0%;&quot;&gt;KSC LC-39A&lt;/div&gt;`)[0];\n                popup_7b8b0d2f5aee431d86e44aa02070f354.setContent(html_688b409a1f5a89eacabdfc7227cb948a);\n            \n        \n\n        marker_df03d9c4a02b0a0f18a5292b046fc36c.bindPopup(popup_7b8b0d2f5aee431d86e44aa02070f354)\n        ;\n\n        \n    \n    \n            var marker_a7d6bf7b098bfd0e267d2359adaa013e = L.marker(\n                [28.57325457, -80.64689529],\n                {}\n            ).addTo(marker_cluster_0504ff2e50b9ff81059249bf9abde0fb);\n        \n    \n            var icon_e884af2a79092b657534c31751994b21 = L.AwesomeMarkers.icon(\n                {&quot;extraClasses&quot;: &quot;fa-rotate-0&quot;, &quot;icon&quot;: &quot;info-sign&quot;, &quot;iconColor&quot;: &quot;green&quot;, &quot;markerColor&quot;: &quot;white&quot;, &quot;prefix&quot;: &quot;glyphicon&quot;}\n            );\n            marker_a7d6bf7b098bfd0e267d2359adaa013e.setIcon(icon_e884af2a79092b657534c31751994b21);\n        \n    \n        var popup_42ad25b8cf844fc577974214799f3e7a = L.popup({&quot;maxWidth&quot;: &quot;100%&quot;});\n\n        \n            \n                var html_c2e07168cf8f1f234ff419ab45b89075 = $(`&lt;div id=&quot;html_c2e07168cf8f1f234ff419ab45b89075&quot; style=&quot;width: 100.0%; height: 100.0%;&quot;&gt;KSC LC-39A&lt;/div&gt;`)[0];\n                popup_42ad25b8cf844fc577974214799f3e7a.setContent(html_c2e07168cf8f1f234ff419ab45b89075);\n            \n        \n\n        marker_a7d6bf7b098bfd0e267d2359adaa013e.bindPopup(popup_42ad25b8cf844fc577974214799f3e7a)\n        ;\n\n        \n    \n    \n            var marker_6aa6558c135df419ccd2a96af2b68ae2 = L.marker(\n                [28.57325457, -80.64689529],\n                {}\n            ).addTo(marker_cluster_0504ff2e50b9ff81059249bf9abde0fb);\n        \n    \n            var icon_f658d00a9ea428fd6975b61d209de6c8 = L.AwesomeMarkers.icon(\n                {&quot;extraClasses&quot;: &quot;fa-rotate-0&quot;, &quot;icon&quot;: &quot;info-sign&quot;, &quot;iconColor&quot;: &quot;green&quot;, &quot;markerColor&quot;: &quot;white&quot;, &quot;prefix&quot;: &quot;glyphicon&quot;}\n            );\n            marker_6aa6558c135df419ccd2a96af2b68ae2.setIcon(icon_f658d00a9ea428fd6975b61d209de6c8);\n        \n    \n        var popup_30a01818b07ebe672eff8a4cd286aea8 = L.popup({&quot;maxWidth&quot;: &quot;100%&quot;});\n\n        \n            \n                var html_43a7ca168e96c485b2b80700d2a6314e = $(`&lt;div id=&quot;html_43a7ca168e96c485b2b80700d2a6314e&quot; style=&quot;width: 100.0%; height: 100.0%;&quot;&gt;KSC LC-39A&lt;/div&gt;`)[0];\n                popup_30a01818b07ebe672eff8a4cd286aea8.setContent(html_43a7ca168e96c485b2b80700d2a6314e);\n            \n        \n\n        marker_6aa6558c135df419ccd2a96af2b68ae2.bindPopup(popup_30a01818b07ebe672eff8a4cd286aea8)\n        ;\n\n        \n    \n    \n            var marker_2f9bcc945d7d12f200c0ec09aef32654 = L.marker(\n                [28.56319718, -80.57682003],\n                {}\n            ).addTo(marker_cluster_0504ff2e50b9ff81059249bf9abde0fb);\n        \n    \n            var icon_3797c1b291ce02b1038fc3e36939a831 = L.AwesomeMarkers.icon(\n                {&quot;extraClasses&quot;: &quot;fa-rotate-0&quot;, &quot;icon&quot;: &quot;info-sign&quot;, &quot;iconColor&quot;: &quot;green&quot;, &quot;markerColor&quot;: &quot;white&quot;, &quot;prefix&quot;: &quot;glyphicon&quot;}\n            );\n            marker_2f9bcc945d7d12f200c0ec09aef32654.setIcon(icon_3797c1b291ce02b1038fc3e36939a831);\n        \n    \n        var popup_d49915a286da777d5c85566fc9077a2c = L.popup({&quot;maxWidth&quot;: &quot;100%&quot;});\n\n        \n            \n                var html_9aa37b745358bf0cac70509e5dc00204 = $(`&lt;div id=&quot;html_9aa37b745358bf0cac70509e5dc00204&quot; style=&quot;width: 100.0%; height: 100.0%;&quot;&gt;CCAFS SLC-40&lt;/div&gt;`)[0];\n                popup_d49915a286da777d5c85566fc9077a2c.setContent(html_9aa37b745358bf0cac70509e5dc00204);\n            \n        \n\n        marker_2f9bcc945d7d12f200c0ec09aef32654.bindPopup(popup_d49915a286da777d5c85566fc9077a2c)\n        ;\n\n        \n    \n    \n            var marker_7ed79f662d171a6b5e20e63d368a47b5 = L.marker(\n                [28.56319718, -80.57682003],\n                {}\n            ).addTo(marker_cluster_0504ff2e50b9ff81059249bf9abde0fb);\n        \n    \n            var icon_39e8274342c887b0fd3e8390c2ecad6e = L.AwesomeMarkers.icon(\n                {&quot;extraClasses&quot;: &quot;fa-rotate-0&quot;, &quot;icon&quot;: &quot;info-sign&quot;, &quot;iconColor&quot;: &quot;green&quot;, &quot;markerColor&quot;: &quot;white&quot;, &quot;prefix&quot;: &quot;glyphicon&quot;}\n            );\n            marker_7ed79f662d171a6b5e20e63d368a47b5.setIcon(icon_39e8274342c887b0fd3e8390c2ecad6e);\n        \n    \n        var popup_44bfd8767c618cb150376f469ce649ed = L.popup({&quot;maxWidth&quot;: &quot;100%&quot;});\n\n        \n            \n                var html_784fb3ea69bcec8328c3f8fe8c01f285 = $(`&lt;div id=&quot;html_784fb3ea69bcec8328c3f8fe8c01f285&quot; style=&quot;width: 100.0%; height: 100.0%;&quot;&gt;CCAFS SLC-40&lt;/div&gt;`)[0];\n                popup_44bfd8767c618cb150376f469ce649ed.setContent(html_784fb3ea69bcec8328c3f8fe8c01f285);\n            \n        \n\n        marker_7ed79f662d171a6b5e20e63d368a47b5.bindPopup(popup_44bfd8767c618cb150376f469ce649ed)\n        ;\n\n        \n    \n    \n            var marker_ea1ab9b681a77935d136d78f32410452 = L.marker(\n                [28.56319718, -80.57682003],\n                {}\n            ).addTo(marker_cluster_0504ff2e50b9ff81059249bf9abde0fb);\n        \n    \n            var icon_1416fe27109318fd8bb1c51fdb16524d = L.AwesomeMarkers.icon(\n                {&quot;extraClasses&quot;: &quot;fa-rotate-0&quot;, &quot;icon&quot;: &quot;info-sign&quot;, &quot;iconColor&quot;: &quot;red&quot;, &quot;markerColor&quot;: &quot;white&quot;, &quot;prefix&quot;: &quot;glyphicon&quot;}\n            );\n            marker_ea1ab9b681a77935d136d78f32410452.setIcon(icon_1416fe27109318fd8bb1c51fdb16524d);\n        \n    \n        var popup_aa912c40a01caaf7d1e7d7418bba1cf5 = L.popup({&quot;maxWidth&quot;: &quot;100%&quot;});\n\n        \n            \n                var html_2a2d8525876194d8bb9ce7c2f8bda568 = $(`&lt;div id=&quot;html_2a2d8525876194d8bb9ce7c2f8bda568&quot; style=&quot;width: 100.0%; height: 100.0%;&quot;&gt;CCAFS SLC-40&lt;/div&gt;`)[0];\n                popup_aa912c40a01caaf7d1e7d7418bba1cf5.setContent(html_2a2d8525876194d8bb9ce7c2f8bda568);\n            \n        \n\n        marker_ea1ab9b681a77935d136d78f32410452.bindPopup(popup_aa912c40a01caaf7d1e7d7418bba1cf5)\n        ;\n\n        \n    \n    \n            var marker_c0c14b14249e51ecfbd9d886197f1aca = L.marker(\n                [28.56319718, -80.57682003],\n                {}\n            ).addTo(marker_cluster_0504ff2e50b9ff81059249bf9abde0fb);\n        \n    \n            var icon_9ebb8a39ac39eb5ca2f7b44f513ac717 = L.AwesomeMarkers.icon(\n                {&quot;extraClasses&quot;: &quot;fa-rotate-0&quot;, &quot;icon&quot;: &quot;info-sign&quot;, &quot;iconColor&quot;: &quot;red&quot;, &quot;markerColor&quot;: &quot;white&quot;, &quot;prefix&quot;: &quot;glyphicon&quot;}\n            );\n            marker_c0c14b14249e51ecfbd9d886197f1aca.setIcon(icon_9ebb8a39ac39eb5ca2f7b44f513ac717);\n        \n    \n        var popup_0e916059f37a472967a845cfa4ce0e2c = L.popup({&quot;maxWidth&quot;: &quot;100%&quot;});\n\n        \n            \n                var html_1abb3adb9cdf1cbdd4bbaed4a89e4862 = $(`&lt;div id=&quot;html_1abb3adb9cdf1cbdd4bbaed4a89e4862&quot; style=&quot;width: 100.0%; height: 100.0%;&quot;&gt;CCAFS SLC-40&lt;/div&gt;`)[0];\n                popup_0e916059f37a472967a845cfa4ce0e2c.setContent(html_1abb3adb9cdf1cbdd4bbaed4a89e4862);\n            \n        \n\n        marker_c0c14b14249e51ecfbd9d886197f1aca.bindPopup(popup_0e916059f37a472967a845cfa4ce0e2c)\n        ;\n\n        \n    \n    \n            var marker_c43efff3d5bde0f612533442a3fa15ce = L.marker(\n                [28.56319718, -80.57682003],\n                {}\n            ).addTo(marker_cluster_0504ff2e50b9ff81059249bf9abde0fb);\n        \n    \n            var icon_0a6665bccb3a30cea7694b065beb421b = L.AwesomeMarkers.icon(\n                {&quot;extraClasses&quot;: &quot;fa-rotate-0&quot;, &quot;icon&quot;: &quot;info-sign&quot;, &quot;iconColor&quot;: &quot;red&quot;, &quot;markerColor&quot;: &quot;white&quot;, &quot;prefix&quot;: &quot;glyphicon&quot;}\n            );\n            marker_c43efff3d5bde0f612533442a3fa15ce.setIcon(icon_0a6665bccb3a30cea7694b065beb421b);\n        \n    \n        var popup_3d2081b402599e651f8775750fc9e39b = L.popup({&quot;maxWidth&quot;: &quot;100%&quot;});\n\n        \n            \n                var html_6254c3ebaa267470347de5a428e2bea9 = $(`&lt;div id=&quot;html_6254c3ebaa267470347de5a428e2bea9&quot; style=&quot;width: 100.0%; height: 100.0%;&quot;&gt;CCAFS SLC-40&lt;/div&gt;`)[0];\n                popup_3d2081b402599e651f8775750fc9e39b.setContent(html_6254c3ebaa267470347de5a428e2bea9);\n            \n        \n\n        marker_c43efff3d5bde0f612533442a3fa15ce.bindPopup(popup_3d2081b402599e651f8775750fc9e39b)\n        ;\n\n        \n    \n    \n            var marker_5b715f47d0e9ad0d2285fb2f5ca345ef = L.marker(\n                [28.56319718, -80.57682003],\n                {}\n            ).addTo(marker_cluster_0504ff2e50b9ff81059249bf9abde0fb);\n        \n    \n            var icon_2bf1d111ebf5a6ae4dda564adacdc263 = L.AwesomeMarkers.icon(\n                {&quot;extraClasses&quot;: &quot;fa-rotate-0&quot;, &quot;icon&quot;: &quot;info-sign&quot;, &quot;iconColor&quot;: &quot;green&quot;, &quot;markerColor&quot;: &quot;white&quot;, &quot;prefix&quot;: &quot;glyphicon&quot;}\n            );\n            marker_5b715f47d0e9ad0d2285fb2f5ca345ef.setIcon(icon_2bf1d111ebf5a6ae4dda564adacdc263);\n        \n    \n        var popup_71e7b3fe75f39bbc663a594bd0295116 = L.popup({&quot;maxWidth&quot;: &quot;100%&quot;});\n\n        \n            \n                var html_1ce6a6f62021ee1d258406a197e224b9 = $(`&lt;div id=&quot;html_1ce6a6f62021ee1d258406a197e224b9&quot; style=&quot;width: 100.0%; height: 100.0%;&quot;&gt;CCAFS SLC-40&lt;/div&gt;`)[0];\n                popup_71e7b3fe75f39bbc663a594bd0295116.setContent(html_1ce6a6f62021ee1d258406a197e224b9);\n            \n        \n\n        marker_5b715f47d0e9ad0d2285fb2f5ca345ef.bindPopup(popup_71e7b3fe75f39bbc663a594bd0295116)\n        ;\n\n        \n    \n    \n            var marker_23de961327160889c2d9a569da63c520 = L.marker(\n                [28.56319718, -80.57682003],\n                {}\n            ).addTo(marker_cluster_0504ff2e50b9ff81059249bf9abde0fb);\n        \n    \n            var icon_761999362cd6eb59964c1e126594a63e = L.AwesomeMarkers.icon(\n                {&quot;extraClasses&quot;: &quot;fa-rotate-0&quot;, &quot;icon&quot;: &quot;info-sign&quot;, &quot;iconColor&quot;: &quot;red&quot;, &quot;markerColor&quot;: &quot;white&quot;, &quot;prefix&quot;: &quot;glyphicon&quot;}\n            );\n            marker_23de961327160889c2d9a569da63c520.setIcon(icon_761999362cd6eb59964c1e126594a63e);\n        \n    \n        var popup_9a1c049f8b027bc33fb430daa4534fac = L.popup({&quot;maxWidth&quot;: &quot;100%&quot;});\n\n        \n            \n                var html_6976790f761128ed3becba84cedd7447 = $(`&lt;div id=&quot;html_6976790f761128ed3becba84cedd7447&quot; style=&quot;width: 100.0%; height: 100.0%;&quot;&gt;CCAFS SLC-40&lt;/div&gt;`)[0];\n                popup_9a1c049f8b027bc33fb430daa4534fac.setContent(html_6976790f761128ed3becba84cedd7447);\n            \n        \n\n        marker_23de961327160889c2d9a569da63c520.bindPopup(popup_9a1c049f8b027bc33fb430daa4534fac)\n        ;\n\n        \n    \n    \n            marker_cluster_0504ff2e50b9ff81059249bf9abde0fb.addTo(map_8d3b6cf5b9ae068b02deec1419bcbb51);\n        \n&lt;/script&gt;\n&lt;/html&gt;\" style=\"position:absolute;width:100%;height:100%;left:0;top:0;border:none !important;\" allowfullscreen webkitallowfullscreen mozallowfullscreen></iframe></div></div>"
          },
          "metadata": {}
        }
      ],
      "execution_count": 13
    },
    {
      "cell_type": "markdown",
      "source": "Your updated map may look like the following screenshots:\n",
      "metadata": {}
    },
    {
      "cell_type": "markdown",
      "source": "<center>\n    <img src=\"https://cf-courses-data.s3.us.cloud-object-storage.appdomain.cloud/IBM-DS0321EN-SkillsNetwork/labs/module_3/images/launch_site_marker_cluster.png\">\n</center>\n",
      "metadata": {}
    },
    {
      "cell_type": "markdown",
      "source": "<center>\n    <img src=\"https://cf-courses-data.s3.us.cloud-object-storage.appdomain.cloud/IBM-DS0321EN-SkillsNetwork/labs/module_3/images/launch_site_marker_cluster_zoomed.png\">\n</center>\n",
      "metadata": {}
    },
    {
      "cell_type": "markdown",
      "source": "From the color-labeled markers in marker clusters, you should be able to easily identify which launch sites have relatively high success rates.\n",
      "metadata": {}
    },
    {
      "cell_type": "markdown",
      "source": "# TASK 3: Calculate the distances between a launch site to its proximities\n",
      "metadata": {}
    },
    {
      "cell_type": "markdown",
      "source": "Next, we need to explore and analyze the proximities of launch sites.\n",
      "metadata": {}
    },
    {
      "cell_type": "markdown",
      "source": "Let's first add a `MousePosition` on the map to get coordinate for a mouse over a point on the map. As such, while you are exploring the map, you can easily find the coordinates of any points of interests (such as railway)\n",
      "metadata": {}
    },
    {
      "cell_type": "code",
      "source": "# Add Mouse Position to get the coordinate (Lat, Long) for a mouse over on the map\nformatter = \"function(num) {return L.Util.formatNum(num, 5);};\"\nmouse_position = MousePosition(\n    position='topright',\n    separator=' Long: ',\n    empty_string='NaN',\n    lng_first=False,\n    num_digits=20,\n    prefix='Lat:',\n    lat_formatter=formatter,\n    lng_formatter=formatter,\n)\n\nsite_map.add_child(mouse_position)\nsite_map",
      "metadata": {
        "trusted": true
      },
      "outputs": [
        {
          "execution_count": 14,
          "output_type": "execute_result",
          "data": {
            "text/plain": "<folium.folium.Map at 0x546e928>",
            "text/html": "<div style=\"width:100%;\"><div style=\"position:relative;width:100%;height:0;padding-bottom:60%;\"><span style=\"color:#565656\">Make this Notebook Trusted to load map: File -> Trust Notebook</span><iframe srcdoc=\"&lt;!DOCTYPE html&gt;\n&lt;html&gt;\n&lt;head&gt;\n    \n    &lt;meta http-equiv=&quot;content-type&quot; content=&quot;text/html; charset=UTF-8&quot; /&gt;\n    \n        &lt;script&gt;\n            L_NO_TOUCH = false;\n            L_DISABLE_3D = false;\n        &lt;/script&gt;\n    \n    &lt;style&gt;html, body {width: 100%;height: 100%;margin: 0;padding: 0;}&lt;/style&gt;\n    &lt;style&gt;#map {position:absolute;top:0;bottom:0;right:0;left:0;}&lt;/style&gt;\n    &lt;script src=&quot;https://cdn.jsdelivr.net/npm/leaflet@1.9.3/dist/leaflet.js&quot;&gt;&lt;/script&gt;\n    &lt;script src=&quot;https://code.jquery.com/jquery-3.7.1.min.js&quot;&gt;&lt;/script&gt;\n    &lt;script src=&quot;https://cdn.jsdelivr.net/npm/bootstrap@5.2.2/dist/js/bootstrap.bundle.min.js&quot;&gt;&lt;/script&gt;\n    &lt;script src=&quot;https://cdnjs.cloudflare.com/ajax/libs/Leaflet.awesome-markers/2.0.2/leaflet.awesome-markers.js&quot;&gt;&lt;/script&gt;\n    &lt;link rel=&quot;stylesheet&quot; href=&quot;https://cdn.jsdelivr.net/npm/leaflet@1.9.3/dist/leaflet.css&quot;/&gt;\n    &lt;link rel=&quot;stylesheet&quot; href=&quot;https://cdn.jsdelivr.net/npm/bootstrap@5.2.2/dist/css/bootstrap.min.css&quot;/&gt;\n    &lt;link rel=&quot;stylesheet&quot; href=&quot;https://netdna.bootstrapcdn.com/bootstrap/3.0.0/css/bootstrap-glyphicons.css&quot;/&gt;\n    &lt;link rel=&quot;stylesheet&quot; href=&quot;https://cdn.jsdelivr.net/npm/@fortawesome/fontawesome-free@6.2.0/css/all.min.css&quot;/&gt;\n    &lt;link rel=&quot;stylesheet&quot; href=&quot;https://cdnjs.cloudflare.com/ajax/libs/Leaflet.awesome-markers/2.0.2/leaflet.awesome-markers.css&quot;/&gt;\n    &lt;link rel=&quot;stylesheet&quot; href=&quot;https://cdn.jsdelivr.net/gh/python-visualization/folium/folium/templates/leaflet.awesome.rotate.min.css&quot;/&gt;\n    \n            &lt;meta name=&quot;viewport&quot; content=&quot;width=device-width,\n                initial-scale=1.0, maximum-scale=1.0, user-scalable=no&quot; /&gt;\n            &lt;style&gt;\n                #map_8d3b6cf5b9ae068b02deec1419bcbb51 {\n                    position: relative;\n                    width: 100.0%;\n                    height: 100.0%;\n                    left: 0.0%;\n                    top: 0.0%;\n                }\n                .leaflet-container { font-size: 1rem; }\n            &lt;/style&gt;\n        \n    &lt;script src=&quot;https://cdnjs.cloudflare.com/ajax/libs/leaflet.markercluster/1.1.0/leaflet.markercluster.js&quot;&gt;&lt;/script&gt;\n    &lt;link rel=&quot;stylesheet&quot; href=&quot;https://cdnjs.cloudflare.com/ajax/libs/leaflet.markercluster/1.1.0/MarkerCluster.css&quot;/&gt;\n    &lt;link rel=&quot;stylesheet&quot; href=&quot;https://cdnjs.cloudflare.com/ajax/libs/leaflet.markercluster/1.1.0/MarkerCluster.Default.css&quot;/&gt;\n    &lt;script src=&quot;https://cdn.jsdelivr.net/gh/ardhi/Leaflet.MousePosition/src/L.Control.MousePosition.min.js&quot;&gt;&lt;/script&gt;\n    &lt;link rel=&quot;stylesheet&quot; href=&quot;https://cdn.jsdelivr.net/gh/ardhi/Leaflet.MousePosition/src/L.Control.MousePosition.min.css&quot;/&gt;\n&lt;/head&gt;\n&lt;body&gt;\n    \n    \n            &lt;div class=&quot;folium-map&quot; id=&quot;map_8d3b6cf5b9ae068b02deec1419bcbb51&quot; &gt;&lt;/div&gt;\n        \n&lt;/body&gt;\n&lt;script&gt;\n    \n    \n            var map_8d3b6cf5b9ae068b02deec1419bcbb51 = L.map(\n                &quot;map_8d3b6cf5b9ae068b02deec1419bcbb51&quot;,\n                {\n                    center: [29.559684888503615, -95.0830971930759],\n                    crs: L.CRS.EPSG3857,\n                    zoom: 4,\n                    zoomControl: true,\n                    preferCanvas: false,\n                }\n            );\n\n            \n\n        \n    \n            var tile_layer_5f77d4427cd19b57fee834993b1136f9 = L.tileLayer(\n                &quot;https://tile.openstreetmap.org/{z}/{x}/{y}.png&quot;,\n                {&quot;attribution&quot;: &quot;\\u0026copy; \\u003ca href=\\&quot;https://www.openstreetmap.org/copyright\\&quot;\\u003eOpenStreetMap\\u003c/a\\u003e contributors&quot;, &quot;detectRetina&quot;: false, &quot;maxNativeZoom&quot;: 19, &quot;maxZoom&quot;: 19, &quot;minZoom&quot;: 0, &quot;noWrap&quot;: false, &quot;opacity&quot;: 1, &quot;subdomains&quot;: &quot;abc&quot;, &quot;tms&quot;: false}\n            );\n        \n    \n            tile_layer_5f77d4427cd19b57fee834993b1136f9.addTo(map_8d3b6cf5b9ae068b02deec1419bcbb51);\n        \n    \n            var marker_2e31075d6160df7df01458d26410099b = L.marker(\n                [28.56230197, -80.57735648],\n                {}\n            ).addTo(map_8d3b6cf5b9ae068b02deec1419bcbb51);\n        \n    \n            var div_icon_7b9859d46238ee8cce38e99267c7289c = L.divIcon({&quot;className&quot;: &quot;empty&quot;, &quot;html&quot;: &quot;\\u003cdiv style=\\&quot;font-size: 12; color:#d35400;\\&quot;\\u003e\\u003cb\\u003eCCAFS LC-40\\u003c/b\\u003e\\u003c/div\\u003e&quot;, &quot;iconAnchor&quot;: [0, 0], &quot;iconSize&quot;: [20, 20]});\n            marker_2e31075d6160df7df01458d26410099b.setIcon(div_icon_7b9859d46238ee8cce38e99267c7289c);\n        \n    \n            var marker_daab8393e90259182877d99d74b9be4c = L.marker(\n                [28.56319718, -80.57682003],\n                {}\n            ).addTo(map_8d3b6cf5b9ae068b02deec1419bcbb51);\n        \n    \n            var div_icon_74e786d8924e14eb21efcc6ccc8c3ea8 = L.divIcon({&quot;className&quot;: &quot;empty&quot;, &quot;html&quot;: &quot;\\u003cdiv style=\\&quot;font-size: 12; color:#d35400;\\&quot;\\u003e\\u003cb\\u003eCCAFS SLC-40\\u003c/b\\u003e\\u003c/div\\u003e&quot;, &quot;iconAnchor&quot;: [0, 0], &quot;iconSize&quot;: [20, 20]});\n            marker_daab8393e90259182877d99d74b9be4c.setIcon(div_icon_74e786d8924e14eb21efcc6ccc8c3ea8);\n        \n    \n            var marker_68127823e4f72ff607bc4071c115b252 = L.marker(\n                [28.57325457, -80.64689529],\n                {}\n            ).addTo(map_8d3b6cf5b9ae068b02deec1419bcbb51);\n        \n    \n            var div_icon_567b664c075741504fb5df215913db7d = L.divIcon({&quot;className&quot;: &quot;empty&quot;, &quot;html&quot;: &quot;\\u003cdiv style=\\&quot;font-size: 12; color:#d35400;\\&quot;\\u003e\\u003cb\\u003eKSC LC-39A\\u003c/b\\u003e\\u003c/div\\u003e&quot;, &quot;iconAnchor&quot;: [0, 0], &quot;iconSize&quot;: [20, 20]});\n            marker_68127823e4f72ff607bc4071c115b252.setIcon(div_icon_567b664c075741504fb5df215913db7d);\n        \n    \n            var marker_01d2e5851418520a7789b25185ff4ab3 = L.marker(\n                [34.63283416, -120.6107455],\n                {}\n            ).addTo(map_8d3b6cf5b9ae068b02deec1419bcbb51);\n        \n    \n            var div_icon_b0264f86aad5da5d60de698465ee63b7 = L.divIcon({&quot;className&quot;: &quot;empty&quot;, &quot;html&quot;: &quot;\\u003cdiv style=\\&quot;font-size: 12; color:#d35400;\\&quot;\\u003e\\u003cb\\u003eVAFB SLC-4E\\u003c/b\\u003e\\u003c/div\\u003e&quot;, &quot;iconAnchor&quot;: [0, 0], &quot;iconSize&quot;: [20, 20]});\n            marker_01d2e5851418520a7789b25185ff4ab3.setIcon(div_icon_b0264f86aad5da5d60de698465ee63b7);\n        \n    \n            var feature_group_c4c13f5d3d18f15094ef4bb98671d65e = L.featureGroup(\n                {}\n            );\n        \n    \n            var circle_marker_e1f9184a07fcc440fd375460e9a26c14 = L.circleMarker(\n                [28.56230197, -80.57735648],\n                {&quot;bubblingMouseEvents&quot;: true, &quot;color&quot;: &quot;#d35400&quot;, &quot;dashArray&quot;: null, &quot;dashOffset&quot;: null, &quot;fill&quot;: true, &quot;fillColor&quot;: &quot;#d35400&quot;, &quot;fillOpacity&quot;: 0.2, &quot;fillRule&quot;: &quot;evenodd&quot;, &quot;lineCap&quot;: &quot;round&quot;, &quot;lineJoin&quot;: &quot;round&quot;, &quot;opacity&quot;: 1.0, &quot;radius&quot;: 5, &quot;stroke&quot;: true, &quot;weight&quot;: 3}\n            ).addTo(feature_group_c4c13f5d3d18f15094ef4bb98671d65e);\n        \n    \n            var circle_marker_2aadb29ca5d5a9080dc7d47c40991264 = L.circleMarker(\n                [28.56319718, -80.57682003],\n                {&quot;bubblingMouseEvents&quot;: true, &quot;color&quot;: &quot;#d35400&quot;, &quot;dashArray&quot;: null, &quot;dashOffset&quot;: null, &quot;fill&quot;: true, &quot;fillColor&quot;: &quot;#d35400&quot;, &quot;fillOpacity&quot;: 0.2, &quot;fillRule&quot;: &quot;evenodd&quot;, &quot;lineCap&quot;: &quot;round&quot;, &quot;lineJoin&quot;: &quot;round&quot;, &quot;opacity&quot;: 1.0, &quot;radius&quot;: 5, &quot;stroke&quot;: true, &quot;weight&quot;: 3}\n            ).addTo(feature_group_c4c13f5d3d18f15094ef4bb98671d65e);\n        \n    \n            var circle_marker_c5fe54752b9176395d1ef6b8b30fe668 = L.circleMarker(\n                [28.57325457, -80.64689529],\n                {&quot;bubblingMouseEvents&quot;: true, &quot;color&quot;: &quot;#d35400&quot;, &quot;dashArray&quot;: null, &quot;dashOffset&quot;: null, &quot;fill&quot;: true, &quot;fillColor&quot;: &quot;#d35400&quot;, &quot;fillOpacity&quot;: 0.2, &quot;fillRule&quot;: &quot;evenodd&quot;, &quot;lineCap&quot;: &quot;round&quot;, &quot;lineJoin&quot;: &quot;round&quot;, &quot;opacity&quot;: 1.0, &quot;radius&quot;: 5, &quot;stroke&quot;: true, &quot;weight&quot;: 3}\n            ).addTo(feature_group_c4c13f5d3d18f15094ef4bb98671d65e);\n        \n    \n            var circle_marker_31a0e096e127657047991b583089548e = L.circleMarker(\n                [34.63283416, -120.6107455],\n                {&quot;bubblingMouseEvents&quot;: true, &quot;color&quot;: &quot;#d35400&quot;, &quot;dashArray&quot;: null, &quot;dashOffset&quot;: null, &quot;fill&quot;: true, &quot;fillColor&quot;: &quot;#d35400&quot;, &quot;fillOpacity&quot;: 0.2, &quot;fillRule&quot;: &quot;evenodd&quot;, &quot;lineCap&quot;: &quot;round&quot;, &quot;lineJoin&quot;: &quot;round&quot;, &quot;opacity&quot;: 1.0, &quot;radius&quot;: 5, &quot;stroke&quot;: true, &quot;weight&quot;: 3}\n            ).addTo(feature_group_c4c13f5d3d18f15094ef4bb98671d65e);\n        \n    \n            feature_group_c4c13f5d3d18f15094ef4bb98671d65e.addTo(map_8d3b6cf5b9ae068b02deec1419bcbb51);\n        \n    \n            tile_layer_5f77d4427cd19b57fee834993b1136f9.addTo(map_8d3b6cf5b9ae068b02deec1419bcbb51);\n        \n    \n            feature_group_c4c13f5d3d18f15094ef4bb98671d65e.addTo(map_8d3b6cf5b9ae068b02deec1419bcbb51);\n        \n    \n            var marker_cluster_0504ff2e50b9ff81059249bf9abde0fb = L.markerClusterGroup(\n                {}\n            );\n        \n    \n            var marker_11a8e11228a84a828ce2ebd8daeb63ec = L.marker(\n                [28.56230197, -80.57735648],\n                {}\n            ).addTo(marker_cluster_0504ff2e50b9ff81059249bf9abde0fb);\n        \n    \n            var icon_483a68947516155caa1a16ddf24cd5f7 = L.AwesomeMarkers.icon(\n                {&quot;extraClasses&quot;: &quot;fa-rotate-0&quot;, &quot;icon&quot;: &quot;info-sign&quot;, &quot;iconColor&quot;: &quot;red&quot;, &quot;markerColor&quot;: &quot;white&quot;, &quot;prefix&quot;: &quot;glyphicon&quot;}\n            );\n            marker_11a8e11228a84a828ce2ebd8daeb63ec.setIcon(icon_483a68947516155caa1a16ddf24cd5f7);\n        \n    \n        var popup_07b811736e289340b28327741ad90f0c = L.popup({&quot;maxWidth&quot;: &quot;100%&quot;});\n\n        \n            \n                var html_3ab07d7e53a22541b9bad0afe03c8cb7 = $(`&lt;div id=&quot;html_3ab07d7e53a22541b9bad0afe03c8cb7&quot; style=&quot;width: 100.0%; height: 100.0%;&quot;&gt;CCAFS LC-40&lt;/div&gt;`)[0];\n                popup_07b811736e289340b28327741ad90f0c.setContent(html_3ab07d7e53a22541b9bad0afe03c8cb7);\n            \n        \n\n        marker_11a8e11228a84a828ce2ebd8daeb63ec.bindPopup(popup_07b811736e289340b28327741ad90f0c)\n        ;\n\n        \n    \n    \n            var marker_918a4eb71f85ba1950efb3f43123bb54 = L.marker(\n                [28.56230197, -80.57735648],\n                {}\n            ).addTo(marker_cluster_0504ff2e50b9ff81059249bf9abde0fb);\n        \n    \n            var icon_4dd2a66dffacac8a15e73b7b6f27c946 = L.AwesomeMarkers.icon(\n                {&quot;extraClasses&quot;: &quot;fa-rotate-0&quot;, &quot;icon&quot;: &quot;info-sign&quot;, &quot;iconColor&quot;: &quot;red&quot;, &quot;markerColor&quot;: &quot;white&quot;, &quot;prefix&quot;: &quot;glyphicon&quot;}\n            );\n            marker_918a4eb71f85ba1950efb3f43123bb54.setIcon(icon_4dd2a66dffacac8a15e73b7b6f27c946);\n        \n    \n        var popup_e6e775321b099285f26b78a0690514fe = L.popup({&quot;maxWidth&quot;: &quot;100%&quot;});\n\n        \n            \n                var html_a521870599d437a91122834741f8e1e8 = $(`&lt;div id=&quot;html_a521870599d437a91122834741f8e1e8&quot; style=&quot;width: 100.0%; height: 100.0%;&quot;&gt;CCAFS LC-40&lt;/div&gt;`)[0];\n                popup_e6e775321b099285f26b78a0690514fe.setContent(html_a521870599d437a91122834741f8e1e8);\n            \n        \n\n        marker_918a4eb71f85ba1950efb3f43123bb54.bindPopup(popup_e6e775321b099285f26b78a0690514fe)\n        ;\n\n        \n    \n    \n            var marker_000caa175c1668c746d20772b80f8a12 = L.marker(\n                [28.56230197, -80.57735648],\n                {}\n            ).addTo(marker_cluster_0504ff2e50b9ff81059249bf9abde0fb);\n        \n    \n            var icon_e5eaccb969bf94b965166d888ca6fd86 = L.AwesomeMarkers.icon(\n                {&quot;extraClasses&quot;: &quot;fa-rotate-0&quot;, &quot;icon&quot;: &quot;info-sign&quot;, &quot;iconColor&quot;: &quot;red&quot;, &quot;markerColor&quot;: &quot;white&quot;, &quot;prefix&quot;: &quot;glyphicon&quot;}\n            );\n            marker_000caa175c1668c746d20772b80f8a12.setIcon(icon_e5eaccb969bf94b965166d888ca6fd86);\n        \n    \n        var popup_b331e4990ae2090146063e1d48c1b88f = L.popup({&quot;maxWidth&quot;: &quot;100%&quot;});\n\n        \n            \n                var html_9fa62b146aa733b61337fa1b0006bb18 = $(`&lt;div id=&quot;html_9fa62b146aa733b61337fa1b0006bb18&quot; style=&quot;width: 100.0%; height: 100.0%;&quot;&gt;CCAFS LC-40&lt;/div&gt;`)[0];\n                popup_b331e4990ae2090146063e1d48c1b88f.setContent(html_9fa62b146aa733b61337fa1b0006bb18);\n            \n        \n\n        marker_000caa175c1668c746d20772b80f8a12.bindPopup(popup_b331e4990ae2090146063e1d48c1b88f)\n        ;\n\n        \n    \n    \n            var marker_71c5de633b17a36d74e38d269115d035 = L.marker(\n                [28.56230197, -80.57735648],\n                {}\n            ).addTo(marker_cluster_0504ff2e50b9ff81059249bf9abde0fb);\n        \n    \n            var icon_df87aa2111e4264cbb403e52e2e86e09 = L.AwesomeMarkers.icon(\n                {&quot;extraClasses&quot;: &quot;fa-rotate-0&quot;, &quot;icon&quot;: &quot;info-sign&quot;, &quot;iconColor&quot;: &quot;red&quot;, &quot;markerColor&quot;: &quot;white&quot;, &quot;prefix&quot;: &quot;glyphicon&quot;}\n            );\n            marker_71c5de633b17a36d74e38d269115d035.setIcon(icon_df87aa2111e4264cbb403e52e2e86e09);\n        \n    \n        var popup_a0bd8dfc38bfb6d28a138610fb442934 = L.popup({&quot;maxWidth&quot;: &quot;100%&quot;});\n\n        \n            \n                var html_12081c322661eb5e534d77b802fc86ce = $(`&lt;div id=&quot;html_12081c322661eb5e534d77b802fc86ce&quot; style=&quot;width: 100.0%; height: 100.0%;&quot;&gt;CCAFS LC-40&lt;/div&gt;`)[0];\n                popup_a0bd8dfc38bfb6d28a138610fb442934.setContent(html_12081c322661eb5e534d77b802fc86ce);\n            \n        \n\n        marker_71c5de633b17a36d74e38d269115d035.bindPopup(popup_a0bd8dfc38bfb6d28a138610fb442934)\n        ;\n\n        \n    \n    \n            var marker_fe48ed96c2411e6125db7e4daef64841 = L.marker(\n                [28.56230197, -80.57735648],\n                {}\n            ).addTo(marker_cluster_0504ff2e50b9ff81059249bf9abde0fb);\n        \n    \n            var icon_74edd004f4b9b894e98618146c44430b = L.AwesomeMarkers.icon(\n                {&quot;extraClasses&quot;: &quot;fa-rotate-0&quot;, &quot;icon&quot;: &quot;info-sign&quot;, &quot;iconColor&quot;: &quot;red&quot;, &quot;markerColor&quot;: &quot;white&quot;, &quot;prefix&quot;: &quot;glyphicon&quot;}\n            );\n            marker_fe48ed96c2411e6125db7e4daef64841.setIcon(icon_74edd004f4b9b894e98618146c44430b);\n        \n    \n        var popup_cb64e459c53f16e4486a27f35ad0371c = L.popup({&quot;maxWidth&quot;: &quot;100%&quot;});\n\n        \n            \n                var html_21ba1c193bdb10b56ad036c559869b6c = $(`&lt;div id=&quot;html_21ba1c193bdb10b56ad036c559869b6c&quot; style=&quot;width: 100.0%; height: 100.0%;&quot;&gt;CCAFS LC-40&lt;/div&gt;`)[0];\n                popup_cb64e459c53f16e4486a27f35ad0371c.setContent(html_21ba1c193bdb10b56ad036c559869b6c);\n            \n        \n\n        marker_fe48ed96c2411e6125db7e4daef64841.bindPopup(popup_cb64e459c53f16e4486a27f35ad0371c)\n        ;\n\n        \n    \n    \n            var marker_0eff492c35371cab941d6b18e00c0fd1 = L.marker(\n                [28.56230197, -80.57735648],\n                {}\n            ).addTo(marker_cluster_0504ff2e50b9ff81059249bf9abde0fb);\n        \n    \n            var icon_b874ae859dfe89facaba6482464e203c = L.AwesomeMarkers.icon(\n                {&quot;extraClasses&quot;: &quot;fa-rotate-0&quot;, &quot;icon&quot;: &quot;info-sign&quot;, &quot;iconColor&quot;: &quot;red&quot;, &quot;markerColor&quot;: &quot;white&quot;, &quot;prefix&quot;: &quot;glyphicon&quot;}\n            );\n            marker_0eff492c35371cab941d6b18e00c0fd1.setIcon(icon_b874ae859dfe89facaba6482464e203c);\n        \n    \n        var popup_e353626493e06f6bc1dcb3ab001d30c0 = L.popup({&quot;maxWidth&quot;: &quot;100%&quot;});\n\n        \n            \n                var html_ea301d1675a9cbcef090c9c4a65fbc25 = $(`&lt;div id=&quot;html_ea301d1675a9cbcef090c9c4a65fbc25&quot; style=&quot;width: 100.0%; height: 100.0%;&quot;&gt;CCAFS LC-40&lt;/div&gt;`)[0];\n                popup_e353626493e06f6bc1dcb3ab001d30c0.setContent(html_ea301d1675a9cbcef090c9c4a65fbc25);\n            \n        \n\n        marker_0eff492c35371cab941d6b18e00c0fd1.bindPopup(popup_e353626493e06f6bc1dcb3ab001d30c0)\n        ;\n\n        \n    \n    \n            var marker_ef8f93189de4e2c497fced0cbb101601 = L.marker(\n                [28.56230197, -80.57735648],\n                {}\n            ).addTo(marker_cluster_0504ff2e50b9ff81059249bf9abde0fb);\n        \n    \n            var icon_b6e5674288bd0c4871c9ae733b57363a = L.AwesomeMarkers.icon(\n                {&quot;extraClasses&quot;: &quot;fa-rotate-0&quot;, &quot;icon&quot;: &quot;info-sign&quot;, &quot;iconColor&quot;: &quot;red&quot;, &quot;markerColor&quot;: &quot;white&quot;, &quot;prefix&quot;: &quot;glyphicon&quot;}\n            );\n            marker_ef8f93189de4e2c497fced0cbb101601.setIcon(icon_b6e5674288bd0c4871c9ae733b57363a);\n        \n    \n        var popup_0ffd81ff7e5bdfc4486cb92ab7ef03ad = L.popup({&quot;maxWidth&quot;: &quot;100%&quot;});\n\n        \n            \n                var html_67d32ae1a01db9fb2d182d80eec10b3b = $(`&lt;div id=&quot;html_67d32ae1a01db9fb2d182d80eec10b3b&quot; style=&quot;width: 100.0%; height: 100.0%;&quot;&gt;CCAFS LC-40&lt;/div&gt;`)[0];\n                popup_0ffd81ff7e5bdfc4486cb92ab7ef03ad.setContent(html_67d32ae1a01db9fb2d182d80eec10b3b);\n            \n        \n\n        marker_ef8f93189de4e2c497fced0cbb101601.bindPopup(popup_0ffd81ff7e5bdfc4486cb92ab7ef03ad)\n        ;\n\n        \n    \n    \n            var marker_c06ea8ad18129c9c670ba7a1a2ec15e9 = L.marker(\n                [28.56230197, -80.57735648],\n                {}\n            ).addTo(marker_cluster_0504ff2e50b9ff81059249bf9abde0fb);\n        \n    \n            var icon_e88e5ba66ed32b2c407f9e983ccdb1d7 = L.AwesomeMarkers.icon(\n                {&quot;extraClasses&quot;: &quot;fa-rotate-0&quot;, &quot;icon&quot;: &quot;info-sign&quot;, &quot;iconColor&quot;: &quot;red&quot;, &quot;markerColor&quot;: &quot;white&quot;, &quot;prefix&quot;: &quot;glyphicon&quot;}\n            );\n            marker_c06ea8ad18129c9c670ba7a1a2ec15e9.setIcon(icon_e88e5ba66ed32b2c407f9e983ccdb1d7);\n        \n    \n        var popup_1740ed287b9516ca1dfb4fae2dbf5c93 = L.popup({&quot;maxWidth&quot;: &quot;100%&quot;});\n\n        \n            \n                var html_63046fffa1c52f48ea3cf3cf53f02162 = $(`&lt;div id=&quot;html_63046fffa1c52f48ea3cf3cf53f02162&quot; style=&quot;width: 100.0%; height: 100.0%;&quot;&gt;CCAFS LC-40&lt;/div&gt;`)[0];\n                popup_1740ed287b9516ca1dfb4fae2dbf5c93.setContent(html_63046fffa1c52f48ea3cf3cf53f02162);\n            \n        \n\n        marker_c06ea8ad18129c9c670ba7a1a2ec15e9.bindPopup(popup_1740ed287b9516ca1dfb4fae2dbf5c93)\n        ;\n\n        \n    \n    \n            var marker_6178c24585c197f1b5df28d5f77714ad = L.marker(\n                [28.56230197, -80.57735648],\n                {}\n            ).addTo(marker_cluster_0504ff2e50b9ff81059249bf9abde0fb);\n        \n    \n            var icon_a9480d7e1dc5a44441450a6dab24bdd1 = L.AwesomeMarkers.icon(\n                {&quot;extraClasses&quot;: &quot;fa-rotate-0&quot;, &quot;icon&quot;: &quot;info-sign&quot;, &quot;iconColor&quot;: &quot;red&quot;, &quot;markerColor&quot;: &quot;white&quot;, &quot;prefix&quot;: &quot;glyphicon&quot;}\n            );\n            marker_6178c24585c197f1b5df28d5f77714ad.setIcon(icon_a9480d7e1dc5a44441450a6dab24bdd1);\n        \n    \n        var popup_8a93e8ece7ab0894e9b64b33252d1240 = L.popup({&quot;maxWidth&quot;: &quot;100%&quot;});\n\n        \n            \n                var html_30571e8e335fd8e1c596c7b9d57cd684 = $(`&lt;div id=&quot;html_30571e8e335fd8e1c596c7b9d57cd684&quot; style=&quot;width: 100.0%; height: 100.0%;&quot;&gt;CCAFS LC-40&lt;/div&gt;`)[0];\n                popup_8a93e8ece7ab0894e9b64b33252d1240.setContent(html_30571e8e335fd8e1c596c7b9d57cd684);\n            \n        \n\n        marker_6178c24585c197f1b5df28d5f77714ad.bindPopup(popup_8a93e8ece7ab0894e9b64b33252d1240)\n        ;\n\n        \n    \n    \n            var marker_522333efc78801ef6b3affb952178928 = L.marker(\n                [28.56230197, -80.57735648],\n                {}\n            ).addTo(marker_cluster_0504ff2e50b9ff81059249bf9abde0fb);\n        \n    \n            var icon_4242231cccc4d2522265f4a98a19f06a = L.AwesomeMarkers.icon(\n                {&quot;extraClasses&quot;: &quot;fa-rotate-0&quot;, &quot;icon&quot;: &quot;info-sign&quot;, &quot;iconColor&quot;: &quot;red&quot;, &quot;markerColor&quot;: &quot;white&quot;, &quot;prefix&quot;: &quot;glyphicon&quot;}\n            );\n            marker_522333efc78801ef6b3affb952178928.setIcon(icon_4242231cccc4d2522265f4a98a19f06a);\n        \n    \n        var popup_48c95caa54341f6689742d17613f25b5 = L.popup({&quot;maxWidth&quot;: &quot;100%&quot;});\n\n        \n            \n                var html_5df8fc91cb6c3b770f3cffc5641d2f20 = $(`&lt;div id=&quot;html_5df8fc91cb6c3b770f3cffc5641d2f20&quot; style=&quot;width: 100.0%; height: 100.0%;&quot;&gt;CCAFS LC-40&lt;/div&gt;`)[0];\n                popup_48c95caa54341f6689742d17613f25b5.setContent(html_5df8fc91cb6c3b770f3cffc5641d2f20);\n            \n        \n\n        marker_522333efc78801ef6b3affb952178928.bindPopup(popup_48c95caa54341f6689742d17613f25b5)\n        ;\n\n        \n    \n    \n            var marker_9e7ca90a7a3329936d137cd4013b43c9 = L.marker(\n                [28.56230197, -80.57735648],\n                {}\n            ).addTo(marker_cluster_0504ff2e50b9ff81059249bf9abde0fb);\n        \n    \n            var icon_adcfd09d7ef84ef569777e37045a6afa = L.AwesomeMarkers.icon(\n                {&quot;extraClasses&quot;: &quot;fa-rotate-0&quot;, &quot;icon&quot;: &quot;info-sign&quot;, &quot;iconColor&quot;: &quot;red&quot;, &quot;markerColor&quot;: &quot;white&quot;, &quot;prefix&quot;: &quot;glyphicon&quot;}\n            );\n            marker_9e7ca90a7a3329936d137cd4013b43c9.setIcon(icon_adcfd09d7ef84ef569777e37045a6afa);\n        \n    \n        var popup_52b584cf6f1c071dcf0669052b2b0a3b = L.popup({&quot;maxWidth&quot;: &quot;100%&quot;});\n\n        \n            \n                var html_9e3867533a32051bee41c7cb7850f690 = $(`&lt;div id=&quot;html_9e3867533a32051bee41c7cb7850f690&quot; style=&quot;width: 100.0%; height: 100.0%;&quot;&gt;CCAFS LC-40&lt;/div&gt;`)[0];\n                popup_52b584cf6f1c071dcf0669052b2b0a3b.setContent(html_9e3867533a32051bee41c7cb7850f690);\n            \n        \n\n        marker_9e7ca90a7a3329936d137cd4013b43c9.bindPopup(popup_52b584cf6f1c071dcf0669052b2b0a3b)\n        ;\n\n        \n    \n    \n            var marker_d6faa06fde810b97c34c1887eb16ad01 = L.marker(\n                [28.56230197, -80.57735648],\n                {}\n            ).addTo(marker_cluster_0504ff2e50b9ff81059249bf9abde0fb);\n        \n    \n            var icon_eaf4d1c12c056338b826c604ff23c1dd = L.AwesomeMarkers.icon(\n                {&quot;extraClasses&quot;: &quot;fa-rotate-0&quot;, &quot;icon&quot;: &quot;info-sign&quot;, &quot;iconColor&quot;: &quot;red&quot;, &quot;markerColor&quot;: &quot;white&quot;, &quot;prefix&quot;: &quot;glyphicon&quot;}\n            );\n            marker_d6faa06fde810b97c34c1887eb16ad01.setIcon(icon_eaf4d1c12c056338b826c604ff23c1dd);\n        \n    \n        var popup_55a9bdb7e7e9ceaece20ecd8e79e31a5 = L.popup({&quot;maxWidth&quot;: &quot;100%&quot;});\n\n        \n            \n                var html_8337dec88605e2c420ef59d661c6483a = $(`&lt;div id=&quot;html_8337dec88605e2c420ef59d661c6483a&quot; style=&quot;width: 100.0%; height: 100.0%;&quot;&gt;CCAFS LC-40&lt;/div&gt;`)[0];\n                popup_55a9bdb7e7e9ceaece20ecd8e79e31a5.setContent(html_8337dec88605e2c420ef59d661c6483a);\n            \n        \n\n        marker_d6faa06fde810b97c34c1887eb16ad01.bindPopup(popup_55a9bdb7e7e9ceaece20ecd8e79e31a5)\n        ;\n\n        \n    \n    \n            var marker_e0eda54a2d178be3ee6bf74fccfaa3c4 = L.marker(\n                [28.56230197, -80.57735648],\n                {}\n            ).addTo(marker_cluster_0504ff2e50b9ff81059249bf9abde0fb);\n        \n    \n            var icon_eb3d4e762daf99520e82b33c0242491d = L.AwesomeMarkers.icon(\n                {&quot;extraClasses&quot;: &quot;fa-rotate-0&quot;, &quot;icon&quot;: &quot;info-sign&quot;, &quot;iconColor&quot;: &quot;red&quot;, &quot;markerColor&quot;: &quot;white&quot;, &quot;prefix&quot;: &quot;glyphicon&quot;}\n            );\n            marker_e0eda54a2d178be3ee6bf74fccfaa3c4.setIcon(icon_eb3d4e762daf99520e82b33c0242491d);\n        \n    \n        var popup_5f82f47db7ceb50f45e8e83cf9216e7c = L.popup({&quot;maxWidth&quot;: &quot;100%&quot;});\n\n        \n            \n                var html_5709a3be531840ee8aa565654cb54618 = $(`&lt;div id=&quot;html_5709a3be531840ee8aa565654cb54618&quot; style=&quot;width: 100.0%; height: 100.0%;&quot;&gt;CCAFS LC-40&lt;/div&gt;`)[0];\n                popup_5f82f47db7ceb50f45e8e83cf9216e7c.setContent(html_5709a3be531840ee8aa565654cb54618);\n            \n        \n\n        marker_e0eda54a2d178be3ee6bf74fccfaa3c4.bindPopup(popup_5f82f47db7ceb50f45e8e83cf9216e7c)\n        ;\n\n        \n    \n    \n            var marker_eb71685571155e3c2d530b81999e9f18 = L.marker(\n                [28.56230197, -80.57735648],\n                {}\n            ).addTo(marker_cluster_0504ff2e50b9ff81059249bf9abde0fb);\n        \n    \n            var icon_a32de7d3bfd94a1a66d57bfa21efaf46 = L.AwesomeMarkers.icon(\n                {&quot;extraClasses&quot;: &quot;fa-rotate-0&quot;, &quot;icon&quot;: &quot;info-sign&quot;, &quot;iconColor&quot;: &quot;red&quot;, &quot;markerColor&quot;: &quot;white&quot;, &quot;prefix&quot;: &quot;glyphicon&quot;}\n            );\n            marker_eb71685571155e3c2d530b81999e9f18.setIcon(icon_a32de7d3bfd94a1a66d57bfa21efaf46);\n        \n    \n        var popup_53f61cb529ae0c996a48967f9e871e28 = L.popup({&quot;maxWidth&quot;: &quot;100%&quot;});\n\n        \n            \n                var html_d43ba674807fd5a45f36fd3a2395d504 = $(`&lt;div id=&quot;html_d43ba674807fd5a45f36fd3a2395d504&quot; style=&quot;width: 100.0%; height: 100.0%;&quot;&gt;CCAFS LC-40&lt;/div&gt;`)[0];\n                popup_53f61cb529ae0c996a48967f9e871e28.setContent(html_d43ba674807fd5a45f36fd3a2395d504);\n            \n        \n\n        marker_eb71685571155e3c2d530b81999e9f18.bindPopup(popup_53f61cb529ae0c996a48967f9e871e28)\n        ;\n\n        \n    \n    \n            var marker_ae6742ef512a315b79119c2ca930105c = L.marker(\n                [28.56230197, -80.57735648],\n                {}\n            ).addTo(marker_cluster_0504ff2e50b9ff81059249bf9abde0fb);\n        \n    \n            var icon_2ed007e49d6ab911c55dec1ede9bf40f = L.AwesomeMarkers.icon(\n                {&quot;extraClasses&quot;: &quot;fa-rotate-0&quot;, &quot;icon&quot;: &quot;info-sign&quot;, &quot;iconColor&quot;: &quot;red&quot;, &quot;markerColor&quot;: &quot;white&quot;, &quot;prefix&quot;: &quot;glyphicon&quot;}\n            );\n            marker_ae6742ef512a315b79119c2ca930105c.setIcon(icon_2ed007e49d6ab911c55dec1ede9bf40f);\n        \n    \n        var popup_a93995e2934d472309c4d91b2f268797 = L.popup({&quot;maxWidth&quot;: &quot;100%&quot;});\n\n        \n            \n                var html_7126d51bcb4a8c3bd21ce5135d640e10 = $(`&lt;div id=&quot;html_7126d51bcb4a8c3bd21ce5135d640e10&quot; style=&quot;width: 100.0%; height: 100.0%;&quot;&gt;CCAFS LC-40&lt;/div&gt;`)[0];\n                popup_a93995e2934d472309c4d91b2f268797.setContent(html_7126d51bcb4a8c3bd21ce5135d640e10);\n            \n        \n\n        marker_ae6742ef512a315b79119c2ca930105c.bindPopup(popup_a93995e2934d472309c4d91b2f268797)\n        ;\n\n        \n    \n    \n            var marker_d7d4b8a413cabb3fa782844d09feed2b = L.marker(\n                [28.56230197, -80.57735648],\n                {}\n            ).addTo(marker_cluster_0504ff2e50b9ff81059249bf9abde0fb);\n        \n    \n            var icon_165a5cbb3d96bde1bb80f6ceff64426c = L.AwesomeMarkers.icon(\n                {&quot;extraClasses&quot;: &quot;fa-rotate-0&quot;, &quot;icon&quot;: &quot;info-sign&quot;, &quot;iconColor&quot;: &quot;red&quot;, &quot;markerColor&quot;: &quot;white&quot;, &quot;prefix&quot;: &quot;glyphicon&quot;}\n            );\n            marker_d7d4b8a413cabb3fa782844d09feed2b.setIcon(icon_165a5cbb3d96bde1bb80f6ceff64426c);\n        \n    \n        var popup_eb4adfa9dcf8076db5650620b93c3d71 = L.popup({&quot;maxWidth&quot;: &quot;100%&quot;});\n\n        \n            \n                var html_baa25397d2c2204f0249c9b1708be753 = $(`&lt;div id=&quot;html_baa25397d2c2204f0249c9b1708be753&quot; style=&quot;width: 100.0%; height: 100.0%;&quot;&gt;CCAFS LC-40&lt;/div&gt;`)[0];\n                popup_eb4adfa9dcf8076db5650620b93c3d71.setContent(html_baa25397d2c2204f0249c9b1708be753);\n            \n        \n\n        marker_d7d4b8a413cabb3fa782844d09feed2b.bindPopup(popup_eb4adfa9dcf8076db5650620b93c3d71)\n        ;\n\n        \n    \n    \n            var marker_83f76fbecb83a4352848904165d6b66e = L.marker(\n                [28.56230197, -80.57735648],\n                {}\n            ).addTo(marker_cluster_0504ff2e50b9ff81059249bf9abde0fb);\n        \n    \n            var icon_ecfb3c6cded8f766e7561d650655b4da = L.AwesomeMarkers.icon(\n                {&quot;extraClasses&quot;: &quot;fa-rotate-0&quot;, &quot;icon&quot;: &quot;info-sign&quot;, &quot;iconColor&quot;: &quot;red&quot;, &quot;markerColor&quot;: &quot;white&quot;, &quot;prefix&quot;: &quot;glyphicon&quot;}\n            );\n            marker_83f76fbecb83a4352848904165d6b66e.setIcon(icon_ecfb3c6cded8f766e7561d650655b4da);\n        \n    \n        var popup_3544a1003e4ac8e2d9154281cb561235 = L.popup({&quot;maxWidth&quot;: &quot;100%&quot;});\n\n        \n            \n                var html_13d7a940efb4d5330a18f282ca4d0652 = $(`&lt;div id=&quot;html_13d7a940efb4d5330a18f282ca4d0652&quot; style=&quot;width: 100.0%; height: 100.0%;&quot;&gt;CCAFS LC-40&lt;/div&gt;`)[0];\n                popup_3544a1003e4ac8e2d9154281cb561235.setContent(html_13d7a940efb4d5330a18f282ca4d0652);\n            \n        \n\n        marker_83f76fbecb83a4352848904165d6b66e.bindPopup(popup_3544a1003e4ac8e2d9154281cb561235)\n        ;\n\n        \n    \n    \n            var marker_45c71e3c7398f468e01b2268bceb95e4 = L.marker(\n                [28.56230197, -80.57735648],\n                {}\n            ).addTo(marker_cluster_0504ff2e50b9ff81059249bf9abde0fb);\n        \n    \n            var icon_e97469eb2947ff23ac62b1e72fb13b4c = L.AwesomeMarkers.icon(\n                {&quot;extraClasses&quot;: &quot;fa-rotate-0&quot;, &quot;icon&quot;: &quot;info-sign&quot;, &quot;iconColor&quot;: &quot;green&quot;, &quot;markerColor&quot;: &quot;white&quot;, &quot;prefix&quot;: &quot;glyphicon&quot;}\n            );\n            marker_45c71e3c7398f468e01b2268bceb95e4.setIcon(icon_e97469eb2947ff23ac62b1e72fb13b4c);\n        \n    \n        var popup_db4feff8e54b7515f6945c2e58439309 = L.popup({&quot;maxWidth&quot;: &quot;100%&quot;});\n\n        \n            \n                var html_c4239d71cec56895e375b183db3e206d = $(`&lt;div id=&quot;html_c4239d71cec56895e375b183db3e206d&quot; style=&quot;width: 100.0%; height: 100.0%;&quot;&gt;CCAFS LC-40&lt;/div&gt;`)[0];\n                popup_db4feff8e54b7515f6945c2e58439309.setContent(html_c4239d71cec56895e375b183db3e206d);\n            \n        \n\n        marker_45c71e3c7398f468e01b2268bceb95e4.bindPopup(popup_db4feff8e54b7515f6945c2e58439309)\n        ;\n\n        \n    \n    \n            var marker_413f2c18abe73c0d59114e2fcd7c0b16 = L.marker(\n                [28.56230197, -80.57735648],\n                {}\n            ).addTo(marker_cluster_0504ff2e50b9ff81059249bf9abde0fb);\n        \n    \n            var icon_b645f48d6e849631ce5c2f2f90f8b60e = L.AwesomeMarkers.icon(\n                {&quot;extraClasses&quot;: &quot;fa-rotate-0&quot;, &quot;icon&quot;: &quot;info-sign&quot;, &quot;iconColor&quot;: &quot;green&quot;, &quot;markerColor&quot;: &quot;white&quot;, &quot;prefix&quot;: &quot;glyphicon&quot;}\n            );\n            marker_413f2c18abe73c0d59114e2fcd7c0b16.setIcon(icon_b645f48d6e849631ce5c2f2f90f8b60e);\n        \n    \n        var popup_1d47102bf046408255143af32a7eabe9 = L.popup({&quot;maxWidth&quot;: &quot;100%&quot;});\n\n        \n            \n                var html_6f146a5bac4be098f9e6dc6437a37dc6 = $(`&lt;div id=&quot;html_6f146a5bac4be098f9e6dc6437a37dc6&quot; style=&quot;width: 100.0%; height: 100.0%;&quot;&gt;CCAFS LC-40&lt;/div&gt;`)[0];\n                popup_1d47102bf046408255143af32a7eabe9.setContent(html_6f146a5bac4be098f9e6dc6437a37dc6);\n            \n        \n\n        marker_413f2c18abe73c0d59114e2fcd7c0b16.bindPopup(popup_1d47102bf046408255143af32a7eabe9)\n        ;\n\n        \n    \n    \n            var marker_bcbd8b6d072ee399ceacb7ffd9485ffa = L.marker(\n                [28.56230197, -80.57735648],\n                {}\n            ).addTo(marker_cluster_0504ff2e50b9ff81059249bf9abde0fb);\n        \n    \n            var icon_a8583ad5f640b6692659a78f2f8c35c0 = L.AwesomeMarkers.icon(\n                {&quot;extraClasses&quot;: &quot;fa-rotate-0&quot;, &quot;icon&quot;: &quot;info-sign&quot;, &quot;iconColor&quot;: &quot;red&quot;, &quot;markerColor&quot;: &quot;white&quot;, &quot;prefix&quot;: &quot;glyphicon&quot;}\n            );\n            marker_bcbd8b6d072ee399ceacb7ffd9485ffa.setIcon(icon_a8583ad5f640b6692659a78f2f8c35c0);\n        \n    \n        var popup_bf5f8143e250c42ce28e74858277cbcb = L.popup({&quot;maxWidth&quot;: &quot;100%&quot;});\n\n        \n            \n                var html_172031c3a817dad521780047293adb9f = $(`&lt;div id=&quot;html_172031c3a817dad521780047293adb9f&quot; style=&quot;width: 100.0%; height: 100.0%;&quot;&gt;CCAFS LC-40&lt;/div&gt;`)[0];\n                popup_bf5f8143e250c42ce28e74858277cbcb.setContent(html_172031c3a817dad521780047293adb9f);\n            \n        \n\n        marker_bcbd8b6d072ee399ceacb7ffd9485ffa.bindPopup(popup_bf5f8143e250c42ce28e74858277cbcb)\n        ;\n\n        \n    \n    \n            var marker_b9a65b7be2dc300855feb4e1c43868d7 = L.marker(\n                [28.56230197, -80.57735648],\n                {}\n            ).addTo(marker_cluster_0504ff2e50b9ff81059249bf9abde0fb);\n        \n    \n            var icon_ae7f45b16c8152c0eda5e05355e8e0d6 = L.AwesomeMarkers.icon(\n                {&quot;extraClasses&quot;: &quot;fa-rotate-0&quot;, &quot;icon&quot;: &quot;info-sign&quot;, &quot;iconColor&quot;: &quot;green&quot;, &quot;markerColor&quot;: &quot;white&quot;, &quot;prefix&quot;: &quot;glyphicon&quot;}\n            );\n            marker_b9a65b7be2dc300855feb4e1c43868d7.setIcon(icon_ae7f45b16c8152c0eda5e05355e8e0d6);\n        \n    \n        var popup_a25c9fb7cc99644d38eadb95454c12f0 = L.popup({&quot;maxWidth&quot;: &quot;100%&quot;});\n\n        \n            \n                var html_ff71a22a6037dde2883219c87a81fe64 = $(`&lt;div id=&quot;html_ff71a22a6037dde2883219c87a81fe64&quot; style=&quot;width: 100.0%; height: 100.0%;&quot;&gt;CCAFS LC-40&lt;/div&gt;`)[0];\n                popup_a25c9fb7cc99644d38eadb95454c12f0.setContent(html_ff71a22a6037dde2883219c87a81fe64);\n            \n        \n\n        marker_b9a65b7be2dc300855feb4e1c43868d7.bindPopup(popup_a25c9fb7cc99644d38eadb95454c12f0)\n        ;\n\n        \n    \n    \n            var marker_cd7002e00aa2fd4019f2b0da550416e9 = L.marker(\n                [28.56230197, -80.57735648],\n                {}\n            ).addTo(marker_cluster_0504ff2e50b9ff81059249bf9abde0fb);\n        \n    \n            var icon_bd74537cd6ebe208d7e873f15e7be127 = L.AwesomeMarkers.icon(\n                {&quot;extraClasses&quot;: &quot;fa-rotate-0&quot;, &quot;icon&quot;: &quot;info-sign&quot;, &quot;iconColor&quot;: &quot;green&quot;, &quot;markerColor&quot;: &quot;white&quot;, &quot;prefix&quot;: &quot;glyphicon&quot;}\n            );\n            marker_cd7002e00aa2fd4019f2b0da550416e9.setIcon(icon_bd74537cd6ebe208d7e873f15e7be127);\n        \n    \n        var popup_5797e492ffdefd8600711a822372606e = L.popup({&quot;maxWidth&quot;: &quot;100%&quot;});\n\n        \n            \n                var html_6b8f6aed3d989d61e8d31dbecf1885c7 = $(`&lt;div id=&quot;html_6b8f6aed3d989d61e8d31dbecf1885c7&quot; style=&quot;width: 100.0%; height: 100.0%;&quot;&gt;CCAFS LC-40&lt;/div&gt;`)[0];\n                popup_5797e492ffdefd8600711a822372606e.setContent(html_6b8f6aed3d989d61e8d31dbecf1885c7);\n            \n        \n\n        marker_cd7002e00aa2fd4019f2b0da550416e9.bindPopup(popup_5797e492ffdefd8600711a822372606e)\n        ;\n\n        \n    \n    \n            var marker_8edd1055e47b632a8b8310a57df03aa3 = L.marker(\n                [28.56230197, -80.57735648],\n                {}\n            ).addTo(marker_cluster_0504ff2e50b9ff81059249bf9abde0fb);\n        \n    \n            var icon_20b5eda3a960bfd7b3e2caa901213db6 = L.AwesomeMarkers.icon(\n                {&quot;extraClasses&quot;: &quot;fa-rotate-0&quot;, &quot;icon&quot;: &quot;info-sign&quot;, &quot;iconColor&quot;: &quot;green&quot;, &quot;markerColor&quot;: &quot;white&quot;, &quot;prefix&quot;: &quot;glyphicon&quot;}\n            );\n            marker_8edd1055e47b632a8b8310a57df03aa3.setIcon(icon_20b5eda3a960bfd7b3e2caa901213db6);\n        \n    \n        var popup_074417d2fa8e5da07f52a80e8478952d = L.popup({&quot;maxWidth&quot;: &quot;100%&quot;});\n\n        \n            \n                var html_4b5b18e5d14b0c13f0e2b17a1b01b82a = $(`&lt;div id=&quot;html_4b5b18e5d14b0c13f0e2b17a1b01b82a&quot; style=&quot;width: 100.0%; height: 100.0%;&quot;&gt;CCAFS LC-40&lt;/div&gt;`)[0];\n                popup_074417d2fa8e5da07f52a80e8478952d.setContent(html_4b5b18e5d14b0c13f0e2b17a1b01b82a);\n            \n        \n\n        marker_8edd1055e47b632a8b8310a57df03aa3.bindPopup(popup_074417d2fa8e5da07f52a80e8478952d)\n        ;\n\n        \n    \n    \n            var marker_1ee1038a51f66503fdc26ecad374e4f6 = L.marker(\n                [28.56230197, -80.57735648],\n                {}\n            ).addTo(marker_cluster_0504ff2e50b9ff81059249bf9abde0fb);\n        \n    \n            var icon_e332b33b900513e21da2a059fcedb147 = L.AwesomeMarkers.icon(\n                {&quot;extraClasses&quot;: &quot;fa-rotate-0&quot;, &quot;icon&quot;: &quot;info-sign&quot;, &quot;iconColor&quot;: &quot;red&quot;, &quot;markerColor&quot;: &quot;white&quot;, &quot;prefix&quot;: &quot;glyphicon&quot;}\n            );\n            marker_1ee1038a51f66503fdc26ecad374e4f6.setIcon(icon_e332b33b900513e21da2a059fcedb147);\n        \n    \n        var popup_ac8508c10d1ed659f5c5d9f01829e40c = L.popup({&quot;maxWidth&quot;: &quot;100%&quot;});\n\n        \n            \n                var html_051ce2e40ba23c97799f164abc5c2ec8 = $(`&lt;div id=&quot;html_051ce2e40ba23c97799f164abc5c2ec8&quot; style=&quot;width: 100.0%; height: 100.0%;&quot;&gt;CCAFS LC-40&lt;/div&gt;`)[0];\n                popup_ac8508c10d1ed659f5c5d9f01829e40c.setContent(html_051ce2e40ba23c97799f164abc5c2ec8);\n            \n        \n\n        marker_1ee1038a51f66503fdc26ecad374e4f6.bindPopup(popup_ac8508c10d1ed659f5c5d9f01829e40c)\n        ;\n\n        \n    \n    \n            var marker_41e7ff830cec730a1a481d2fc1e2476a = L.marker(\n                [28.56230197, -80.57735648],\n                {}\n            ).addTo(marker_cluster_0504ff2e50b9ff81059249bf9abde0fb);\n        \n    \n            var icon_74149b386c402f28b4920a07ad11deee = L.AwesomeMarkers.icon(\n                {&quot;extraClasses&quot;: &quot;fa-rotate-0&quot;, &quot;icon&quot;: &quot;info-sign&quot;, &quot;iconColor&quot;: &quot;green&quot;, &quot;markerColor&quot;: &quot;white&quot;, &quot;prefix&quot;: &quot;glyphicon&quot;}\n            );\n            marker_41e7ff830cec730a1a481d2fc1e2476a.setIcon(icon_74149b386c402f28b4920a07ad11deee);\n        \n    \n        var popup_ac85e4d2a33750eeb818c612b1708b61 = L.popup({&quot;maxWidth&quot;: &quot;100%&quot;});\n\n        \n            \n                var html_f48cfebf7f95486ca7d40b43722510f7 = $(`&lt;div id=&quot;html_f48cfebf7f95486ca7d40b43722510f7&quot; style=&quot;width: 100.0%; height: 100.0%;&quot;&gt;CCAFS LC-40&lt;/div&gt;`)[0];\n                popup_ac85e4d2a33750eeb818c612b1708b61.setContent(html_f48cfebf7f95486ca7d40b43722510f7);\n            \n        \n\n        marker_41e7ff830cec730a1a481d2fc1e2476a.bindPopup(popup_ac85e4d2a33750eeb818c612b1708b61)\n        ;\n\n        \n    \n    \n            var marker_3010e44a59b713caba8a2a12a4dc6bfa = L.marker(\n                [28.56230197, -80.57735648],\n                {}\n            ).addTo(marker_cluster_0504ff2e50b9ff81059249bf9abde0fb);\n        \n    \n            var icon_292784890fa7f6723f726efacec37704 = L.AwesomeMarkers.icon(\n                {&quot;extraClasses&quot;: &quot;fa-rotate-0&quot;, &quot;icon&quot;: &quot;info-sign&quot;, &quot;iconColor&quot;: &quot;green&quot;, &quot;markerColor&quot;: &quot;white&quot;, &quot;prefix&quot;: &quot;glyphicon&quot;}\n            );\n            marker_3010e44a59b713caba8a2a12a4dc6bfa.setIcon(icon_292784890fa7f6723f726efacec37704);\n        \n    \n        var popup_110cdf3d701f2bd554db18b07b38e5cb = L.popup({&quot;maxWidth&quot;: &quot;100%&quot;});\n\n        \n            \n                var html_047bb7100f4ae7ab04f8e229c4ef830a = $(`&lt;div id=&quot;html_047bb7100f4ae7ab04f8e229c4ef830a&quot; style=&quot;width: 100.0%; height: 100.0%;&quot;&gt;CCAFS LC-40&lt;/div&gt;`)[0];\n                popup_110cdf3d701f2bd554db18b07b38e5cb.setContent(html_047bb7100f4ae7ab04f8e229c4ef830a);\n            \n        \n\n        marker_3010e44a59b713caba8a2a12a4dc6bfa.bindPopup(popup_110cdf3d701f2bd554db18b07b38e5cb)\n        ;\n\n        \n    \n    \n            var marker_bf94580220f2c19c68b3a99767c764a7 = L.marker(\n                [34.63283416, -120.6107455],\n                {}\n            ).addTo(marker_cluster_0504ff2e50b9ff81059249bf9abde0fb);\n        \n    \n            var icon_b074208082b6af3faecaf7dfd467dcf3 = L.AwesomeMarkers.icon(\n                {&quot;extraClasses&quot;: &quot;fa-rotate-0&quot;, &quot;icon&quot;: &quot;info-sign&quot;, &quot;iconColor&quot;: &quot;red&quot;, &quot;markerColor&quot;: &quot;white&quot;, &quot;prefix&quot;: &quot;glyphicon&quot;}\n            );\n            marker_bf94580220f2c19c68b3a99767c764a7.setIcon(icon_b074208082b6af3faecaf7dfd467dcf3);\n        \n    \n        var popup_d99e4aa518a74ea48b8cb0ffdb32d8f3 = L.popup({&quot;maxWidth&quot;: &quot;100%&quot;});\n\n        \n            \n                var html_6f87305a418de8f5b9f36b4fc34d5182 = $(`&lt;div id=&quot;html_6f87305a418de8f5b9f36b4fc34d5182&quot; style=&quot;width: 100.0%; height: 100.0%;&quot;&gt;VAFB SLC-4E&lt;/div&gt;`)[0];\n                popup_d99e4aa518a74ea48b8cb0ffdb32d8f3.setContent(html_6f87305a418de8f5b9f36b4fc34d5182);\n            \n        \n\n        marker_bf94580220f2c19c68b3a99767c764a7.bindPopup(popup_d99e4aa518a74ea48b8cb0ffdb32d8f3)\n        ;\n\n        \n    \n    \n            var marker_471db8fe5c086f6b5a7e43c6f2a43bb8 = L.marker(\n                [34.63283416, -120.6107455],\n                {}\n            ).addTo(marker_cluster_0504ff2e50b9ff81059249bf9abde0fb);\n        \n    \n            var icon_3028bed7997667d574e75ffaa4ff715e = L.AwesomeMarkers.icon(\n                {&quot;extraClasses&quot;: &quot;fa-rotate-0&quot;, &quot;icon&quot;: &quot;info-sign&quot;, &quot;iconColor&quot;: &quot;red&quot;, &quot;markerColor&quot;: &quot;white&quot;, &quot;prefix&quot;: &quot;glyphicon&quot;}\n            );\n            marker_471db8fe5c086f6b5a7e43c6f2a43bb8.setIcon(icon_3028bed7997667d574e75ffaa4ff715e);\n        \n    \n        var popup_7870c56e9a13aa5a6d9368f3bfb8108a = L.popup({&quot;maxWidth&quot;: &quot;100%&quot;});\n\n        \n            \n                var html_630fd8c7313fc0a9ed047218e2d35495 = $(`&lt;div id=&quot;html_630fd8c7313fc0a9ed047218e2d35495&quot; style=&quot;width: 100.0%; height: 100.0%;&quot;&gt;VAFB SLC-4E&lt;/div&gt;`)[0];\n                popup_7870c56e9a13aa5a6d9368f3bfb8108a.setContent(html_630fd8c7313fc0a9ed047218e2d35495);\n            \n        \n\n        marker_471db8fe5c086f6b5a7e43c6f2a43bb8.bindPopup(popup_7870c56e9a13aa5a6d9368f3bfb8108a)\n        ;\n\n        \n    \n    \n            var marker_8e3f53dec10ecc8512a8eb450d6212d8 = L.marker(\n                [34.63283416, -120.6107455],\n                {}\n            ).addTo(marker_cluster_0504ff2e50b9ff81059249bf9abde0fb);\n        \n    \n            var icon_22d6abeef8dcc1168129c9c3afe34e7a = L.AwesomeMarkers.icon(\n                {&quot;extraClasses&quot;: &quot;fa-rotate-0&quot;, &quot;icon&quot;: &quot;info-sign&quot;, &quot;iconColor&quot;: &quot;green&quot;, &quot;markerColor&quot;: &quot;white&quot;, &quot;prefix&quot;: &quot;glyphicon&quot;}\n            );\n            marker_8e3f53dec10ecc8512a8eb450d6212d8.setIcon(icon_22d6abeef8dcc1168129c9c3afe34e7a);\n        \n    \n        var popup_341ddef18074158e4715c8febc1dc170 = L.popup({&quot;maxWidth&quot;: &quot;100%&quot;});\n\n        \n            \n                var html_54add54061509cb6a357f256b823459f = $(`&lt;div id=&quot;html_54add54061509cb6a357f256b823459f&quot; style=&quot;width: 100.0%; height: 100.0%;&quot;&gt;VAFB SLC-4E&lt;/div&gt;`)[0];\n                popup_341ddef18074158e4715c8febc1dc170.setContent(html_54add54061509cb6a357f256b823459f);\n            \n        \n\n        marker_8e3f53dec10ecc8512a8eb450d6212d8.bindPopup(popup_341ddef18074158e4715c8febc1dc170)\n        ;\n\n        \n    \n    \n            var marker_2b8511340374fce2dff0290a125450a6 = L.marker(\n                [34.63283416, -120.6107455],\n                {}\n            ).addTo(marker_cluster_0504ff2e50b9ff81059249bf9abde0fb);\n        \n    \n            var icon_f201cedae17d3b279f45bd654e126986 = L.AwesomeMarkers.icon(\n                {&quot;extraClasses&quot;: &quot;fa-rotate-0&quot;, &quot;icon&quot;: &quot;info-sign&quot;, &quot;iconColor&quot;: &quot;green&quot;, &quot;markerColor&quot;: &quot;white&quot;, &quot;prefix&quot;: &quot;glyphicon&quot;}\n            );\n            marker_2b8511340374fce2dff0290a125450a6.setIcon(icon_f201cedae17d3b279f45bd654e126986);\n        \n    \n        var popup_900e33db5668e87af66f3487a0bdbb22 = L.popup({&quot;maxWidth&quot;: &quot;100%&quot;});\n\n        \n            \n                var html_c97a21fe05603d3583a9e96f2c1c2c3a = $(`&lt;div id=&quot;html_c97a21fe05603d3583a9e96f2c1c2c3a&quot; style=&quot;width: 100.0%; height: 100.0%;&quot;&gt;VAFB SLC-4E&lt;/div&gt;`)[0];\n                popup_900e33db5668e87af66f3487a0bdbb22.setContent(html_c97a21fe05603d3583a9e96f2c1c2c3a);\n            \n        \n\n        marker_2b8511340374fce2dff0290a125450a6.bindPopup(popup_900e33db5668e87af66f3487a0bdbb22)\n        ;\n\n        \n    \n    \n            var marker_974905869ee39201477053667c8ca0c4 = L.marker(\n                [34.63283416, -120.6107455],\n                {}\n            ).addTo(marker_cluster_0504ff2e50b9ff81059249bf9abde0fb);\n        \n    \n            var icon_89eb8f6f38617d1b73adc7e48e5d181d = L.AwesomeMarkers.icon(\n                {&quot;extraClasses&quot;: &quot;fa-rotate-0&quot;, &quot;icon&quot;: &quot;info-sign&quot;, &quot;iconColor&quot;: &quot;green&quot;, &quot;markerColor&quot;: &quot;white&quot;, &quot;prefix&quot;: &quot;glyphicon&quot;}\n            );\n            marker_974905869ee39201477053667c8ca0c4.setIcon(icon_89eb8f6f38617d1b73adc7e48e5d181d);\n        \n    \n        var popup_c4543f7d1344d52437e91af01ae6b155 = L.popup({&quot;maxWidth&quot;: &quot;100%&quot;});\n\n        \n            \n                var html_de1de7989b28e34ab46f75801e2d8d9d = $(`&lt;div id=&quot;html_de1de7989b28e34ab46f75801e2d8d9d&quot; style=&quot;width: 100.0%; height: 100.0%;&quot;&gt;VAFB SLC-4E&lt;/div&gt;`)[0];\n                popup_c4543f7d1344d52437e91af01ae6b155.setContent(html_de1de7989b28e34ab46f75801e2d8d9d);\n            \n        \n\n        marker_974905869ee39201477053667c8ca0c4.bindPopup(popup_c4543f7d1344d52437e91af01ae6b155)\n        ;\n\n        \n    \n    \n            var marker_023e187e1349b1973a99a9f3b00c23a9 = L.marker(\n                [34.63283416, -120.6107455],\n                {}\n            ).addTo(marker_cluster_0504ff2e50b9ff81059249bf9abde0fb);\n        \n    \n            var icon_9a672ece5df20053efe51aaed1bd92f7 = L.AwesomeMarkers.icon(\n                {&quot;extraClasses&quot;: &quot;fa-rotate-0&quot;, &quot;icon&quot;: &quot;info-sign&quot;, &quot;iconColor&quot;: &quot;green&quot;, &quot;markerColor&quot;: &quot;white&quot;, &quot;prefix&quot;: &quot;glyphicon&quot;}\n            );\n            marker_023e187e1349b1973a99a9f3b00c23a9.setIcon(icon_9a672ece5df20053efe51aaed1bd92f7);\n        \n    \n        var popup_fc796c393c74761441544a8dbec477ff = L.popup({&quot;maxWidth&quot;: &quot;100%&quot;});\n\n        \n            \n                var html_20f043633f1103c5d4445ec3f5a961ec = $(`&lt;div id=&quot;html_20f043633f1103c5d4445ec3f5a961ec&quot; style=&quot;width: 100.0%; height: 100.0%;&quot;&gt;VAFB SLC-4E&lt;/div&gt;`)[0];\n                popup_fc796c393c74761441544a8dbec477ff.setContent(html_20f043633f1103c5d4445ec3f5a961ec);\n            \n        \n\n        marker_023e187e1349b1973a99a9f3b00c23a9.bindPopup(popup_fc796c393c74761441544a8dbec477ff)\n        ;\n\n        \n    \n    \n            var marker_b9b52bdc2a395b347e26a66891f85f77 = L.marker(\n                [34.63283416, -120.6107455],\n                {}\n            ).addTo(marker_cluster_0504ff2e50b9ff81059249bf9abde0fb);\n        \n    \n            var icon_eb02d0207e3c6347127683a89d763037 = L.AwesomeMarkers.icon(\n                {&quot;extraClasses&quot;: &quot;fa-rotate-0&quot;, &quot;icon&quot;: &quot;info-sign&quot;, &quot;iconColor&quot;: &quot;red&quot;, &quot;markerColor&quot;: &quot;white&quot;, &quot;prefix&quot;: &quot;glyphicon&quot;}\n            );\n            marker_b9b52bdc2a395b347e26a66891f85f77.setIcon(icon_eb02d0207e3c6347127683a89d763037);\n        \n    \n        var popup_03566b5ca38d74a830ea9b44deca3572 = L.popup({&quot;maxWidth&quot;: &quot;100%&quot;});\n\n        \n            \n                var html_866073d4c7a6a148da41c80aad059c98 = $(`&lt;div id=&quot;html_866073d4c7a6a148da41c80aad059c98&quot; style=&quot;width: 100.0%; height: 100.0%;&quot;&gt;VAFB SLC-4E&lt;/div&gt;`)[0];\n                popup_03566b5ca38d74a830ea9b44deca3572.setContent(html_866073d4c7a6a148da41c80aad059c98);\n            \n        \n\n        marker_b9b52bdc2a395b347e26a66891f85f77.bindPopup(popup_03566b5ca38d74a830ea9b44deca3572)\n        ;\n\n        \n    \n    \n            var marker_5420797a3c80f66320e71c8fd5a34dd5 = L.marker(\n                [34.63283416, -120.6107455],\n                {}\n            ).addTo(marker_cluster_0504ff2e50b9ff81059249bf9abde0fb);\n        \n    \n            var icon_7280294331d70192df616853b4eeab63 = L.AwesomeMarkers.icon(\n                {&quot;extraClasses&quot;: &quot;fa-rotate-0&quot;, &quot;icon&quot;: &quot;info-sign&quot;, &quot;iconColor&quot;: &quot;red&quot;, &quot;markerColor&quot;: &quot;white&quot;, &quot;prefix&quot;: &quot;glyphicon&quot;}\n            );\n            marker_5420797a3c80f66320e71c8fd5a34dd5.setIcon(icon_7280294331d70192df616853b4eeab63);\n        \n    \n        var popup_e3fe52d8c4ebf308c4da23991e0b6ebf = L.popup({&quot;maxWidth&quot;: &quot;100%&quot;});\n\n        \n            \n                var html_a5540658d43b001253fc5a05a50a9df4 = $(`&lt;div id=&quot;html_a5540658d43b001253fc5a05a50a9df4&quot; style=&quot;width: 100.0%; height: 100.0%;&quot;&gt;VAFB SLC-4E&lt;/div&gt;`)[0];\n                popup_e3fe52d8c4ebf308c4da23991e0b6ebf.setContent(html_a5540658d43b001253fc5a05a50a9df4);\n            \n        \n\n        marker_5420797a3c80f66320e71c8fd5a34dd5.bindPopup(popup_e3fe52d8c4ebf308c4da23991e0b6ebf)\n        ;\n\n        \n    \n    \n            var marker_cb4810b64a28a4619bc84b1f1620874e = L.marker(\n                [34.63283416, -120.6107455],\n                {}\n            ).addTo(marker_cluster_0504ff2e50b9ff81059249bf9abde0fb);\n        \n    \n            var icon_8ba7f5a3b3331254ee0bd9ec2ef52ef6 = L.AwesomeMarkers.icon(\n                {&quot;extraClasses&quot;: &quot;fa-rotate-0&quot;, &quot;icon&quot;: &quot;info-sign&quot;, &quot;iconColor&quot;: &quot;red&quot;, &quot;markerColor&quot;: &quot;white&quot;, &quot;prefix&quot;: &quot;glyphicon&quot;}\n            );\n            marker_cb4810b64a28a4619bc84b1f1620874e.setIcon(icon_8ba7f5a3b3331254ee0bd9ec2ef52ef6);\n        \n    \n        var popup_57f5d39a0c89ca8c2dede9b32f27d153 = L.popup({&quot;maxWidth&quot;: &quot;100%&quot;});\n\n        \n            \n                var html_7f542266cbade624710cf7db325c6684 = $(`&lt;div id=&quot;html_7f542266cbade624710cf7db325c6684&quot; style=&quot;width: 100.0%; height: 100.0%;&quot;&gt;VAFB SLC-4E&lt;/div&gt;`)[0];\n                popup_57f5d39a0c89ca8c2dede9b32f27d153.setContent(html_7f542266cbade624710cf7db325c6684);\n            \n        \n\n        marker_cb4810b64a28a4619bc84b1f1620874e.bindPopup(popup_57f5d39a0c89ca8c2dede9b32f27d153)\n        ;\n\n        \n    \n    \n            var marker_9ee16915d6e0e5c5c4874cea59962570 = L.marker(\n                [34.63283416, -120.6107455],\n                {}\n            ).addTo(marker_cluster_0504ff2e50b9ff81059249bf9abde0fb);\n        \n    \n            var icon_a60a51ca70823964f4aaf02a60eb707c = L.AwesomeMarkers.icon(\n                {&quot;extraClasses&quot;: &quot;fa-rotate-0&quot;, &quot;icon&quot;: &quot;info-sign&quot;, &quot;iconColor&quot;: &quot;red&quot;, &quot;markerColor&quot;: &quot;white&quot;, &quot;prefix&quot;: &quot;glyphicon&quot;}\n            );\n            marker_9ee16915d6e0e5c5c4874cea59962570.setIcon(icon_a60a51ca70823964f4aaf02a60eb707c);\n        \n    \n        var popup_99fb7a138540da775cbf49c432fa8865 = L.popup({&quot;maxWidth&quot;: &quot;100%&quot;});\n\n        \n            \n                var html_2770951c92a1de96cc04eff8776255f2 = $(`&lt;div id=&quot;html_2770951c92a1de96cc04eff8776255f2&quot; style=&quot;width: 100.0%; height: 100.0%;&quot;&gt;VAFB SLC-4E&lt;/div&gt;`)[0];\n                popup_99fb7a138540da775cbf49c432fa8865.setContent(html_2770951c92a1de96cc04eff8776255f2);\n            \n        \n\n        marker_9ee16915d6e0e5c5c4874cea59962570.bindPopup(popup_99fb7a138540da775cbf49c432fa8865)\n        ;\n\n        \n    \n    \n            var marker_e0354a5b44916691254d477b75c2a558 = L.marker(\n                [28.57325457, -80.64689529],\n                {}\n            ).addTo(marker_cluster_0504ff2e50b9ff81059249bf9abde0fb);\n        \n    \n            var icon_3d1bb3b4db79f87dea3277969c78d46e = L.AwesomeMarkers.icon(\n                {&quot;extraClasses&quot;: &quot;fa-rotate-0&quot;, &quot;icon&quot;: &quot;info-sign&quot;, &quot;iconColor&quot;: &quot;green&quot;, &quot;markerColor&quot;: &quot;white&quot;, &quot;prefix&quot;: &quot;glyphicon&quot;}\n            );\n            marker_e0354a5b44916691254d477b75c2a558.setIcon(icon_3d1bb3b4db79f87dea3277969c78d46e);\n        \n    \n        var popup_5d4938181d3150f14f632170cef239ed = L.popup({&quot;maxWidth&quot;: &quot;100%&quot;});\n\n        \n            \n                var html_0b0cdf172f20d3748235c7e0484aa165 = $(`&lt;div id=&quot;html_0b0cdf172f20d3748235c7e0484aa165&quot; style=&quot;width: 100.0%; height: 100.0%;&quot;&gt;KSC LC-39A&lt;/div&gt;`)[0];\n                popup_5d4938181d3150f14f632170cef239ed.setContent(html_0b0cdf172f20d3748235c7e0484aa165);\n            \n        \n\n        marker_e0354a5b44916691254d477b75c2a558.bindPopup(popup_5d4938181d3150f14f632170cef239ed)\n        ;\n\n        \n    \n    \n            var marker_61bbfbae1de8c0472fc453d5fedc7ad1 = L.marker(\n                [28.57325457, -80.64689529],\n                {}\n            ).addTo(marker_cluster_0504ff2e50b9ff81059249bf9abde0fb);\n        \n    \n            var icon_5727387109a807c8be3befb21d5c6b3b = L.AwesomeMarkers.icon(\n                {&quot;extraClasses&quot;: &quot;fa-rotate-0&quot;, &quot;icon&quot;: &quot;info-sign&quot;, &quot;iconColor&quot;: &quot;red&quot;, &quot;markerColor&quot;: &quot;white&quot;, &quot;prefix&quot;: &quot;glyphicon&quot;}\n            );\n            marker_61bbfbae1de8c0472fc453d5fedc7ad1.setIcon(icon_5727387109a807c8be3befb21d5c6b3b);\n        \n    \n        var popup_334672831e96dd6f2bb9c04ea8a87887 = L.popup({&quot;maxWidth&quot;: &quot;100%&quot;});\n\n        \n            \n                var html_13162e4e663a860da1e20f574453bd75 = $(`&lt;div id=&quot;html_13162e4e663a860da1e20f574453bd75&quot; style=&quot;width: 100.0%; height: 100.0%;&quot;&gt;KSC LC-39A&lt;/div&gt;`)[0];\n                popup_334672831e96dd6f2bb9c04ea8a87887.setContent(html_13162e4e663a860da1e20f574453bd75);\n            \n        \n\n        marker_61bbfbae1de8c0472fc453d5fedc7ad1.bindPopup(popup_334672831e96dd6f2bb9c04ea8a87887)\n        ;\n\n        \n    \n    \n            var marker_ffb3cf7dcc8fd941c7a161af68d44537 = L.marker(\n                [28.57325457, -80.64689529],\n                {}\n            ).addTo(marker_cluster_0504ff2e50b9ff81059249bf9abde0fb);\n        \n    \n            var icon_007d59d02d45e4e62e7bffa8660f99c4 = L.AwesomeMarkers.icon(\n                {&quot;extraClasses&quot;: &quot;fa-rotate-0&quot;, &quot;icon&quot;: &quot;info-sign&quot;, &quot;iconColor&quot;: &quot;green&quot;, &quot;markerColor&quot;: &quot;white&quot;, &quot;prefix&quot;: &quot;glyphicon&quot;}\n            );\n            marker_ffb3cf7dcc8fd941c7a161af68d44537.setIcon(icon_007d59d02d45e4e62e7bffa8660f99c4);\n        \n    \n        var popup_806e065f3ad679c3aba94adb6145c691 = L.popup({&quot;maxWidth&quot;: &quot;100%&quot;});\n\n        \n            \n                var html_7f2ec2d602a75b1c6ec6ff0e6c8c3c4c = $(`&lt;div id=&quot;html_7f2ec2d602a75b1c6ec6ff0e6c8c3c4c&quot; style=&quot;width: 100.0%; height: 100.0%;&quot;&gt;KSC LC-39A&lt;/div&gt;`)[0];\n                popup_806e065f3ad679c3aba94adb6145c691.setContent(html_7f2ec2d602a75b1c6ec6ff0e6c8c3c4c);\n            \n        \n\n        marker_ffb3cf7dcc8fd941c7a161af68d44537.bindPopup(popup_806e065f3ad679c3aba94adb6145c691)\n        ;\n\n        \n    \n    \n            var marker_d212ec764984cc919ed409daf8add62d = L.marker(\n                [28.57325457, -80.64689529],\n                {}\n            ).addTo(marker_cluster_0504ff2e50b9ff81059249bf9abde0fb);\n        \n    \n            var icon_e02449ab57e3d6ab79699b3592bd89f1 = L.AwesomeMarkers.icon(\n                {&quot;extraClasses&quot;: &quot;fa-rotate-0&quot;, &quot;icon&quot;: &quot;info-sign&quot;, &quot;iconColor&quot;: &quot;green&quot;, &quot;markerColor&quot;: &quot;white&quot;, &quot;prefix&quot;: &quot;glyphicon&quot;}\n            );\n            marker_d212ec764984cc919ed409daf8add62d.setIcon(icon_e02449ab57e3d6ab79699b3592bd89f1);\n        \n    \n        var popup_bbf9fc80c3b96f32a3e6cf29daf4732c = L.popup({&quot;maxWidth&quot;: &quot;100%&quot;});\n\n        \n            \n                var html_9cd3af6d17200e86dea3d312a90ece9d = $(`&lt;div id=&quot;html_9cd3af6d17200e86dea3d312a90ece9d&quot; style=&quot;width: 100.0%; height: 100.0%;&quot;&gt;KSC LC-39A&lt;/div&gt;`)[0];\n                popup_bbf9fc80c3b96f32a3e6cf29daf4732c.setContent(html_9cd3af6d17200e86dea3d312a90ece9d);\n            \n        \n\n        marker_d212ec764984cc919ed409daf8add62d.bindPopup(popup_bbf9fc80c3b96f32a3e6cf29daf4732c)\n        ;\n\n        \n    \n    \n            var marker_306c9b1d7bcd88aa278d22068ef92ff3 = L.marker(\n                [28.57325457, -80.64689529],\n                {}\n            ).addTo(marker_cluster_0504ff2e50b9ff81059249bf9abde0fb);\n        \n    \n            var icon_cff7e3828ddb4cd51a902f69cdd18d05 = L.AwesomeMarkers.icon(\n                {&quot;extraClasses&quot;: &quot;fa-rotate-0&quot;, &quot;icon&quot;: &quot;info-sign&quot;, &quot;iconColor&quot;: &quot;red&quot;, &quot;markerColor&quot;: &quot;white&quot;, &quot;prefix&quot;: &quot;glyphicon&quot;}\n            );\n            marker_306c9b1d7bcd88aa278d22068ef92ff3.setIcon(icon_cff7e3828ddb4cd51a902f69cdd18d05);\n        \n    \n        var popup_38241c235ab4111e9219b7a825ecf110 = L.popup({&quot;maxWidth&quot;: &quot;100%&quot;});\n\n        \n            \n                var html_49f963bb9c363e598610a9dff31b43b2 = $(`&lt;div id=&quot;html_49f963bb9c363e598610a9dff31b43b2&quot; style=&quot;width: 100.0%; height: 100.0%;&quot;&gt;KSC LC-39A&lt;/div&gt;`)[0];\n                popup_38241c235ab4111e9219b7a825ecf110.setContent(html_49f963bb9c363e598610a9dff31b43b2);\n            \n        \n\n        marker_306c9b1d7bcd88aa278d22068ef92ff3.bindPopup(popup_38241c235ab4111e9219b7a825ecf110)\n        ;\n\n        \n    \n    \n            var marker_f7a0304422a8646a3497259a762b24d6 = L.marker(\n                [28.57325457, -80.64689529],\n                {}\n            ).addTo(marker_cluster_0504ff2e50b9ff81059249bf9abde0fb);\n        \n    \n            var icon_2dbd97181ff56f2ad2bde99b3a7daaf2 = L.AwesomeMarkers.icon(\n                {&quot;extraClasses&quot;: &quot;fa-rotate-0&quot;, &quot;icon&quot;: &quot;info-sign&quot;, &quot;iconColor&quot;: &quot;green&quot;, &quot;markerColor&quot;: &quot;white&quot;, &quot;prefix&quot;: &quot;glyphicon&quot;}\n            );\n            marker_f7a0304422a8646a3497259a762b24d6.setIcon(icon_2dbd97181ff56f2ad2bde99b3a7daaf2);\n        \n    \n        var popup_f2c1ecfe9ab7d4e672af92c7808d6330 = L.popup({&quot;maxWidth&quot;: &quot;100%&quot;});\n\n        \n            \n                var html_7939413510f2447d2b7a132c1c95395e = $(`&lt;div id=&quot;html_7939413510f2447d2b7a132c1c95395e&quot; style=&quot;width: 100.0%; height: 100.0%;&quot;&gt;KSC LC-39A&lt;/div&gt;`)[0];\n                popup_f2c1ecfe9ab7d4e672af92c7808d6330.setContent(html_7939413510f2447d2b7a132c1c95395e);\n            \n        \n\n        marker_f7a0304422a8646a3497259a762b24d6.bindPopup(popup_f2c1ecfe9ab7d4e672af92c7808d6330)\n        ;\n\n        \n    \n    \n            var marker_35ef4e2e2a93896f31b78a018fa4f773 = L.marker(\n                [28.57325457, -80.64689529],\n                {}\n            ).addTo(marker_cluster_0504ff2e50b9ff81059249bf9abde0fb);\n        \n    \n            var icon_03fe0551782ae84049d6cc0cc6ef4104 = L.AwesomeMarkers.icon(\n                {&quot;extraClasses&quot;: &quot;fa-rotate-0&quot;, &quot;icon&quot;: &quot;info-sign&quot;, &quot;iconColor&quot;: &quot;green&quot;, &quot;markerColor&quot;: &quot;white&quot;, &quot;prefix&quot;: &quot;glyphicon&quot;}\n            );\n            marker_35ef4e2e2a93896f31b78a018fa4f773.setIcon(icon_03fe0551782ae84049d6cc0cc6ef4104);\n        \n    \n        var popup_668d23d192616d6830198c0a346c1302 = L.popup({&quot;maxWidth&quot;: &quot;100%&quot;});\n\n        \n            \n                var html_8e7afc658bd3f3071361daf2df758124 = $(`&lt;div id=&quot;html_8e7afc658bd3f3071361daf2df758124&quot; style=&quot;width: 100.0%; height: 100.0%;&quot;&gt;KSC LC-39A&lt;/div&gt;`)[0];\n                popup_668d23d192616d6830198c0a346c1302.setContent(html_8e7afc658bd3f3071361daf2df758124);\n            \n        \n\n        marker_35ef4e2e2a93896f31b78a018fa4f773.bindPopup(popup_668d23d192616d6830198c0a346c1302)\n        ;\n\n        \n    \n    \n            var marker_5897bcce464530376cfd75d27a526a1d = L.marker(\n                [28.57325457, -80.64689529],\n                {}\n            ).addTo(marker_cluster_0504ff2e50b9ff81059249bf9abde0fb);\n        \n    \n            var icon_f0de38b680af77f450ffa638f51b9046 = L.AwesomeMarkers.icon(\n                {&quot;extraClasses&quot;: &quot;fa-rotate-0&quot;, &quot;icon&quot;: &quot;info-sign&quot;, &quot;iconColor&quot;: &quot;red&quot;, &quot;markerColor&quot;: &quot;white&quot;, &quot;prefix&quot;: &quot;glyphicon&quot;}\n            );\n            marker_5897bcce464530376cfd75d27a526a1d.setIcon(icon_f0de38b680af77f450ffa638f51b9046);\n        \n    \n        var popup_e68239fd9eabad074de060273a731d76 = L.popup({&quot;maxWidth&quot;: &quot;100%&quot;});\n\n        \n            \n                var html_b345ee91206beaae4624d5dddbc0e726 = $(`&lt;div id=&quot;html_b345ee91206beaae4624d5dddbc0e726&quot; style=&quot;width: 100.0%; height: 100.0%;&quot;&gt;KSC LC-39A&lt;/div&gt;`)[0];\n                popup_e68239fd9eabad074de060273a731d76.setContent(html_b345ee91206beaae4624d5dddbc0e726);\n            \n        \n\n        marker_5897bcce464530376cfd75d27a526a1d.bindPopup(popup_e68239fd9eabad074de060273a731d76)\n        ;\n\n        \n    \n    \n            var marker_073c37564404baa9c5c7d1092f3fddfe = L.marker(\n                [28.57325457, -80.64689529],\n                {}\n            ).addTo(marker_cluster_0504ff2e50b9ff81059249bf9abde0fb);\n        \n    \n            var icon_205ce0236c016b4cd8000cd6658a4c5c = L.AwesomeMarkers.icon(\n                {&quot;extraClasses&quot;: &quot;fa-rotate-0&quot;, &quot;icon&quot;: &quot;info-sign&quot;, &quot;iconColor&quot;: &quot;green&quot;, &quot;markerColor&quot;: &quot;white&quot;, &quot;prefix&quot;: &quot;glyphicon&quot;}\n            );\n            marker_073c37564404baa9c5c7d1092f3fddfe.setIcon(icon_205ce0236c016b4cd8000cd6658a4c5c);\n        \n    \n        var popup_fb357a7586c7c3cc0314028ab7c8e34a = L.popup({&quot;maxWidth&quot;: &quot;100%&quot;});\n\n        \n            \n                var html_dbc7b828894545caf7427a83c01ba364 = $(`&lt;div id=&quot;html_dbc7b828894545caf7427a83c01ba364&quot; style=&quot;width: 100.0%; height: 100.0%;&quot;&gt;KSC LC-39A&lt;/div&gt;`)[0];\n                popup_fb357a7586c7c3cc0314028ab7c8e34a.setContent(html_dbc7b828894545caf7427a83c01ba364);\n            \n        \n\n        marker_073c37564404baa9c5c7d1092f3fddfe.bindPopup(popup_fb357a7586c7c3cc0314028ab7c8e34a)\n        ;\n\n        \n    \n    \n            var marker_0edf5ee3fae2d91c1988370c73e3e25c = L.marker(\n                [28.57325457, -80.64689529],\n                {}\n            ).addTo(marker_cluster_0504ff2e50b9ff81059249bf9abde0fb);\n        \n    \n            var icon_dfad7609d74a2be8156a530a3409e6db = L.AwesomeMarkers.icon(\n                {&quot;extraClasses&quot;: &quot;fa-rotate-0&quot;, &quot;icon&quot;: &quot;info-sign&quot;, &quot;iconColor&quot;: &quot;green&quot;, &quot;markerColor&quot;: &quot;white&quot;, &quot;prefix&quot;: &quot;glyphicon&quot;}\n            );\n            marker_0edf5ee3fae2d91c1988370c73e3e25c.setIcon(icon_dfad7609d74a2be8156a530a3409e6db);\n        \n    \n        var popup_a3fa00df932c464760dd69edc777bf4f = L.popup({&quot;maxWidth&quot;: &quot;100%&quot;});\n\n        \n            \n                var html_a31aeff6d4d9722a70e830422a208a53 = $(`&lt;div id=&quot;html_a31aeff6d4d9722a70e830422a208a53&quot; style=&quot;width: 100.0%; height: 100.0%;&quot;&gt;KSC LC-39A&lt;/div&gt;`)[0];\n                popup_a3fa00df932c464760dd69edc777bf4f.setContent(html_a31aeff6d4d9722a70e830422a208a53);\n            \n        \n\n        marker_0edf5ee3fae2d91c1988370c73e3e25c.bindPopup(popup_a3fa00df932c464760dd69edc777bf4f)\n        ;\n\n        \n    \n    \n            var marker_df03d9c4a02b0a0f18a5292b046fc36c = L.marker(\n                [28.57325457, -80.64689529],\n                {}\n            ).addTo(marker_cluster_0504ff2e50b9ff81059249bf9abde0fb);\n        \n    \n            var icon_844bd8237cae6942283afe8511badf5d = L.AwesomeMarkers.icon(\n                {&quot;extraClasses&quot;: &quot;fa-rotate-0&quot;, &quot;icon&quot;: &quot;info-sign&quot;, &quot;iconColor&quot;: &quot;green&quot;, &quot;markerColor&quot;: &quot;white&quot;, &quot;prefix&quot;: &quot;glyphicon&quot;}\n            );\n            marker_df03d9c4a02b0a0f18a5292b046fc36c.setIcon(icon_844bd8237cae6942283afe8511badf5d);\n        \n    \n        var popup_7b8b0d2f5aee431d86e44aa02070f354 = L.popup({&quot;maxWidth&quot;: &quot;100%&quot;});\n\n        \n            \n                var html_688b409a1f5a89eacabdfc7227cb948a = $(`&lt;div id=&quot;html_688b409a1f5a89eacabdfc7227cb948a&quot; style=&quot;width: 100.0%; height: 100.0%;&quot;&gt;KSC LC-39A&lt;/div&gt;`)[0];\n                popup_7b8b0d2f5aee431d86e44aa02070f354.setContent(html_688b409a1f5a89eacabdfc7227cb948a);\n            \n        \n\n        marker_df03d9c4a02b0a0f18a5292b046fc36c.bindPopup(popup_7b8b0d2f5aee431d86e44aa02070f354)\n        ;\n\n        \n    \n    \n            var marker_a7d6bf7b098bfd0e267d2359adaa013e = L.marker(\n                [28.57325457, -80.64689529],\n                {}\n            ).addTo(marker_cluster_0504ff2e50b9ff81059249bf9abde0fb);\n        \n    \n            var icon_e884af2a79092b657534c31751994b21 = L.AwesomeMarkers.icon(\n                {&quot;extraClasses&quot;: &quot;fa-rotate-0&quot;, &quot;icon&quot;: &quot;info-sign&quot;, &quot;iconColor&quot;: &quot;green&quot;, &quot;markerColor&quot;: &quot;white&quot;, &quot;prefix&quot;: &quot;glyphicon&quot;}\n            );\n            marker_a7d6bf7b098bfd0e267d2359adaa013e.setIcon(icon_e884af2a79092b657534c31751994b21);\n        \n    \n        var popup_42ad25b8cf844fc577974214799f3e7a = L.popup({&quot;maxWidth&quot;: &quot;100%&quot;});\n\n        \n            \n                var html_c2e07168cf8f1f234ff419ab45b89075 = $(`&lt;div id=&quot;html_c2e07168cf8f1f234ff419ab45b89075&quot; style=&quot;width: 100.0%; height: 100.0%;&quot;&gt;KSC LC-39A&lt;/div&gt;`)[0];\n                popup_42ad25b8cf844fc577974214799f3e7a.setContent(html_c2e07168cf8f1f234ff419ab45b89075);\n            \n        \n\n        marker_a7d6bf7b098bfd0e267d2359adaa013e.bindPopup(popup_42ad25b8cf844fc577974214799f3e7a)\n        ;\n\n        \n    \n    \n            var marker_6aa6558c135df419ccd2a96af2b68ae2 = L.marker(\n                [28.57325457, -80.64689529],\n                {}\n            ).addTo(marker_cluster_0504ff2e50b9ff81059249bf9abde0fb);\n        \n    \n            var icon_f658d00a9ea428fd6975b61d209de6c8 = L.AwesomeMarkers.icon(\n                {&quot;extraClasses&quot;: &quot;fa-rotate-0&quot;, &quot;icon&quot;: &quot;info-sign&quot;, &quot;iconColor&quot;: &quot;green&quot;, &quot;markerColor&quot;: &quot;white&quot;, &quot;prefix&quot;: &quot;glyphicon&quot;}\n            );\n            marker_6aa6558c135df419ccd2a96af2b68ae2.setIcon(icon_f658d00a9ea428fd6975b61d209de6c8);\n        \n    \n        var popup_30a01818b07ebe672eff8a4cd286aea8 = L.popup({&quot;maxWidth&quot;: &quot;100%&quot;});\n\n        \n            \n                var html_43a7ca168e96c485b2b80700d2a6314e = $(`&lt;div id=&quot;html_43a7ca168e96c485b2b80700d2a6314e&quot; style=&quot;width: 100.0%; height: 100.0%;&quot;&gt;KSC LC-39A&lt;/div&gt;`)[0];\n                popup_30a01818b07ebe672eff8a4cd286aea8.setContent(html_43a7ca168e96c485b2b80700d2a6314e);\n            \n        \n\n        marker_6aa6558c135df419ccd2a96af2b68ae2.bindPopup(popup_30a01818b07ebe672eff8a4cd286aea8)\n        ;\n\n        \n    \n    \n            var marker_2f9bcc945d7d12f200c0ec09aef32654 = L.marker(\n                [28.56319718, -80.57682003],\n                {}\n            ).addTo(marker_cluster_0504ff2e50b9ff81059249bf9abde0fb);\n        \n    \n            var icon_3797c1b291ce02b1038fc3e36939a831 = L.AwesomeMarkers.icon(\n                {&quot;extraClasses&quot;: &quot;fa-rotate-0&quot;, &quot;icon&quot;: &quot;info-sign&quot;, &quot;iconColor&quot;: &quot;green&quot;, &quot;markerColor&quot;: &quot;white&quot;, &quot;prefix&quot;: &quot;glyphicon&quot;}\n            );\n            marker_2f9bcc945d7d12f200c0ec09aef32654.setIcon(icon_3797c1b291ce02b1038fc3e36939a831);\n        \n    \n        var popup_d49915a286da777d5c85566fc9077a2c = L.popup({&quot;maxWidth&quot;: &quot;100%&quot;});\n\n        \n            \n                var html_9aa37b745358bf0cac70509e5dc00204 = $(`&lt;div id=&quot;html_9aa37b745358bf0cac70509e5dc00204&quot; style=&quot;width: 100.0%; height: 100.0%;&quot;&gt;CCAFS SLC-40&lt;/div&gt;`)[0];\n                popup_d49915a286da777d5c85566fc9077a2c.setContent(html_9aa37b745358bf0cac70509e5dc00204);\n            \n        \n\n        marker_2f9bcc945d7d12f200c0ec09aef32654.bindPopup(popup_d49915a286da777d5c85566fc9077a2c)\n        ;\n\n        \n    \n    \n            var marker_7ed79f662d171a6b5e20e63d368a47b5 = L.marker(\n                [28.56319718, -80.57682003],\n                {}\n            ).addTo(marker_cluster_0504ff2e50b9ff81059249bf9abde0fb);\n        \n    \n            var icon_39e8274342c887b0fd3e8390c2ecad6e = L.AwesomeMarkers.icon(\n                {&quot;extraClasses&quot;: &quot;fa-rotate-0&quot;, &quot;icon&quot;: &quot;info-sign&quot;, &quot;iconColor&quot;: &quot;green&quot;, &quot;markerColor&quot;: &quot;white&quot;, &quot;prefix&quot;: &quot;glyphicon&quot;}\n            );\n            marker_7ed79f662d171a6b5e20e63d368a47b5.setIcon(icon_39e8274342c887b0fd3e8390c2ecad6e);\n        \n    \n        var popup_44bfd8767c618cb150376f469ce649ed = L.popup({&quot;maxWidth&quot;: &quot;100%&quot;});\n\n        \n            \n                var html_784fb3ea69bcec8328c3f8fe8c01f285 = $(`&lt;div id=&quot;html_784fb3ea69bcec8328c3f8fe8c01f285&quot; style=&quot;width: 100.0%; height: 100.0%;&quot;&gt;CCAFS SLC-40&lt;/div&gt;`)[0];\n                popup_44bfd8767c618cb150376f469ce649ed.setContent(html_784fb3ea69bcec8328c3f8fe8c01f285);\n            \n        \n\n        marker_7ed79f662d171a6b5e20e63d368a47b5.bindPopup(popup_44bfd8767c618cb150376f469ce649ed)\n        ;\n\n        \n    \n    \n            var marker_ea1ab9b681a77935d136d78f32410452 = L.marker(\n                [28.56319718, -80.57682003],\n                {}\n            ).addTo(marker_cluster_0504ff2e50b9ff81059249bf9abde0fb);\n        \n    \n            var icon_1416fe27109318fd8bb1c51fdb16524d = L.AwesomeMarkers.icon(\n                {&quot;extraClasses&quot;: &quot;fa-rotate-0&quot;, &quot;icon&quot;: &quot;info-sign&quot;, &quot;iconColor&quot;: &quot;red&quot;, &quot;markerColor&quot;: &quot;white&quot;, &quot;prefix&quot;: &quot;glyphicon&quot;}\n            );\n            marker_ea1ab9b681a77935d136d78f32410452.setIcon(icon_1416fe27109318fd8bb1c51fdb16524d);\n        \n    \n        var popup_aa912c40a01caaf7d1e7d7418bba1cf5 = L.popup({&quot;maxWidth&quot;: &quot;100%&quot;});\n\n        \n            \n                var html_2a2d8525876194d8bb9ce7c2f8bda568 = $(`&lt;div id=&quot;html_2a2d8525876194d8bb9ce7c2f8bda568&quot; style=&quot;width: 100.0%; height: 100.0%;&quot;&gt;CCAFS SLC-40&lt;/div&gt;`)[0];\n                popup_aa912c40a01caaf7d1e7d7418bba1cf5.setContent(html_2a2d8525876194d8bb9ce7c2f8bda568);\n            \n        \n\n        marker_ea1ab9b681a77935d136d78f32410452.bindPopup(popup_aa912c40a01caaf7d1e7d7418bba1cf5)\n        ;\n\n        \n    \n    \n            var marker_c0c14b14249e51ecfbd9d886197f1aca = L.marker(\n                [28.56319718, -80.57682003],\n                {}\n            ).addTo(marker_cluster_0504ff2e50b9ff81059249bf9abde0fb);\n        \n    \n            var icon_9ebb8a39ac39eb5ca2f7b44f513ac717 = L.AwesomeMarkers.icon(\n                {&quot;extraClasses&quot;: &quot;fa-rotate-0&quot;, &quot;icon&quot;: &quot;info-sign&quot;, &quot;iconColor&quot;: &quot;red&quot;, &quot;markerColor&quot;: &quot;white&quot;, &quot;prefix&quot;: &quot;glyphicon&quot;}\n            );\n            marker_c0c14b14249e51ecfbd9d886197f1aca.setIcon(icon_9ebb8a39ac39eb5ca2f7b44f513ac717);\n        \n    \n        var popup_0e916059f37a472967a845cfa4ce0e2c = L.popup({&quot;maxWidth&quot;: &quot;100%&quot;});\n\n        \n            \n                var html_1abb3adb9cdf1cbdd4bbaed4a89e4862 = $(`&lt;div id=&quot;html_1abb3adb9cdf1cbdd4bbaed4a89e4862&quot; style=&quot;width: 100.0%; height: 100.0%;&quot;&gt;CCAFS SLC-40&lt;/div&gt;`)[0];\n                popup_0e916059f37a472967a845cfa4ce0e2c.setContent(html_1abb3adb9cdf1cbdd4bbaed4a89e4862);\n            \n        \n\n        marker_c0c14b14249e51ecfbd9d886197f1aca.bindPopup(popup_0e916059f37a472967a845cfa4ce0e2c)\n        ;\n\n        \n    \n    \n            var marker_c43efff3d5bde0f612533442a3fa15ce = L.marker(\n                [28.56319718, -80.57682003],\n                {}\n            ).addTo(marker_cluster_0504ff2e50b9ff81059249bf9abde0fb);\n        \n    \n            var icon_0a6665bccb3a30cea7694b065beb421b = L.AwesomeMarkers.icon(\n                {&quot;extraClasses&quot;: &quot;fa-rotate-0&quot;, &quot;icon&quot;: &quot;info-sign&quot;, &quot;iconColor&quot;: &quot;red&quot;, &quot;markerColor&quot;: &quot;white&quot;, &quot;prefix&quot;: &quot;glyphicon&quot;}\n            );\n            marker_c43efff3d5bde0f612533442a3fa15ce.setIcon(icon_0a6665bccb3a30cea7694b065beb421b);\n        \n    \n        var popup_3d2081b402599e651f8775750fc9e39b = L.popup({&quot;maxWidth&quot;: &quot;100%&quot;});\n\n        \n            \n                var html_6254c3ebaa267470347de5a428e2bea9 = $(`&lt;div id=&quot;html_6254c3ebaa267470347de5a428e2bea9&quot; style=&quot;width: 100.0%; height: 100.0%;&quot;&gt;CCAFS SLC-40&lt;/div&gt;`)[0];\n                popup_3d2081b402599e651f8775750fc9e39b.setContent(html_6254c3ebaa267470347de5a428e2bea9);\n            \n        \n\n        marker_c43efff3d5bde0f612533442a3fa15ce.bindPopup(popup_3d2081b402599e651f8775750fc9e39b)\n        ;\n\n        \n    \n    \n            var marker_5b715f47d0e9ad0d2285fb2f5ca345ef = L.marker(\n                [28.56319718, -80.57682003],\n                {}\n            ).addTo(marker_cluster_0504ff2e50b9ff81059249bf9abde0fb);\n        \n    \n            var icon_2bf1d111ebf5a6ae4dda564adacdc263 = L.AwesomeMarkers.icon(\n                {&quot;extraClasses&quot;: &quot;fa-rotate-0&quot;, &quot;icon&quot;: &quot;info-sign&quot;, &quot;iconColor&quot;: &quot;green&quot;, &quot;markerColor&quot;: &quot;white&quot;, &quot;prefix&quot;: &quot;glyphicon&quot;}\n            );\n            marker_5b715f47d0e9ad0d2285fb2f5ca345ef.setIcon(icon_2bf1d111ebf5a6ae4dda564adacdc263);\n        \n    \n        var popup_71e7b3fe75f39bbc663a594bd0295116 = L.popup({&quot;maxWidth&quot;: &quot;100%&quot;});\n\n        \n            \n                var html_1ce6a6f62021ee1d258406a197e224b9 = $(`&lt;div id=&quot;html_1ce6a6f62021ee1d258406a197e224b9&quot; style=&quot;width: 100.0%; height: 100.0%;&quot;&gt;CCAFS SLC-40&lt;/div&gt;`)[0];\n                popup_71e7b3fe75f39bbc663a594bd0295116.setContent(html_1ce6a6f62021ee1d258406a197e224b9);\n            \n        \n\n        marker_5b715f47d0e9ad0d2285fb2f5ca345ef.bindPopup(popup_71e7b3fe75f39bbc663a594bd0295116)\n        ;\n\n        \n    \n    \n            var marker_23de961327160889c2d9a569da63c520 = L.marker(\n                [28.56319718, -80.57682003],\n                {}\n            ).addTo(marker_cluster_0504ff2e50b9ff81059249bf9abde0fb);\n        \n    \n            var icon_761999362cd6eb59964c1e126594a63e = L.AwesomeMarkers.icon(\n                {&quot;extraClasses&quot;: &quot;fa-rotate-0&quot;, &quot;icon&quot;: &quot;info-sign&quot;, &quot;iconColor&quot;: &quot;red&quot;, &quot;markerColor&quot;: &quot;white&quot;, &quot;prefix&quot;: &quot;glyphicon&quot;}\n            );\n            marker_23de961327160889c2d9a569da63c520.setIcon(icon_761999362cd6eb59964c1e126594a63e);\n        \n    \n        var popup_9a1c049f8b027bc33fb430daa4534fac = L.popup({&quot;maxWidth&quot;: &quot;100%&quot;});\n\n        \n            \n                var html_6976790f761128ed3becba84cedd7447 = $(`&lt;div id=&quot;html_6976790f761128ed3becba84cedd7447&quot; style=&quot;width: 100.0%; height: 100.0%;&quot;&gt;CCAFS SLC-40&lt;/div&gt;`)[0];\n                popup_9a1c049f8b027bc33fb430daa4534fac.setContent(html_6976790f761128ed3becba84cedd7447);\n            \n        \n\n        marker_23de961327160889c2d9a569da63c520.bindPopup(popup_9a1c049f8b027bc33fb430daa4534fac)\n        ;\n\n        \n    \n    \n            marker_cluster_0504ff2e50b9ff81059249bf9abde0fb.addTo(map_8d3b6cf5b9ae068b02deec1419bcbb51);\n        \n    \n            tile_layer_5f77d4427cd19b57fee834993b1136f9.addTo(map_8d3b6cf5b9ae068b02deec1419bcbb51);\n        \n    \n            feature_group_c4c13f5d3d18f15094ef4bb98671d65e.addTo(map_8d3b6cf5b9ae068b02deec1419bcbb51);\n        \n    \n            marker_cluster_0504ff2e50b9ff81059249bf9abde0fb.addTo(map_8d3b6cf5b9ae068b02deec1419bcbb51);\n        \n    \n            var mouse_position_17e56b3065e5eed4691f11dc99fc4eef = new L.Control.MousePosition(\n                {&quot;emptyString&quot;: &quot;NaN&quot;, &quot;lngFirst&quot;: false, &quot;numDigits&quot;: 20, &quot;position&quot;: &quot;topright&quot;, &quot;prefix&quot;: &quot;Lat:&quot;, &quot;separator&quot;: &quot; Long: &quot;}\n            );\n            mouse_position_17e56b3065e5eed4691f11dc99fc4eef.options[&quot;latFormatter&quot;] =\n                function(num) {return L.Util.formatNum(num, 5);};;\n            mouse_position_17e56b3065e5eed4691f11dc99fc4eef.options[&quot;lngFormatter&quot;] =\n                function(num) {return L.Util.formatNum(num, 5);};;\n            map_8d3b6cf5b9ae068b02deec1419bcbb51.addControl(mouse_position_17e56b3065e5eed4691f11dc99fc4eef);\n        \n&lt;/script&gt;\n&lt;/html&gt;\" style=\"position:absolute;width:100%;height:100%;left:0;top:0;border:none !important;\" allowfullscreen webkitallowfullscreen mozallowfullscreen></iframe></div></div>"
          },
          "metadata": {}
        }
      ],
      "execution_count": 14
    },
    {
      "cell_type": "markdown",
      "source": "Now zoom in to a launch site and explore its proximity to see if you can easily find any railway, highway, coastline, etc. Move your mouse to these points and mark down their coordinates (shown on the top-left) in order to the distance to the launch site.\n",
      "metadata": {}
    },
    {
      "cell_type": "markdown",
      "source": "Now zoom in to a launch site and explore its proximity to see if you can easily find any railway, highway, coastline, etc. Move your mouse to these points and mark down their coordinates (shown on the top-left) in order to the distance to the launch site.\n",
      "metadata": {}
    },
    {
      "cell_type": "code",
      "source": "from math import sin, cos, sqrt, atan2, radians\n\ndef calculate_distance(lat1, lon1, lat2, lon2):\n    # approximate radius of earth in km\n    R = 6373.0\n\n    lat1 = radians(lat1)\n    lon1 = radians(lon1)\n    lat2 = radians(lat2)\n    lon2 = radians(lon2)\n\n    dlon = lon2 - lon1\n    dlat = lat2 - lat1\n\n    a = sin(dlat / 2)**2 + cos(lat1) * cos(lat2) * sin(dlon / 2)**2\n    c = 2 * atan2(sqrt(a), sqrt(1 - a))\n\n    distance = R * c\n    return distance",
      "metadata": {
        "trusted": true
      },
      "outputs": [],
      "execution_count": 15
    },
    {
      "cell_type": "markdown",
      "source": "*TODO:* Mark down a point on the closest coastline using MousePosition and calculate the distance between the coastline point and the launch site.\n",
      "metadata": {}
    },
    {
      "cell_type": "code",
      "source": "# find coordinate of the closet coastline\n# e.g.,: Lat: 28.56367  Lon: -80.57163\ndistance_coastline = calculate_distance(28.5733,-80.64686,28.57157,-80.6036)",
      "metadata": {
        "trusted": true
      },
      "outputs": [],
      "execution_count": 16
    },
    {
      "cell_type": "code",
      "source": "# Create and add a folium.Marker on your selected closest coastline point on the map\n# Display the distance between coastline point and launch site using the icon property \n# for example\ndistance_marker = folium.Marker(\n    [28.57157,-80.6036],\n    icon=DivIcon(\n        icon_size=(20,20),\n        icon_anchor=(0,0),\n        html='<div style=\"font-size: 12; color:#d35400;\"><b>%s</b></div>' % \"{:10.2f} KM\".format(distance_coastline),)).add_to(site_map)\n",
      "metadata": {
        "trusted": true
      },
      "outputs": [],
      "execution_count": 17
    },
    {
      "cell_type": "markdown",
      "source": "*TODO:* Draw a `PolyLine` between a launch site to the selected coastline point\n",
      "metadata": {}
    },
    {
      "cell_type": "code",
      "source": "# Create a `folium.PolyLine` object using the coastline coordinates and launch site coordinate\nlines=folium.PolyLine(locations=[[28.5733,-80.64686],[28.57157,-80.6036]], weight=1)\nsite_map.add_child(lines)",
      "metadata": {
        "trusted": true
      },
      "outputs": [
        {
          "execution_count": 18,
          "output_type": "execute_result",
          "data": {
            "text/plain": "<folium.folium.Map at 0x546e928>",
            "text/html": "<div style=\"width:100%;\"><div style=\"position:relative;width:100%;height:0;padding-bottom:60%;\"><span style=\"color:#565656\">Make this Notebook Trusted to load map: File -> Trust Notebook</span><iframe srcdoc=\"&lt;!DOCTYPE html&gt;\n&lt;html&gt;\n&lt;head&gt;\n    \n    &lt;meta http-equiv=&quot;content-type&quot; content=&quot;text/html; charset=UTF-8&quot; /&gt;\n    \n        &lt;script&gt;\n            L_NO_TOUCH = false;\n            L_DISABLE_3D = false;\n        &lt;/script&gt;\n    \n    &lt;style&gt;html, body {width: 100%;height: 100%;margin: 0;padding: 0;}&lt;/style&gt;\n    &lt;style&gt;#map {position:absolute;top:0;bottom:0;right:0;left:0;}&lt;/style&gt;\n    &lt;script src=&quot;https://cdn.jsdelivr.net/npm/leaflet@1.9.3/dist/leaflet.js&quot;&gt;&lt;/script&gt;\n    &lt;script src=&quot;https://code.jquery.com/jquery-3.7.1.min.js&quot;&gt;&lt;/script&gt;\n    &lt;script src=&quot;https://cdn.jsdelivr.net/npm/bootstrap@5.2.2/dist/js/bootstrap.bundle.min.js&quot;&gt;&lt;/script&gt;\n    &lt;script src=&quot;https://cdnjs.cloudflare.com/ajax/libs/Leaflet.awesome-markers/2.0.2/leaflet.awesome-markers.js&quot;&gt;&lt;/script&gt;\n    &lt;link rel=&quot;stylesheet&quot; href=&quot;https://cdn.jsdelivr.net/npm/leaflet@1.9.3/dist/leaflet.css&quot;/&gt;\n    &lt;link rel=&quot;stylesheet&quot; href=&quot;https://cdn.jsdelivr.net/npm/bootstrap@5.2.2/dist/css/bootstrap.min.css&quot;/&gt;\n    &lt;link rel=&quot;stylesheet&quot; href=&quot;https://netdna.bootstrapcdn.com/bootstrap/3.0.0/css/bootstrap-glyphicons.css&quot;/&gt;\n    &lt;link rel=&quot;stylesheet&quot; href=&quot;https://cdn.jsdelivr.net/npm/@fortawesome/fontawesome-free@6.2.0/css/all.min.css&quot;/&gt;\n    &lt;link rel=&quot;stylesheet&quot; href=&quot;https://cdnjs.cloudflare.com/ajax/libs/Leaflet.awesome-markers/2.0.2/leaflet.awesome-markers.css&quot;/&gt;\n    &lt;link rel=&quot;stylesheet&quot; href=&quot;https://cdn.jsdelivr.net/gh/python-visualization/folium/folium/templates/leaflet.awesome.rotate.min.css&quot;/&gt;\n    \n            &lt;meta name=&quot;viewport&quot; content=&quot;width=device-width,\n                initial-scale=1.0, maximum-scale=1.0, user-scalable=no&quot; /&gt;\n            &lt;style&gt;\n                #map_8d3b6cf5b9ae068b02deec1419bcbb51 {\n                    position: relative;\n                    width: 100.0%;\n                    height: 100.0%;\n                    left: 0.0%;\n                    top: 0.0%;\n                }\n                .leaflet-container { font-size: 1rem; }\n            &lt;/style&gt;\n        \n    &lt;script src=&quot;https://cdnjs.cloudflare.com/ajax/libs/leaflet.markercluster/1.1.0/leaflet.markercluster.js&quot;&gt;&lt;/script&gt;\n    &lt;link rel=&quot;stylesheet&quot; href=&quot;https://cdnjs.cloudflare.com/ajax/libs/leaflet.markercluster/1.1.0/MarkerCluster.css&quot;/&gt;\n    &lt;link rel=&quot;stylesheet&quot; href=&quot;https://cdnjs.cloudflare.com/ajax/libs/leaflet.markercluster/1.1.0/MarkerCluster.Default.css&quot;/&gt;\n    &lt;script src=&quot;https://cdn.jsdelivr.net/gh/ardhi/Leaflet.MousePosition/src/L.Control.MousePosition.min.js&quot;&gt;&lt;/script&gt;\n    &lt;link rel=&quot;stylesheet&quot; href=&quot;https://cdn.jsdelivr.net/gh/ardhi/Leaflet.MousePosition/src/L.Control.MousePosition.min.css&quot;/&gt;\n&lt;/head&gt;\n&lt;body&gt;\n    \n    \n            &lt;div class=&quot;folium-map&quot; id=&quot;map_8d3b6cf5b9ae068b02deec1419bcbb51&quot; &gt;&lt;/div&gt;\n        \n&lt;/body&gt;\n&lt;script&gt;\n    \n    \n            var map_8d3b6cf5b9ae068b02deec1419bcbb51 = L.map(\n                &quot;map_8d3b6cf5b9ae068b02deec1419bcbb51&quot;,\n                {\n                    center: [29.559684888503615, -95.0830971930759],\n                    crs: L.CRS.EPSG3857,\n                    zoom: 4,\n                    zoomControl: true,\n                    preferCanvas: false,\n                }\n            );\n\n            \n\n        \n    \n            var tile_layer_5f77d4427cd19b57fee834993b1136f9 = L.tileLayer(\n                &quot;https://tile.openstreetmap.org/{z}/{x}/{y}.png&quot;,\n                {&quot;attribution&quot;: &quot;\\u0026copy; \\u003ca href=\\&quot;https://www.openstreetmap.org/copyright\\&quot;\\u003eOpenStreetMap\\u003c/a\\u003e contributors&quot;, &quot;detectRetina&quot;: false, &quot;maxNativeZoom&quot;: 19, &quot;maxZoom&quot;: 19, &quot;minZoom&quot;: 0, &quot;noWrap&quot;: false, &quot;opacity&quot;: 1, &quot;subdomains&quot;: &quot;abc&quot;, &quot;tms&quot;: false}\n            );\n        \n    \n            tile_layer_5f77d4427cd19b57fee834993b1136f9.addTo(map_8d3b6cf5b9ae068b02deec1419bcbb51);\n        \n    \n            var marker_2e31075d6160df7df01458d26410099b = L.marker(\n                [28.56230197, -80.57735648],\n                {}\n            ).addTo(map_8d3b6cf5b9ae068b02deec1419bcbb51);\n        \n    \n            var div_icon_7b9859d46238ee8cce38e99267c7289c = L.divIcon({&quot;className&quot;: &quot;empty&quot;, &quot;html&quot;: &quot;\\u003cdiv style=\\&quot;font-size: 12; color:#d35400;\\&quot;\\u003e\\u003cb\\u003eCCAFS LC-40\\u003c/b\\u003e\\u003c/div\\u003e&quot;, &quot;iconAnchor&quot;: [0, 0], &quot;iconSize&quot;: [20, 20]});\n            marker_2e31075d6160df7df01458d26410099b.setIcon(div_icon_7b9859d46238ee8cce38e99267c7289c);\n        \n    \n            var marker_daab8393e90259182877d99d74b9be4c = L.marker(\n                [28.56319718, -80.57682003],\n                {}\n            ).addTo(map_8d3b6cf5b9ae068b02deec1419bcbb51);\n        \n    \n            var div_icon_74e786d8924e14eb21efcc6ccc8c3ea8 = L.divIcon({&quot;className&quot;: &quot;empty&quot;, &quot;html&quot;: &quot;\\u003cdiv style=\\&quot;font-size: 12; color:#d35400;\\&quot;\\u003e\\u003cb\\u003eCCAFS SLC-40\\u003c/b\\u003e\\u003c/div\\u003e&quot;, &quot;iconAnchor&quot;: [0, 0], &quot;iconSize&quot;: [20, 20]});\n            marker_daab8393e90259182877d99d74b9be4c.setIcon(div_icon_74e786d8924e14eb21efcc6ccc8c3ea8);\n        \n    \n            var marker_68127823e4f72ff607bc4071c115b252 = L.marker(\n                [28.57325457, -80.64689529],\n                {}\n            ).addTo(map_8d3b6cf5b9ae068b02deec1419bcbb51);\n        \n    \n            var div_icon_567b664c075741504fb5df215913db7d = L.divIcon({&quot;className&quot;: &quot;empty&quot;, &quot;html&quot;: &quot;\\u003cdiv style=\\&quot;font-size: 12; color:#d35400;\\&quot;\\u003e\\u003cb\\u003eKSC LC-39A\\u003c/b\\u003e\\u003c/div\\u003e&quot;, &quot;iconAnchor&quot;: [0, 0], &quot;iconSize&quot;: [20, 20]});\n            marker_68127823e4f72ff607bc4071c115b252.setIcon(div_icon_567b664c075741504fb5df215913db7d);\n        \n    \n            var marker_01d2e5851418520a7789b25185ff4ab3 = L.marker(\n                [34.63283416, -120.6107455],\n                {}\n            ).addTo(map_8d3b6cf5b9ae068b02deec1419bcbb51);\n        \n    \n            var div_icon_b0264f86aad5da5d60de698465ee63b7 = L.divIcon({&quot;className&quot;: &quot;empty&quot;, &quot;html&quot;: &quot;\\u003cdiv style=\\&quot;font-size: 12; color:#d35400;\\&quot;\\u003e\\u003cb\\u003eVAFB SLC-4E\\u003c/b\\u003e\\u003c/div\\u003e&quot;, &quot;iconAnchor&quot;: [0, 0], &quot;iconSize&quot;: [20, 20]});\n            marker_01d2e5851418520a7789b25185ff4ab3.setIcon(div_icon_b0264f86aad5da5d60de698465ee63b7);\n        \n    \n            var feature_group_c4c13f5d3d18f15094ef4bb98671d65e = L.featureGroup(\n                {}\n            );\n        \n    \n            var circle_marker_e1f9184a07fcc440fd375460e9a26c14 = L.circleMarker(\n                [28.56230197, -80.57735648],\n                {&quot;bubblingMouseEvents&quot;: true, &quot;color&quot;: &quot;#d35400&quot;, &quot;dashArray&quot;: null, &quot;dashOffset&quot;: null, &quot;fill&quot;: true, &quot;fillColor&quot;: &quot;#d35400&quot;, &quot;fillOpacity&quot;: 0.2, &quot;fillRule&quot;: &quot;evenodd&quot;, &quot;lineCap&quot;: &quot;round&quot;, &quot;lineJoin&quot;: &quot;round&quot;, &quot;opacity&quot;: 1.0, &quot;radius&quot;: 5, &quot;stroke&quot;: true, &quot;weight&quot;: 3}\n            ).addTo(feature_group_c4c13f5d3d18f15094ef4bb98671d65e);\n        \n    \n            var circle_marker_2aadb29ca5d5a9080dc7d47c40991264 = L.circleMarker(\n                [28.56319718, -80.57682003],\n                {&quot;bubblingMouseEvents&quot;: true, &quot;color&quot;: &quot;#d35400&quot;, &quot;dashArray&quot;: null, &quot;dashOffset&quot;: null, &quot;fill&quot;: true, &quot;fillColor&quot;: &quot;#d35400&quot;, &quot;fillOpacity&quot;: 0.2, &quot;fillRule&quot;: &quot;evenodd&quot;, &quot;lineCap&quot;: &quot;round&quot;, &quot;lineJoin&quot;: &quot;round&quot;, &quot;opacity&quot;: 1.0, &quot;radius&quot;: 5, &quot;stroke&quot;: true, &quot;weight&quot;: 3}\n            ).addTo(feature_group_c4c13f5d3d18f15094ef4bb98671d65e);\n        \n    \n            var circle_marker_c5fe54752b9176395d1ef6b8b30fe668 = L.circleMarker(\n                [28.57325457, -80.64689529],\n                {&quot;bubblingMouseEvents&quot;: true, &quot;color&quot;: &quot;#d35400&quot;, &quot;dashArray&quot;: null, &quot;dashOffset&quot;: null, &quot;fill&quot;: true, &quot;fillColor&quot;: &quot;#d35400&quot;, &quot;fillOpacity&quot;: 0.2, &quot;fillRule&quot;: &quot;evenodd&quot;, &quot;lineCap&quot;: &quot;round&quot;, &quot;lineJoin&quot;: &quot;round&quot;, &quot;opacity&quot;: 1.0, &quot;radius&quot;: 5, &quot;stroke&quot;: true, &quot;weight&quot;: 3}\n            ).addTo(feature_group_c4c13f5d3d18f15094ef4bb98671d65e);\n        \n    \n            var circle_marker_31a0e096e127657047991b583089548e = L.circleMarker(\n                [34.63283416, -120.6107455],\n                {&quot;bubblingMouseEvents&quot;: true, &quot;color&quot;: &quot;#d35400&quot;, &quot;dashArray&quot;: null, &quot;dashOffset&quot;: null, &quot;fill&quot;: true, &quot;fillColor&quot;: &quot;#d35400&quot;, &quot;fillOpacity&quot;: 0.2, &quot;fillRule&quot;: &quot;evenodd&quot;, &quot;lineCap&quot;: &quot;round&quot;, &quot;lineJoin&quot;: &quot;round&quot;, &quot;opacity&quot;: 1.0, &quot;radius&quot;: 5, &quot;stroke&quot;: true, &quot;weight&quot;: 3}\n            ).addTo(feature_group_c4c13f5d3d18f15094ef4bb98671d65e);\n        \n    \n            feature_group_c4c13f5d3d18f15094ef4bb98671d65e.addTo(map_8d3b6cf5b9ae068b02deec1419bcbb51);\n        \n    \n            tile_layer_5f77d4427cd19b57fee834993b1136f9.addTo(map_8d3b6cf5b9ae068b02deec1419bcbb51);\n        \n    \n            feature_group_c4c13f5d3d18f15094ef4bb98671d65e.addTo(map_8d3b6cf5b9ae068b02deec1419bcbb51);\n        \n    \n            var marker_cluster_0504ff2e50b9ff81059249bf9abde0fb = L.markerClusterGroup(\n                {}\n            );\n        \n    \n            var marker_11a8e11228a84a828ce2ebd8daeb63ec = L.marker(\n                [28.56230197, -80.57735648],\n                {}\n            ).addTo(marker_cluster_0504ff2e50b9ff81059249bf9abde0fb);\n        \n    \n            var icon_483a68947516155caa1a16ddf24cd5f7 = L.AwesomeMarkers.icon(\n                {&quot;extraClasses&quot;: &quot;fa-rotate-0&quot;, &quot;icon&quot;: &quot;info-sign&quot;, &quot;iconColor&quot;: &quot;red&quot;, &quot;markerColor&quot;: &quot;white&quot;, &quot;prefix&quot;: &quot;glyphicon&quot;}\n            );\n            marker_11a8e11228a84a828ce2ebd8daeb63ec.setIcon(icon_483a68947516155caa1a16ddf24cd5f7);\n        \n    \n        var popup_07b811736e289340b28327741ad90f0c = L.popup({&quot;maxWidth&quot;: &quot;100%&quot;});\n\n        \n            \n                var html_3ab07d7e53a22541b9bad0afe03c8cb7 = $(`&lt;div id=&quot;html_3ab07d7e53a22541b9bad0afe03c8cb7&quot; style=&quot;width: 100.0%; height: 100.0%;&quot;&gt;CCAFS LC-40&lt;/div&gt;`)[0];\n                popup_07b811736e289340b28327741ad90f0c.setContent(html_3ab07d7e53a22541b9bad0afe03c8cb7);\n            \n        \n\n        marker_11a8e11228a84a828ce2ebd8daeb63ec.bindPopup(popup_07b811736e289340b28327741ad90f0c)\n        ;\n\n        \n    \n    \n            var marker_918a4eb71f85ba1950efb3f43123bb54 = L.marker(\n                [28.56230197, -80.57735648],\n                {}\n            ).addTo(marker_cluster_0504ff2e50b9ff81059249bf9abde0fb);\n        \n    \n            var icon_4dd2a66dffacac8a15e73b7b6f27c946 = L.AwesomeMarkers.icon(\n                {&quot;extraClasses&quot;: &quot;fa-rotate-0&quot;, &quot;icon&quot;: &quot;info-sign&quot;, &quot;iconColor&quot;: &quot;red&quot;, &quot;markerColor&quot;: &quot;white&quot;, &quot;prefix&quot;: &quot;glyphicon&quot;}\n            );\n            marker_918a4eb71f85ba1950efb3f43123bb54.setIcon(icon_4dd2a66dffacac8a15e73b7b6f27c946);\n        \n    \n        var popup_e6e775321b099285f26b78a0690514fe = L.popup({&quot;maxWidth&quot;: &quot;100%&quot;});\n\n        \n            \n                var html_a521870599d437a91122834741f8e1e8 = $(`&lt;div id=&quot;html_a521870599d437a91122834741f8e1e8&quot; style=&quot;width: 100.0%; height: 100.0%;&quot;&gt;CCAFS LC-40&lt;/div&gt;`)[0];\n                popup_e6e775321b099285f26b78a0690514fe.setContent(html_a521870599d437a91122834741f8e1e8);\n            \n        \n\n        marker_918a4eb71f85ba1950efb3f43123bb54.bindPopup(popup_e6e775321b099285f26b78a0690514fe)\n        ;\n\n        \n    \n    \n            var marker_000caa175c1668c746d20772b80f8a12 = L.marker(\n                [28.56230197, -80.57735648],\n                {}\n            ).addTo(marker_cluster_0504ff2e50b9ff81059249bf9abde0fb);\n        \n    \n            var icon_e5eaccb969bf94b965166d888ca6fd86 = L.AwesomeMarkers.icon(\n                {&quot;extraClasses&quot;: &quot;fa-rotate-0&quot;, &quot;icon&quot;: &quot;info-sign&quot;, &quot;iconColor&quot;: &quot;red&quot;, &quot;markerColor&quot;: &quot;white&quot;, &quot;prefix&quot;: &quot;glyphicon&quot;}\n            );\n            marker_000caa175c1668c746d20772b80f8a12.setIcon(icon_e5eaccb969bf94b965166d888ca6fd86);\n        \n    \n        var popup_b331e4990ae2090146063e1d48c1b88f = L.popup({&quot;maxWidth&quot;: &quot;100%&quot;});\n\n        \n            \n                var html_9fa62b146aa733b61337fa1b0006bb18 = $(`&lt;div id=&quot;html_9fa62b146aa733b61337fa1b0006bb18&quot; style=&quot;width: 100.0%; height: 100.0%;&quot;&gt;CCAFS LC-40&lt;/div&gt;`)[0];\n                popup_b331e4990ae2090146063e1d48c1b88f.setContent(html_9fa62b146aa733b61337fa1b0006bb18);\n            \n        \n\n        marker_000caa175c1668c746d20772b80f8a12.bindPopup(popup_b331e4990ae2090146063e1d48c1b88f)\n        ;\n\n        \n    \n    \n            var marker_71c5de633b17a36d74e38d269115d035 = L.marker(\n                [28.56230197, -80.57735648],\n                {}\n            ).addTo(marker_cluster_0504ff2e50b9ff81059249bf9abde0fb);\n        \n    \n            var icon_df87aa2111e4264cbb403e52e2e86e09 = L.AwesomeMarkers.icon(\n                {&quot;extraClasses&quot;: &quot;fa-rotate-0&quot;, &quot;icon&quot;: &quot;info-sign&quot;, &quot;iconColor&quot;: &quot;red&quot;, &quot;markerColor&quot;: &quot;white&quot;, &quot;prefix&quot;: &quot;glyphicon&quot;}\n            );\n            marker_71c5de633b17a36d74e38d269115d035.setIcon(icon_df87aa2111e4264cbb403e52e2e86e09);\n        \n    \n        var popup_a0bd8dfc38bfb6d28a138610fb442934 = L.popup({&quot;maxWidth&quot;: &quot;100%&quot;});\n\n        \n            \n                var html_12081c322661eb5e534d77b802fc86ce = $(`&lt;div id=&quot;html_12081c322661eb5e534d77b802fc86ce&quot; style=&quot;width: 100.0%; height: 100.0%;&quot;&gt;CCAFS LC-40&lt;/div&gt;`)[0];\n                popup_a0bd8dfc38bfb6d28a138610fb442934.setContent(html_12081c322661eb5e534d77b802fc86ce);\n            \n        \n\n        marker_71c5de633b17a36d74e38d269115d035.bindPopup(popup_a0bd8dfc38bfb6d28a138610fb442934)\n        ;\n\n        \n    \n    \n            var marker_fe48ed96c2411e6125db7e4daef64841 = L.marker(\n                [28.56230197, -80.57735648],\n                {}\n            ).addTo(marker_cluster_0504ff2e50b9ff81059249bf9abde0fb);\n        \n    \n            var icon_74edd004f4b9b894e98618146c44430b = L.AwesomeMarkers.icon(\n                {&quot;extraClasses&quot;: &quot;fa-rotate-0&quot;, &quot;icon&quot;: &quot;info-sign&quot;, &quot;iconColor&quot;: &quot;red&quot;, &quot;markerColor&quot;: &quot;white&quot;, &quot;prefix&quot;: &quot;glyphicon&quot;}\n            );\n            marker_fe48ed96c2411e6125db7e4daef64841.setIcon(icon_74edd004f4b9b894e98618146c44430b);\n        \n    \n        var popup_cb64e459c53f16e4486a27f35ad0371c = L.popup({&quot;maxWidth&quot;: &quot;100%&quot;});\n\n        \n            \n                var html_21ba1c193bdb10b56ad036c559869b6c = $(`&lt;div id=&quot;html_21ba1c193bdb10b56ad036c559869b6c&quot; style=&quot;width: 100.0%; height: 100.0%;&quot;&gt;CCAFS LC-40&lt;/div&gt;`)[0];\n                popup_cb64e459c53f16e4486a27f35ad0371c.setContent(html_21ba1c193bdb10b56ad036c559869b6c);\n            \n        \n\n        marker_fe48ed96c2411e6125db7e4daef64841.bindPopup(popup_cb64e459c53f16e4486a27f35ad0371c)\n        ;\n\n        \n    \n    \n            var marker_0eff492c35371cab941d6b18e00c0fd1 = L.marker(\n                [28.56230197, -80.57735648],\n                {}\n            ).addTo(marker_cluster_0504ff2e50b9ff81059249bf9abde0fb);\n        \n    \n            var icon_b874ae859dfe89facaba6482464e203c = L.AwesomeMarkers.icon(\n                {&quot;extraClasses&quot;: &quot;fa-rotate-0&quot;, &quot;icon&quot;: &quot;info-sign&quot;, &quot;iconColor&quot;: &quot;red&quot;, &quot;markerColor&quot;: &quot;white&quot;, &quot;prefix&quot;: &quot;glyphicon&quot;}\n            );\n            marker_0eff492c35371cab941d6b18e00c0fd1.setIcon(icon_b874ae859dfe89facaba6482464e203c);\n        \n    \n        var popup_e353626493e06f6bc1dcb3ab001d30c0 = L.popup({&quot;maxWidth&quot;: &quot;100%&quot;});\n\n        \n            \n                var html_ea301d1675a9cbcef090c9c4a65fbc25 = $(`&lt;div id=&quot;html_ea301d1675a9cbcef090c9c4a65fbc25&quot; style=&quot;width: 100.0%; height: 100.0%;&quot;&gt;CCAFS LC-40&lt;/div&gt;`)[0];\n                popup_e353626493e06f6bc1dcb3ab001d30c0.setContent(html_ea301d1675a9cbcef090c9c4a65fbc25);\n            \n        \n\n        marker_0eff492c35371cab941d6b18e00c0fd1.bindPopup(popup_e353626493e06f6bc1dcb3ab001d30c0)\n        ;\n\n        \n    \n    \n            var marker_ef8f93189de4e2c497fced0cbb101601 = L.marker(\n                [28.56230197, -80.57735648],\n                {}\n            ).addTo(marker_cluster_0504ff2e50b9ff81059249bf9abde0fb);\n        \n    \n            var icon_b6e5674288bd0c4871c9ae733b57363a = L.AwesomeMarkers.icon(\n                {&quot;extraClasses&quot;: &quot;fa-rotate-0&quot;, &quot;icon&quot;: &quot;info-sign&quot;, &quot;iconColor&quot;: &quot;red&quot;, &quot;markerColor&quot;: &quot;white&quot;, &quot;prefix&quot;: &quot;glyphicon&quot;}\n            );\n            marker_ef8f93189de4e2c497fced0cbb101601.setIcon(icon_b6e5674288bd0c4871c9ae733b57363a);\n        \n    \n        var popup_0ffd81ff7e5bdfc4486cb92ab7ef03ad = L.popup({&quot;maxWidth&quot;: &quot;100%&quot;});\n\n        \n            \n                var html_67d32ae1a01db9fb2d182d80eec10b3b = $(`&lt;div id=&quot;html_67d32ae1a01db9fb2d182d80eec10b3b&quot; style=&quot;width: 100.0%; height: 100.0%;&quot;&gt;CCAFS LC-40&lt;/div&gt;`)[0];\n                popup_0ffd81ff7e5bdfc4486cb92ab7ef03ad.setContent(html_67d32ae1a01db9fb2d182d80eec10b3b);\n            \n        \n\n        marker_ef8f93189de4e2c497fced0cbb101601.bindPopup(popup_0ffd81ff7e5bdfc4486cb92ab7ef03ad)\n        ;\n\n        \n    \n    \n            var marker_c06ea8ad18129c9c670ba7a1a2ec15e9 = L.marker(\n                [28.56230197, -80.57735648],\n                {}\n            ).addTo(marker_cluster_0504ff2e50b9ff81059249bf9abde0fb);\n        \n    \n            var icon_e88e5ba66ed32b2c407f9e983ccdb1d7 = L.AwesomeMarkers.icon(\n                {&quot;extraClasses&quot;: &quot;fa-rotate-0&quot;, &quot;icon&quot;: &quot;info-sign&quot;, &quot;iconColor&quot;: &quot;red&quot;, &quot;markerColor&quot;: &quot;white&quot;, &quot;prefix&quot;: &quot;glyphicon&quot;}\n            );\n            marker_c06ea8ad18129c9c670ba7a1a2ec15e9.setIcon(icon_e88e5ba66ed32b2c407f9e983ccdb1d7);\n        \n    \n        var popup_1740ed287b9516ca1dfb4fae2dbf5c93 = L.popup({&quot;maxWidth&quot;: &quot;100%&quot;});\n\n        \n            \n                var html_63046fffa1c52f48ea3cf3cf53f02162 = $(`&lt;div id=&quot;html_63046fffa1c52f48ea3cf3cf53f02162&quot; style=&quot;width: 100.0%; height: 100.0%;&quot;&gt;CCAFS LC-40&lt;/div&gt;`)[0];\n                popup_1740ed287b9516ca1dfb4fae2dbf5c93.setContent(html_63046fffa1c52f48ea3cf3cf53f02162);\n            \n        \n\n        marker_c06ea8ad18129c9c670ba7a1a2ec15e9.bindPopup(popup_1740ed287b9516ca1dfb4fae2dbf5c93)\n        ;\n\n        \n    \n    \n            var marker_6178c24585c197f1b5df28d5f77714ad = L.marker(\n                [28.56230197, -80.57735648],\n                {}\n            ).addTo(marker_cluster_0504ff2e50b9ff81059249bf9abde0fb);\n        \n    \n            var icon_a9480d7e1dc5a44441450a6dab24bdd1 = L.AwesomeMarkers.icon(\n                {&quot;extraClasses&quot;: &quot;fa-rotate-0&quot;, &quot;icon&quot;: &quot;info-sign&quot;, &quot;iconColor&quot;: &quot;red&quot;, &quot;markerColor&quot;: &quot;white&quot;, &quot;prefix&quot;: &quot;glyphicon&quot;}\n            );\n            marker_6178c24585c197f1b5df28d5f77714ad.setIcon(icon_a9480d7e1dc5a44441450a6dab24bdd1);\n        \n    \n        var popup_8a93e8ece7ab0894e9b64b33252d1240 = L.popup({&quot;maxWidth&quot;: &quot;100%&quot;});\n\n        \n            \n                var html_30571e8e335fd8e1c596c7b9d57cd684 = $(`&lt;div id=&quot;html_30571e8e335fd8e1c596c7b9d57cd684&quot; style=&quot;width: 100.0%; height: 100.0%;&quot;&gt;CCAFS LC-40&lt;/div&gt;`)[0];\n                popup_8a93e8ece7ab0894e9b64b33252d1240.setContent(html_30571e8e335fd8e1c596c7b9d57cd684);\n            \n        \n\n        marker_6178c24585c197f1b5df28d5f77714ad.bindPopup(popup_8a93e8ece7ab0894e9b64b33252d1240)\n        ;\n\n        \n    \n    \n            var marker_522333efc78801ef6b3affb952178928 = L.marker(\n                [28.56230197, -80.57735648],\n                {}\n            ).addTo(marker_cluster_0504ff2e50b9ff81059249bf9abde0fb);\n        \n    \n            var icon_4242231cccc4d2522265f4a98a19f06a = L.AwesomeMarkers.icon(\n                {&quot;extraClasses&quot;: &quot;fa-rotate-0&quot;, &quot;icon&quot;: &quot;info-sign&quot;, &quot;iconColor&quot;: &quot;red&quot;, &quot;markerColor&quot;: &quot;white&quot;, &quot;prefix&quot;: &quot;glyphicon&quot;}\n            );\n            marker_522333efc78801ef6b3affb952178928.setIcon(icon_4242231cccc4d2522265f4a98a19f06a);\n        \n    \n        var popup_48c95caa54341f6689742d17613f25b5 = L.popup({&quot;maxWidth&quot;: &quot;100%&quot;});\n\n        \n            \n                var html_5df8fc91cb6c3b770f3cffc5641d2f20 = $(`&lt;div id=&quot;html_5df8fc91cb6c3b770f3cffc5641d2f20&quot; style=&quot;width: 100.0%; height: 100.0%;&quot;&gt;CCAFS LC-40&lt;/div&gt;`)[0];\n                popup_48c95caa54341f6689742d17613f25b5.setContent(html_5df8fc91cb6c3b770f3cffc5641d2f20);\n            \n        \n\n        marker_522333efc78801ef6b3affb952178928.bindPopup(popup_48c95caa54341f6689742d17613f25b5)\n        ;\n\n        \n    \n    \n            var marker_9e7ca90a7a3329936d137cd4013b43c9 = L.marker(\n                [28.56230197, -80.57735648],\n                {}\n            ).addTo(marker_cluster_0504ff2e50b9ff81059249bf9abde0fb);\n        \n    \n            var icon_adcfd09d7ef84ef569777e37045a6afa = L.AwesomeMarkers.icon(\n                {&quot;extraClasses&quot;: &quot;fa-rotate-0&quot;, &quot;icon&quot;: &quot;info-sign&quot;, &quot;iconColor&quot;: &quot;red&quot;, &quot;markerColor&quot;: &quot;white&quot;, &quot;prefix&quot;: &quot;glyphicon&quot;}\n            );\n            marker_9e7ca90a7a3329936d137cd4013b43c9.setIcon(icon_adcfd09d7ef84ef569777e37045a6afa);\n        \n    \n        var popup_52b584cf6f1c071dcf0669052b2b0a3b = L.popup({&quot;maxWidth&quot;: &quot;100%&quot;});\n\n        \n            \n                var html_9e3867533a32051bee41c7cb7850f690 = $(`&lt;div id=&quot;html_9e3867533a32051bee41c7cb7850f690&quot; style=&quot;width: 100.0%; height: 100.0%;&quot;&gt;CCAFS LC-40&lt;/div&gt;`)[0];\n                popup_52b584cf6f1c071dcf0669052b2b0a3b.setContent(html_9e3867533a32051bee41c7cb7850f690);\n            \n        \n\n        marker_9e7ca90a7a3329936d137cd4013b43c9.bindPopup(popup_52b584cf6f1c071dcf0669052b2b0a3b)\n        ;\n\n        \n    \n    \n            var marker_d6faa06fde810b97c34c1887eb16ad01 = L.marker(\n                [28.56230197, -80.57735648],\n                {}\n            ).addTo(marker_cluster_0504ff2e50b9ff81059249bf9abde0fb);\n        \n    \n            var icon_eaf4d1c12c056338b826c604ff23c1dd = L.AwesomeMarkers.icon(\n                {&quot;extraClasses&quot;: &quot;fa-rotate-0&quot;, &quot;icon&quot;: &quot;info-sign&quot;, &quot;iconColor&quot;: &quot;red&quot;, &quot;markerColor&quot;: &quot;white&quot;, &quot;prefix&quot;: &quot;glyphicon&quot;}\n            );\n            marker_d6faa06fde810b97c34c1887eb16ad01.setIcon(icon_eaf4d1c12c056338b826c604ff23c1dd);\n        \n    \n        var popup_55a9bdb7e7e9ceaece20ecd8e79e31a5 = L.popup({&quot;maxWidth&quot;: &quot;100%&quot;});\n\n        \n            \n                var html_8337dec88605e2c420ef59d661c6483a = $(`&lt;div id=&quot;html_8337dec88605e2c420ef59d661c6483a&quot; style=&quot;width: 100.0%; height: 100.0%;&quot;&gt;CCAFS LC-40&lt;/div&gt;`)[0];\n                popup_55a9bdb7e7e9ceaece20ecd8e79e31a5.setContent(html_8337dec88605e2c420ef59d661c6483a);\n            \n        \n\n        marker_d6faa06fde810b97c34c1887eb16ad01.bindPopup(popup_55a9bdb7e7e9ceaece20ecd8e79e31a5)\n        ;\n\n        \n    \n    \n            var marker_e0eda54a2d178be3ee6bf74fccfaa3c4 = L.marker(\n                [28.56230197, -80.57735648],\n                {}\n            ).addTo(marker_cluster_0504ff2e50b9ff81059249bf9abde0fb);\n        \n    \n            var icon_eb3d4e762daf99520e82b33c0242491d = L.AwesomeMarkers.icon(\n                {&quot;extraClasses&quot;: &quot;fa-rotate-0&quot;, &quot;icon&quot;: &quot;info-sign&quot;, &quot;iconColor&quot;: &quot;red&quot;, &quot;markerColor&quot;: &quot;white&quot;, &quot;prefix&quot;: &quot;glyphicon&quot;}\n            );\n            marker_e0eda54a2d178be3ee6bf74fccfaa3c4.setIcon(icon_eb3d4e762daf99520e82b33c0242491d);\n        \n    \n        var popup_5f82f47db7ceb50f45e8e83cf9216e7c = L.popup({&quot;maxWidth&quot;: &quot;100%&quot;});\n\n        \n            \n                var html_5709a3be531840ee8aa565654cb54618 = $(`&lt;div id=&quot;html_5709a3be531840ee8aa565654cb54618&quot; style=&quot;width: 100.0%; height: 100.0%;&quot;&gt;CCAFS LC-40&lt;/div&gt;`)[0];\n                popup_5f82f47db7ceb50f45e8e83cf9216e7c.setContent(html_5709a3be531840ee8aa565654cb54618);\n            \n        \n\n        marker_e0eda54a2d178be3ee6bf74fccfaa3c4.bindPopup(popup_5f82f47db7ceb50f45e8e83cf9216e7c)\n        ;\n\n        \n    \n    \n            var marker_eb71685571155e3c2d530b81999e9f18 = L.marker(\n                [28.56230197, -80.57735648],\n                {}\n            ).addTo(marker_cluster_0504ff2e50b9ff81059249bf9abde0fb);\n        \n    \n            var icon_a32de7d3bfd94a1a66d57bfa21efaf46 = L.AwesomeMarkers.icon(\n                {&quot;extraClasses&quot;: &quot;fa-rotate-0&quot;, &quot;icon&quot;: &quot;info-sign&quot;, &quot;iconColor&quot;: &quot;red&quot;, &quot;markerColor&quot;: &quot;white&quot;, &quot;prefix&quot;: &quot;glyphicon&quot;}\n            );\n            marker_eb71685571155e3c2d530b81999e9f18.setIcon(icon_a32de7d3bfd94a1a66d57bfa21efaf46);\n        \n    \n        var popup_53f61cb529ae0c996a48967f9e871e28 = L.popup({&quot;maxWidth&quot;: &quot;100%&quot;});\n\n        \n            \n                var html_d43ba674807fd5a45f36fd3a2395d504 = $(`&lt;div id=&quot;html_d43ba674807fd5a45f36fd3a2395d504&quot; style=&quot;width: 100.0%; height: 100.0%;&quot;&gt;CCAFS LC-40&lt;/div&gt;`)[0];\n                popup_53f61cb529ae0c996a48967f9e871e28.setContent(html_d43ba674807fd5a45f36fd3a2395d504);\n            \n        \n\n        marker_eb71685571155e3c2d530b81999e9f18.bindPopup(popup_53f61cb529ae0c996a48967f9e871e28)\n        ;\n\n        \n    \n    \n            var marker_ae6742ef512a315b79119c2ca930105c = L.marker(\n                [28.56230197, -80.57735648],\n                {}\n            ).addTo(marker_cluster_0504ff2e50b9ff81059249bf9abde0fb);\n        \n    \n            var icon_2ed007e49d6ab911c55dec1ede9bf40f = L.AwesomeMarkers.icon(\n                {&quot;extraClasses&quot;: &quot;fa-rotate-0&quot;, &quot;icon&quot;: &quot;info-sign&quot;, &quot;iconColor&quot;: &quot;red&quot;, &quot;markerColor&quot;: &quot;white&quot;, &quot;prefix&quot;: &quot;glyphicon&quot;}\n            );\n            marker_ae6742ef512a315b79119c2ca930105c.setIcon(icon_2ed007e49d6ab911c55dec1ede9bf40f);\n        \n    \n        var popup_a93995e2934d472309c4d91b2f268797 = L.popup({&quot;maxWidth&quot;: &quot;100%&quot;});\n\n        \n            \n                var html_7126d51bcb4a8c3bd21ce5135d640e10 = $(`&lt;div id=&quot;html_7126d51bcb4a8c3bd21ce5135d640e10&quot; style=&quot;width: 100.0%; height: 100.0%;&quot;&gt;CCAFS LC-40&lt;/div&gt;`)[0];\n                popup_a93995e2934d472309c4d91b2f268797.setContent(html_7126d51bcb4a8c3bd21ce5135d640e10);\n            \n        \n\n        marker_ae6742ef512a315b79119c2ca930105c.bindPopup(popup_a93995e2934d472309c4d91b2f268797)\n        ;\n\n        \n    \n    \n            var marker_d7d4b8a413cabb3fa782844d09feed2b = L.marker(\n                [28.56230197, -80.57735648],\n                {}\n            ).addTo(marker_cluster_0504ff2e50b9ff81059249bf9abde0fb);\n        \n    \n            var icon_165a5cbb3d96bde1bb80f6ceff64426c = L.AwesomeMarkers.icon(\n                {&quot;extraClasses&quot;: &quot;fa-rotate-0&quot;, &quot;icon&quot;: &quot;info-sign&quot;, &quot;iconColor&quot;: &quot;red&quot;, &quot;markerColor&quot;: &quot;white&quot;, &quot;prefix&quot;: &quot;glyphicon&quot;}\n            );\n            marker_d7d4b8a413cabb3fa782844d09feed2b.setIcon(icon_165a5cbb3d96bde1bb80f6ceff64426c);\n        \n    \n        var popup_eb4adfa9dcf8076db5650620b93c3d71 = L.popup({&quot;maxWidth&quot;: &quot;100%&quot;});\n\n        \n            \n                var html_baa25397d2c2204f0249c9b1708be753 = $(`&lt;div id=&quot;html_baa25397d2c2204f0249c9b1708be753&quot; style=&quot;width: 100.0%; height: 100.0%;&quot;&gt;CCAFS LC-40&lt;/div&gt;`)[0];\n                popup_eb4adfa9dcf8076db5650620b93c3d71.setContent(html_baa25397d2c2204f0249c9b1708be753);\n            \n        \n\n        marker_d7d4b8a413cabb3fa782844d09feed2b.bindPopup(popup_eb4adfa9dcf8076db5650620b93c3d71)\n        ;\n\n        \n    \n    \n            var marker_83f76fbecb83a4352848904165d6b66e = L.marker(\n                [28.56230197, -80.57735648],\n                {}\n            ).addTo(marker_cluster_0504ff2e50b9ff81059249bf9abde0fb);\n        \n    \n            var icon_ecfb3c6cded8f766e7561d650655b4da = L.AwesomeMarkers.icon(\n                {&quot;extraClasses&quot;: &quot;fa-rotate-0&quot;, &quot;icon&quot;: &quot;info-sign&quot;, &quot;iconColor&quot;: &quot;red&quot;, &quot;markerColor&quot;: &quot;white&quot;, &quot;prefix&quot;: &quot;glyphicon&quot;}\n            );\n            marker_83f76fbecb83a4352848904165d6b66e.setIcon(icon_ecfb3c6cded8f766e7561d650655b4da);\n        \n    \n        var popup_3544a1003e4ac8e2d9154281cb561235 = L.popup({&quot;maxWidth&quot;: &quot;100%&quot;});\n\n        \n            \n                var html_13d7a940efb4d5330a18f282ca4d0652 = $(`&lt;div id=&quot;html_13d7a940efb4d5330a18f282ca4d0652&quot; style=&quot;width: 100.0%; height: 100.0%;&quot;&gt;CCAFS LC-40&lt;/div&gt;`)[0];\n                popup_3544a1003e4ac8e2d9154281cb561235.setContent(html_13d7a940efb4d5330a18f282ca4d0652);\n            \n        \n\n        marker_83f76fbecb83a4352848904165d6b66e.bindPopup(popup_3544a1003e4ac8e2d9154281cb561235)\n        ;\n\n        \n    \n    \n            var marker_45c71e3c7398f468e01b2268bceb95e4 = L.marker(\n                [28.56230197, -80.57735648],\n                {}\n            ).addTo(marker_cluster_0504ff2e50b9ff81059249bf9abde0fb);\n        \n    \n            var icon_e97469eb2947ff23ac62b1e72fb13b4c = L.AwesomeMarkers.icon(\n                {&quot;extraClasses&quot;: &quot;fa-rotate-0&quot;, &quot;icon&quot;: &quot;info-sign&quot;, &quot;iconColor&quot;: &quot;green&quot;, &quot;markerColor&quot;: &quot;white&quot;, &quot;prefix&quot;: &quot;glyphicon&quot;}\n            );\n            marker_45c71e3c7398f468e01b2268bceb95e4.setIcon(icon_e97469eb2947ff23ac62b1e72fb13b4c);\n        \n    \n        var popup_db4feff8e54b7515f6945c2e58439309 = L.popup({&quot;maxWidth&quot;: &quot;100%&quot;});\n\n        \n            \n                var html_c4239d71cec56895e375b183db3e206d = $(`&lt;div id=&quot;html_c4239d71cec56895e375b183db3e206d&quot; style=&quot;width: 100.0%; height: 100.0%;&quot;&gt;CCAFS LC-40&lt;/div&gt;`)[0];\n                popup_db4feff8e54b7515f6945c2e58439309.setContent(html_c4239d71cec56895e375b183db3e206d);\n            \n        \n\n        marker_45c71e3c7398f468e01b2268bceb95e4.bindPopup(popup_db4feff8e54b7515f6945c2e58439309)\n        ;\n\n        \n    \n    \n            var marker_413f2c18abe73c0d59114e2fcd7c0b16 = L.marker(\n                [28.56230197, -80.57735648],\n                {}\n            ).addTo(marker_cluster_0504ff2e50b9ff81059249bf9abde0fb);\n        \n    \n            var icon_b645f48d6e849631ce5c2f2f90f8b60e = L.AwesomeMarkers.icon(\n                {&quot;extraClasses&quot;: &quot;fa-rotate-0&quot;, &quot;icon&quot;: &quot;info-sign&quot;, &quot;iconColor&quot;: &quot;green&quot;, &quot;markerColor&quot;: &quot;white&quot;, &quot;prefix&quot;: &quot;glyphicon&quot;}\n            );\n            marker_413f2c18abe73c0d59114e2fcd7c0b16.setIcon(icon_b645f48d6e849631ce5c2f2f90f8b60e);\n        \n    \n        var popup_1d47102bf046408255143af32a7eabe9 = L.popup({&quot;maxWidth&quot;: &quot;100%&quot;});\n\n        \n            \n                var html_6f146a5bac4be098f9e6dc6437a37dc6 = $(`&lt;div id=&quot;html_6f146a5bac4be098f9e6dc6437a37dc6&quot; style=&quot;width: 100.0%; height: 100.0%;&quot;&gt;CCAFS LC-40&lt;/div&gt;`)[0];\n                popup_1d47102bf046408255143af32a7eabe9.setContent(html_6f146a5bac4be098f9e6dc6437a37dc6);\n            \n        \n\n        marker_413f2c18abe73c0d59114e2fcd7c0b16.bindPopup(popup_1d47102bf046408255143af32a7eabe9)\n        ;\n\n        \n    \n    \n            var marker_bcbd8b6d072ee399ceacb7ffd9485ffa = L.marker(\n                [28.56230197, -80.57735648],\n                {}\n            ).addTo(marker_cluster_0504ff2e50b9ff81059249bf9abde0fb);\n        \n    \n            var icon_a8583ad5f640b6692659a78f2f8c35c0 = L.AwesomeMarkers.icon(\n                {&quot;extraClasses&quot;: &quot;fa-rotate-0&quot;, &quot;icon&quot;: &quot;info-sign&quot;, &quot;iconColor&quot;: &quot;red&quot;, &quot;markerColor&quot;: &quot;white&quot;, &quot;prefix&quot;: &quot;glyphicon&quot;}\n            );\n            marker_bcbd8b6d072ee399ceacb7ffd9485ffa.setIcon(icon_a8583ad5f640b6692659a78f2f8c35c0);\n        \n    \n        var popup_bf5f8143e250c42ce28e74858277cbcb = L.popup({&quot;maxWidth&quot;: &quot;100%&quot;});\n\n        \n            \n                var html_172031c3a817dad521780047293adb9f = $(`&lt;div id=&quot;html_172031c3a817dad521780047293adb9f&quot; style=&quot;width: 100.0%; height: 100.0%;&quot;&gt;CCAFS LC-40&lt;/div&gt;`)[0];\n                popup_bf5f8143e250c42ce28e74858277cbcb.setContent(html_172031c3a817dad521780047293adb9f);\n            \n        \n\n        marker_bcbd8b6d072ee399ceacb7ffd9485ffa.bindPopup(popup_bf5f8143e250c42ce28e74858277cbcb)\n        ;\n\n        \n    \n    \n            var marker_b9a65b7be2dc300855feb4e1c43868d7 = L.marker(\n                [28.56230197, -80.57735648],\n                {}\n            ).addTo(marker_cluster_0504ff2e50b9ff81059249bf9abde0fb);\n        \n    \n            var icon_ae7f45b16c8152c0eda5e05355e8e0d6 = L.AwesomeMarkers.icon(\n                {&quot;extraClasses&quot;: &quot;fa-rotate-0&quot;, &quot;icon&quot;: &quot;info-sign&quot;, &quot;iconColor&quot;: &quot;green&quot;, &quot;markerColor&quot;: &quot;white&quot;, &quot;prefix&quot;: &quot;glyphicon&quot;}\n            );\n            marker_b9a65b7be2dc300855feb4e1c43868d7.setIcon(icon_ae7f45b16c8152c0eda5e05355e8e0d6);\n        \n    \n        var popup_a25c9fb7cc99644d38eadb95454c12f0 = L.popup({&quot;maxWidth&quot;: &quot;100%&quot;});\n\n        \n            \n                var html_ff71a22a6037dde2883219c87a81fe64 = $(`&lt;div id=&quot;html_ff71a22a6037dde2883219c87a81fe64&quot; style=&quot;width: 100.0%; height: 100.0%;&quot;&gt;CCAFS LC-40&lt;/div&gt;`)[0];\n                popup_a25c9fb7cc99644d38eadb95454c12f0.setContent(html_ff71a22a6037dde2883219c87a81fe64);\n            \n        \n\n        marker_b9a65b7be2dc300855feb4e1c43868d7.bindPopup(popup_a25c9fb7cc99644d38eadb95454c12f0)\n        ;\n\n        \n    \n    \n            var marker_cd7002e00aa2fd4019f2b0da550416e9 = L.marker(\n                [28.56230197, -80.57735648],\n                {}\n            ).addTo(marker_cluster_0504ff2e50b9ff81059249bf9abde0fb);\n        \n    \n            var icon_bd74537cd6ebe208d7e873f15e7be127 = L.AwesomeMarkers.icon(\n                {&quot;extraClasses&quot;: &quot;fa-rotate-0&quot;, &quot;icon&quot;: &quot;info-sign&quot;, &quot;iconColor&quot;: &quot;green&quot;, &quot;markerColor&quot;: &quot;white&quot;, &quot;prefix&quot;: &quot;glyphicon&quot;}\n            );\n            marker_cd7002e00aa2fd4019f2b0da550416e9.setIcon(icon_bd74537cd6ebe208d7e873f15e7be127);\n        \n    \n        var popup_5797e492ffdefd8600711a822372606e = L.popup({&quot;maxWidth&quot;: &quot;100%&quot;});\n\n        \n            \n                var html_6b8f6aed3d989d61e8d31dbecf1885c7 = $(`&lt;div id=&quot;html_6b8f6aed3d989d61e8d31dbecf1885c7&quot; style=&quot;width: 100.0%; height: 100.0%;&quot;&gt;CCAFS LC-40&lt;/div&gt;`)[0];\n                popup_5797e492ffdefd8600711a822372606e.setContent(html_6b8f6aed3d989d61e8d31dbecf1885c7);\n            \n        \n\n        marker_cd7002e00aa2fd4019f2b0da550416e9.bindPopup(popup_5797e492ffdefd8600711a822372606e)\n        ;\n\n        \n    \n    \n            var marker_8edd1055e47b632a8b8310a57df03aa3 = L.marker(\n                [28.56230197, -80.57735648],\n                {}\n            ).addTo(marker_cluster_0504ff2e50b9ff81059249bf9abde0fb);\n        \n    \n            var icon_20b5eda3a960bfd7b3e2caa901213db6 = L.AwesomeMarkers.icon(\n                {&quot;extraClasses&quot;: &quot;fa-rotate-0&quot;, &quot;icon&quot;: &quot;info-sign&quot;, &quot;iconColor&quot;: &quot;green&quot;, &quot;markerColor&quot;: &quot;white&quot;, &quot;prefix&quot;: &quot;glyphicon&quot;}\n            );\n            marker_8edd1055e47b632a8b8310a57df03aa3.setIcon(icon_20b5eda3a960bfd7b3e2caa901213db6);\n        \n    \n        var popup_074417d2fa8e5da07f52a80e8478952d = L.popup({&quot;maxWidth&quot;: &quot;100%&quot;});\n\n        \n            \n                var html_4b5b18e5d14b0c13f0e2b17a1b01b82a = $(`&lt;div id=&quot;html_4b5b18e5d14b0c13f0e2b17a1b01b82a&quot; style=&quot;width: 100.0%; height: 100.0%;&quot;&gt;CCAFS LC-40&lt;/div&gt;`)[0];\n                popup_074417d2fa8e5da07f52a80e8478952d.setContent(html_4b5b18e5d14b0c13f0e2b17a1b01b82a);\n            \n        \n\n        marker_8edd1055e47b632a8b8310a57df03aa3.bindPopup(popup_074417d2fa8e5da07f52a80e8478952d)\n        ;\n\n        \n    \n    \n            var marker_1ee1038a51f66503fdc26ecad374e4f6 = L.marker(\n                [28.56230197, -80.57735648],\n                {}\n            ).addTo(marker_cluster_0504ff2e50b9ff81059249bf9abde0fb);\n        \n    \n            var icon_e332b33b900513e21da2a059fcedb147 = L.AwesomeMarkers.icon(\n                {&quot;extraClasses&quot;: &quot;fa-rotate-0&quot;, &quot;icon&quot;: &quot;info-sign&quot;, &quot;iconColor&quot;: &quot;red&quot;, &quot;markerColor&quot;: &quot;white&quot;, &quot;prefix&quot;: &quot;glyphicon&quot;}\n            );\n            marker_1ee1038a51f66503fdc26ecad374e4f6.setIcon(icon_e332b33b900513e21da2a059fcedb147);\n        \n    \n        var popup_ac8508c10d1ed659f5c5d9f01829e40c = L.popup({&quot;maxWidth&quot;: &quot;100%&quot;});\n\n        \n            \n                var html_051ce2e40ba23c97799f164abc5c2ec8 = $(`&lt;div id=&quot;html_051ce2e40ba23c97799f164abc5c2ec8&quot; style=&quot;width: 100.0%; height: 100.0%;&quot;&gt;CCAFS LC-40&lt;/div&gt;`)[0];\n                popup_ac8508c10d1ed659f5c5d9f01829e40c.setContent(html_051ce2e40ba23c97799f164abc5c2ec8);\n            \n        \n\n        marker_1ee1038a51f66503fdc26ecad374e4f6.bindPopup(popup_ac8508c10d1ed659f5c5d9f01829e40c)\n        ;\n\n        \n    \n    \n            var marker_41e7ff830cec730a1a481d2fc1e2476a = L.marker(\n                [28.56230197, -80.57735648],\n                {}\n            ).addTo(marker_cluster_0504ff2e50b9ff81059249bf9abde0fb);\n        \n    \n            var icon_74149b386c402f28b4920a07ad11deee = L.AwesomeMarkers.icon(\n                {&quot;extraClasses&quot;: &quot;fa-rotate-0&quot;, &quot;icon&quot;: &quot;info-sign&quot;, &quot;iconColor&quot;: &quot;green&quot;, &quot;markerColor&quot;: &quot;white&quot;, &quot;prefix&quot;: &quot;glyphicon&quot;}\n            );\n            marker_41e7ff830cec730a1a481d2fc1e2476a.setIcon(icon_74149b386c402f28b4920a07ad11deee);\n        \n    \n        var popup_ac85e4d2a33750eeb818c612b1708b61 = L.popup({&quot;maxWidth&quot;: &quot;100%&quot;});\n\n        \n            \n                var html_f48cfebf7f95486ca7d40b43722510f7 = $(`&lt;div id=&quot;html_f48cfebf7f95486ca7d40b43722510f7&quot; style=&quot;width: 100.0%; height: 100.0%;&quot;&gt;CCAFS LC-40&lt;/div&gt;`)[0];\n                popup_ac85e4d2a33750eeb818c612b1708b61.setContent(html_f48cfebf7f95486ca7d40b43722510f7);\n            \n        \n\n        marker_41e7ff830cec730a1a481d2fc1e2476a.bindPopup(popup_ac85e4d2a33750eeb818c612b1708b61)\n        ;\n\n        \n    \n    \n            var marker_3010e44a59b713caba8a2a12a4dc6bfa = L.marker(\n                [28.56230197, -80.57735648],\n                {}\n            ).addTo(marker_cluster_0504ff2e50b9ff81059249bf9abde0fb);\n        \n    \n            var icon_292784890fa7f6723f726efacec37704 = L.AwesomeMarkers.icon(\n                {&quot;extraClasses&quot;: &quot;fa-rotate-0&quot;, &quot;icon&quot;: &quot;info-sign&quot;, &quot;iconColor&quot;: &quot;green&quot;, &quot;markerColor&quot;: &quot;white&quot;, &quot;prefix&quot;: &quot;glyphicon&quot;}\n            );\n            marker_3010e44a59b713caba8a2a12a4dc6bfa.setIcon(icon_292784890fa7f6723f726efacec37704);\n        \n    \n        var popup_110cdf3d701f2bd554db18b07b38e5cb = L.popup({&quot;maxWidth&quot;: &quot;100%&quot;});\n\n        \n            \n                var html_047bb7100f4ae7ab04f8e229c4ef830a = $(`&lt;div id=&quot;html_047bb7100f4ae7ab04f8e229c4ef830a&quot; style=&quot;width: 100.0%; height: 100.0%;&quot;&gt;CCAFS LC-40&lt;/div&gt;`)[0];\n                popup_110cdf3d701f2bd554db18b07b38e5cb.setContent(html_047bb7100f4ae7ab04f8e229c4ef830a);\n            \n        \n\n        marker_3010e44a59b713caba8a2a12a4dc6bfa.bindPopup(popup_110cdf3d701f2bd554db18b07b38e5cb)\n        ;\n\n        \n    \n    \n            var marker_bf94580220f2c19c68b3a99767c764a7 = L.marker(\n                [34.63283416, -120.6107455],\n                {}\n            ).addTo(marker_cluster_0504ff2e50b9ff81059249bf9abde0fb);\n        \n    \n            var icon_b074208082b6af3faecaf7dfd467dcf3 = L.AwesomeMarkers.icon(\n                {&quot;extraClasses&quot;: &quot;fa-rotate-0&quot;, &quot;icon&quot;: &quot;info-sign&quot;, &quot;iconColor&quot;: &quot;red&quot;, &quot;markerColor&quot;: &quot;white&quot;, &quot;prefix&quot;: &quot;glyphicon&quot;}\n            );\n            marker_bf94580220f2c19c68b3a99767c764a7.setIcon(icon_b074208082b6af3faecaf7dfd467dcf3);\n        \n    \n        var popup_d99e4aa518a74ea48b8cb0ffdb32d8f3 = L.popup({&quot;maxWidth&quot;: &quot;100%&quot;});\n\n        \n            \n                var html_6f87305a418de8f5b9f36b4fc34d5182 = $(`&lt;div id=&quot;html_6f87305a418de8f5b9f36b4fc34d5182&quot; style=&quot;width: 100.0%; height: 100.0%;&quot;&gt;VAFB SLC-4E&lt;/div&gt;`)[0];\n                popup_d99e4aa518a74ea48b8cb0ffdb32d8f3.setContent(html_6f87305a418de8f5b9f36b4fc34d5182);\n            \n        \n\n        marker_bf94580220f2c19c68b3a99767c764a7.bindPopup(popup_d99e4aa518a74ea48b8cb0ffdb32d8f3)\n        ;\n\n        \n    \n    \n            var marker_471db8fe5c086f6b5a7e43c6f2a43bb8 = L.marker(\n                [34.63283416, -120.6107455],\n                {}\n            ).addTo(marker_cluster_0504ff2e50b9ff81059249bf9abde0fb);\n        \n    \n            var icon_3028bed7997667d574e75ffaa4ff715e = L.AwesomeMarkers.icon(\n                {&quot;extraClasses&quot;: &quot;fa-rotate-0&quot;, &quot;icon&quot;: &quot;info-sign&quot;, &quot;iconColor&quot;: &quot;red&quot;, &quot;markerColor&quot;: &quot;white&quot;, &quot;prefix&quot;: &quot;glyphicon&quot;}\n            );\n            marker_471db8fe5c086f6b5a7e43c6f2a43bb8.setIcon(icon_3028bed7997667d574e75ffaa4ff715e);\n        \n    \n        var popup_7870c56e9a13aa5a6d9368f3bfb8108a = L.popup({&quot;maxWidth&quot;: &quot;100%&quot;});\n\n        \n            \n                var html_630fd8c7313fc0a9ed047218e2d35495 = $(`&lt;div id=&quot;html_630fd8c7313fc0a9ed047218e2d35495&quot; style=&quot;width: 100.0%; height: 100.0%;&quot;&gt;VAFB SLC-4E&lt;/div&gt;`)[0];\n                popup_7870c56e9a13aa5a6d9368f3bfb8108a.setContent(html_630fd8c7313fc0a9ed047218e2d35495);\n            \n        \n\n        marker_471db8fe5c086f6b5a7e43c6f2a43bb8.bindPopup(popup_7870c56e9a13aa5a6d9368f3bfb8108a)\n        ;\n\n        \n    \n    \n            var marker_8e3f53dec10ecc8512a8eb450d6212d8 = L.marker(\n                [34.63283416, -120.6107455],\n                {}\n            ).addTo(marker_cluster_0504ff2e50b9ff81059249bf9abde0fb);\n        \n    \n            var icon_22d6abeef8dcc1168129c9c3afe34e7a = L.AwesomeMarkers.icon(\n                {&quot;extraClasses&quot;: &quot;fa-rotate-0&quot;, &quot;icon&quot;: &quot;info-sign&quot;, &quot;iconColor&quot;: &quot;green&quot;, &quot;markerColor&quot;: &quot;white&quot;, &quot;prefix&quot;: &quot;glyphicon&quot;}\n            );\n            marker_8e3f53dec10ecc8512a8eb450d6212d8.setIcon(icon_22d6abeef8dcc1168129c9c3afe34e7a);\n        \n    \n        var popup_341ddef18074158e4715c8febc1dc170 = L.popup({&quot;maxWidth&quot;: &quot;100%&quot;});\n\n        \n            \n                var html_54add54061509cb6a357f256b823459f = $(`&lt;div id=&quot;html_54add54061509cb6a357f256b823459f&quot; style=&quot;width: 100.0%; height: 100.0%;&quot;&gt;VAFB SLC-4E&lt;/div&gt;`)[0];\n                popup_341ddef18074158e4715c8febc1dc170.setContent(html_54add54061509cb6a357f256b823459f);\n            \n        \n\n        marker_8e3f53dec10ecc8512a8eb450d6212d8.bindPopup(popup_341ddef18074158e4715c8febc1dc170)\n        ;\n\n        \n    \n    \n            var marker_2b8511340374fce2dff0290a125450a6 = L.marker(\n                [34.63283416, -120.6107455],\n                {}\n            ).addTo(marker_cluster_0504ff2e50b9ff81059249bf9abde0fb);\n        \n    \n            var icon_f201cedae17d3b279f45bd654e126986 = L.AwesomeMarkers.icon(\n                {&quot;extraClasses&quot;: &quot;fa-rotate-0&quot;, &quot;icon&quot;: &quot;info-sign&quot;, &quot;iconColor&quot;: &quot;green&quot;, &quot;markerColor&quot;: &quot;white&quot;, &quot;prefix&quot;: &quot;glyphicon&quot;}\n            );\n            marker_2b8511340374fce2dff0290a125450a6.setIcon(icon_f201cedae17d3b279f45bd654e126986);\n        \n    \n        var popup_900e33db5668e87af66f3487a0bdbb22 = L.popup({&quot;maxWidth&quot;: &quot;100%&quot;});\n\n        \n            \n                var html_c97a21fe05603d3583a9e96f2c1c2c3a = $(`&lt;div id=&quot;html_c97a21fe05603d3583a9e96f2c1c2c3a&quot; style=&quot;width: 100.0%; height: 100.0%;&quot;&gt;VAFB SLC-4E&lt;/div&gt;`)[0];\n                popup_900e33db5668e87af66f3487a0bdbb22.setContent(html_c97a21fe05603d3583a9e96f2c1c2c3a);\n            \n        \n\n        marker_2b8511340374fce2dff0290a125450a6.bindPopup(popup_900e33db5668e87af66f3487a0bdbb22)\n        ;\n\n        \n    \n    \n            var marker_974905869ee39201477053667c8ca0c4 = L.marker(\n                [34.63283416, -120.6107455],\n                {}\n            ).addTo(marker_cluster_0504ff2e50b9ff81059249bf9abde0fb);\n        \n    \n            var icon_89eb8f6f38617d1b73adc7e48e5d181d = L.AwesomeMarkers.icon(\n                {&quot;extraClasses&quot;: &quot;fa-rotate-0&quot;, &quot;icon&quot;: &quot;info-sign&quot;, &quot;iconColor&quot;: &quot;green&quot;, &quot;markerColor&quot;: &quot;white&quot;, &quot;prefix&quot;: &quot;glyphicon&quot;}\n            );\n            marker_974905869ee39201477053667c8ca0c4.setIcon(icon_89eb8f6f38617d1b73adc7e48e5d181d);\n        \n    \n        var popup_c4543f7d1344d52437e91af01ae6b155 = L.popup({&quot;maxWidth&quot;: &quot;100%&quot;});\n\n        \n            \n                var html_de1de7989b28e34ab46f75801e2d8d9d = $(`&lt;div id=&quot;html_de1de7989b28e34ab46f75801e2d8d9d&quot; style=&quot;width: 100.0%; height: 100.0%;&quot;&gt;VAFB SLC-4E&lt;/div&gt;`)[0];\n                popup_c4543f7d1344d52437e91af01ae6b155.setContent(html_de1de7989b28e34ab46f75801e2d8d9d);\n            \n        \n\n        marker_974905869ee39201477053667c8ca0c4.bindPopup(popup_c4543f7d1344d52437e91af01ae6b155)\n        ;\n\n        \n    \n    \n            var marker_023e187e1349b1973a99a9f3b00c23a9 = L.marker(\n                [34.63283416, -120.6107455],\n                {}\n            ).addTo(marker_cluster_0504ff2e50b9ff81059249bf9abde0fb);\n        \n    \n            var icon_9a672ece5df20053efe51aaed1bd92f7 = L.AwesomeMarkers.icon(\n                {&quot;extraClasses&quot;: &quot;fa-rotate-0&quot;, &quot;icon&quot;: &quot;info-sign&quot;, &quot;iconColor&quot;: &quot;green&quot;, &quot;markerColor&quot;: &quot;white&quot;, &quot;prefix&quot;: &quot;glyphicon&quot;}\n            );\n            marker_023e187e1349b1973a99a9f3b00c23a9.setIcon(icon_9a672ece5df20053efe51aaed1bd92f7);\n        \n    \n        var popup_fc796c393c74761441544a8dbec477ff = L.popup({&quot;maxWidth&quot;: &quot;100%&quot;});\n\n        \n            \n                var html_20f043633f1103c5d4445ec3f5a961ec = $(`&lt;div id=&quot;html_20f043633f1103c5d4445ec3f5a961ec&quot; style=&quot;width: 100.0%; height: 100.0%;&quot;&gt;VAFB SLC-4E&lt;/div&gt;`)[0];\n                popup_fc796c393c74761441544a8dbec477ff.setContent(html_20f043633f1103c5d4445ec3f5a961ec);\n            \n        \n\n        marker_023e187e1349b1973a99a9f3b00c23a9.bindPopup(popup_fc796c393c74761441544a8dbec477ff)\n        ;\n\n        \n    \n    \n            var marker_b9b52bdc2a395b347e26a66891f85f77 = L.marker(\n                [34.63283416, -120.6107455],\n                {}\n            ).addTo(marker_cluster_0504ff2e50b9ff81059249bf9abde0fb);\n        \n    \n            var icon_eb02d0207e3c6347127683a89d763037 = L.AwesomeMarkers.icon(\n                {&quot;extraClasses&quot;: &quot;fa-rotate-0&quot;, &quot;icon&quot;: &quot;info-sign&quot;, &quot;iconColor&quot;: &quot;red&quot;, &quot;markerColor&quot;: &quot;white&quot;, &quot;prefix&quot;: &quot;glyphicon&quot;}\n            );\n            marker_b9b52bdc2a395b347e26a66891f85f77.setIcon(icon_eb02d0207e3c6347127683a89d763037);\n        \n    \n        var popup_03566b5ca38d74a830ea9b44deca3572 = L.popup({&quot;maxWidth&quot;: &quot;100%&quot;});\n\n        \n            \n                var html_866073d4c7a6a148da41c80aad059c98 = $(`&lt;div id=&quot;html_866073d4c7a6a148da41c80aad059c98&quot; style=&quot;width: 100.0%; height: 100.0%;&quot;&gt;VAFB SLC-4E&lt;/div&gt;`)[0];\n                popup_03566b5ca38d74a830ea9b44deca3572.setContent(html_866073d4c7a6a148da41c80aad059c98);\n            \n        \n\n        marker_b9b52bdc2a395b347e26a66891f85f77.bindPopup(popup_03566b5ca38d74a830ea9b44deca3572)\n        ;\n\n        \n    \n    \n            var marker_5420797a3c80f66320e71c8fd5a34dd5 = L.marker(\n                [34.63283416, -120.6107455],\n                {}\n            ).addTo(marker_cluster_0504ff2e50b9ff81059249bf9abde0fb);\n        \n    \n            var icon_7280294331d70192df616853b4eeab63 = L.AwesomeMarkers.icon(\n                {&quot;extraClasses&quot;: &quot;fa-rotate-0&quot;, &quot;icon&quot;: &quot;info-sign&quot;, &quot;iconColor&quot;: &quot;red&quot;, &quot;markerColor&quot;: &quot;white&quot;, &quot;prefix&quot;: &quot;glyphicon&quot;}\n            );\n            marker_5420797a3c80f66320e71c8fd5a34dd5.setIcon(icon_7280294331d70192df616853b4eeab63);\n        \n    \n        var popup_e3fe52d8c4ebf308c4da23991e0b6ebf = L.popup({&quot;maxWidth&quot;: &quot;100%&quot;});\n\n        \n            \n                var html_a5540658d43b001253fc5a05a50a9df4 = $(`&lt;div id=&quot;html_a5540658d43b001253fc5a05a50a9df4&quot; style=&quot;width: 100.0%; height: 100.0%;&quot;&gt;VAFB SLC-4E&lt;/div&gt;`)[0];\n                popup_e3fe52d8c4ebf308c4da23991e0b6ebf.setContent(html_a5540658d43b001253fc5a05a50a9df4);\n            \n        \n\n        marker_5420797a3c80f66320e71c8fd5a34dd5.bindPopup(popup_e3fe52d8c4ebf308c4da23991e0b6ebf)\n        ;\n\n        \n    \n    \n            var marker_cb4810b64a28a4619bc84b1f1620874e = L.marker(\n                [34.63283416, -120.6107455],\n                {}\n            ).addTo(marker_cluster_0504ff2e50b9ff81059249bf9abde0fb);\n        \n    \n            var icon_8ba7f5a3b3331254ee0bd9ec2ef52ef6 = L.AwesomeMarkers.icon(\n                {&quot;extraClasses&quot;: &quot;fa-rotate-0&quot;, &quot;icon&quot;: &quot;info-sign&quot;, &quot;iconColor&quot;: &quot;red&quot;, &quot;markerColor&quot;: &quot;white&quot;, &quot;prefix&quot;: &quot;glyphicon&quot;}\n            );\n            marker_cb4810b64a28a4619bc84b1f1620874e.setIcon(icon_8ba7f5a3b3331254ee0bd9ec2ef52ef6);\n        \n    \n        var popup_57f5d39a0c89ca8c2dede9b32f27d153 = L.popup({&quot;maxWidth&quot;: &quot;100%&quot;});\n\n        \n            \n                var html_7f542266cbade624710cf7db325c6684 = $(`&lt;div id=&quot;html_7f542266cbade624710cf7db325c6684&quot; style=&quot;width: 100.0%; height: 100.0%;&quot;&gt;VAFB SLC-4E&lt;/div&gt;`)[0];\n                popup_57f5d39a0c89ca8c2dede9b32f27d153.setContent(html_7f542266cbade624710cf7db325c6684);\n            \n        \n\n        marker_cb4810b64a28a4619bc84b1f1620874e.bindPopup(popup_57f5d39a0c89ca8c2dede9b32f27d153)\n        ;\n\n        \n    \n    \n            var marker_9ee16915d6e0e5c5c4874cea59962570 = L.marker(\n                [34.63283416, -120.6107455],\n                {}\n            ).addTo(marker_cluster_0504ff2e50b9ff81059249bf9abde0fb);\n        \n    \n            var icon_a60a51ca70823964f4aaf02a60eb707c = L.AwesomeMarkers.icon(\n                {&quot;extraClasses&quot;: &quot;fa-rotate-0&quot;, &quot;icon&quot;: &quot;info-sign&quot;, &quot;iconColor&quot;: &quot;red&quot;, &quot;markerColor&quot;: &quot;white&quot;, &quot;prefix&quot;: &quot;glyphicon&quot;}\n            );\n            marker_9ee16915d6e0e5c5c4874cea59962570.setIcon(icon_a60a51ca70823964f4aaf02a60eb707c);\n        \n    \n        var popup_99fb7a138540da775cbf49c432fa8865 = L.popup({&quot;maxWidth&quot;: &quot;100%&quot;});\n\n        \n            \n                var html_2770951c92a1de96cc04eff8776255f2 = $(`&lt;div id=&quot;html_2770951c92a1de96cc04eff8776255f2&quot; style=&quot;width: 100.0%; height: 100.0%;&quot;&gt;VAFB SLC-4E&lt;/div&gt;`)[0];\n                popup_99fb7a138540da775cbf49c432fa8865.setContent(html_2770951c92a1de96cc04eff8776255f2);\n            \n        \n\n        marker_9ee16915d6e0e5c5c4874cea59962570.bindPopup(popup_99fb7a138540da775cbf49c432fa8865)\n        ;\n\n        \n    \n    \n            var marker_e0354a5b44916691254d477b75c2a558 = L.marker(\n                [28.57325457, -80.64689529],\n                {}\n            ).addTo(marker_cluster_0504ff2e50b9ff81059249bf9abde0fb);\n        \n    \n            var icon_3d1bb3b4db79f87dea3277969c78d46e = L.AwesomeMarkers.icon(\n                {&quot;extraClasses&quot;: &quot;fa-rotate-0&quot;, &quot;icon&quot;: &quot;info-sign&quot;, &quot;iconColor&quot;: &quot;green&quot;, &quot;markerColor&quot;: &quot;white&quot;, &quot;prefix&quot;: &quot;glyphicon&quot;}\n            );\n            marker_e0354a5b44916691254d477b75c2a558.setIcon(icon_3d1bb3b4db79f87dea3277969c78d46e);\n        \n    \n        var popup_5d4938181d3150f14f632170cef239ed = L.popup({&quot;maxWidth&quot;: &quot;100%&quot;});\n\n        \n            \n                var html_0b0cdf172f20d3748235c7e0484aa165 = $(`&lt;div id=&quot;html_0b0cdf172f20d3748235c7e0484aa165&quot; style=&quot;width: 100.0%; height: 100.0%;&quot;&gt;KSC LC-39A&lt;/div&gt;`)[0];\n                popup_5d4938181d3150f14f632170cef239ed.setContent(html_0b0cdf172f20d3748235c7e0484aa165);\n            \n        \n\n        marker_e0354a5b44916691254d477b75c2a558.bindPopup(popup_5d4938181d3150f14f632170cef239ed)\n        ;\n\n        \n    \n    \n            var marker_61bbfbae1de8c0472fc453d5fedc7ad1 = L.marker(\n                [28.57325457, -80.64689529],\n                {}\n            ).addTo(marker_cluster_0504ff2e50b9ff81059249bf9abde0fb);\n        \n    \n            var icon_5727387109a807c8be3befb21d5c6b3b = L.AwesomeMarkers.icon(\n                {&quot;extraClasses&quot;: &quot;fa-rotate-0&quot;, &quot;icon&quot;: &quot;info-sign&quot;, &quot;iconColor&quot;: &quot;red&quot;, &quot;markerColor&quot;: &quot;white&quot;, &quot;prefix&quot;: &quot;glyphicon&quot;}\n            );\n            marker_61bbfbae1de8c0472fc453d5fedc7ad1.setIcon(icon_5727387109a807c8be3befb21d5c6b3b);\n        \n    \n        var popup_334672831e96dd6f2bb9c04ea8a87887 = L.popup({&quot;maxWidth&quot;: &quot;100%&quot;});\n\n        \n            \n                var html_13162e4e663a860da1e20f574453bd75 = $(`&lt;div id=&quot;html_13162e4e663a860da1e20f574453bd75&quot; style=&quot;width: 100.0%; height: 100.0%;&quot;&gt;KSC LC-39A&lt;/div&gt;`)[0];\n                popup_334672831e96dd6f2bb9c04ea8a87887.setContent(html_13162e4e663a860da1e20f574453bd75);\n            \n        \n\n        marker_61bbfbae1de8c0472fc453d5fedc7ad1.bindPopup(popup_334672831e96dd6f2bb9c04ea8a87887)\n        ;\n\n        \n    \n    \n            var marker_ffb3cf7dcc8fd941c7a161af68d44537 = L.marker(\n                [28.57325457, -80.64689529],\n                {}\n            ).addTo(marker_cluster_0504ff2e50b9ff81059249bf9abde0fb);\n        \n    \n            var icon_007d59d02d45e4e62e7bffa8660f99c4 = L.AwesomeMarkers.icon(\n                {&quot;extraClasses&quot;: &quot;fa-rotate-0&quot;, &quot;icon&quot;: &quot;info-sign&quot;, &quot;iconColor&quot;: &quot;green&quot;, &quot;markerColor&quot;: &quot;white&quot;, &quot;prefix&quot;: &quot;glyphicon&quot;}\n            );\n            marker_ffb3cf7dcc8fd941c7a161af68d44537.setIcon(icon_007d59d02d45e4e62e7bffa8660f99c4);\n        \n    \n        var popup_806e065f3ad679c3aba94adb6145c691 = L.popup({&quot;maxWidth&quot;: &quot;100%&quot;});\n\n        \n            \n                var html_7f2ec2d602a75b1c6ec6ff0e6c8c3c4c = $(`&lt;div id=&quot;html_7f2ec2d602a75b1c6ec6ff0e6c8c3c4c&quot; style=&quot;width: 100.0%; height: 100.0%;&quot;&gt;KSC LC-39A&lt;/div&gt;`)[0];\n                popup_806e065f3ad679c3aba94adb6145c691.setContent(html_7f2ec2d602a75b1c6ec6ff0e6c8c3c4c);\n            \n        \n\n        marker_ffb3cf7dcc8fd941c7a161af68d44537.bindPopup(popup_806e065f3ad679c3aba94adb6145c691)\n        ;\n\n        \n    \n    \n            var marker_d212ec764984cc919ed409daf8add62d = L.marker(\n                [28.57325457, -80.64689529],\n                {}\n            ).addTo(marker_cluster_0504ff2e50b9ff81059249bf9abde0fb);\n        \n    \n            var icon_e02449ab57e3d6ab79699b3592bd89f1 = L.AwesomeMarkers.icon(\n                {&quot;extraClasses&quot;: &quot;fa-rotate-0&quot;, &quot;icon&quot;: &quot;info-sign&quot;, &quot;iconColor&quot;: &quot;green&quot;, &quot;markerColor&quot;: &quot;white&quot;, &quot;prefix&quot;: &quot;glyphicon&quot;}\n            );\n            marker_d212ec764984cc919ed409daf8add62d.setIcon(icon_e02449ab57e3d6ab79699b3592bd89f1);\n        \n    \n        var popup_bbf9fc80c3b96f32a3e6cf29daf4732c = L.popup({&quot;maxWidth&quot;: &quot;100%&quot;});\n\n        \n            \n                var html_9cd3af6d17200e86dea3d312a90ece9d = $(`&lt;div id=&quot;html_9cd3af6d17200e86dea3d312a90ece9d&quot; style=&quot;width: 100.0%; height: 100.0%;&quot;&gt;KSC LC-39A&lt;/div&gt;`)[0];\n                popup_bbf9fc80c3b96f32a3e6cf29daf4732c.setContent(html_9cd3af6d17200e86dea3d312a90ece9d);\n            \n        \n\n        marker_d212ec764984cc919ed409daf8add62d.bindPopup(popup_bbf9fc80c3b96f32a3e6cf29daf4732c)\n        ;\n\n        \n    \n    \n            var marker_306c9b1d7bcd88aa278d22068ef92ff3 = L.marker(\n                [28.57325457, -80.64689529],\n                {}\n            ).addTo(marker_cluster_0504ff2e50b9ff81059249bf9abde0fb);\n        \n    \n            var icon_cff7e3828ddb4cd51a902f69cdd18d05 = L.AwesomeMarkers.icon(\n                {&quot;extraClasses&quot;: &quot;fa-rotate-0&quot;, &quot;icon&quot;: &quot;info-sign&quot;, &quot;iconColor&quot;: &quot;red&quot;, &quot;markerColor&quot;: &quot;white&quot;, &quot;prefix&quot;: &quot;glyphicon&quot;}\n            );\n            marker_306c9b1d7bcd88aa278d22068ef92ff3.setIcon(icon_cff7e3828ddb4cd51a902f69cdd18d05);\n        \n    \n        var popup_38241c235ab4111e9219b7a825ecf110 = L.popup({&quot;maxWidth&quot;: &quot;100%&quot;});\n\n        \n            \n                var html_49f963bb9c363e598610a9dff31b43b2 = $(`&lt;div id=&quot;html_49f963bb9c363e598610a9dff31b43b2&quot; style=&quot;width: 100.0%; height: 100.0%;&quot;&gt;KSC LC-39A&lt;/div&gt;`)[0];\n                popup_38241c235ab4111e9219b7a825ecf110.setContent(html_49f963bb9c363e598610a9dff31b43b2);\n            \n        \n\n        marker_306c9b1d7bcd88aa278d22068ef92ff3.bindPopup(popup_38241c235ab4111e9219b7a825ecf110)\n        ;\n\n        \n    \n    \n            var marker_f7a0304422a8646a3497259a762b24d6 = L.marker(\n                [28.57325457, -80.64689529],\n                {}\n            ).addTo(marker_cluster_0504ff2e50b9ff81059249bf9abde0fb);\n        \n    \n            var icon_2dbd97181ff56f2ad2bde99b3a7daaf2 = L.AwesomeMarkers.icon(\n                {&quot;extraClasses&quot;: &quot;fa-rotate-0&quot;, &quot;icon&quot;: &quot;info-sign&quot;, &quot;iconColor&quot;: &quot;green&quot;, &quot;markerColor&quot;: &quot;white&quot;, &quot;prefix&quot;: &quot;glyphicon&quot;}\n            );\n            marker_f7a0304422a8646a3497259a762b24d6.setIcon(icon_2dbd97181ff56f2ad2bde99b3a7daaf2);\n        \n    \n        var popup_f2c1ecfe9ab7d4e672af92c7808d6330 = L.popup({&quot;maxWidth&quot;: &quot;100%&quot;});\n\n        \n            \n                var html_7939413510f2447d2b7a132c1c95395e = $(`&lt;div id=&quot;html_7939413510f2447d2b7a132c1c95395e&quot; style=&quot;width: 100.0%; height: 100.0%;&quot;&gt;KSC LC-39A&lt;/div&gt;`)[0];\n                popup_f2c1ecfe9ab7d4e672af92c7808d6330.setContent(html_7939413510f2447d2b7a132c1c95395e);\n            \n        \n\n        marker_f7a0304422a8646a3497259a762b24d6.bindPopup(popup_f2c1ecfe9ab7d4e672af92c7808d6330)\n        ;\n\n        \n    \n    \n            var marker_35ef4e2e2a93896f31b78a018fa4f773 = L.marker(\n                [28.57325457, -80.64689529],\n                {}\n            ).addTo(marker_cluster_0504ff2e50b9ff81059249bf9abde0fb);\n        \n    \n            var icon_03fe0551782ae84049d6cc0cc6ef4104 = L.AwesomeMarkers.icon(\n                {&quot;extraClasses&quot;: &quot;fa-rotate-0&quot;, &quot;icon&quot;: &quot;info-sign&quot;, &quot;iconColor&quot;: &quot;green&quot;, &quot;markerColor&quot;: &quot;white&quot;, &quot;prefix&quot;: &quot;glyphicon&quot;}\n            );\n            marker_35ef4e2e2a93896f31b78a018fa4f773.setIcon(icon_03fe0551782ae84049d6cc0cc6ef4104);\n        \n    \n        var popup_668d23d192616d6830198c0a346c1302 = L.popup({&quot;maxWidth&quot;: &quot;100%&quot;});\n\n        \n            \n                var html_8e7afc658bd3f3071361daf2df758124 = $(`&lt;div id=&quot;html_8e7afc658bd3f3071361daf2df758124&quot; style=&quot;width: 100.0%; height: 100.0%;&quot;&gt;KSC LC-39A&lt;/div&gt;`)[0];\n                popup_668d23d192616d6830198c0a346c1302.setContent(html_8e7afc658bd3f3071361daf2df758124);\n            \n        \n\n        marker_35ef4e2e2a93896f31b78a018fa4f773.bindPopup(popup_668d23d192616d6830198c0a346c1302)\n        ;\n\n        \n    \n    \n            var marker_5897bcce464530376cfd75d27a526a1d = L.marker(\n                [28.57325457, -80.64689529],\n                {}\n            ).addTo(marker_cluster_0504ff2e50b9ff81059249bf9abde0fb);\n        \n    \n            var icon_f0de38b680af77f450ffa638f51b9046 = L.AwesomeMarkers.icon(\n                {&quot;extraClasses&quot;: &quot;fa-rotate-0&quot;, &quot;icon&quot;: &quot;info-sign&quot;, &quot;iconColor&quot;: &quot;red&quot;, &quot;markerColor&quot;: &quot;white&quot;, &quot;prefix&quot;: &quot;glyphicon&quot;}\n            );\n            marker_5897bcce464530376cfd75d27a526a1d.setIcon(icon_f0de38b680af77f450ffa638f51b9046);\n        \n    \n        var popup_e68239fd9eabad074de060273a731d76 = L.popup({&quot;maxWidth&quot;: &quot;100%&quot;});\n\n        \n            \n                var html_b345ee91206beaae4624d5dddbc0e726 = $(`&lt;div id=&quot;html_b345ee91206beaae4624d5dddbc0e726&quot; style=&quot;width: 100.0%; height: 100.0%;&quot;&gt;KSC LC-39A&lt;/div&gt;`)[0];\n                popup_e68239fd9eabad074de060273a731d76.setContent(html_b345ee91206beaae4624d5dddbc0e726);\n            \n        \n\n        marker_5897bcce464530376cfd75d27a526a1d.bindPopup(popup_e68239fd9eabad074de060273a731d76)\n        ;\n\n        \n    \n    \n            var marker_073c37564404baa9c5c7d1092f3fddfe = L.marker(\n                [28.57325457, -80.64689529],\n                {}\n            ).addTo(marker_cluster_0504ff2e50b9ff81059249bf9abde0fb);\n        \n    \n            var icon_205ce0236c016b4cd8000cd6658a4c5c = L.AwesomeMarkers.icon(\n                {&quot;extraClasses&quot;: &quot;fa-rotate-0&quot;, &quot;icon&quot;: &quot;info-sign&quot;, &quot;iconColor&quot;: &quot;green&quot;, &quot;markerColor&quot;: &quot;white&quot;, &quot;prefix&quot;: &quot;glyphicon&quot;}\n            );\n            marker_073c37564404baa9c5c7d1092f3fddfe.setIcon(icon_205ce0236c016b4cd8000cd6658a4c5c);\n        \n    \n        var popup_fb357a7586c7c3cc0314028ab7c8e34a = L.popup({&quot;maxWidth&quot;: &quot;100%&quot;});\n\n        \n            \n                var html_dbc7b828894545caf7427a83c01ba364 = $(`&lt;div id=&quot;html_dbc7b828894545caf7427a83c01ba364&quot; style=&quot;width: 100.0%; height: 100.0%;&quot;&gt;KSC LC-39A&lt;/div&gt;`)[0];\n                popup_fb357a7586c7c3cc0314028ab7c8e34a.setContent(html_dbc7b828894545caf7427a83c01ba364);\n            \n        \n\n        marker_073c37564404baa9c5c7d1092f3fddfe.bindPopup(popup_fb357a7586c7c3cc0314028ab7c8e34a)\n        ;\n\n        \n    \n    \n            var marker_0edf5ee3fae2d91c1988370c73e3e25c = L.marker(\n                [28.57325457, -80.64689529],\n                {}\n            ).addTo(marker_cluster_0504ff2e50b9ff81059249bf9abde0fb);\n        \n    \n            var icon_dfad7609d74a2be8156a530a3409e6db = L.AwesomeMarkers.icon(\n                {&quot;extraClasses&quot;: &quot;fa-rotate-0&quot;, &quot;icon&quot;: &quot;info-sign&quot;, &quot;iconColor&quot;: &quot;green&quot;, &quot;markerColor&quot;: &quot;white&quot;, &quot;prefix&quot;: &quot;glyphicon&quot;}\n            );\n            marker_0edf5ee3fae2d91c1988370c73e3e25c.setIcon(icon_dfad7609d74a2be8156a530a3409e6db);\n        \n    \n        var popup_a3fa00df932c464760dd69edc777bf4f = L.popup({&quot;maxWidth&quot;: &quot;100%&quot;});\n\n        \n            \n                var html_a31aeff6d4d9722a70e830422a208a53 = $(`&lt;div id=&quot;html_a31aeff6d4d9722a70e830422a208a53&quot; style=&quot;width: 100.0%; height: 100.0%;&quot;&gt;KSC LC-39A&lt;/div&gt;`)[0];\n                popup_a3fa00df932c464760dd69edc777bf4f.setContent(html_a31aeff6d4d9722a70e830422a208a53);\n            \n        \n\n        marker_0edf5ee3fae2d91c1988370c73e3e25c.bindPopup(popup_a3fa00df932c464760dd69edc777bf4f)\n        ;\n\n        \n    \n    \n            var marker_df03d9c4a02b0a0f18a5292b046fc36c = L.marker(\n                [28.57325457, -80.64689529],\n                {}\n            ).addTo(marker_cluster_0504ff2e50b9ff81059249bf9abde0fb);\n        \n    \n            var icon_844bd8237cae6942283afe8511badf5d = L.AwesomeMarkers.icon(\n                {&quot;extraClasses&quot;: &quot;fa-rotate-0&quot;, &quot;icon&quot;: &quot;info-sign&quot;, &quot;iconColor&quot;: &quot;green&quot;, &quot;markerColor&quot;: &quot;white&quot;, &quot;prefix&quot;: &quot;glyphicon&quot;}\n            );\n            marker_df03d9c4a02b0a0f18a5292b046fc36c.setIcon(icon_844bd8237cae6942283afe8511badf5d);\n        \n    \n        var popup_7b8b0d2f5aee431d86e44aa02070f354 = L.popup({&quot;maxWidth&quot;: &quot;100%&quot;});\n\n        \n            \n                var html_688b409a1f5a89eacabdfc7227cb948a = $(`&lt;div id=&quot;html_688b409a1f5a89eacabdfc7227cb948a&quot; style=&quot;width: 100.0%; height: 100.0%;&quot;&gt;KSC LC-39A&lt;/div&gt;`)[0];\n                popup_7b8b0d2f5aee431d86e44aa02070f354.setContent(html_688b409a1f5a89eacabdfc7227cb948a);\n            \n        \n\n        marker_df03d9c4a02b0a0f18a5292b046fc36c.bindPopup(popup_7b8b0d2f5aee431d86e44aa02070f354)\n        ;\n\n        \n    \n    \n            var marker_a7d6bf7b098bfd0e267d2359adaa013e = L.marker(\n                [28.57325457, -80.64689529],\n                {}\n            ).addTo(marker_cluster_0504ff2e50b9ff81059249bf9abde0fb);\n        \n    \n            var icon_e884af2a79092b657534c31751994b21 = L.AwesomeMarkers.icon(\n                {&quot;extraClasses&quot;: &quot;fa-rotate-0&quot;, &quot;icon&quot;: &quot;info-sign&quot;, &quot;iconColor&quot;: &quot;green&quot;, &quot;markerColor&quot;: &quot;white&quot;, &quot;prefix&quot;: &quot;glyphicon&quot;}\n            );\n            marker_a7d6bf7b098bfd0e267d2359adaa013e.setIcon(icon_e884af2a79092b657534c31751994b21);\n        \n    \n        var popup_42ad25b8cf844fc577974214799f3e7a = L.popup({&quot;maxWidth&quot;: &quot;100%&quot;});\n\n        \n            \n                var html_c2e07168cf8f1f234ff419ab45b89075 = $(`&lt;div id=&quot;html_c2e07168cf8f1f234ff419ab45b89075&quot; style=&quot;width: 100.0%; height: 100.0%;&quot;&gt;KSC LC-39A&lt;/div&gt;`)[0];\n                popup_42ad25b8cf844fc577974214799f3e7a.setContent(html_c2e07168cf8f1f234ff419ab45b89075);\n            \n        \n\n        marker_a7d6bf7b098bfd0e267d2359adaa013e.bindPopup(popup_42ad25b8cf844fc577974214799f3e7a)\n        ;\n\n        \n    \n    \n            var marker_6aa6558c135df419ccd2a96af2b68ae2 = L.marker(\n                [28.57325457, -80.64689529],\n                {}\n            ).addTo(marker_cluster_0504ff2e50b9ff81059249bf9abde0fb);\n        \n    \n            var icon_f658d00a9ea428fd6975b61d209de6c8 = L.AwesomeMarkers.icon(\n                {&quot;extraClasses&quot;: &quot;fa-rotate-0&quot;, &quot;icon&quot;: &quot;info-sign&quot;, &quot;iconColor&quot;: &quot;green&quot;, &quot;markerColor&quot;: &quot;white&quot;, &quot;prefix&quot;: &quot;glyphicon&quot;}\n            );\n            marker_6aa6558c135df419ccd2a96af2b68ae2.setIcon(icon_f658d00a9ea428fd6975b61d209de6c8);\n        \n    \n        var popup_30a01818b07ebe672eff8a4cd286aea8 = L.popup({&quot;maxWidth&quot;: &quot;100%&quot;});\n\n        \n            \n                var html_43a7ca168e96c485b2b80700d2a6314e = $(`&lt;div id=&quot;html_43a7ca168e96c485b2b80700d2a6314e&quot; style=&quot;width: 100.0%; height: 100.0%;&quot;&gt;KSC LC-39A&lt;/div&gt;`)[0];\n                popup_30a01818b07ebe672eff8a4cd286aea8.setContent(html_43a7ca168e96c485b2b80700d2a6314e);\n            \n        \n\n        marker_6aa6558c135df419ccd2a96af2b68ae2.bindPopup(popup_30a01818b07ebe672eff8a4cd286aea8)\n        ;\n\n        \n    \n    \n            var marker_2f9bcc945d7d12f200c0ec09aef32654 = L.marker(\n                [28.56319718, -80.57682003],\n                {}\n            ).addTo(marker_cluster_0504ff2e50b9ff81059249bf9abde0fb);\n        \n    \n            var icon_3797c1b291ce02b1038fc3e36939a831 = L.AwesomeMarkers.icon(\n                {&quot;extraClasses&quot;: &quot;fa-rotate-0&quot;, &quot;icon&quot;: &quot;info-sign&quot;, &quot;iconColor&quot;: &quot;green&quot;, &quot;markerColor&quot;: &quot;white&quot;, &quot;prefix&quot;: &quot;glyphicon&quot;}\n            );\n            marker_2f9bcc945d7d12f200c0ec09aef32654.setIcon(icon_3797c1b291ce02b1038fc3e36939a831);\n        \n    \n        var popup_d49915a286da777d5c85566fc9077a2c = L.popup({&quot;maxWidth&quot;: &quot;100%&quot;});\n\n        \n            \n                var html_9aa37b745358bf0cac70509e5dc00204 = $(`&lt;div id=&quot;html_9aa37b745358bf0cac70509e5dc00204&quot; style=&quot;width: 100.0%; height: 100.0%;&quot;&gt;CCAFS SLC-40&lt;/div&gt;`)[0];\n                popup_d49915a286da777d5c85566fc9077a2c.setContent(html_9aa37b745358bf0cac70509e5dc00204);\n            \n        \n\n        marker_2f9bcc945d7d12f200c0ec09aef32654.bindPopup(popup_d49915a286da777d5c85566fc9077a2c)\n        ;\n\n        \n    \n    \n            var marker_7ed79f662d171a6b5e20e63d368a47b5 = L.marker(\n                [28.56319718, -80.57682003],\n                {}\n            ).addTo(marker_cluster_0504ff2e50b9ff81059249bf9abde0fb);\n        \n    \n            var icon_39e8274342c887b0fd3e8390c2ecad6e = L.AwesomeMarkers.icon(\n                {&quot;extraClasses&quot;: &quot;fa-rotate-0&quot;, &quot;icon&quot;: &quot;info-sign&quot;, &quot;iconColor&quot;: &quot;green&quot;, &quot;markerColor&quot;: &quot;white&quot;, &quot;prefix&quot;: &quot;glyphicon&quot;}\n            );\n            marker_7ed79f662d171a6b5e20e63d368a47b5.setIcon(icon_39e8274342c887b0fd3e8390c2ecad6e);\n        \n    \n        var popup_44bfd8767c618cb150376f469ce649ed = L.popup({&quot;maxWidth&quot;: &quot;100%&quot;});\n\n        \n            \n                var html_784fb3ea69bcec8328c3f8fe8c01f285 = $(`&lt;div id=&quot;html_784fb3ea69bcec8328c3f8fe8c01f285&quot; style=&quot;width: 100.0%; height: 100.0%;&quot;&gt;CCAFS SLC-40&lt;/div&gt;`)[0];\n                popup_44bfd8767c618cb150376f469ce649ed.setContent(html_784fb3ea69bcec8328c3f8fe8c01f285);\n            \n        \n\n        marker_7ed79f662d171a6b5e20e63d368a47b5.bindPopup(popup_44bfd8767c618cb150376f469ce649ed)\n        ;\n\n        \n    \n    \n            var marker_ea1ab9b681a77935d136d78f32410452 = L.marker(\n                [28.56319718, -80.57682003],\n                {}\n            ).addTo(marker_cluster_0504ff2e50b9ff81059249bf9abde0fb);\n        \n    \n            var icon_1416fe27109318fd8bb1c51fdb16524d = L.AwesomeMarkers.icon(\n                {&quot;extraClasses&quot;: &quot;fa-rotate-0&quot;, &quot;icon&quot;: &quot;info-sign&quot;, &quot;iconColor&quot;: &quot;red&quot;, &quot;markerColor&quot;: &quot;white&quot;, &quot;prefix&quot;: &quot;glyphicon&quot;}\n            );\n            marker_ea1ab9b681a77935d136d78f32410452.setIcon(icon_1416fe27109318fd8bb1c51fdb16524d);\n        \n    \n        var popup_aa912c40a01caaf7d1e7d7418bba1cf5 = L.popup({&quot;maxWidth&quot;: &quot;100%&quot;});\n\n        \n            \n                var html_2a2d8525876194d8bb9ce7c2f8bda568 = $(`&lt;div id=&quot;html_2a2d8525876194d8bb9ce7c2f8bda568&quot; style=&quot;width: 100.0%; height: 100.0%;&quot;&gt;CCAFS SLC-40&lt;/div&gt;`)[0];\n                popup_aa912c40a01caaf7d1e7d7418bba1cf5.setContent(html_2a2d8525876194d8bb9ce7c2f8bda568);\n            \n        \n\n        marker_ea1ab9b681a77935d136d78f32410452.bindPopup(popup_aa912c40a01caaf7d1e7d7418bba1cf5)\n        ;\n\n        \n    \n    \n            var marker_c0c14b14249e51ecfbd9d886197f1aca = L.marker(\n                [28.56319718, -80.57682003],\n                {}\n            ).addTo(marker_cluster_0504ff2e50b9ff81059249bf9abde0fb);\n        \n    \n            var icon_9ebb8a39ac39eb5ca2f7b44f513ac717 = L.AwesomeMarkers.icon(\n                {&quot;extraClasses&quot;: &quot;fa-rotate-0&quot;, &quot;icon&quot;: &quot;info-sign&quot;, &quot;iconColor&quot;: &quot;red&quot;, &quot;markerColor&quot;: &quot;white&quot;, &quot;prefix&quot;: &quot;glyphicon&quot;}\n            );\n            marker_c0c14b14249e51ecfbd9d886197f1aca.setIcon(icon_9ebb8a39ac39eb5ca2f7b44f513ac717);\n        \n    \n        var popup_0e916059f37a472967a845cfa4ce0e2c = L.popup({&quot;maxWidth&quot;: &quot;100%&quot;});\n\n        \n            \n                var html_1abb3adb9cdf1cbdd4bbaed4a89e4862 = $(`&lt;div id=&quot;html_1abb3adb9cdf1cbdd4bbaed4a89e4862&quot; style=&quot;width: 100.0%; height: 100.0%;&quot;&gt;CCAFS SLC-40&lt;/div&gt;`)[0];\n                popup_0e916059f37a472967a845cfa4ce0e2c.setContent(html_1abb3adb9cdf1cbdd4bbaed4a89e4862);\n            \n        \n\n        marker_c0c14b14249e51ecfbd9d886197f1aca.bindPopup(popup_0e916059f37a472967a845cfa4ce0e2c)\n        ;\n\n        \n    \n    \n            var marker_c43efff3d5bde0f612533442a3fa15ce = L.marker(\n                [28.56319718, -80.57682003],\n                {}\n            ).addTo(marker_cluster_0504ff2e50b9ff81059249bf9abde0fb);\n        \n    \n            var icon_0a6665bccb3a30cea7694b065beb421b = L.AwesomeMarkers.icon(\n                {&quot;extraClasses&quot;: &quot;fa-rotate-0&quot;, &quot;icon&quot;: &quot;info-sign&quot;, &quot;iconColor&quot;: &quot;red&quot;, &quot;markerColor&quot;: &quot;white&quot;, &quot;prefix&quot;: &quot;glyphicon&quot;}\n            );\n            marker_c43efff3d5bde0f612533442a3fa15ce.setIcon(icon_0a6665bccb3a30cea7694b065beb421b);\n        \n    \n        var popup_3d2081b402599e651f8775750fc9e39b = L.popup({&quot;maxWidth&quot;: &quot;100%&quot;});\n\n        \n            \n                var html_6254c3ebaa267470347de5a428e2bea9 = $(`&lt;div id=&quot;html_6254c3ebaa267470347de5a428e2bea9&quot; style=&quot;width: 100.0%; height: 100.0%;&quot;&gt;CCAFS SLC-40&lt;/div&gt;`)[0];\n                popup_3d2081b402599e651f8775750fc9e39b.setContent(html_6254c3ebaa267470347de5a428e2bea9);\n            \n        \n\n        marker_c43efff3d5bde0f612533442a3fa15ce.bindPopup(popup_3d2081b402599e651f8775750fc9e39b)\n        ;\n\n        \n    \n    \n            var marker_5b715f47d0e9ad0d2285fb2f5ca345ef = L.marker(\n                [28.56319718, -80.57682003],\n                {}\n            ).addTo(marker_cluster_0504ff2e50b9ff81059249bf9abde0fb);\n        \n    \n            var icon_2bf1d111ebf5a6ae4dda564adacdc263 = L.AwesomeMarkers.icon(\n                {&quot;extraClasses&quot;: &quot;fa-rotate-0&quot;, &quot;icon&quot;: &quot;info-sign&quot;, &quot;iconColor&quot;: &quot;green&quot;, &quot;markerColor&quot;: &quot;white&quot;, &quot;prefix&quot;: &quot;glyphicon&quot;}\n            );\n            marker_5b715f47d0e9ad0d2285fb2f5ca345ef.setIcon(icon_2bf1d111ebf5a6ae4dda564adacdc263);\n        \n    \n        var popup_71e7b3fe75f39bbc663a594bd0295116 = L.popup({&quot;maxWidth&quot;: &quot;100%&quot;});\n\n        \n            \n                var html_1ce6a6f62021ee1d258406a197e224b9 = $(`&lt;div id=&quot;html_1ce6a6f62021ee1d258406a197e224b9&quot; style=&quot;width: 100.0%; height: 100.0%;&quot;&gt;CCAFS SLC-40&lt;/div&gt;`)[0];\n                popup_71e7b3fe75f39bbc663a594bd0295116.setContent(html_1ce6a6f62021ee1d258406a197e224b9);\n            \n        \n\n        marker_5b715f47d0e9ad0d2285fb2f5ca345ef.bindPopup(popup_71e7b3fe75f39bbc663a594bd0295116)\n        ;\n\n        \n    \n    \n            var marker_23de961327160889c2d9a569da63c520 = L.marker(\n                [28.56319718, -80.57682003],\n                {}\n            ).addTo(marker_cluster_0504ff2e50b9ff81059249bf9abde0fb);\n        \n    \n            var icon_761999362cd6eb59964c1e126594a63e = L.AwesomeMarkers.icon(\n                {&quot;extraClasses&quot;: &quot;fa-rotate-0&quot;, &quot;icon&quot;: &quot;info-sign&quot;, &quot;iconColor&quot;: &quot;red&quot;, &quot;markerColor&quot;: &quot;white&quot;, &quot;prefix&quot;: &quot;glyphicon&quot;}\n            );\n            marker_23de961327160889c2d9a569da63c520.setIcon(icon_761999362cd6eb59964c1e126594a63e);\n        \n    \n        var popup_9a1c049f8b027bc33fb430daa4534fac = L.popup({&quot;maxWidth&quot;: &quot;100%&quot;});\n\n        \n            \n                var html_6976790f761128ed3becba84cedd7447 = $(`&lt;div id=&quot;html_6976790f761128ed3becba84cedd7447&quot; style=&quot;width: 100.0%; height: 100.0%;&quot;&gt;CCAFS SLC-40&lt;/div&gt;`)[0];\n                popup_9a1c049f8b027bc33fb430daa4534fac.setContent(html_6976790f761128ed3becba84cedd7447);\n            \n        \n\n        marker_23de961327160889c2d9a569da63c520.bindPopup(popup_9a1c049f8b027bc33fb430daa4534fac)\n        ;\n\n        \n    \n    \n            marker_cluster_0504ff2e50b9ff81059249bf9abde0fb.addTo(map_8d3b6cf5b9ae068b02deec1419bcbb51);\n        \n    \n            tile_layer_5f77d4427cd19b57fee834993b1136f9.addTo(map_8d3b6cf5b9ae068b02deec1419bcbb51);\n        \n    \n            feature_group_c4c13f5d3d18f15094ef4bb98671d65e.addTo(map_8d3b6cf5b9ae068b02deec1419bcbb51);\n        \n    \n            marker_cluster_0504ff2e50b9ff81059249bf9abde0fb.addTo(map_8d3b6cf5b9ae068b02deec1419bcbb51);\n        \n    \n            var mouse_position_17e56b3065e5eed4691f11dc99fc4eef = new L.Control.MousePosition(\n                {&quot;emptyString&quot;: &quot;NaN&quot;, &quot;lngFirst&quot;: false, &quot;numDigits&quot;: 20, &quot;position&quot;: &quot;topright&quot;, &quot;prefix&quot;: &quot;Lat:&quot;, &quot;separator&quot;: &quot; Long: &quot;}\n            );\n            mouse_position_17e56b3065e5eed4691f11dc99fc4eef.options[&quot;latFormatter&quot;] =\n                function(num) {return L.Util.formatNum(num, 5);};;\n            mouse_position_17e56b3065e5eed4691f11dc99fc4eef.options[&quot;lngFormatter&quot;] =\n                function(num) {return L.Util.formatNum(num, 5);};;\n            map_8d3b6cf5b9ae068b02deec1419bcbb51.addControl(mouse_position_17e56b3065e5eed4691f11dc99fc4eef);\n        \n    \n            tile_layer_5f77d4427cd19b57fee834993b1136f9.addTo(map_8d3b6cf5b9ae068b02deec1419bcbb51);\n        \n    \n            feature_group_c4c13f5d3d18f15094ef4bb98671d65e.addTo(map_8d3b6cf5b9ae068b02deec1419bcbb51);\n        \n    \n            marker_cluster_0504ff2e50b9ff81059249bf9abde0fb.addTo(map_8d3b6cf5b9ae068b02deec1419bcbb51);\n        \n    \n            var marker_08aa1312aa45b11e6f66c396e8375b5c = L.marker(\n                [28.57157, -80.6036],\n                {}\n            ).addTo(map_8d3b6cf5b9ae068b02deec1419bcbb51);\n        \n    \n            var div_icon_6fe4192d6225f56bea15dac20722228f = L.divIcon({&quot;className&quot;: &quot;empty&quot;, &quot;html&quot;: &quot;\\u003cdiv style=\\&quot;font-size: 12; color:#d35400;\\&quot;\\u003e\\u003cb\\u003e      4.23 KM\\u003c/b\\u003e\\u003c/div\\u003e&quot;, &quot;iconAnchor&quot;: [0, 0], &quot;iconSize&quot;: [20, 20]});\n            marker_08aa1312aa45b11e6f66c396e8375b5c.setIcon(div_icon_6fe4192d6225f56bea15dac20722228f);\n        \n    \n            var poly_line_dd9657e263b6a9fb5267dfde9c6065b0 = L.polyline(\n                [[28.5733, -80.64686], [28.57157, -80.6036]],\n                {&quot;bubblingMouseEvents&quot;: true, &quot;color&quot;: &quot;#3388ff&quot;, &quot;dashArray&quot;: null, &quot;dashOffset&quot;: null, &quot;fill&quot;: false, &quot;fillColor&quot;: &quot;#3388ff&quot;, &quot;fillOpacity&quot;: 0.2, &quot;fillRule&quot;: &quot;evenodd&quot;, &quot;lineCap&quot;: &quot;round&quot;, &quot;lineJoin&quot;: &quot;round&quot;, &quot;noClip&quot;: false, &quot;opacity&quot;: 1.0, &quot;smoothFactor&quot;: 1.0, &quot;stroke&quot;: true, &quot;weight&quot;: 1}\n            ).addTo(map_8d3b6cf5b9ae068b02deec1419bcbb51);\n        \n&lt;/script&gt;\n&lt;/html&gt;\" style=\"position:absolute;width:100%;height:100%;left:0;top:0;border:none !important;\" allowfullscreen webkitallowfullscreen mozallowfullscreen></iframe></div></div>"
          },
          "metadata": {}
        }
      ],
      "execution_count": 18
    },
    {
      "cell_type": "markdown",
      "source": "Your updated map with distance line should look like the following screenshot:\n",
      "metadata": {}
    },
    {
      "cell_type": "markdown",
      "source": "<center>\n    <img src=\"https://cf-courses-data.s3.us.cloud-object-storage.appdomain.cloud/IBM-DS0321EN-SkillsNetwork/labs/module_3/images/launch_site_marker_distance.png\">\n</center>\n",
      "metadata": {}
    },
    {
      "cell_type": "markdown",
      "source": "*TODO:* Similarly, you can draw a line betwee a launch site to its closest city, railway, highway, etc. You need to use `MousePosition` to find the their coordinates on the map first\n",
      "metadata": {}
    },
    {
      "cell_type": "markdown",
      "source": "A railway map symbol may look like this:\n",
      "metadata": {}
    },
    {
      "cell_type": "markdown",
      "source": "<center>\n    <img src=\"https://cf-courses-data.s3.us.cloud-object-storage.appdomain.cloud/IBM-DS0321EN-SkillsNetwork/labs/module_3/images/railway.png\">\n</center>\n",
      "metadata": {}
    },
    {
      "cell_type": "markdown",
      "source": "A highway map symbol may look like this:\n",
      "metadata": {}
    },
    {
      "cell_type": "markdown",
      "source": "<center>\n    <img src=\"https://cf-courses-data.s3.us.cloud-object-storage.appdomain.cloud/IBM-DS0321EN-SkillsNetwork/labs/module_3/images/highway.png\">\n</center>\n",
      "metadata": {}
    },
    {
      "cell_type": "markdown",
      "source": "A city map symbol may look like this:\n",
      "metadata": {}
    },
    {
      "cell_type": "markdown",
      "source": "<center>\n    <img src=\"https://cf-courses-data.s3.us.cloud-object-storage.appdomain.cloud/IBM-DS0321EN-SkillsNetwork/labs/module_3/images/city.png\">\n</center>\n",
      "metadata": {}
    },
    {
      "cell_type": "code",
      "source": "# Create a marker with distance to a closest city, railway, highway, etc.\n# Draw a line between the marker to the launch site\ndistance_coastline = calculate_distance(28.5733,-80.64686,28.57246,-80.65546)\n",
      "metadata": {
        "trusted": true
      },
      "outputs": [],
      "execution_count": 19
    },
    {
      "cell_type": "code",
      "source": "distance_marker = folium.Marker(\n    [28.57246,-80.65546],\n    icon=DivIcon(\n        icon_size=(20,20),\n        icon_anchor=(0,0),\n        html='<div style=\"font-size: 12; color:#d35400;\"><b>%s</b></div>' % \"{:10.2f} KM\".format(distance_coastline),)).add_to(site_map)\n",
      "metadata": {
        "trusted": true
      },
      "outputs": [],
      "execution_count": 20
    },
    {
      "cell_type": "code",
      "source": "lines=folium.PolyLine(locations=[[28.5733,-80.64686],[28.57246,-80.65546]], weight=1)\nsite_map.add_child(lines)",
      "metadata": {
        "trusted": true
      },
      "outputs": [
        {
          "execution_count": 21,
          "output_type": "execute_result",
          "data": {
            "text/plain": "<folium.folium.Map at 0x546e928>",
            "text/html": "<div style=\"width:100%;\"><div style=\"position:relative;width:100%;height:0;padding-bottom:60%;\"><span style=\"color:#565656\">Make this Notebook Trusted to load map: File -> Trust Notebook</span><iframe srcdoc=\"&lt;!DOCTYPE html&gt;\n&lt;html&gt;\n&lt;head&gt;\n    \n    &lt;meta http-equiv=&quot;content-type&quot; content=&quot;text/html; charset=UTF-8&quot; /&gt;\n    \n        &lt;script&gt;\n            L_NO_TOUCH = false;\n            L_DISABLE_3D = false;\n        &lt;/script&gt;\n    \n    &lt;style&gt;html, body {width: 100%;height: 100%;margin: 0;padding: 0;}&lt;/style&gt;\n    &lt;style&gt;#map {position:absolute;top:0;bottom:0;right:0;left:0;}&lt;/style&gt;\n    &lt;script src=&quot;https://cdn.jsdelivr.net/npm/leaflet@1.9.3/dist/leaflet.js&quot;&gt;&lt;/script&gt;\n    &lt;script src=&quot;https://code.jquery.com/jquery-3.7.1.min.js&quot;&gt;&lt;/script&gt;\n    &lt;script src=&quot;https://cdn.jsdelivr.net/npm/bootstrap@5.2.2/dist/js/bootstrap.bundle.min.js&quot;&gt;&lt;/script&gt;\n    &lt;script src=&quot;https://cdnjs.cloudflare.com/ajax/libs/Leaflet.awesome-markers/2.0.2/leaflet.awesome-markers.js&quot;&gt;&lt;/script&gt;\n    &lt;link rel=&quot;stylesheet&quot; href=&quot;https://cdn.jsdelivr.net/npm/leaflet@1.9.3/dist/leaflet.css&quot;/&gt;\n    &lt;link rel=&quot;stylesheet&quot; href=&quot;https://cdn.jsdelivr.net/npm/bootstrap@5.2.2/dist/css/bootstrap.min.css&quot;/&gt;\n    &lt;link rel=&quot;stylesheet&quot; href=&quot;https://netdna.bootstrapcdn.com/bootstrap/3.0.0/css/bootstrap-glyphicons.css&quot;/&gt;\n    &lt;link rel=&quot;stylesheet&quot; href=&quot;https://cdn.jsdelivr.net/npm/@fortawesome/fontawesome-free@6.2.0/css/all.min.css&quot;/&gt;\n    &lt;link rel=&quot;stylesheet&quot; href=&quot;https://cdnjs.cloudflare.com/ajax/libs/Leaflet.awesome-markers/2.0.2/leaflet.awesome-markers.css&quot;/&gt;\n    &lt;link rel=&quot;stylesheet&quot; href=&quot;https://cdn.jsdelivr.net/gh/python-visualization/folium/folium/templates/leaflet.awesome.rotate.min.css&quot;/&gt;\n    \n            &lt;meta name=&quot;viewport&quot; content=&quot;width=device-width,\n                initial-scale=1.0, maximum-scale=1.0, user-scalable=no&quot; /&gt;\n            &lt;style&gt;\n                #map_8d3b6cf5b9ae068b02deec1419bcbb51 {\n                    position: relative;\n                    width: 100.0%;\n                    height: 100.0%;\n                    left: 0.0%;\n                    top: 0.0%;\n                }\n                .leaflet-container { font-size: 1rem; }\n            &lt;/style&gt;\n        \n    &lt;script src=&quot;https://cdnjs.cloudflare.com/ajax/libs/leaflet.markercluster/1.1.0/leaflet.markercluster.js&quot;&gt;&lt;/script&gt;\n    &lt;link rel=&quot;stylesheet&quot; href=&quot;https://cdnjs.cloudflare.com/ajax/libs/leaflet.markercluster/1.1.0/MarkerCluster.css&quot;/&gt;\n    &lt;link rel=&quot;stylesheet&quot; href=&quot;https://cdnjs.cloudflare.com/ajax/libs/leaflet.markercluster/1.1.0/MarkerCluster.Default.css&quot;/&gt;\n    &lt;script src=&quot;https://cdn.jsdelivr.net/gh/ardhi/Leaflet.MousePosition/src/L.Control.MousePosition.min.js&quot;&gt;&lt;/script&gt;\n    &lt;link rel=&quot;stylesheet&quot; href=&quot;https://cdn.jsdelivr.net/gh/ardhi/Leaflet.MousePosition/src/L.Control.MousePosition.min.css&quot;/&gt;\n&lt;/head&gt;\n&lt;body&gt;\n    \n    \n            &lt;div class=&quot;folium-map&quot; id=&quot;map_8d3b6cf5b9ae068b02deec1419bcbb51&quot; &gt;&lt;/div&gt;\n        \n&lt;/body&gt;\n&lt;script&gt;\n    \n    \n            var map_8d3b6cf5b9ae068b02deec1419bcbb51 = L.map(\n                &quot;map_8d3b6cf5b9ae068b02deec1419bcbb51&quot;,\n                {\n                    center: [29.559684888503615, -95.0830971930759],\n                    crs: L.CRS.EPSG3857,\n                    zoom: 4,\n                    zoomControl: true,\n                    preferCanvas: false,\n                }\n            );\n\n            \n\n        \n    \n            var tile_layer_5f77d4427cd19b57fee834993b1136f9 = L.tileLayer(\n                &quot;https://tile.openstreetmap.org/{z}/{x}/{y}.png&quot;,\n                {&quot;attribution&quot;: &quot;\\u0026copy; \\u003ca href=\\&quot;https://www.openstreetmap.org/copyright\\&quot;\\u003eOpenStreetMap\\u003c/a\\u003e contributors&quot;, &quot;detectRetina&quot;: false, &quot;maxNativeZoom&quot;: 19, &quot;maxZoom&quot;: 19, &quot;minZoom&quot;: 0, &quot;noWrap&quot;: false, &quot;opacity&quot;: 1, &quot;subdomains&quot;: &quot;abc&quot;, &quot;tms&quot;: false}\n            );\n        \n    \n            tile_layer_5f77d4427cd19b57fee834993b1136f9.addTo(map_8d3b6cf5b9ae068b02deec1419bcbb51);\n        \n    \n            var marker_2e31075d6160df7df01458d26410099b = L.marker(\n                [28.56230197, -80.57735648],\n                {}\n            ).addTo(map_8d3b6cf5b9ae068b02deec1419bcbb51);\n        \n    \n            var div_icon_7b9859d46238ee8cce38e99267c7289c = L.divIcon({&quot;className&quot;: &quot;empty&quot;, &quot;html&quot;: &quot;\\u003cdiv style=\\&quot;font-size: 12; color:#d35400;\\&quot;\\u003e\\u003cb\\u003eCCAFS LC-40\\u003c/b\\u003e\\u003c/div\\u003e&quot;, &quot;iconAnchor&quot;: [0, 0], &quot;iconSize&quot;: [20, 20]});\n            marker_2e31075d6160df7df01458d26410099b.setIcon(div_icon_7b9859d46238ee8cce38e99267c7289c);\n        \n    \n            var marker_daab8393e90259182877d99d74b9be4c = L.marker(\n                [28.56319718, -80.57682003],\n                {}\n            ).addTo(map_8d3b6cf5b9ae068b02deec1419bcbb51);\n        \n    \n            var div_icon_74e786d8924e14eb21efcc6ccc8c3ea8 = L.divIcon({&quot;className&quot;: &quot;empty&quot;, &quot;html&quot;: &quot;\\u003cdiv style=\\&quot;font-size: 12; color:#d35400;\\&quot;\\u003e\\u003cb\\u003eCCAFS SLC-40\\u003c/b\\u003e\\u003c/div\\u003e&quot;, &quot;iconAnchor&quot;: [0, 0], &quot;iconSize&quot;: [20, 20]});\n            marker_daab8393e90259182877d99d74b9be4c.setIcon(div_icon_74e786d8924e14eb21efcc6ccc8c3ea8);\n        \n    \n            var marker_68127823e4f72ff607bc4071c115b252 = L.marker(\n                [28.57325457, -80.64689529],\n                {}\n            ).addTo(map_8d3b6cf5b9ae068b02deec1419bcbb51);\n        \n    \n            var div_icon_567b664c075741504fb5df215913db7d = L.divIcon({&quot;className&quot;: &quot;empty&quot;, &quot;html&quot;: &quot;\\u003cdiv style=\\&quot;font-size: 12; color:#d35400;\\&quot;\\u003e\\u003cb\\u003eKSC LC-39A\\u003c/b\\u003e\\u003c/div\\u003e&quot;, &quot;iconAnchor&quot;: [0, 0], &quot;iconSize&quot;: [20, 20]});\n            marker_68127823e4f72ff607bc4071c115b252.setIcon(div_icon_567b664c075741504fb5df215913db7d);\n        \n    \n            var marker_01d2e5851418520a7789b25185ff4ab3 = L.marker(\n                [34.63283416, -120.6107455],\n                {}\n            ).addTo(map_8d3b6cf5b9ae068b02deec1419bcbb51);\n        \n    \n            var div_icon_b0264f86aad5da5d60de698465ee63b7 = L.divIcon({&quot;className&quot;: &quot;empty&quot;, &quot;html&quot;: &quot;\\u003cdiv style=\\&quot;font-size: 12; color:#d35400;\\&quot;\\u003e\\u003cb\\u003eVAFB SLC-4E\\u003c/b\\u003e\\u003c/div\\u003e&quot;, &quot;iconAnchor&quot;: [0, 0], &quot;iconSize&quot;: [20, 20]});\n            marker_01d2e5851418520a7789b25185ff4ab3.setIcon(div_icon_b0264f86aad5da5d60de698465ee63b7);\n        \n    \n            var feature_group_c4c13f5d3d18f15094ef4bb98671d65e = L.featureGroup(\n                {}\n            );\n        \n    \n            var circle_marker_e1f9184a07fcc440fd375460e9a26c14 = L.circleMarker(\n                [28.56230197, -80.57735648],\n                {&quot;bubblingMouseEvents&quot;: true, &quot;color&quot;: &quot;#d35400&quot;, &quot;dashArray&quot;: null, &quot;dashOffset&quot;: null, &quot;fill&quot;: true, &quot;fillColor&quot;: &quot;#d35400&quot;, &quot;fillOpacity&quot;: 0.2, &quot;fillRule&quot;: &quot;evenodd&quot;, &quot;lineCap&quot;: &quot;round&quot;, &quot;lineJoin&quot;: &quot;round&quot;, &quot;opacity&quot;: 1.0, &quot;radius&quot;: 5, &quot;stroke&quot;: true, &quot;weight&quot;: 3}\n            ).addTo(feature_group_c4c13f5d3d18f15094ef4bb98671d65e);\n        \n    \n            var circle_marker_2aadb29ca5d5a9080dc7d47c40991264 = L.circleMarker(\n                [28.56319718, -80.57682003],\n                {&quot;bubblingMouseEvents&quot;: true, &quot;color&quot;: &quot;#d35400&quot;, &quot;dashArray&quot;: null, &quot;dashOffset&quot;: null, &quot;fill&quot;: true, &quot;fillColor&quot;: &quot;#d35400&quot;, &quot;fillOpacity&quot;: 0.2, &quot;fillRule&quot;: &quot;evenodd&quot;, &quot;lineCap&quot;: &quot;round&quot;, &quot;lineJoin&quot;: &quot;round&quot;, &quot;opacity&quot;: 1.0, &quot;radius&quot;: 5, &quot;stroke&quot;: true, &quot;weight&quot;: 3}\n            ).addTo(feature_group_c4c13f5d3d18f15094ef4bb98671d65e);\n        \n    \n            var circle_marker_c5fe54752b9176395d1ef6b8b30fe668 = L.circleMarker(\n                [28.57325457, -80.64689529],\n                {&quot;bubblingMouseEvents&quot;: true, &quot;color&quot;: &quot;#d35400&quot;, &quot;dashArray&quot;: null, &quot;dashOffset&quot;: null, &quot;fill&quot;: true, &quot;fillColor&quot;: &quot;#d35400&quot;, &quot;fillOpacity&quot;: 0.2, &quot;fillRule&quot;: &quot;evenodd&quot;, &quot;lineCap&quot;: &quot;round&quot;, &quot;lineJoin&quot;: &quot;round&quot;, &quot;opacity&quot;: 1.0, &quot;radius&quot;: 5, &quot;stroke&quot;: true, &quot;weight&quot;: 3}\n            ).addTo(feature_group_c4c13f5d3d18f15094ef4bb98671d65e);\n        \n    \n            var circle_marker_31a0e096e127657047991b583089548e = L.circleMarker(\n                [34.63283416, -120.6107455],\n                {&quot;bubblingMouseEvents&quot;: true, &quot;color&quot;: &quot;#d35400&quot;, &quot;dashArray&quot;: null, &quot;dashOffset&quot;: null, &quot;fill&quot;: true, &quot;fillColor&quot;: &quot;#d35400&quot;, &quot;fillOpacity&quot;: 0.2, &quot;fillRule&quot;: &quot;evenodd&quot;, &quot;lineCap&quot;: &quot;round&quot;, &quot;lineJoin&quot;: &quot;round&quot;, &quot;opacity&quot;: 1.0, &quot;radius&quot;: 5, &quot;stroke&quot;: true, &quot;weight&quot;: 3}\n            ).addTo(feature_group_c4c13f5d3d18f15094ef4bb98671d65e);\n        \n    \n            feature_group_c4c13f5d3d18f15094ef4bb98671d65e.addTo(map_8d3b6cf5b9ae068b02deec1419bcbb51);\n        \n    \n            tile_layer_5f77d4427cd19b57fee834993b1136f9.addTo(map_8d3b6cf5b9ae068b02deec1419bcbb51);\n        \n    \n            feature_group_c4c13f5d3d18f15094ef4bb98671d65e.addTo(map_8d3b6cf5b9ae068b02deec1419bcbb51);\n        \n    \n            var marker_cluster_0504ff2e50b9ff81059249bf9abde0fb = L.markerClusterGroup(\n                {}\n            );\n        \n    \n            var marker_11a8e11228a84a828ce2ebd8daeb63ec = L.marker(\n                [28.56230197, -80.57735648],\n                {}\n            ).addTo(marker_cluster_0504ff2e50b9ff81059249bf9abde0fb);\n        \n    \n            var icon_483a68947516155caa1a16ddf24cd5f7 = L.AwesomeMarkers.icon(\n                {&quot;extraClasses&quot;: &quot;fa-rotate-0&quot;, &quot;icon&quot;: &quot;info-sign&quot;, &quot;iconColor&quot;: &quot;red&quot;, &quot;markerColor&quot;: &quot;white&quot;, &quot;prefix&quot;: &quot;glyphicon&quot;}\n            );\n            marker_11a8e11228a84a828ce2ebd8daeb63ec.setIcon(icon_483a68947516155caa1a16ddf24cd5f7);\n        \n    \n        var popup_07b811736e289340b28327741ad90f0c = L.popup({&quot;maxWidth&quot;: &quot;100%&quot;});\n\n        \n            \n                var html_3ab07d7e53a22541b9bad0afe03c8cb7 = $(`&lt;div id=&quot;html_3ab07d7e53a22541b9bad0afe03c8cb7&quot; style=&quot;width: 100.0%; height: 100.0%;&quot;&gt;CCAFS LC-40&lt;/div&gt;`)[0];\n                popup_07b811736e289340b28327741ad90f0c.setContent(html_3ab07d7e53a22541b9bad0afe03c8cb7);\n            \n        \n\n        marker_11a8e11228a84a828ce2ebd8daeb63ec.bindPopup(popup_07b811736e289340b28327741ad90f0c)\n        ;\n\n        \n    \n    \n            var marker_918a4eb71f85ba1950efb3f43123bb54 = L.marker(\n                [28.56230197, -80.57735648],\n                {}\n            ).addTo(marker_cluster_0504ff2e50b9ff81059249bf9abde0fb);\n        \n    \n            var icon_4dd2a66dffacac8a15e73b7b6f27c946 = L.AwesomeMarkers.icon(\n                {&quot;extraClasses&quot;: &quot;fa-rotate-0&quot;, &quot;icon&quot;: &quot;info-sign&quot;, &quot;iconColor&quot;: &quot;red&quot;, &quot;markerColor&quot;: &quot;white&quot;, &quot;prefix&quot;: &quot;glyphicon&quot;}\n            );\n            marker_918a4eb71f85ba1950efb3f43123bb54.setIcon(icon_4dd2a66dffacac8a15e73b7b6f27c946);\n        \n    \n        var popup_e6e775321b099285f26b78a0690514fe = L.popup({&quot;maxWidth&quot;: &quot;100%&quot;});\n\n        \n            \n                var html_a521870599d437a91122834741f8e1e8 = $(`&lt;div id=&quot;html_a521870599d437a91122834741f8e1e8&quot; style=&quot;width: 100.0%; height: 100.0%;&quot;&gt;CCAFS LC-40&lt;/div&gt;`)[0];\n                popup_e6e775321b099285f26b78a0690514fe.setContent(html_a521870599d437a91122834741f8e1e8);\n            \n        \n\n        marker_918a4eb71f85ba1950efb3f43123bb54.bindPopup(popup_e6e775321b099285f26b78a0690514fe)\n        ;\n\n        \n    \n    \n            var marker_000caa175c1668c746d20772b80f8a12 = L.marker(\n                [28.56230197, -80.57735648],\n                {}\n            ).addTo(marker_cluster_0504ff2e50b9ff81059249bf9abde0fb);\n        \n    \n            var icon_e5eaccb969bf94b965166d888ca6fd86 = L.AwesomeMarkers.icon(\n                {&quot;extraClasses&quot;: &quot;fa-rotate-0&quot;, &quot;icon&quot;: &quot;info-sign&quot;, &quot;iconColor&quot;: &quot;red&quot;, &quot;markerColor&quot;: &quot;white&quot;, &quot;prefix&quot;: &quot;glyphicon&quot;}\n            );\n            marker_000caa175c1668c746d20772b80f8a12.setIcon(icon_e5eaccb969bf94b965166d888ca6fd86);\n        \n    \n        var popup_b331e4990ae2090146063e1d48c1b88f = L.popup({&quot;maxWidth&quot;: &quot;100%&quot;});\n\n        \n            \n                var html_9fa62b146aa733b61337fa1b0006bb18 = $(`&lt;div id=&quot;html_9fa62b146aa733b61337fa1b0006bb18&quot; style=&quot;width: 100.0%; height: 100.0%;&quot;&gt;CCAFS LC-40&lt;/div&gt;`)[0];\n                popup_b331e4990ae2090146063e1d48c1b88f.setContent(html_9fa62b146aa733b61337fa1b0006bb18);\n            \n        \n\n        marker_000caa175c1668c746d20772b80f8a12.bindPopup(popup_b331e4990ae2090146063e1d48c1b88f)\n        ;\n\n        \n    \n    \n            var marker_71c5de633b17a36d74e38d269115d035 = L.marker(\n                [28.56230197, -80.57735648],\n                {}\n            ).addTo(marker_cluster_0504ff2e50b9ff81059249bf9abde0fb);\n        \n    \n            var icon_df87aa2111e4264cbb403e52e2e86e09 = L.AwesomeMarkers.icon(\n                {&quot;extraClasses&quot;: &quot;fa-rotate-0&quot;, &quot;icon&quot;: &quot;info-sign&quot;, &quot;iconColor&quot;: &quot;red&quot;, &quot;markerColor&quot;: &quot;white&quot;, &quot;prefix&quot;: &quot;glyphicon&quot;}\n            );\n            marker_71c5de633b17a36d74e38d269115d035.setIcon(icon_df87aa2111e4264cbb403e52e2e86e09);\n        \n    \n        var popup_a0bd8dfc38bfb6d28a138610fb442934 = L.popup({&quot;maxWidth&quot;: &quot;100%&quot;});\n\n        \n            \n                var html_12081c322661eb5e534d77b802fc86ce = $(`&lt;div id=&quot;html_12081c322661eb5e534d77b802fc86ce&quot; style=&quot;width: 100.0%; height: 100.0%;&quot;&gt;CCAFS LC-40&lt;/div&gt;`)[0];\n                popup_a0bd8dfc38bfb6d28a138610fb442934.setContent(html_12081c322661eb5e534d77b802fc86ce);\n            \n        \n\n        marker_71c5de633b17a36d74e38d269115d035.bindPopup(popup_a0bd8dfc38bfb6d28a138610fb442934)\n        ;\n\n        \n    \n    \n            var marker_fe48ed96c2411e6125db7e4daef64841 = L.marker(\n                [28.56230197, -80.57735648],\n                {}\n            ).addTo(marker_cluster_0504ff2e50b9ff81059249bf9abde0fb);\n        \n    \n            var icon_74edd004f4b9b894e98618146c44430b = L.AwesomeMarkers.icon(\n                {&quot;extraClasses&quot;: &quot;fa-rotate-0&quot;, &quot;icon&quot;: &quot;info-sign&quot;, &quot;iconColor&quot;: &quot;red&quot;, &quot;markerColor&quot;: &quot;white&quot;, &quot;prefix&quot;: &quot;glyphicon&quot;}\n            );\n            marker_fe48ed96c2411e6125db7e4daef64841.setIcon(icon_74edd004f4b9b894e98618146c44430b);\n        \n    \n        var popup_cb64e459c53f16e4486a27f35ad0371c = L.popup({&quot;maxWidth&quot;: &quot;100%&quot;});\n\n        \n            \n                var html_21ba1c193bdb10b56ad036c559869b6c = $(`&lt;div id=&quot;html_21ba1c193bdb10b56ad036c559869b6c&quot; style=&quot;width: 100.0%; height: 100.0%;&quot;&gt;CCAFS LC-40&lt;/div&gt;`)[0];\n                popup_cb64e459c53f16e4486a27f35ad0371c.setContent(html_21ba1c193bdb10b56ad036c559869b6c);\n            \n        \n\n        marker_fe48ed96c2411e6125db7e4daef64841.bindPopup(popup_cb64e459c53f16e4486a27f35ad0371c)\n        ;\n\n        \n    \n    \n            var marker_0eff492c35371cab941d6b18e00c0fd1 = L.marker(\n                [28.56230197, -80.57735648],\n                {}\n            ).addTo(marker_cluster_0504ff2e50b9ff81059249bf9abde0fb);\n        \n    \n            var icon_b874ae859dfe89facaba6482464e203c = L.AwesomeMarkers.icon(\n                {&quot;extraClasses&quot;: &quot;fa-rotate-0&quot;, &quot;icon&quot;: &quot;info-sign&quot;, &quot;iconColor&quot;: &quot;red&quot;, &quot;markerColor&quot;: &quot;white&quot;, &quot;prefix&quot;: &quot;glyphicon&quot;}\n            );\n            marker_0eff492c35371cab941d6b18e00c0fd1.setIcon(icon_b874ae859dfe89facaba6482464e203c);\n        \n    \n        var popup_e353626493e06f6bc1dcb3ab001d30c0 = L.popup({&quot;maxWidth&quot;: &quot;100%&quot;});\n\n        \n            \n                var html_ea301d1675a9cbcef090c9c4a65fbc25 = $(`&lt;div id=&quot;html_ea301d1675a9cbcef090c9c4a65fbc25&quot; style=&quot;width: 100.0%; height: 100.0%;&quot;&gt;CCAFS LC-40&lt;/div&gt;`)[0];\n                popup_e353626493e06f6bc1dcb3ab001d30c0.setContent(html_ea301d1675a9cbcef090c9c4a65fbc25);\n            \n        \n\n        marker_0eff492c35371cab941d6b18e00c0fd1.bindPopup(popup_e353626493e06f6bc1dcb3ab001d30c0)\n        ;\n\n        \n    \n    \n            var marker_ef8f93189de4e2c497fced0cbb101601 = L.marker(\n                [28.56230197, -80.57735648],\n                {}\n            ).addTo(marker_cluster_0504ff2e50b9ff81059249bf9abde0fb);\n        \n    \n            var icon_b6e5674288bd0c4871c9ae733b57363a = L.AwesomeMarkers.icon(\n                {&quot;extraClasses&quot;: &quot;fa-rotate-0&quot;, &quot;icon&quot;: &quot;info-sign&quot;, &quot;iconColor&quot;: &quot;red&quot;, &quot;markerColor&quot;: &quot;white&quot;, &quot;prefix&quot;: &quot;glyphicon&quot;}\n            );\n            marker_ef8f93189de4e2c497fced0cbb101601.setIcon(icon_b6e5674288bd0c4871c9ae733b57363a);\n        \n    \n        var popup_0ffd81ff7e5bdfc4486cb92ab7ef03ad = L.popup({&quot;maxWidth&quot;: &quot;100%&quot;});\n\n        \n            \n                var html_67d32ae1a01db9fb2d182d80eec10b3b = $(`&lt;div id=&quot;html_67d32ae1a01db9fb2d182d80eec10b3b&quot; style=&quot;width: 100.0%; height: 100.0%;&quot;&gt;CCAFS LC-40&lt;/div&gt;`)[0];\n                popup_0ffd81ff7e5bdfc4486cb92ab7ef03ad.setContent(html_67d32ae1a01db9fb2d182d80eec10b3b);\n            \n        \n\n        marker_ef8f93189de4e2c497fced0cbb101601.bindPopup(popup_0ffd81ff7e5bdfc4486cb92ab7ef03ad)\n        ;\n\n        \n    \n    \n            var marker_c06ea8ad18129c9c670ba7a1a2ec15e9 = L.marker(\n                [28.56230197, -80.57735648],\n                {}\n            ).addTo(marker_cluster_0504ff2e50b9ff81059249bf9abde0fb);\n        \n    \n            var icon_e88e5ba66ed32b2c407f9e983ccdb1d7 = L.AwesomeMarkers.icon(\n                {&quot;extraClasses&quot;: &quot;fa-rotate-0&quot;, &quot;icon&quot;: &quot;info-sign&quot;, &quot;iconColor&quot;: &quot;red&quot;, &quot;markerColor&quot;: &quot;white&quot;, &quot;prefix&quot;: &quot;glyphicon&quot;}\n            );\n            marker_c06ea8ad18129c9c670ba7a1a2ec15e9.setIcon(icon_e88e5ba66ed32b2c407f9e983ccdb1d7);\n        \n    \n        var popup_1740ed287b9516ca1dfb4fae2dbf5c93 = L.popup({&quot;maxWidth&quot;: &quot;100%&quot;});\n\n        \n            \n                var html_63046fffa1c52f48ea3cf3cf53f02162 = $(`&lt;div id=&quot;html_63046fffa1c52f48ea3cf3cf53f02162&quot; style=&quot;width: 100.0%; height: 100.0%;&quot;&gt;CCAFS LC-40&lt;/div&gt;`)[0];\n                popup_1740ed287b9516ca1dfb4fae2dbf5c93.setContent(html_63046fffa1c52f48ea3cf3cf53f02162);\n            \n        \n\n        marker_c06ea8ad18129c9c670ba7a1a2ec15e9.bindPopup(popup_1740ed287b9516ca1dfb4fae2dbf5c93)\n        ;\n\n        \n    \n    \n            var marker_6178c24585c197f1b5df28d5f77714ad = L.marker(\n                [28.56230197, -80.57735648],\n                {}\n            ).addTo(marker_cluster_0504ff2e50b9ff81059249bf9abde0fb);\n        \n    \n            var icon_a9480d7e1dc5a44441450a6dab24bdd1 = L.AwesomeMarkers.icon(\n                {&quot;extraClasses&quot;: &quot;fa-rotate-0&quot;, &quot;icon&quot;: &quot;info-sign&quot;, &quot;iconColor&quot;: &quot;red&quot;, &quot;markerColor&quot;: &quot;white&quot;, &quot;prefix&quot;: &quot;glyphicon&quot;}\n            );\n            marker_6178c24585c197f1b5df28d5f77714ad.setIcon(icon_a9480d7e1dc5a44441450a6dab24bdd1);\n        \n    \n        var popup_8a93e8ece7ab0894e9b64b33252d1240 = L.popup({&quot;maxWidth&quot;: &quot;100%&quot;});\n\n        \n            \n                var html_30571e8e335fd8e1c596c7b9d57cd684 = $(`&lt;div id=&quot;html_30571e8e335fd8e1c596c7b9d57cd684&quot; style=&quot;width: 100.0%; height: 100.0%;&quot;&gt;CCAFS LC-40&lt;/div&gt;`)[0];\n                popup_8a93e8ece7ab0894e9b64b33252d1240.setContent(html_30571e8e335fd8e1c596c7b9d57cd684);\n            \n        \n\n        marker_6178c24585c197f1b5df28d5f77714ad.bindPopup(popup_8a93e8ece7ab0894e9b64b33252d1240)\n        ;\n\n        \n    \n    \n            var marker_522333efc78801ef6b3affb952178928 = L.marker(\n                [28.56230197, -80.57735648],\n                {}\n            ).addTo(marker_cluster_0504ff2e50b9ff81059249bf9abde0fb);\n        \n    \n            var icon_4242231cccc4d2522265f4a98a19f06a = L.AwesomeMarkers.icon(\n                {&quot;extraClasses&quot;: &quot;fa-rotate-0&quot;, &quot;icon&quot;: &quot;info-sign&quot;, &quot;iconColor&quot;: &quot;red&quot;, &quot;markerColor&quot;: &quot;white&quot;, &quot;prefix&quot;: &quot;glyphicon&quot;}\n            );\n            marker_522333efc78801ef6b3affb952178928.setIcon(icon_4242231cccc4d2522265f4a98a19f06a);\n        \n    \n        var popup_48c95caa54341f6689742d17613f25b5 = L.popup({&quot;maxWidth&quot;: &quot;100%&quot;});\n\n        \n            \n                var html_5df8fc91cb6c3b770f3cffc5641d2f20 = $(`&lt;div id=&quot;html_5df8fc91cb6c3b770f3cffc5641d2f20&quot; style=&quot;width: 100.0%; height: 100.0%;&quot;&gt;CCAFS LC-40&lt;/div&gt;`)[0];\n                popup_48c95caa54341f6689742d17613f25b5.setContent(html_5df8fc91cb6c3b770f3cffc5641d2f20);\n            \n        \n\n        marker_522333efc78801ef6b3affb952178928.bindPopup(popup_48c95caa54341f6689742d17613f25b5)\n        ;\n\n        \n    \n    \n            var marker_9e7ca90a7a3329936d137cd4013b43c9 = L.marker(\n                [28.56230197, -80.57735648],\n                {}\n            ).addTo(marker_cluster_0504ff2e50b9ff81059249bf9abde0fb);\n        \n    \n            var icon_adcfd09d7ef84ef569777e37045a6afa = L.AwesomeMarkers.icon(\n                {&quot;extraClasses&quot;: &quot;fa-rotate-0&quot;, &quot;icon&quot;: &quot;info-sign&quot;, &quot;iconColor&quot;: &quot;red&quot;, &quot;markerColor&quot;: &quot;white&quot;, &quot;prefix&quot;: &quot;glyphicon&quot;}\n            );\n            marker_9e7ca90a7a3329936d137cd4013b43c9.setIcon(icon_adcfd09d7ef84ef569777e37045a6afa);\n        \n    \n        var popup_52b584cf6f1c071dcf0669052b2b0a3b = L.popup({&quot;maxWidth&quot;: &quot;100%&quot;});\n\n        \n            \n                var html_9e3867533a32051bee41c7cb7850f690 = $(`&lt;div id=&quot;html_9e3867533a32051bee41c7cb7850f690&quot; style=&quot;width: 100.0%; height: 100.0%;&quot;&gt;CCAFS LC-40&lt;/div&gt;`)[0];\n                popup_52b584cf6f1c071dcf0669052b2b0a3b.setContent(html_9e3867533a32051bee41c7cb7850f690);\n            \n        \n\n        marker_9e7ca90a7a3329936d137cd4013b43c9.bindPopup(popup_52b584cf6f1c071dcf0669052b2b0a3b)\n        ;\n\n        \n    \n    \n            var marker_d6faa06fde810b97c34c1887eb16ad01 = L.marker(\n                [28.56230197, -80.57735648],\n                {}\n            ).addTo(marker_cluster_0504ff2e50b9ff81059249bf9abde0fb);\n        \n    \n            var icon_eaf4d1c12c056338b826c604ff23c1dd = L.AwesomeMarkers.icon(\n                {&quot;extraClasses&quot;: &quot;fa-rotate-0&quot;, &quot;icon&quot;: &quot;info-sign&quot;, &quot;iconColor&quot;: &quot;red&quot;, &quot;markerColor&quot;: &quot;white&quot;, &quot;prefix&quot;: &quot;glyphicon&quot;}\n            );\n            marker_d6faa06fde810b97c34c1887eb16ad01.setIcon(icon_eaf4d1c12c056338b826c604ff23c1dd);\n        \n    \n        var popup_55a9bdb7e7e9ceaece20ecd8e79e31a5 = L.popup({&quot;maxWidth&quot;: &quot;100%&quot;});\n\n        \n            \n                var html_8337dec88605e2c420ef59d661c6483a = $(`&lt;div id=&quot;html_8337dec88605e2c420ef59d661c6483a&quot; style=&quot;width: 100.0%; height: 100.0%;&quot;&gt;CCAFS LC-40&lt;/div&gt;`)[0];\n                popup_55a9bdb7e7e9ceaece20ecd8e79e31a5.setContent(html_8337dec88605e2c420ef59d661c6483a);\n            \n        \n\n        marker_d6faa06fde810b97c34c1887eb16ad01.bindPopup(popup_55a9bdb7e7e9ceaece20ecd8e79e31a5)\n        ;\n\n        \n    \n    \n            var marker_e0eda54a2d178be3ee6bf74fccfaa3c4 = L.marker(\n                [28.56230197, -80.57735648],\n                {}\n            ).addTo(marker_cluster_0504ff2e50b9ff81059249bf9abde0fb);\n        \n    \n            var icon_eb3d4e762daf99520e82b33c0242491d = L.AwesomeMarkers.icon(\n                {&quot;extraClasses&quot;: &quot;fa-rotate-0&quot;, &quot;icon&quot;: &quot;info-sign&quot;, &quot;iconColor&quot;: &quot;red&quot;, &quot;markerColor&quot;: &quot;white&quot;, &quot;prefix&quot;: &quot;glyphicon&quot;}\n            );\n            marker_e0eda54a2d178be3ee6bf74fccfaa3c4.setIcon(icon_eb3d4e762daf99520e82b33c0242491d);\n        \n    \n        var popup_5f82f47db7ceb50f45e8e83cf9216e7c = L.popup({&quot;maxWidth&quot;: &quot;100%&quot;});\n\n        \n            \n                var html_5709a3be531840ee8aa565654cb54618 = $(`&lt;div id=&quot;html_5709a3be531840ee8aa565654cb54618&quot; style=&quot;width: 100.0%; height: 100.0%;&quot;&gt;CCAFS LC-40&lt;/div&gt;`)[0];\n                popup_5f82f47db7ceb50f45e8e83cf9216e7c.setContent(html_5709a3be531840ee8aa565654cb54618);\n            \n        \n\n        marker_e0eda54a2d178be3ee6bf74fccfaa3c4.bindPopup(popup_5f82f47db7ceb50f45e8e83cf9216e7c)\n        ;\n\n        \n    \n    \n            var marker_eb71685571155e3c2d530b81999e9f18 = L.marker(\n                [28.56230197, -80.57735648],\n                {}\n            ).addTo(marker_cluster_0504ff2e50b9ff81059249bf9abde0fb);\n        \n    \n            var icon_a32de7d3bfd94a1a66d57bfa21efaf46 = L.AwesomeMarkers.icon(\n                {&quot;extraClasses&quot;: &quot;fa-rotate-0&quot;, &quot;icon&quot;: &quot;info-sign&quot;, &quot;iconColor&quot;: &quot;red&quot;, &quot;markerColor&quot;: &quot;white&quot;, &quot;prefix&quot;: &quot;glyphicon&quot;}\n            );\n            marker_eb71685571155e3c2d530b81999e9f18.setIcon(icon_a32de7d3bfd94a1a66d57bfa21efaf46);\n        \n    \n        var popup_53f61cb529ae0c996a48967f9e871e28 = L.popup({&quot;maxWidth&quot;: &quot;100%&quot;});\n\n        \n            \n                var html_d43ba674807fd5a45f36fd3a2395d504 = $(`&lt;div id=&quot;html_d43ba674807fd5a45f36fd3a2395d504&quot; style=&quot;width: 100.0%; height: 100.0%;&quot;&gt;CCAFS LC-40&lt;/div&gt;`)[0];\n                popup_53f61cb529ae0c996a48967f9e871e28.setContent(html_d43ba674807fd5a45f36fd3a2395d504);\n            \n        \n\n        marker_eb71685571155e3c2d530b81999e9f18.bindPopup(popup_53f61cb529ae0c996a48967f9e871e28)\n        ;\n\n        \n    \n    \n            var marker_ae6742ef512a315b79119c2ca930105c = L.marker(\n                [28.56230197, -80.57735648],\n                {}\n            ).addTo(marker_cluster_0504ff2e50b9ff81059249bf9abde0fb);\n        \n    \n            var icon_2ed007e49d6ab911c55dec1ede9bf40f = L.AwesomeMarkers.icon(\n                {&quot;extraClasses&quot;: &quot;fa-rotate-0&quot;, &quot;icon&quot;: &quot;info-sign&quot;, &quot;iconColor&quot;: &quot;red&quot;, &quot;markerColor&quot;: &quot;white&quot;, &quot;prefix&quot;: &quot;glyphicon&quot;}\n            );\n            marker_ae6742ef512a315b79119c2ca930105c.setIcon(icon_2ed007e49d6ab911c55dec1ede9bf40f);\n        \n    \n        var popup_a93995e2934d472309c4d91b2f268797 = L.popup({&quot;maxWidth&quot;: &quot;100%&quot;});\n\n        \n            \n                var html_7126d51bcb4a8c3bd21ce5135d640e10 = $(`&lt;div id=&quot;html_7126d51bcb4a8c3bd21ce5135d640e10&quot; style=&quot;width: 100.0%; height: 100.0%;&quot;&gt;CCAFS LC-40&lt;/div&gt;`)[0];\n                popup_a93995e2934d472309c4d91b2f268797.setContent(html_7126d51bcb4a8c3bd21ce5135d640e10);\n            \n        \n\n        marker_ae6742ef512a315b79119c2ca930105c.bindPopup(popup_a93995e2934d472309c4d91b2f268797)\n        ;\n\n        \n    \n    \n            var marker_d7d4b8a413cabb3fa782844d09feed2b = L.marker(\n                [28.56230197, -80.57735648],\n                {}\n            ).addTo(marker_cluster_0504ff2e50b9ff81059249bf9abde0fb);\n        \n    \n            var icon_165a5cbb3d96bde1bb80f6ceff64426c = L.AwesomeMarkers.icon(\n                {&quot;extraClasses&quot;: &quot;fa-rotate-0&quot;, &quot;icon&quot;: &quot;info-sign&quot;, &quot;iconColor&quot;: &quot;red&quot;, &quot;markerColor&quot;: &quot;white&quot;, &quot;prefix&quot;: &quot;glyphicon&quot;}\n            );\n            marker_d7d4b8a413cabb3fa782844d09feed2b.setIcon(icon_165a5cbb3d96bde1bb80f6ceff64426c);\n        \n    \n        var popup_eb4adfa9dcf8076db5650620b93c3d71 = L.popup({&quot;maxWidth&quot;: &quot;100%&quot;});\n\n        \n            \n                var html_baa25397d2c2204f0249c9b1708be753 = $(`&lt;div id=&quot;html_baa25397d2c2204f0249c9b1708be753&quot; style=&quot;width: 100.0%; height: 100.0%;&quot;&gt;CCAFS LC-40&lt;/div&gt;`)[0];\n                popup_eb4adfa9dcf8076db5650620b93c3d71.setContent(html_baa25397d2c2204f0249c9b1708be753);\n            \n        \n\n        marker_d7d4b8a413cabb3fa782844d09feed2b.bindPopup(popup_eb4adfa9dcf8076db5650620b93c3d71)\n        ;\n\n        \n    \n    \n            var marker_83f76fbecb83a4352848904165d6b66e = L.marker(\n                [28.56230197, -80.57735648],\n                {}\n            ).addTo(marker_cluster_0504ff2e50b9ff81059249bf9abde0fb);\n        \n    \n            var icon_ecfb3c6cded8f766e7561d650655b4da = L.AwesomeMarkers.icon(\n                {&quot;extraClasses&quot;: &quot;fa-rotate-0&quot;, &quot;icon&quot;: &quot;info-sign&quot;, &quot;iconColor&quot;: &quot;red&quot;, &quot;markerColor&quot;: &quot;white&quot;, &quot;prefix&quot;: &quot;glyphicon&quot;}\n            );\n            marker_83f76fbecb83a4352848904165d6b66e.setIcon(icon_ecfb3c6cded8f766e7561d650655b4da);\n        \n    \n        var popup_3544a1003e4ac8e2d9154281cb561235 = L.popup({&quot;maxWidth&quot;: &quot;100%&quot;});\n\n        \n            \n                var html_13d7a940efb4d5330a18f282ca4d0652 = $(`&lt;div id=&quot;html_13d7a940efb4d5330a18f282ca4d0652&quot; style=&quot;width: 100.0%; height: 100.0%;&quot;&gt;CCAFS LC-40&lt;/div&gt;`)[0];\n                popup_3544a1003e4ac8e2d9154281cb561235.setContent(html_13d7a940efb4d5330a18f282ca4d0652);\n            \n        \n\n        marker_83f76fbecb83a4352848904165d6b66e.bindPopup(popup_3544a1003e4ac8e2d9154281cb561235)\n        ;\n\n        \n    \n    \n            var marker_45c71e3c7398f468e01b2268bceb95e4 = L.marker(\n                [28.56230197, -80.57735648],\n                {}\n            ).addTo(marker_cluster_0504ff2e50b9ff81059249bf9abde0fb);\n        \n    \n            var icon_e97469eb2947ff23ac62b1e72fb13b4c = L.AwesomeMarkers.icon(\n                {&quot;extraClasses&quot;: &quot;fa-rotate-0&quot;, &quot;icon&quot;: &quot;info-sign&quot;, &quot;iconColor&quot;: &quot;green&quot;, &quot;markerColor&quot;: &quot;white&quot;, &quot;prefix&quot;: &quot;glyphicon&quot;}\n            );\n            marker_45c71e3c7398f468e01b2268bceb95e4.setIcon(icon_e97469eb2947ff23ac62b1e72fb13b4c);\n        \n    \n        var popup_db4feff8e54b7515f6945c2e58439309 = L.popup({&quot;maxWidth&quot;: &quot;100%&quot;});\n\n        \n            \n                var html_c4239d71cec56895e375b183db3e206d = $(`&lt;div id=&quot;html_c4239d71cec56895e375b183db3e206d&quot; style=&quot;width: 100.0%; height: 100.0%;&quot;&gt;CCAFS LC-40&lt;/div&gt;`)[0];\n                popup_db4feff8e54b7515f6945c2e58439309.setContent(html_c4239d71cec56895e375b183db3e206d);\n            \n        \n\n        marker_45c71e3c7398f468e01b2268bceb95e4.bindPopup(popup_db4feff8e54b7515f6945c2e58439309)\n        ;\n\n        \n    \n    \n            var marker_413f2c18abe73c0d59114e2fcd7c0b16 = L.marker(\n                [28.56230197, -80.57735648],\n                {}\n            ).addTo(marker_cluster_0504ff2e50b9ff81059249bf9abde0fb);\n        \n    \n            var icon_b645f48d6e849631ce5c2f2f90f8b60e = L.AwesomeMarkers.icon(\n                {&quot;extraClasses&quot;: &quot;fa-rotate-0&quot;, &quot;icon&quot;: &quot;info-sign&quot;, &quot;iconColor&quot;: &quot;green&quot;, &quot;markerColor&quot;: &quot;white&quot;, &quot;prefix&quot;: &quot;glyphicon&quot;}\n            );\n            marker_413f2c18abe73c0d59114e2fcd7c0b16.setIcon(icon_b645f48d6e849631ce5c2f2f90f8b60e);\n        \n    \n        var popup_1d47102bf046408255143af32a7eabe9 = L.popup({&quot;maxWidth&quot;: &quot;100%&quot;});\n\n        \n            \n                var html_6f146a5bac4be098f9e6dc6437a37dc6 = $(`&lt;div id=&quot;html_6f146a5bac4be098f9e6dc6437a37dc6&quot; style=&quot;width: 100.0%; height: 100.0%;&quot;&gt;CCAFS LC-40&lt;/div&gt;`)[0];\n                popup_1d47102bf046408255143af32a7eabe9.setContent(html_6f146a5bac4be098f9e6dc6437a37dc6);\n            \n        \n\n        marker_413f2c18abe73c0d59114e2fcd7c0b16.bindPopup(popup_1d47102bf046408255143af32a7eabe9)\n        ;\n\n        \n    \n    \n            var marker_bcbd8b6d072ee399ceacb7ffd9485ffa = L.marker(\n                [28.56230197, -80.57735648],\n                {}\n            ).addTo(marker_cluster_0504ff2e50b9ff81059249bf9abde0fb);\n        \n    \n            var icon_a8583ad5f640b6692659a78f2f8c35c0 = L.AwesomeMarkers.icon(\n                {&quot;extraClasses&quot;: &quot;fa-rotate-0&quot;, &quot;icon&quot;: &quot;info-sign&quot;, &quot;iconColor&quot;: &quot;red&quot;, &quot;markerColor&quot;: &quot;white&quot;, &quot;prefix&quot;: &quot;glyphicon&quot;}\n            );\n            marker_bcbd8b6d072ee399ceacb7ffd9485ffa.setIcon(icon_a8583ad5f640b6692659a78f2f8c35c0);\n        \n    \n        var popup_bf5f8143e250c42ce28e74858277cbcb = L.popup({&quot;maxWidth&quot;: &quot;100%&quot;});\n\n        \n            \n                var html_172031c3a817dad521780047293adb9f = $(`&lt;div id=&quot;html_172031c3a817dad521780047293adb9f&quot; style=&quot;width: 100.0%; height: 100.0%;&quot;&gt;CCAFS LC-40&lt;/div&gt;`)[0];\n                popup_bf5f8143e250c42ce28e74858277cbcb.setContent(html_172031c3a817dad521780047293adb9f);\n            \n        \n\n        marker_bcbd8b6d072ee399ceacb7ffd9485ffa.bindPopup(popup_bf5f8143e250c42ce28e74858277cbcb)\n        ;\n\n        \n    \n    \n            var marker_b9a65b7be2dc300855feb4e1c43868d7 = L.marker(\n                [28.56230197, -80.57735648],\n                {}\n            ).addTo(marker_cluster_0504ff2e50b9ff81059249bf9abde0fb);\n        \n    \n            var icon_ae7f45b16c8152c0eda5e05355e8e0d6 = L.AwesomeMarkers.icon(\n                {&quot;extraClasses&quot;: &quot;fa-rotate-0&quot;, &quot;icon&quot;: &quot;info-sign&quot;, &quot;iconColor&quot;: &quot;green&quot;, &quot;markerColor&quot;: &quot;white&quot;, &quot;prefix&quot;: &quot;glyphicon&quot;}\n            );\n            marker_b9a65b7be2dc300855feb4e1c43868d7.setIcon(icon_ae7f45b16c8152c0eda5e05355e8e0d6);\n        \n    \n        var popup_a25c9fb7cc99644d38eadb95454c12f0 = L.popup({&quot;maxWidth&quot;: &quot;100%&quot;});\n\n        \n            \n                var html_ff71a22a6037dde2883219c87a81fe64 = $(`&lt;div id=&quot;html_ff71a22a6037dde2883219c87a81fe64&quot; style=&quot;width: 100.0%; height: 100.0%;&quot;&gt;CCAFS LC-40&lt;/div&gt;`)[0];\n                popup_a25c9fb7cc99644d38eadb95454c12f0.setContent(html_ff71a22a6037dde2883219c87a81fe64);\n            \n        \n\n        marker_b9a65b7be2dc300855feb4e1c43868d7.bindPopup(popup_a25c9fb7cc99644d38eadb95454c12f0)\n        ;\n\n        \n    \n    \n            var marker_cd7002e00aa2fd4019f2b0da550416e9 = L.marker(\n                [28.56230197, -80.57735648],\n                {}\n            ).addTo(marker_cluster_0504ff2e50b9ff81059249bf9abde0fb);\n        \n    \n            var icon_bd74537cd6ebe208d7e873f15e7be127 = L.AwesomeMarkers.icon(\n                {&quot;extraClasses&quot;: &quot;fa-rotate-0&quot;, &quot;icon&quot;: &quot;info-sign&quot;, &quot;iconColor&quot;: &quot;green&quot;, &quot;markerColor&quot;: &quot;white&quot;, &quot;prefix&quot;: &quot;glyphicon&quot;}\n            );\n            marker_cd7002e00aa2fd4019f2b0da550416e9.setIcon(icon_bd74537cd6ebe208d7e873f15e7be127);\n        \n    \n        var popup_5797e492ffdefd8600711a822372606e = L.popup({&quot;maxWidth&quot;: &quot;100%&quot;});\n\n        \n            \n                var html_6b8f6aed3d989d61e8d31dbecf1885c7 = $(`&lt;div id=&quot;html_6b8f6aed3d989d61e8d31dbecf1885c7&quot; style=&quot;width: 100.0%; height: 100.0%;&quot;&gt;CCAFS LC-40&lt;/div&gt;`)[0];\n                popup_5797e492ffdefd8600711a822372606e.setContent(html_6b8f6aed3d989d61e8d31dbecf1885c7);\n            \n        \n\n        marker_cd7002e00aa2fd4019f2b0da550416e9.bindPopup(popup_5797e492ffdefd8600711a822372606e)\n        ;\n\n        \n    \n    \n            var marker_8edd1055e47b632a8b8310a57df03aa3 = L.marker(\n                [28.56230197, -80.57735648],\n                {}\n            ).addTo(marker_cluster_0504ff2e50b9ff81059249bf9abde0fb);\n        \n    \n            var icon_20b5eda3a960bfd7b3e2caa901213db6 = L.AwesomeMarkers.icon(\n                {&quot;extraClasses&quot;: &quot;fa-rotate-0&quot;, &quot;icon&quot;: &quot;info-sign&quot;, &quot;iconColor&quot;: &quot;green&quot;, &quot;markerColor&quot;: &quot;white&quot;, &quot;prefix&quot;: &quot;glyphicon&quot;}\n            );\n            marker_8edd1055e47b632a8b8310a57df03aa3.setIcon(icon_20b5eda3a960bfd7b3e2caa901213db6);\n        \n    \n        var popup_074417d2fa8e5da07f52a80e8478952d = L.popup({&quot;maxWidth&quot;: &quot;100%&quot;});\n\n        \n            \n                var html_4b5b18e5d14b0c13f0e2b17a1b01b82a = $(`&lt;div id=&quot;html_4b5b18e5d14b0c13f0e2b17a1b01b82a&quot; style=&quot;width: 100.0%; height: 100.0%;&quot;&gt;CCAFS LC-40&lt;/div&gt;`)[0];\n                popup_074417d2fa8e5da07f52a80e8478952d.setContent(html_4b5b18e5d14b0c13f0e2b17a1b01b82a);\n            \n        \n\n        marker_8edd1055e47b632a8b8310a57df03aa3.bindPopup(popup_074417d2fa8e5da07f52a80e8478952d)\n        ;\n\n        \n    \n    \n            var marker_1ee1038a51f66503fdc26ecad374e4f6 = L.marker(\n                [28.56230197, -80.57735648],\n                {}\n            ).addTo(marker_cluster_0504ff2e50b9ff81059249bf9abde0fb);\n        \n    \n            var icon_e332b33b900513e21da2a059fcedb147 = L.AwesomeMarkers.icon(\n                {&quot;extraClasses&quot;: &quot;fa-rotate-0&quot;, &quot;icon&quot;: &quot;info-sign&quot;, &quot;iconColor&quot;: &quot;red&quot;, &quot;markerColor&quot;: &quot;white&quot;, &quot;prefix&quot;: &quot;glyphicon&quot;}\n            );\n            marker_1ee1038a51f66503fdc26ecad374e4f6.setIcon(icon_e332b33b900513e21da2a059fcedb147);\n        \n    \n        var popup_ac8508c10d1ed659f5c5d9f01829e40c = L.popup({&quot;maxWidth&quot;: &quot;100%&quot;});\n\n        \n            \n                var html_051ce2e40ba23c97799f164abc5c2ec8 = $(`&lt;div id=&quot;html_051ce2e40ba23c97799f164abc5c2ec8&quot; style=&quot;width: 100.0%; height: 100.0%;&quot;&gt;CCAFS LC-40&lt;/div&gt;`)[0];\n                popup_ac8508c10d1ed659f5c5d9f01829e40c.setContent(html_051ce2e40ba23c97799f164abc5c2ec8);\n            \n        \n\n        marker_1ee1038a51f66503fdc26ecad374e4f6.bindPopup(popup_ac8508c10d1ed659f5c5d9f01829e40c)\n        ;\n\n        \n    \n    \n            var marker_41e7ff830cec730a1a481d2fc1e2476a = L.marker(\n                [28.56230197, -80.57735648],\n                {}\n            ).addTo(marker_cluster_0504ff2e50b9ff81059249bf9abde0fb);\n        \n    \n            var icon_74149b386c402f28b4920a07ad11deee = L.AwesomeMarkers.icon(\n                {&quot;extraClasses&quot;: &quot;fa-rotate-0&quot;, &quot;icon&quot;: &quot;info-sign&quot;, &quot;iconColor&quot;: &quot;green&quot;, &quot;markerColor&quot;: &quot;white&quot;, &quot;prefix&quot;: &quot;glyphicon&quot;}\n            );\n            marker_41e7ff830cec730a1a481d2fc1e2476a.setIcon(icon_74149b386c402f28b4920a07ad11deee);\n        \n    \n        var popup_ac85e4d2a33750eeb818c612b1708b61 = L.popup({&quot;maxWidth&quot;: &quot;100%&quot;});\n\n        \n            \n                var html_f48cfebf7f95486ca7d40b43722510f7 = $(`&lt;div id=&quot;html_f48cfebf7f95486ca7d40b43722510f7&quot; style=&quot;width: 100.0%; height: 100.0%;&quot;&gt;CCAFS LC-40&lt;/div&gt;`)[0];\n                popup_ac85e4d2a33750eeb818c612b1708b61.setContent(html_f48cfebf7f95486ca7d40b43722510f7);\n            \n        \n\n        marker_41e7ff830cec730a1a481d2fc1e2476a.bindPopup(popup_ac85e4d2a33750eeb818c612b1708b61)\n        ;\n\n        \n    \n    \n            var marker_3010e44a59b713caba8a2a12a4dc6bfa = L.marker(\n                [28.56230197, -80.57735648],\n                {}\n            ).addTo(marker_cluster_0504ff2e50b9ff81059249bf9abde0fb);\n        \n    \n            var icon_292784890fa7f6723f726efacec37704 = L.AwesomeMarkers.icon(\n                {&quot;extraClasses&quot;: &quot;fa-rotate-0&quot;, &quot;icon&quot;: &quot;info-sign&quot;, &quot;iconColor&quot;: &quot;green&quot;, &quot;markerColor&quot;: &quot;white&quot;, &quot;prefix&quot;: &quot;glyphicon&quot;}\n            );\n            marker_3010e44a59b713caba8a2a12a4dc6bfa.setIcon(icon_292784890fa7f6723f726efacec37704);\n        \n    \n        var popup_110cdf3d701f2bd554db18b07b38e5cb = L.popup({&quot;maxWidth&quot;: &quot;100%&quot;});\n\n        \n            \n                var html_047bb7100f4ae7ab04f8e229c4ef830a = $(`&lt;div id=&quot;html_047bb7100f4ae7ab04f8e229c4ef830a&quot; style=&quot;width: 100.0%; height: 100.0%;&quot;&gt;CCAFS LC-40&lt;/div&gt;`)[0];\n                popup_110cdf3d701f2bd554db18b07b38e5cb.setContent(html_047bb7100f4ae7ab04f8e229c4ef830a);\n            \n        \n\n        marker_3010e44a59b713caba8a2a12a4dc6bfa.bindPopup(popup_110cdf3d701f2bd554db18b07b38e5cb)\n        ;\n\n        \n    \n    \n            var marker_bf94580220f2c19c68b3a99767c764a7 = L.marker(\n                [34.63283416, -120.6107455],\n                {}\n            ).addTo(marker_cluster_0504ff2e50b9ff81059249bf9abde0fb);\n        \n    \n            var icon_b074208082b6af3faecaf7dfd467dcf3 = L.AwesomeMarkers.icon(\n                {&quot;extraClasses&quot;: &quot;fa-rotate-0&quot;, &quot;icon&quot;: &quot;info-sign&quot;, &quot;iconColor&quot;: &quot;red&quot;, &quot;markerColor&quot;: &quot;white&quot;, &quot;prefix&quot;: &quot;glyphicon&quot;}\n            );\n            marker_bf94580220f2c19c68b3a99767c764a7.setIcon(icon_b074208082b6af3faecaf7dfd467dcf3);\n        \n    \n        var popup_d99e4aa518a74ea48b8cb0ffdb32d8f3 = L.popup({&quot;maxWidth&quot;: &quot;100%&quot;});\n\n        \n            \n                var html_6f87305a418de8f5b9f36b4fc34d5182 = $(`&lt;div id=&quot;html_6f87305a418de8f5b9f36b4fc34d5182&quot; style=&quot;width: 100.0%; height: 100.0%;&quot;&gt;VAFB SLC-4E&lt;/div&gt;`)[0];\n                popup_d99e4aa518a74ea48b8cb0ffdb32d8f3.setContent(html_6f87305a418de8f5b9f36b4fc34d5182);\n            \n        \n\n        marker_bf94580220f2c19c68b3a99767c764a7.bindPopup(popup_d99e4aa518a74ea48b8cb0ffdb32d8f3)\n        ;\n\n        \n    \n    \n            var marker_471db8fe5c086f6b5a7e43c6f2a43bb8 = L.marker(\n                [34.63283416, -120.6107455],\n                {}\n            ).addTo(marker_cluster_0504ff2e50b9ff81059249bf9abde0fb);\n        \n    \n            var icon_3028bed7997667d574e75ffaa4ff715e = L.AwesomeMarkers.icon(\n                {&quot;extraClasses&quot;: &quot;fa-rotate-0&quot;, &quot;icon&quot;: &quot;info-sign&quot;, &quot;iconColor&quot;: &quot;red&quot;, &quot;markerColor&quot;: &quot;white&quot;, &quot;prefix&quot;: &quot;glyphicon&quot;}\n            );\n            marker_471db8fe5c086f6b5a7e43c6f2a43bb8.setIcon(icon_3028bed7997667d574e75ffaa4ff715e);\n        \n    \n        var popup_7870c56e9a13aa5a6d9368f3bfb8108a = L.popup({&quot;maxWidth&quot;: &quot;100%&quot;});\n\n        \n            \n                var html_630fd8c7313fc0a9ed047218e2d35495 = $(`&lt;div id=&quot;html_630fd8c7313fc0a9ed047218e2d35495&quot; style=&quot;width: 100.0%; height: 100.0%;&quot;&gt;VAFB SLC-4E&lt;/div&gt;`)[0];\n                popup_7870c56e9a13aa5a6d9368f3bfb8108a.setContent(html_630fd8c7313fc0a9ed047218e2d35495);\n            \n        \n\n        marker_471db8fe5c086f6b5a7e43c6f2a43bb8.bindPopup(popup_7870c56e9a13aa5a6d9368f3bfb8108a)\n        ;\n\n        \n    \n    \n            var marker_8e3f53dec10ecc8512a8eb450d6212d8 = L.marker(\n                [34.63283416, -120.6107455],\n                {}\n            ).addTo(marker_cluster_0504ff2e50b9ff81059249bf9abde0fb);\n        \n    \n            var icon_22d6abeef8dcc1168129c9c3afe34e7a = L.AwesomeMarkers.icon(\n                {&quot;extraClasses&quot;: &quot;fa-rotate-0&quot;, &quot;icon&quot;: &quot;info-sign&quot;, &quot;iconColor&quot;: &quot;green&quot;, &quot;markerColor&quot;: &quot;white&quot;, &quot;prefix&quot;: &quot;glyphicon&quot;}\n            );\n            marker_8e3f53dec10ecc8512a8eb450d6212d8.setIcon(icon_22d6abeef8dcc1168129c9c3afe34e7a);\n        \n    \n        var popup_341ddef18074158e4715c8febc1dc170 = L.popup({&quot;maxWidth&quot;: &quot;100%&quot;});\n\n        \n            \n                var html_54add54061509cb6a357f256b823459f = $(`&lt;div id=&quot;html_54add54061509cb6a357f256b823459f&quot; style=&quot;width: 100.0%; height: 100.0%;&quot;&gt;VAFB SLC-4E&lt;/div&gt;`)[0];\n                popup_341ddef18074158e4715c8febc1dc170.setContent(html_54add54061509cb6a357f256b823459f);\n            \n        \n\n        marker_8e3f53dec10ecc8512a8eb450d6212d8.bindPopup(popup_341ddef18074158e4715c8febc1dc170)\n        ;\n\n        \n    \n    \n            var marker_2b8511340374fce2dff0290a125450a6 = L.marker(\n                [34.63283416, -120.6107455],\n                {}\n            ).addTo(marker_cluster_0504ff2e50b9ff81059249bf9abde0fb);\n        \n    \n            var icon_f201cedae17d3b279f45bd654e126986 = L.AwesomeMarkers.icon(\n                {&quot;extraClasses&quot;: &quot;fa-rotate-0&quot;, &quot;icon&quot;: &quot;info-sign&quot;, &quot;iconColor&quot;: &quot;green&quot;, &quot;markerColor&quot;: &quot;white&quot;, &quot;prefix&quot;: &quot;glyphicon&quot;}\n            );\n            marker_2b8511340374fce2dff0290a125450a6.setIcon(icon_f201cedae17d3b279f45bd654e126986);\n        \n    \n        var popup_900e33db5668e87af66f3487a0bdbb22 = L.popup({&quot;maxWidth&quot;: &quot;100%&quot;});\n\n        \n            \n                var html_c97a21fe05603d3583a9e96f2c1c2c3a = $(`&lt;div id=&quot;html_c97a21fe05603d3583a9e96f2c1c2c3a&quot; style=&quot;width: 100.0%; height: 100.0%;&quot;&gt;VAFB SLC-4E&lt;/div&gt;`)[0];\n                popup_900e33db5668e87af66f3487a0bdbb22.setContent(html_c97a21fe05603d3583a9e96f2c1c2c3a);\n            \n        \n\n        marker_2b8511340374fce2dff0290a125450a6.bindPopup(popup_900e33db5668e87af66f3487a0bdbb22)\n        ;\n\n        \n    \n    \n            var marker_974905869ee39201477053667c8ca0c4 = L.marker(\n                [34.63283416, -120.6107455],\n                {}\n            ).addTo(marker_cluster_0504ff2e50b9ff81059249bf9abde0fb);\n        \n    \n            var icon_89eb8f6f38617d1b73adc7e48e5d181d = L.AwesomeMarkers.icon(\n                {&quot;extraClasses&quot;: &quot;fa-rotate-0&quot;, &quot;icon&quot;: &quot;info-sign&quot;, &quot;iconColor&quot;: &quot;green&quot;, &quot;markerColor&quot;: &quot;white&quot;, &quot;prefix&quot;: &quot;glyphicon&quot;}\n            );\n            marker_974905869ee39201477053667c8ca0c4.setIcon(icon_89eb8f6f38617d1b73adc7e48e5d181d);\n        \n    \n        var popup_c4543f7d1344d52437e91af01ae6b155 = L.popup({&quot;maxWidth&quot;: &quot;100%&quot;});\n\n        \n            \n                var html_de1de7989b28e34ab46f75801e2d8d9d = $(`&lt;div id=&quot;html_de1de7989b28e34ab46f75801e2d8d9d&quot; style=&quot;width: 100.0%; height: 100.0%;&quot;&gt;VAFB SLC-4E&lt;/div&gt;`)[0];\n                popup_c4543f7d1344d52437e91af01ae6b155.setContent(html_de1de7989b28e34ab46f75801e2d8d9d);\n            \n        \n\n        marker_974905869ee39201477053667c8ca0c4.bindPopup(popup_c4543f7d1344d52437e91af01ae6b155)\n        ;\n\n        \n    \n    \n            var marker_023e187e1349b1973a99a9f3b00c23a9 = L.marker(\n                [34.63283416, -120.6107455],\n                {}\n            ).addTo(marker_cluster_0504ff2e50b9ff81059249bf9abde0fb);\n        \n    \n            var icon_9a672ece5df20053efe51aaed1bd92f7 = L.AwesomeMarkers.icon(\n                {&quot;extraClasses&quot;: &quot;fa-rotate-0&quot;, &quot;icon&quot;: &quot;info-sign&quot;, &quot;iconColor&quot;: &quot;green&quot;, &quot;markerColor&quot;: &quot;white&quot;, &quot;prefix&quot;: &quot;glyphicon&quot;}\n            );\n            marker_023e187e1349b1973a99a9f3b00c23a9.setIcon(icon_9a672ece5df20053efe51aaed1bd92f7);\n        \n    \n        var popup_fc796c393c74761441544a8dbec477ff = L.popup({&quot;maxWidth&quot;: &quot;100%&quot;});\n\n        \n            \n                var html_20f043633f1103c5d4445ec3f5a961ec = $(`&lt;div id=&quot;html_20f043633f1103c5d4445ec3f5a961ec&quot; style=&quot;width: 100.0%; height: 100.0%;&quot;&gt;VAFB SLC-4E&lt;/div&gt;`)[0];\n                popup_fc796c393c74761441544a8dbec477ff.setContent(html_20f043633f1103c5d4445ec3f5a961ec);\n            \n        \n\n        marker_023e187e1349b1973a99a9f3b00c23a9.bindPopup(popup_fc796c393c74761441544a8dbec477ff)\n        ;\n\n        \n    \n    \n            var marker_b9b52bdc2a395b347e26a66891f85f77 = L.marker(\n                [34.63283416, -120.6107455],\n                {}\n            ).addTo(marker_cluster_0504ff2e50b9ff81059249bf9abde0fb);\n        \n    \n            var icon_eb02d0207e3c6347127683a89d763037 = L.AwesomeMarkers.icon(\n                {&quot;extraClasses&quot;: &quot;fa-rotate-0&quot;, &quot;icon&quot;: &quot;info-sign&quot;, &quot;iconColor&quot;: &quot;red&quot;, &quot;markerColor&quot;: &quot;white&quot;, &quot;prefix&quot;: &quot;glyphicon&quot;}\n            );\n            marker_b9b52bdc2a395b347e26a66891f85f77.setIcon(icon_eb02d0207e3c6347127683a89d763037);\n        \n    \n        var popup_03566b5ca38d74a830ea9b44deca3572 = L.popup({&quot;maxWidth&quot;: &quot;100%&quot;});\n\n        \n            \n                var html_866073d4c7a6a148da41c80aad059c98 = $(`&lt;div id=&quot;html_866073d4c7a6a148da41c80aad059c98&quot; style=&quot;width: 100.0%; height: 100.0%;&quot;&gt;VAFB SLC-4E&lt;/div&gt;`)[0];\n                popup_03566b5ca38d74a830ea9b44deca3572.setContent(html_866073d4c7a6a148da41c80aad059c98);\n            \n        \n\n        marker_b9b52bdc2a395b347e26a66891f85f77.bindPopup(popup_03566b5ca38d74a830ea9b44deca3572)\n        ;\n\n        \n    \n    \n            var marker_5420797a3c80f66320e71c8fd5a34dd5 = L.marker(\n                [34.63283416, -120.6107455],\n                {}\n            ).addTo(marker_cluster_0504ff2e50b9ff81059249bf9abde0fb);\n        \n    \n            var icon_7280294331d70192df616853b4eeab63 = L.AwesomeMarkers.icon(\n                {&quot;extraClasses&quot;: &quot;fa-rotate-0&quot;, &quot;icon&quot;: &quot;info-sign&quot;, &quot;iconColor&quot;: &quot;red&quot;, &quot;markerColor&quot;: &quot;white&quot;, &quot;prefix&quot;: &quot;glyphicon&quot;}\n            );\n            marker_5420797a3c80f66320e71c8fd5a34dd5.setIcon(icon_7280294331d70192df616853b4eeab63);\n        \n    \n        var popup_e3fe52d8c4ebf308c4da23991e0b6ebf = L.popup({&quot;maxWidth&quot;: &quot;100%&quot;});\n\n        \n            \n                var html_a5540658d43b001253fc5a05a50a9df4 = $(`&lt;div id=&quot;html_a5540658d43b001253fc5a05a50a9df4&quot; style=&quot;width: 100.0%; height: 100.0%;&quot;&gt;VAFB SLC-4E&lt;/div&gt;`)[0];\n                popup_e3fe52d8c4ebf308c4da23991e0b6ebf.setContent(html_a5540658d43b001253fc5a05a50a9df4);\n            \n        \n\n        marker_5420797a3c80f66320e71c8fd5a34dd5.bindPopup(popup_e3fe52d8c4ebf308c4da23991e0b6ebf)\n        ;\n\n        \n    \n    \n            var marker_cb4810b64a28a4619bc84b1f1620874e = L.marker(\n                [34.63283416, -120.6107455],\n                {}\n            ).addTo(marker_cluster_0504ff2e50b9ff81059249bf9abde0fb);\n        \n    \n            var icon_8ba7f5a3b3331254ee0bd9ec2ef52ef6 = L.AwesomeMarkers.icon(\n                {&quot;extraClasses&quot;: &quot;fa-rotate-0&quot;, &quot;icon&quot;: &quot;info-sign&quot;, &quot;iconColor&quot;: &quot;red&quot;, &quot;markerColor&quot;: &quot;white&quot;, &quot;prefix&quot;: &quot;glyphicon&quot;}\n            );\n            marker_cb4810b64a28a4619bc84b1f1620874e.setIcon(icon_8ba7f5a3b3331254ee0bd9ec2ef52ef6);\n        \n    \n        var popup_57f5d39a0c89ca8c2dede9b32f27d153 = L.popup({&quot;maxWidth&quot;: &quot;100%&quot;});\n\n        \n            \n                var html_7f542266cbade624710cf7db325c6684 = $(`&lt;div id=&quot;html_7f542266cbade624710cf7db325c6684&quot; style=&quot;width: 100.0%; height: 100.0%;&quot;&gt;VAFB SLC-4E&lt;/div&gt;`)[0];\n                popup_57f5d39a0c89ca8c2dede9b32f27d153.setContent(html_7f542266cbade624710cf7db325c6684);\n            \n        \n\n        marker_cb4810b64a28a4619bc84b1f1620874e.bindPopup(popup_57f5d39a0c89ca8c2dede9b32f27d153)\n        ;\n\n        \n    \n    \n            var marker_9ee16915d6e0e5c5c4874cea59962570 = L.marker(\n                [34.63283416, -120.6107455],\n                {}\n            ).addTo(marker_cluster_0504ff2e50b9ff81059249bf9abde0fb);\n        \n    \n            var icon_a60a51ca70823964f4aaf02a60eb707c = L.AwesomeMarkers.icon(\n                {&quot;extraClasses&quot;: &quot;fa-rotate-0&quot;, &quot;icon&quot;: &quot;info-sign&quot;, &quot;iconColor&quot;: &quot;red&quot;, &quot;markerColor&quot;: &quot;white&quot;, &quot;prefix&quot;: &quot;glyphicon&quot;}\n            );\n            marker_9ee16915d6e0e5c5c4874cea59962570.setIcon(icon_a60a51ca70823964f4aaf02a60eb707c);\n        \n    \n        var popup_99fb7a138540da775cbf49c432fa8865 = L.popup({&quot;maxWidth&quot;: &quot;100%&quot;});\n\n        \n            \n                var html_2770951c92a1de96cc04eff8776255f2 = $(`&lt;div id=&quot;html_2770951c92a1de96cc04eff8776255f2&quot; style=&quot;width: 100.0%; height: 100.0%;&quot;&gt;VAFB SLC-4E&lt;/div&gt;`)[0];\n                popup_99fb7a138540da775cbf49c432fa8865.setContent(html_2770951c92a1de96cc04eff8776255f2);\n            \n        \n\n        marker_9ee16915d6e0e5c5c4874cea59962570.bindPopup(popup_99fb7a138540da775cbf49c432fa8865)\n        ;\n\n        \n    \n    \n            var marker_e0354a5b44916691254d477b75c2a558 = L.marker(\n                [28.57325457, -80.64689529],\n                {}\n            ).addTo(marker_cluster_0504ff2e50b9ff81059249bf9abde0fb);\n        \n    \n            var icon_3d1bb3b4db79f87dea3277969c78d46e = L.AwesomeMarkers.icon(\n                {&quot;extraClasses&quot;: &quot;fa-rotate-0&quot;, &quot;icon&quot;: &quot;info-sign&quot;, &quot;iconColor&quot;: &quot;green&quot;, &quot;markerColor&quot;: &quot;white&quot;, &quot;prefix&quot;: &quot;glyphicon&quot;}\n            );\n            marker_e0354a5b44916691254d477b75c2a558.setIcon(icon_3d1bb3b4db79f87dea3277969c78d46e);\n        \n    \n        var popup_5d4938181d3150f14f632170cef239ed = L.popup({&quot;maxWidth&quot;: &quot;100%&quot;});\n\n        \n            \n                var html_0b0cdf172f20d3748235c7e0484aa165 = $(`&lt;div id=&quot;html_0b0cdf172f20d3748235c7e0484aa165&quot; style=&quot;width: 100.0%; height: 100.0%;&quot;&gt;KSC LC-39A&lt;/div&gt;`)[0];\n                popup_5d4938181d3150f14f632170cef239ed.setContent(html_0b0cdf172f20d3748235c7e0484aa165);\n            \n        \n\n        marker_e0354a5b44916691254d477b75c2a558.bindPopup(popup_5d4938181d3150f14f632170cef239ed)\n        ;\n\n        \n    \n    \n            var marker_61bbfbae1de8c0472fc453d5fedc7ad1 = L.marker(\n                [28.57325457, -80.64689529],\n                {}\n            ).addTo(marker_cluster_0504ff2e50b9ff81059249bf9abde0fb);\n        \n    \n            var icon_5727387109a807c8be3befb21d5c6b3b = L.AwesomeMarkers.icon(\n                {&quot;extraClasses&quot;: &quot;fa-rotate-0&quot;, &quot;icon&quot;: &quot;info-sign&quot;, &quot;iconColor&quot;: &quot;red&quot;, &quot;markerColor&quot;: &quot;white&quot;, &quot;prefix&quot;: &quot;glyphicon&quot;}\n            );\n            marker_61bbfbae1de8c0472fc453d5fedc7ad1.setIcon(icon_5727387109a807c8be3befb21d5c6b3b);\n        \n    \n        var popup_334672831e96dd6f2bb9c04ea8a87887 = L.popup({&quot;maxWidth&quot;: &quot;100%&quot;});\n\n        \n            \n                var html_13162e4e663a860da1e20f574453bd75 = $(`&lt;div id=&quot;html_13162e4e663a860da1e20f574453bd75&quot; style=&quot;width: 100.0%; height: 100.0%;&quot;&gt;KSC LC-39A&lt;/div&gt;`)[0];\n                popup_334672831e96dd6f2bb9c04ea8a87887.setContent(html_13162e4e663a860da1e20f574453bd75);\n            \n        \n\n        marker_61bbfbae1de8c0472fc453d5fedc7ad1.bindPopup(popup_334672831e96dd6f2bb9c04ea8a87887)\n        ;\n\n        \n    \n    \n            var marker_ffb3cf7dcc8fd941c7a161af68d44537 = L.marker(\n                [28.57325457, -80.64689529],\n                {}\n            ).addTo(marker_cluster_0504ff2e50b9ff81059249bf9abde0fb);\n        \n    \n            var icon_007d59d02d45e4e62e7bffa8660f99c4 = L.AwesomeMarkers.icon(\n                {&quot;extraClasses&quot;: &quot;fa-rotate-0&quot;, &quot;icon&quot;: &quot;info-sign&quot;, &quot;iconColor&quot;: &quot;green&quot;, &quot;markerColor&quot;: &quot;white&quot;, &quot;prefix&quot;: &quot;glyphicon&quot;}\n            );\n            marker_ffb3cf7dcc8fd941c7a161af68d44537.setIcon(icon_007d59d02d45e4e62e7bffa8660f99c4);\n        \n    \n        var popup_806e065f3ad679c3aba94adb6145c691 = L.popup({&quot;maxWidth&quot;: &quot;100%&quot;});\n\n        \n            \n                var html_7f2ec2d602a75b1c6ec6ff0e6c8c3c4c = $(`&lt;div id=&quot;html_7f2ec2d602a75b1c6ec6ff0e6c8c3c4c&quot; style=&quot;width: 100.0%; height: 100.0%;&quot;&gt;KSC LC-39A&lt;/div&gt;`)[0];\n                popup_806e065f3ad679c3aba94adb6145c691.setContent(html_7f2ec2d602a75b1c6ec6ff0e6c8c3c4c);\n            \n        \n\n        marker_ffb3cf7dcc8fd941c7a161af68d44537.bindPopup(popup_806e065f3ad679c3aba94adb6145c691)\n        ;\n\n        \n    \n    \n            var marker_d212ec764984cc919ed409daf8add62d = L.marker(\n                [28.57325457, -80.64689529],\n                {}\n            ).addTo(marker_cluster_0504ff2e50b9ff81059249bf9abde0fb);\n        \n    \n            var icon_e02449ab57e3d6ab79699b3592bd89f1 = L.AwesomeMarkers.icon(\n                {&quot;extraClasses&quot;: &quot;fa-rotate-0&quot;, &quot;icon&quot;: &quot;info-sign&quot;, &quot;iconColor&quot;: &quot;green&quot;, &quot;markerColor&quot;: &quot;white&quot;, &quot;prefix&quot;: &quot;glyphicon&quot;}\n            );\n            marker_d212ec764984cc919ed409daf8add62d.setIcon(icon_e02449ab57e3d6ab79699b3592bd89f1);\n        \n    \n        var popup_bbf9fc80c3b96f32a3e6cf29daf4732c = L.popup({&quot;maxWidth&quot;: &quot;100%&quot;});\n\n        \n            \n                var html_9cd3af6d17200e86dea3d312a90ece9d = $(`&lt;div id=&quot;html_9cd3af6d17200e86dea3d312a90ece9d&quot; style=&quot;width: 100.0%; height: 100.0%;&quot;&gt;KSC LC-39A&lt;/div&gt;`)[0];\n                popup_bbf9fc80c3b96f32a3e6cf29daf4732c.setContent(html_9cd3af6d17200e86dea3d312a90ece9d);\n            \n        \n\n        marker_d212ec764984cc919ed409daf8add62d.bindPopup(popup_bbf9fc80c3b96f32a3e6cf29daf4732c)\n        ;\n\n        \n    \n    \n            var marker_306c9b1d7bcd88aa278d22068ef92ff3 = L.marker(\n                [28.57325457, -80.64689529],\n                {}\n            ).addTo(marker_cluster_0504ff2e50b9ff81059249bf9abde0fb);\n        \n    \n            var icon_cff7e3828ddb4cd51a902f69cdd18d05 = L.AwesomeMarkers.icon(\n                {&quot;extraClasses&quot;: &quot;fa-rotate-0&quot;, &quot;icon&quot;: &quot;info-sign&quot;, &quot;iconColor&quot;: &quot;red&quot;, &quot;markerColor&quot;: &quot;white&quot;, &quot;prefix&quot;: &quot;glyphicon&quot;}\n            );\n            marker_306c9b1d7bcd88aa278d22068ef92ff3.setIcon(icon_cff7e3828ddb4cd51a902f69cdd18d05);\n        \n    \n        var popup_38241c235ab4111e9219b7a825ecf110 = L.popup({&quot;maxWidth&quot;: &quot;100%&quot;});\n\n        \n            \n                var html_49f963bb9c363e598610a9dff31b43b2 = $(`&lt;div id=&quot;html_49f963bb9c363e598610a9dff31b43b2&quot; style=&quot;width: 100.0%; height: 100.0%;&quot;&gt;KSC LC-39A&lt;/div&gt;`)[0];\n                popup_38241c235ab4111e9219b7a825ecf110.setContent(html_49f963bb9c363e598610a9dff31b43b2);\n            \n        \n\n        marker_306c9b1d7bcd88aa278d22068ef92ff3.bindPopup(popup_38241c235ab4111e9219b7a825ecf110)\n        ;\n\n        \n    \n    \n            var marker_f7a0304422a8646a3497259a762b24d6 = L.marker(\n                [28.57325457, -80.64689529],\n                {}\n            ).addTo(marker_cluster_0504ff2e50b9ff81059249bf9abde0fb);\n        \n    \n            var icon_2dbd97181ff56f2ad2bde99b3a7daaf2 = L.AwesomeMarkers.icon(\n                {&quot;extraClasses&quot;: &quot;fa-rotate-0&quot;, &quot;icon&quot;: &quot;info-sign&quot;, &quot;iconColor&quot;: &quot;green&quot;, &quot;markerColor&quot;: &quot;white&quot;, &quot;prefix&quot;: &quot;glyphicon&quot;}\n            );\n            marker_f7a0304422a8646a3497259a762b24d6.setIcon(icon_2dbd97181ff56f2ad2bde99b3a7daaf2);\n        \n    \n        var popup_f2c1ecfe9ab7d4e672af92c7808d6330 = L.popup({&quot;maxWidth&quot;: &quot;100%&quot;});\n\n        \n            \n                var html_7939413510f2447d2b7a132c1c95395e = $(`&lt;div id=&quot;html_7939413510f2447d2b7a132c1c95395e&quot; style=&quot;width: 100.0%; height: 100.0%;&quot;&gt;KSC LC-39A&lt;/div&gt;`)[0];\n                popup_f2c1ecfe9ab7d4e672af92c7808d6330.setContent(html_7939413510f2447d2b7a132c1c95395e);\n            \n        \n\n        marker_f7a0304422a8646a3497259a762b24d6.bindPopup(popup_f2c1ecfe9ab7d4e672af92c7808d6330)\n        ;\n\n        \n    \n    \n            var marker_35ef4e2e2a93896f31b78a018fa4f773 = L.marker(\n                [28.57325457, -80.64689529],\n                {}\n            ).addTo(marker_cluster_0504ff2e50b9ff81059249bf9abde0fb);\n        \n    \n            var icon_03fe0551782ae84049d6cc0cc6ef4104 = L.AwesomeMarkers.icon(\n                {&quot;extraClasses&quot;: &quot;fa-rotate-0&quot;, &quot;icon&quot;: &quot;info-sign&quot;, &quot;iconColor&quot;: &quot;green&quot;, &quot;markerColor&quot;: &quot;white&quot;, &quot;prefix&quot;: &quot;glyphicon&quot;}\n            );\n            marker_35ef4e2e2a93896f31b78a018fa4f773.setIcon(icon_03fe0551782ae84049d6cc0cc6ef4104);\n        \n    \n        var popup_668d23d192616d6830198c0a346c1302 = L.popup({&quot;maxWidth&quot;: &quot;100%&quot;});\n\n        \n            \n                var html_8e7afc658bd3f3071361daf2df758124 = $(`&lt;div id=&quot;html_8e7afc658bd3f3071361daf2df758124&quot; style=&quot;width: 100.0%; height: 100.0%;&quot;&gt;KSC LC-39A&lt;/div&gt;`)[0];\n                popup_668d23d192616d6830198c0a346c1302.setContent(html_8e7afc658bd3f3071361daf2df758124);\n            \n        \n\n        marker_35ef4e2e2a93896f31b78a018fa4f773.bindPopup(popup_668d23d192616d6830198c0a346c1302)\n        ;\n\n        \n    \n    \n            var marker_5897bcce464530376cfd75d27a526a1d = L.marker(\n                [28.57325457, -80.64689529],\n                {}\n            ).addTo(marker_cluster_0504ff2e50b9ff81059249bf9abde0fb);\n        \n    \n            var icon_f0de38b680af77f450ffa638f51b9046 = L.AwesomeMarkers.icon(\n                {&quot;extraClasses&quot;: &quot;fa-rotate-0&quot;, &quot;icon&quot;: &quot;info-sign&quot;, &quot;iconColor&quot;: &quot;red&quot;, &quot;markerColor&quot;: &quot;white&quot;, &quot;prefix&quot;: &quot;glyphicon&quot;}\n            );\n            marker_5897bcce464530376cfd75d27a526a1d.setIcon(icon_f0de38b680af77f450ffa638f51b9046);\n        \n    \n        var popup_e68239fd9eabad074de060273a731d76 = L.popup({&quot;maxWidth&quot;: &quot;100%&quot;});\n\n        \n            \n                var html_b345ee91206beaae4624d5dddbc0e726 = $(`&lt;div id=&quot;html_b345ee91206beaae4624d5dddbc0e726&quot; style=&quot;width: 100.0%; height: 100.0%;&quot;&gt;KSC LC-39A&lt;/div&gt;`)[0];\n                popup_e68239fd9eabad074de060273a731d76.setContent(html_b345ee91206beaae4624d5dddbc0e726);\n            \n        \n\n        marker_5897bcce464530376cfd75d27a526a1d.bindPopup(popup_e68239fd9eabad074de060273a731d76)\n        ;\n\n        \n    \n    \n            var marker_073c37564404baa9c5c7d1092f3fddfe = L.marker(\n                [28.57325457, -80.64689529],\n                {}\n            ).addTo(marker_cluster_0504ff2e50b9ff81059249bf9abde0fb);\n        \n    \n            var icon_205ce0236c016b4cd8000cd6658a4c5c = L.AwesomeMarkers.icon(\n                {&quot;extraClasses&quot;: &quot;fa-rotate-0&quot;, &quot;icon&quot;: &quot;info-sign&quot;, &quot;iconColor&quot;: &quot;green&quot;, &quot;markerColor&quot;: &quot;white&quot;, &quot;prefix&quot;: &quot;glyphicon&quot;}\n            );\n            marker_073c37564404baa9c5c7d1092f3fddfe.setIcon(icon_205ce0236c016b4cd8000cd6658a4c5c);\n        \n    \n        var popup_fb357a7586c7c3cc0314028ab7c8e34a = L.popup({&quot;maxWidth&quot;: &quot;100%&quot;});\n\n        \n            \n                var html_dbc7b828894545caf7427a83c01ba364 = $(`&lt;div id=&quot;html_dbc7b828894545caf7427a83c01ba364&quot; style=&quot;width: 100.0%; height: 100.0%;&quot;&gt;KSC LC-39A&lt;/div&gt;`)[0];\n                popup_fb357a7586c7c3cc0314028ab7c8e34a.setContent(html_dbc7b828894545caf7427a83c01ba364);\n            \n        \n\n        marker_073c37564404baa9c5c7d1092f3fddfe.bindPopup(popup_fb357a7586c7c3cc0314028ab7c8e34a)\n        ;\n\n        \n    \n    \n            var marker_0edf5ee3fae2d91c1988370c73e3e25c = L.marker(\n                [28.57325457, -80.64689529],\n                {}\n            ).addTo(marker_cluster_0504ff2e50b9ff81059249bf9abde0fb);\n        \n    \n            var icon_dfad7609d74a2be8156a530a3409e6db = L.AwesomeMarkers.icon(\n                {&quot;extraClasses&quot;: &quot;fa-rotate-0&quot;, &quot;icon&quot;: &quot;info-sign&quot;, &quot;iconColor&quot;: &quot;green&quot;, &quot;markerColor&quot;: &quot;white&quot;, &quot;prefix&quot;: &quot;glyphicon&quot;}\n            );\n            marker_0edf5ee3fae2d91c1988370c73e3e25c.setIcon(icon_dfad7609d74a2be8156a530a3409e6db);\n        \n    \n        var popup_a3fa00df932c464760dd69edc777bf4f = L.popup({&quot;maxWidth&quot;: &quot;100%&quot;});\n\n        \n            \n                var html_a31aeff6d4d9722a70e830422a208a53 = $(`&lt;div id=&quot;html_a31aeff6d4d9722a70e830422a208a53&quot; style=&quot;width: 100.0%; height: 100.0%;&quot;&gt;KSC LC-39A&lt;/div&gt;`)[0];\n                popup_a3fa00df932c464760dd69edc777bf4f.setContent(html_a31aeff6d4d9722a70e830422a208a53);\n            \n        \n\n        marker_0edf5ee3fae2d91c1988370c73e3e25c.bindPopup(popup_a3fa00df932c464760dd69edc777bf4f)\n        ;\n\n        \n    \n    \n            var marker_df03d9c4a02b0a0f18a5292b046fc36c = L.marker(\n                [28.57325457, -80.64689529],\n                {}\n            ).addTo(marker_cluster_0504ff2e50b9ff81059249bf9abde0fb);\n        \n    \n            var icon_844bd8237cae6942283afe8511badf5d = L.AwesomeMarkers.icon(\n                {&quot;extraClasses&quot;: &quot;fa-rotate-0&quot;, &quot;icon&quot;: &quot;info-sign&quot;, &quot;iconColor&quot;: &quot;green&quot;, &quot;markerColor&quot;: &quot;white&quot;, &quot;prefix&quot;: &quot;glyphicon&quot;}\n            );\n            marker_df03d9c4a02b0a0f18a5292b046fc36c.setIcon(icon_844bd8237cae6942283afe8511badf5d);\n        \n    \n        var popup_7b8b0d2f5aee431d86e44aa02070f354 = L.popup({&quot;maxWidth&quot;: &quot;100%&quot;});\n\n        \n            \n                var html_688b409a1f5a89eacabdfc7227cb948a = $(`&lt;div id=&quot;html_688b409a1f5a89eacabdfc7227cb948a&quot; style=&quot;width: 100.0%; height: 100.0%;&quot;&gt;KSC LC-39A&lt;/div&gt;`)[0];\n                popup_7b8b0d2f5aee431d86e44aa02070f354.setContent(html_688b409a1f5a89eacabdfc7227cb948a);\n            \n        \n\n        marker_df03d9c4a02b0a0f18a5292b046fc36c.bindPopup(popup_7b8b0d2f5aee431d86e44aa02070f354)\n        ;\n\n        \n    \n    \n            var marker_a7d6bf7b098bfd0e267d2359adaa013e = L.marker(\n                [28.57325457, -80.64689529],\n                {}\n            ).addTo(marker_cluster_0504ff2e50b9ff81059249bf9abde0fb);\n        \n    \n            var icon_e884af2a79092b657534c31751994b21 = L.AwesomeMarkers.icon(\n                {&quot;extraClasses&quot;: &quot;fa-rotate-0&quot;, &quot;icon&quot;: &quot;info-sign&quot;, &quot;iconColor&quot;: &quot;green&quot;, &quot;markerColor&quot;: &quot;white&quot;, &quot;prefix&quot;: &quot;glyphicon&quot;}\n            );\n            marker_a7d6bf7b098bfd0e267d2359adaa013e.setIcon(icon_e884af2a79092b657534c31751994b21);\n        \n    \n        var popup_42ad25b8cf844fc577974214799f3e7a = L.popup({&quot;maxWidth&quot;: &quot;100%&quot;});\n\n        \n            \n                var html_c2e07168cf8f1f234ff419ab45b89075 = $(`&lt;div id=&quot;html_c2e07168cf8f1f234ff419ab45b89075&quot; style=&quot;width: 100.0%; height: 100.0%;&quot;&gt;KSC LC-39A&lt;/div&gt;`)[0];\n                popup_42ad25b8cf844fc577974214799f3e7a.setContent(html_c2e07168cf8f1f234ff419ab45b89075);\n            \n        \n\n        marker_a7d6bf7b098bfd0e267d2359adaa013e.bindPopup(popup_42ad25b8cf844fc577974214799f3e7a)\n        ;\n\n        \n    \n    \n            var marker_6aa6558c135df419ccd2a96af2b68ae2 = L.marker(\n                [28.57325457, -80.64689529],\n                {}\n            ).addTo(marker_cluster_0504ff2e50b9ff81059249bf9abde0fb);\n        \n    \n            var icon_f658d00a9ea428fd6975b61d209de6c8 = L.AwesomeMarkers.icon(\n                {&quot;extraClasses&quot;: &quot;fa-rotate-0&quot;, &quot;icon&quot;: &quot;info-sign&quot;, &quot;iconColor&quot;: &quot;green&quot;, &quot;markerColor&quot;: &quot;white&quot;, &quot;prefix&quot;: &quot;glyphicon&quot;}\n            );\n            marker_6aa6558c135df419ccd2a96af2b68ae2.setIcon(icon_f658d00a9ea428fd6975b61d209de6c8);\n        \n    \n        var popup_30a01818b07ebe672eff8a4cd286aea8 = L.popup({&quot;maxWidth&quot;: &quot;100%&quot;});\n\n        \n            \n                var html_43a7ca168e96c485b2b80700d2a6314e = $(`&lt;div id=&quot;html_43a7ca168e96c485b2b80700d2a6314e&quot; style=&quot;width: 100.0%; height: 100.0%;&quot;&gt;KSC LC-39A&lt;/div&gt;`)[0];\n                popup_30a01818b07ebe672eff8a4cd286aea8.setContent(html_43a7ca168e96c485b2b80700d2a6314e);\n            \n        \n\n        marker_6aa6558c135df419ccd2a96af2b68ae2.bindPopup(popup_30a01818b07ebe672eff8a4cd286aea8)\n        ;\n\n        \n    \n    \n            var marker_2f9bcc945d7d12f200c0ec09aef32654 = L.marker(\n                [28.56319718, -80.57682003],\n                {}\n            ).addTo(marker_cluster_0504ff2e50b9ff81059249bf9abde0fb);\n        \n    \n            var icon_3797c1b291ce02b1038fc3e36939a831 = L.AwesomeMarkers.icon(\n                {&quot;extraClasses&quot;: &quot;fa-rotate-0&quot;, &quot;icon&quot;: &quot;info-sign&quot;, &quot;iconColor&quot;: &quot;green&quot;, &quot;markerColor&quot;: &quot;white&quot;, &quot;prefix&quot;: &quot;glyphicon&quot;}\n            );\n            marker_2f9bcc945d7d12f200c0ec09aef32654.setIcon(icon_3797c1b291ce02b1038fc3e36939a831);\n        \n    \n        var popup_d49915a286da777d5c85566fc9077a2c = L.popup({&quot;maxWidth&quot;: &quot;100%&quot;});\n\n        \n            \n                var html_9aa37b745358bf0cac70509e5dc00204 = $(`&lt;div id=&quot;html_9aa37b745358bf0cac70509e5dc00204&quot; style=&quot;width: 100.0%; height: 100.0%;&quot;&gt;CCAFS SLC-40&lt;/div&gt;`)[0];\n                popup_d49915a286da777d5c85566fc9077a2c.setContent(html_9aa37b745358bf0cac70509e5dc00204);\n            \n        \n\n        marker_2f9bcc945d7d12f200c0ec09aef32654.bindPopup(popup_d49915a286da777d5c85566fc9077a2c)\n        ;\n\n        \n    \n    \n            var marker_7ed79f662d171a6b5e20e63d368a47b5 = L.marker(\n                [28.56319718, -80.57682003],\n                {}\n            ).addTo(marker_cluster_0504ff2e50b9ff81059249bf9abde0fb);\n        \n    \n            var icon_39e8274342c887b0fd3e8390c2ecad6e = L.AwesomeMarkers.icon(\n                {&quot;extraClasses&quot;: &quot;fa-rotate-0&quot;, &quot;icon&quot;: &quot;info-sign&quot;, &quot;iconColor&quot;: &quot;green&quot;, &quot;markerColor&quot;: &quot;white&quot;, &quot;prefix&quot;: &quot;glyphicon&quot;}\n            );\n            marker_7ed79f662d171a6b5e20e63d368a47b5.setIcon(icon_39e8274342c887b0fd3e8390c2ecad6e);\n        \n    \n        var popup_44bfd8767c618cb150376f469ce649ed = L.popup({&quot;maxWidth&quot;: &quot;100%&quot;});\n\n        \n            \n                var html_784fb3ea69bcec8328c3f8fe8c01f285 = $(`&lt;div id=&quot;html_784fb3ea69bcec8328c3f8fe8c01f285&quot; style=&quot;width: 100.0%; height: 100.0%;&quot;&gt;CCAFS SLC-40&lt;/div&gt;`)[0];\n                popup_44bfd8767c618cb150376f469ce649ed.setContent(html_784fb3ea69bcec8328c3f8fe8c01f285);\n            \n        \n\n        marker_7ed79f662d171a6b5e20e63d368a47b5.bindPopup(popup_44bfd8767c618cb150376f469ce649ed)\n        ;\n\n        \n    \n    \n            var marker_ea1ab9b681a77935d136d78f32410452 = L.marker(\n                [28.56319718, -80.57682003],\n                {}\n            ).addTo(marker_cluster_0504ff2e50b9ff81059249bf9abde0fb);\n        \n    \n            var icon_1416fe27109318fd8bb1c51fdb16524d = L.AwesomeMarkers.icon(\n                {&quot;extraClasses&quot;: &quot;fa-rotate-0&quot;, &quot;icon&quot;: &quot;info-sign&quot;, &quot;iconColor&quot;: &quot;red&quot;, &quot;markerColor&quot;: &quot;white&quot;, &quot;prefix&quot;: &quot;glyphicon&quot;}\n            );\n            marker_ea1ab9b681a77935d136d78f32410452.setIcon(icon_1416fe27109318fd8bb1c51fdb16524d);\n        \n    \n        var popup_aa912c40a01caaf7d1e7d7418bba1cf5 = L.popup({&quot;maxWidth&quot;: &quot;100%&quot;});\n\n        \n            \n                var html_2a2d8525876194d8bb9ce7c2f8bda568 = $(`&lt;div id=&quot;html_2a2d8525876194d8bb9ce7c2f8bda568&quot; style=&quot;width: 100.0%; height: 100.0%;&quot;&gt;CCAFS SLC-40&lt;/div&gt;`)[0];\n                popup_aa912c40a01caaf7d1e7d7418bba1cf5.setContent(html_2a2d8525876194d8bb9ce7c2f8bda568);\n            \n        \n\n        marker_ea1ab9b681a77935d136d78f32410452.bindPopup(popup_aa912c40a01caaf7d1e7d7418bba1cf5)\n        ;\n\n        \n    \n    \n            var marker_c0c14b14249e51ecfbd9d886197f1aca = L.marker(\n                [28.56319718, -80.57682003],\n                {}\n            ).addTo(marker_cluster_0504ff2e50b9ff81059249bf9abde0fb);\n        \n    \n            var icon_9ebb8a39ac39eb5ca2f7b44f513ac717 = L.AwesomeMarkers.icon(\n                {&quot;extraClasses&quot;: &quot;fa-rotate-0&quot;, &quot;icon&quot;: &quot;info-sign&quot;, &quot;iconColor&quot;: &quot;red&quot;, &quot;markerColor&quot;: &quot;white&quot;, &quot;prefix&quot;: &quot;glyphicon&quot;}\n            );\n            marker_c0c14b14249e51ecfbd9d886197f1aca.setIcon(icon_9ebb8a39ac39eb5ca2f7b44f513ac717);\n        \n    \n        var popup_0e916059f37a472967a845cfa4ce0e2c = L.popup({&quot;maxWidth&quot;: &quot;100%&quot;});\n\n        \n            \n                var html_1abb3adb9cdf1cbdd4bbaed4a89e4862 = $(`&lt;div id=&quot;html_1abb3adb9cdf1cbdd4bbaed4a89e4862&quot; style=&quot;width: 100.0%; height: 100.0%;&quot;&gt;CCAFS SLC-40&lt;/div&gt;`)[0];\n                popup_0e916059f37a472967a845cfa4ce0e2c.setContent(html_1abb3adb9cdf1cbdd4bbaed4a89e4862);\n            \n        \n\n        marker_c0c14b14249e51ecfbd9d886197f1aca.bindPopup(popup_0e916059f37a472967a845cfa4ce0e2c)\n        ;\n\n        \n    \n    \n            var marker_c43efff3d5bde0f612533442a3fa15ce = L.marker(\n                [28.56319718, -80.57682003],\n                {}\n            ).addTo(marker_cluster_0504ff2e50b9ff81059249bf9abde0fb);\n        \n    \n            var icon_0a6665bccb3a30cea7694b065beb421b = L.AwesomeMarkers.icon(\n                {&quot;extraClasses&quot;: &quot;fa-rotate-0&quot;, &quot;icon&quot;: &quot;info-sign&quot;, &quot;iconColor&quot;: &quot;red&quot;, &quot;markerColor&quot;: &quot;white&quot;, &quot;prefix&quot;: &quot;glyphicon&quot;}\n            );\n            marker_c43efff3d5bde0f612533442a3fa15ce.setIcon(icon_0a6665bccb3a30cea7694b065beb421b);\n        \n    \n        var popup_3d2081b402599e651f8775750fc9e39b = L.popup({&quot;maxWidth&quot;: &quot;100%&quot;});\n\n        \n            \n                var html_6254c3ebaa267470347de5a428e2bea9 = $(`&lt;div id=&quot;html_6254c3ebaa267470347de5a428e2bea9&quot; style=&quot;width: 100.0%; height: 100.0%;&quot;&gt;CCAFS SLC-40&lt;/div&gt;`)[0];\n                popup_3d2081b402599e651f8775750fc9e39b.setContent(html_6254c3ebaa267470347de5a428e2bea9);\n            \n        \n\n        marker_c43efff3d5bde0f612533442a3fa15ce.bindPopup(popup_3d2081b402599e651f8775750fc9e39b)\n        ;\n\n        \n    \n    \n            var marker_5b715f47d0e9ad0d2285fb2f5ca345ef = L.marker(\n                [28.56319718, -80.57682003],\n                {}\n            ).addTo(marker_cluster_0504ff2e50b9ff81059249bf9abde0fb);\n        \n    \n            var icon_2bf1d111ebf5a6ae4dda564adacdc263 = L.AwesomeMarkers.icon(\n                {&quot;extraClasses&quot;: &quot;fa-rotate-0&quot;, &quot;icon&quot;: &quot;info-sign&quot;, &quot;iconColor&quot;: &quot;green&quot;, &quot;markerColor&quot;: &quot;white&quot;, &quot;prefix&quot;: &quot;glyphicon&quot;}\n            );\n            marker_5b715f47d0e9ad0d2285fb2f5ca345ef.setIcon(icon_2bf1d111ebf5a6ae4dda564adacdc263);\n        \n    \n        var popup_71e7b3fe75f39bbc663a594bd0295116 = L.popup({&quot;maxWidth&quot;: &quot;100%&quot;});\n\n        \n            \n                var html_1ce6a6f62021ee1d258406a197e224b9 = $(`&lt;div id=&quot;html_1ce6a6f62021ee1d258406a197e224b9&quot; style=&quot;width: 100.0%; height: 100.0%;&quot;&gt;CCAFS SLC-40&lt;/div&gt;`)[0];\n                popup_71e7b3fe75f39bbc663a594bd0295116.setContent(html_1ce6a6f62021ee1d258406a197e224b9);\n            \n        \n\n        marker_5b715f47d0e9ad0d2285fb2f5ca345ef.bindPopup(popup_71e7b3fe75f39bbc663a594bd0295116)\n        ;\n\n        \n    \n    \n            var marker_23de961327160889c2d9a569da63c520 = L.marker(\n                [28.56319718, -80.57682003],\n                {}\n            ).addTo(marker_cluster_0504ff2e50b9ff81059249bf9abde0fb);\n        \n    \n            var icon_761999362cd6eb59964c1e126594a63e = L.AwesomeMarkers.icon(\n                {&quot;extraClasses&quot;: &quot;fa-rotate-0&quot;, &quot;icon&quot;: &quot;info-sign&quot;, &quot;iconColor&quot;: &quot;red&quot;, &quot;markerColor&quot;: &quot;white&quot;, &quot;prefix&quot;: &quot;glyphicon&quot;}\n            );\n            marker_23de961327160889c2d9a569da63c520.setIcon(icon_761999362cd6eb59964c1e126594a63e);\n        \n    \n        var popup_9a1c049f8b027bc33fb430daa4534fac = L.popup({&quot;maxWidth&quot;: &quot;100%&quot;});\n\n        \n            \n                var html_6976790f761128ed3becba84cedd7447 = $(`&lt;div id=&quot;html_6976790f761128ed3becba84cedd7447&quot; style=&quot;width: 100.0%; height: 100.0%;&quot;&gt;CCAFS SLC-40&lt;/div&gt;`)[0];\n                popup_9a1c049f8b027bc33fb430daa4534fac.setContent(html_6976790f761128ed3becba84cedd7447);\n            \n        \n\n        marker_23de961327160889c2d9a569da63c520.bindPopup(popup_9a1c049f8b027bc33fb430daa4534fac)\n        ;\n\n        \n    \n    \n            marker_cluster_0504ff2e50b9ff81059249bf9abde0fb.addTo(map_8d3b6cf5b9ae068b02deec1419bcbb51);\n        \n    \n            tile_layer_5f77d4427cd19b57fee834993b1136f9.addTo(map_8d3b6cf5b9ae068b02deec1419bcbb51);\n        \n    \n            feature_group_c4c13f5d3d18f15094ef4bb98671d65e.addTo(map_8d3b6cf5b9ae068b02deec1419bcbb51);\n        \n    \n            marker_cluster_0504ff2e50b9ff81059249bf9abde0fb.addTo(map_8d3b6cf5b9ae068b02deec1419bcbb51);\n        \n    \n            var mouse_position_17e56b3065e5eed4691f11dc99fc4eef = new L.Control.MousePosition(\n                {&quot;emptyString&quot;: &quot;NaN&quot;, &quot;lngFirst&quot;: false, &quot;numDigits&quot;: 20, &quot;position&quot;: &quot;topright&quot;, &quot;prefix&quot;: &quot;Lat:&quot;, &quot;separator&quot;: &quot; Long: &quot;}\n            );\n            mouse_position_17e56b3065e5eed4691f11dc99fc4eef.options[&quot;latFormatter&quot;] =\n                function(num) {return L.Util.formatNum(num, 5);};;\n            mouse_position_17e56b3065e5eed4691f11dc99fc4eef.options[&quot;lngFormatter&quot;] =\n                function(num) {return L.Util.formatNum(num, 5);};;\n            map_8d3b6cf5b9ae068b02deec1419bcbb51.addControl(mouse_position_17e56b3065e5eed4691f11dc99fc4eef);\n        \n    \n            tile_layer_5f77d4427cd19b57fee834993b1136f9.addTo(map_8d3b6cf5b9ae068b02deec1419bcbb51);\n        \n    \n            feature_group_c4c13f5d3d18f15094ef4bb98671d65e.addTo(map_8d3b6cf5b9ae068b02deec1419bcbb51);\n        \n    \n            marker_cluster_0504ff2e50b9ff81059249bf9abde0fb.addTo(map_8d3b6cf5b9ae068b02deec1419bcbb51);\n        \n    \n            var marker_08aa1312aa45b11e6f66c396e8375b5c = L.marker(\n                [28.57157, -80.6036],\n                {}\n            ).addTo(map_8d3b6cf5b9ae068b02deec1419bcbb51);\n        \n    \n            var div_icon_6fe4192d6225f56bea15dac20722228f = L.divIcon({&quot;className&quot;: &quot;empty&quot;, &quot;html&quot;: &quot;\\u003cdiv style=\\&quot;font-size: 12; color:#d35400;\\&quot;\\u003e\\u003cb\\u003e      4.23 KM\\u003c/b\\u003e\\u003c/div\\u003e&quot;, &quot;iconAnchor&quot;: [0, 0], &quot;iconSize&quot;: [20, 20]});\n            marker_08aa1312aa45b11e6f66c396e8375b5c.setIcon(div_icon_6fe4192d6225f56bea15dac20722228f);\n        \n    \n            var poly_line_dd9657e263b6a9fb5267dfde9c6065b0 = L.polyline(\n                [[28.5733, -80.64686], [28.57157, -80.6036]],\n                {&quot;bubblingMouseEvents&quot;: true, &quot;color&quot;: &quot;#3388ff&quot;, &quot;dashArray&quot;: null, &quot;dashOffset&quot;: null, &quot;fill&quot;: false, &quot;fillColor&quot;: &quot;#3388ff&quot;, &quot;fillOpacity&quot;: 0.2, &quot;fillRule&quot;: &quot;evenodd&quot;, &quot;lineCap&quot;: &quot;round&quot;, &quot;lineJoin&quot;: &quot;round&quot;, &quot;noClip&quot;: false, &quot;opacity&quot;: 1.0, &quot;smoothFactor&quot;: 1.0, &quot;stroke&quot;: true, &quot;weight&quot;: 1}\n            ).addTo(map_8d3b6cf5b9ae068b02deec1419bcbb51);\n        \n    \n            tile_layer_5f77d4427cd19b57fee834993b1136f9.addTo(map_8d3b6cf5b9ae068b02deec1419bcbb51);\n        \n    \n            feature_group_c4c13f5d3d18f15094ef4bb98671d65e.addTo(map_8d3b6cf5b9ae068b02deec1419bcbb51);\n        \n    \n            marker_cluster_0504ff2e50b9ff81059249bf9abde0fb.addTo(map_8d3b6cf5b9ae068b02deec1419bcbb51);\n        \n    \n            var marker_1b935d9dfbc8dc751090ae1f5194bc1d = L.marker(\n                [28.57246, -80.65546],\n                {}\n            ).addTo(map_8d3b6cf5b9ae068b02deec1419bcbb51);\n        \n    \n            var div_icon_e1c5133383df4b3b5570d869554dbea0 = L.divIcon({&quot;className&quot;: &quot;empty&quot;, &quot;html&quot;: &quot;\\u003cdiv style=\\&quot;font-size: 12; color:#d35400;\\&quot;\\u003e\\u003cb\\u003e      0.85 KM\\u003c/b\\u003e\\u003c/div\\u003e&quot;, &quot;iconAnchor&quot;: [0, 0], &quot;iconSize&quot;: [20, 20]});\n            marker_1b935d9dfbc8dc751090ae1f5194bc1d.setIcon(div_icon_e1c5133383df4b3b5570d869554dbea0);\n        \n    \n            var poly_line_6922624e242a694ce2290f4a822c863d = L.polyline(\n                [[28.5733, -80.64686], [28.57246, -80.65546]],\n                {&quot;bubblingMouseEvents&quot;: true, &quot;color&quot;: &quot;#3388ff&quot;, &quot;dashArray&quot;: null, &quot;dashOffset&quot;: null, &quot;fill&quot;: false, &quot;fillColor&quot;: &quot;#3388ff&quot;, &quot;fillOpacity&quot;: 0.2, &quot;fillRule&quot;: &quot;evenodd&quot;, &quot;lineCap&quot;: &quot;round&quot;, &quot;lineJoin&quot;: &quot;round&quot;, &quot;noClip&quot;: false, &quot;opacity&quot;: 1.0, &quot;smoothFactor&quot;: 1.0, &quot;stroke&quot;: true, &quot;weight&quot;: 1}\n            ).addTo(map_8d3b6cf5b9ae068b02deec1419bcbb51);\n        \n&lt;/script&gt;\n&lt;/html&gt;\" style=\"position:absolute;width:100%;height:100%;left:0;top:0;border:none !important;\" allowfullscreen webkitallowfullscreen mozallowfullscreen></iframe></div></div>"
          },
          "metadata": {}
        }
      ],
      "execution_count": 21
    },
    {
      "cell_type": "markdown",
      "source": "After you plot distance lines to the proximities, you can answer the following questions easily:\n\n*   Are launch sites in close proximity to railways?\n*   Are launch sites in close proximity to highways?\n*   Are launch sites in close proximity to coastline?\n*   Do launch sites keep certain distance away from cities?\n\nAlso please try to explain your findings.\n",
      "metadata": {}
    },
    {
      "cell_type": "code",
      "source": "import piplite\nawait piplite.install(['nbformat','plotly'])\nimport pandas as pdc\nimport plotly.express as px\nimport plotly.graph_objects as go",
      "metadata": {
        "trusted": true
      },
      "outputs": [],
      "execution_count": 22
    },
    {
      "cell_type": "code",
      "source": "spacex_df.head(2)",
      "metadata": {
        "trusted": true
      },
      "outputs": [
        {
          "execution_count": 23,
          "output_type": "execute_result",
          "data": {
            "text/plain": "   Launch Site        Lat       Long  class marker_color\n0  CCAFS LC-40  28.562302 -80.577356      0          red\n1  CCAFS LC-40  28.562302 -80.577356      0          red",
            "text/html": "<div>\n<style scoped>\n    .dataframe tbody tr th:only-of-type {\n        vertical-align: middle;\n    }\n\n    .dataframe tbody tr th {\n        vertical-align: top;\n    }\n\n    .dataframe thead th {\n        text-align: right;\n    }\n</style>\n<table border=\"1\" class=\"dataframe\">\n  <thead>\n    <tr style=\"text-align: right;\">\n      <th></th>\n      <th>Launch Site</th>\n      <th>Lat</th>\n      <th>Long</th>\n      <th>class</th>\n      <th>marker_color</th>\n    </tr>\n  </thead>\n  <tbody>\n    <tr>\n      <th>0</th>\n      <td>CCAFS LC-40</td>\n      <td>28.562302</td>\n      <td>-80.577356</td>\n      <td>0</td>\n      <td>red</td>\n    </tr>\n    <tr>\n      <th>1</th>\n      <td>CCAFS LC-40</td>\n      <td>28.562302</td>\n      <td>-80.577356</td>\n      <td>0</td>\n      <td>red</td>\n    </tr>\n  </tbody>\n</table>\n</div>"
          },
          "metadata": {}
        }
      ],
      "execution_count": 23
    },
    {
      "cell_type": "code",
      "source": "fig=px.scatter(spacex_df,x='Payload Mass (kg)',y='class',color='Booster Version')\nfig.show()",
      "metadata": {
        "trusted": true
      },
      "outputs": [
        {
          "output_type": "display_data",
          "data": {
            "application/vnd.plotly.v1+json": {
              "data": [
                {
                  "hovertemplate": "Booster Version=F9 v1.0  B0003<br>Payload Mass (kg)=%{x}<br>class=%{y}<extra></extra>",
                  "legendgroup": "F9 v1.0  B0003",
                  "marker": {
                    "color": "#636efa",
                    "symbol": "circle"
                  },
                  "mode": "markers",
                  "name": "F9 v1.0  B0003",
                  "orientation": "v",
                  "showlegend": true,
                  "x": [
                    0
                  ],
                  "xaxis": "x",
                  "y": [
                    0
                  ],
                  "yaxis": "y",
                  "type": "scatter"
                },
                {
                  "hovertemplate": "Booster Version=F9 v1.0  B0004<br>Payload Mass (kg)=%{x}<br>class=%{y}<extra></extra>",
                  "legendgroup": "F9 v1.0  B0004",
                  "marker": {
                    "color": "#EF553B",
                    "symbol": "circle"
                  },
                  "mode": "markers",
                  "name": "F9 v1.0  B0004",
                  "orientation": "v",
                  "showlegend": true,
                  "x": [
                    0
                  ],
                  "xaxis": "x",
                  "y": [
                    0
                  ],
                  "yaxis": "y",
                  "type": "scatter"
                },
                {
                  "hovertemplate": "Booster Version=F9 v1.0  B0005<br>Payload Mass (kg)=%{x}<br>class=%{y}<extra></extra>",
                  "legendgroup": "F9 v1.0  B0005",
                  "marker": {
                    "color": "#00cc96",
                    "symbol": "circle"
                  },
                  "mode": "markers",
                  "name": "F9 v1.0  B0005",
                  "orientation": "v",
                  "showlegend": true,
                  "x": [
                    525
                  ],
                  "xaxis": "x",
                  "y": [
                    0
                  ],
                  "yaxis": "y",
                  "type": "scatter"
                },
                {
                  "hovertemplate": "Booster Version=F9 v1.0  B0006<br>Payload Mass (kg)=%{x}<br>class=%{y}<extra></extra>",
                  "legendgroup": "F9 v1.0  B0006",
                  "marker": {
                    "color": "#ab63fa",
                    "symbol": "circle"
                  },
                  "mode": "markers",
                  "name": "F9 v1.0  B0006",
                  "orientation": "v",
                  "showlegend": true,
                  "x": [
                    500
                  ],
                  "xaxis": "x",
                  "y": [
                    0
                  ],
                  "yaxis": "y",
                  "type": "scatter"
                },
                {
                  "hovertemplate": "Booster Version=F9 v1.0  B0007<br>Payload Mass (kg)=%{x}<br>class=%{y}<extra></extra>",
                  "legendgroup": "F9 v1.0  B0007",
                  "marker": {
                    "color": "#FFA15A",
                    "symbol": "circle"
                  },
                  "mode": "markers",
                  "name": "F9 v1.0  B0007",
                  "orientation": "v",
                  "showlegend": true,
                  "x": [
                    677
                  ],
                  "xaxis": "x",
                  "y": [
                    0
                  ],
                  "yaxis": "y",
                  "type": "scatter"
                },
                {
                  "hovertemplate": "Booster Version=F9 v1.1<br>Payload Mass (kg)=%{x}<br>class=%{y}<extra></extra>",
                  "legendgroup": "F9 v1.1",
                  "marker": {
                    "color": "#19d3f3",
                    "symbol": "circle"
                  },
                  "mode": "markers",
                  "name": "F9 v1.1",
                  "orientation": "v",
                  "showlegend": true,
                  "x": [
                    3170,
                    3325,
                    2296,
                    1316,
                    4535
                  ],
                  "xaxis": "x",
                  "y": [
                    0,
                    0,
                    0,
                    0,
                    0
                  ],
                  "yaxis": "y",
                  "type": "scatter"
                },
                {
                  "hovertemplate": "Booster Version=F9 v1.1 B1011<br>Payload Mass (kg)=%{x}<br>class=%{y}<extra></extra>",
                  "legendgroup": "F9 v1.1 B1011",
                  "marker": {
                    "color": "#FF6692",
                    "symbol": "circle"
                  },
                  "mode": "markers",
                  "name": "F9 v1.1 B1011",
                  "orientation": "v",
                  "showlegend": true,
                  "x": [
                    4428
                  ],
                  "xaxis": "x",
                  "y": [
                    0
                  ],
                  "yaxis": "y",
                  "type": "scatter"
                },
                {
                  "hovertemplate": "Booster Version=F9 v1.1 B1010<br>Payload Mass (kg)=%{x}<br>class=%{y}<extra></extra>",
                  "legendgroup": "F9 v1.1 B1010",
                  "marker": {
                    "color": "#B6E880",
                    "symbol": "circle"
                  },
                  "mode": "markers",
                  "name": "F9 v1.1 B1010",
                  "orientation": "v",
                  "showlegend": true,
                  "x": [
                    2216
                  ],
                  "xaxis": "x",
                  "y": [
                    0
                  ],
                  "yaxis": "y",
                  "type": "scatter"
                },
                {
                  "hovertemplate": "Booster Version=F9 v1.1 B1012<br>Payload Mass (kg)=%{x}<br>class=%{y}<extra></extra>",
                  "legendgroup": "F9 v1.1 B1012",
                  "marker": {
                    "color": "#FF97FF",
                    "symbol": "circle"
                  },
                  "mode": "markers",
                  "name": "F9 v1.1 B1012",
                  "orientation": "v",
                  "showlegend": true,
                  "x": [
                    2395
                  ],
                  "xaxis": "x",
                  "y": [
                    0
                  ],
                  "yaxis": "y",
                  "type": "scatter"
                },
                {
                  "hovertemplate": "Booster Version=F9 v1.1 B1013<br>Payload Mass (kg)=%{x}<br>class=%{y}<extra></extra>",
                  "legendgroup": "F9 v1.1 B1013",
                  "marker": {
                    "color": "#FECB52",
                    "symbol": "circle"
                  },
                  "mode": "markers",
                  "name": "F9 v1.1 B1013",
                  "orientation": "v",
                  "showlegend": true,
                  "x": [
                    570
                  ],
                  "xaxis": "x",
                  "y": [
                    0
                  ],
                  "yaxis": "y",
                  "type": "scatter"
                },
                {
                  "hovertemplate": "Booster Version=F9 v1.1 B1014<br>Payload Mass (kg)=%{x}<br>class=%{y}<extra></extra>",
                  "legendgroup": "F9 v1.1 B1014",
                  "marker": {
                    "color": "#636efa",
                    "symbol": "circle"
                  },
                  "mode": "markers",
                  "name": "F9 v1.1 B1014",
                  "orientation": "v",
                  "showlegend": true,
                  "x": [
                    4159
                  ],
                  "xaxis": "x",
                  "y": [
                    0
                  ],
                  "yaxis": "y",
                  "type": "scatter"
                },
                {
                  "hovertemplate": "Booster Version=F9 v1.1 B1015<br>Payload Mass (kg)=%{x}<br>class=%{y}<extra></extra>",
                  "legendgroup": "F9 v1.1 B1015",
                  "marker": {
                    "color": "#EF553B",
                    "symbol": "circle"
                  },
                  "mode": "markers",
                  "name": "F9 v1.1 B1015",
                  "orientation": "v",
                  "showlegend": true,
                  "x": [
                    1898
                  ],
                  "xaxis": "x",
                  "y": [
                    0
                  ],
                  "yaxis": "y",
                  "type": "scatter"
                },
                {
                  "hovertemplate": "Booster Version=F9 v1.1 B1016<br>Payload Mass (kg)=%{x}<br>class=%{y}<extra></extra>",
                  "legendgroup": "F9 v1.1 B1016",
                  "marker": {
                    "color": "#00cc96",
                    "symbol": "circle"
                  },
                  "mode": "markers",
                  "name": "F9 v1.1 B1016",
                  "orientation": "v",
                  "showlegend": true,
                  "x": [
                    4707
                  ],
                  "xaxis": "x",
                  "y": [
                    0
                  ],
                  "yaxis": "y",
                  "type": "scatter"
                },
                {
                  "hovertemplate": "Booster Version=F9 v1.1 B1018<br>Payload Mass (kg)=%{x}<br>class=%{y}<extra></extra>",
                  "legendgroup": "F9 v1.1 B1018",
                  "marker": {
                    "color": "#ab63fa",
                    "symbol": "circle"
                  },
                  "mode": "markers",
                  "name": "F9 v1.1 B1018",
                  "orientation": "v",
                  "showlegend": true,
                  "x": [
                    1952
                  ],
                  "xaxis": "x",
                  "y": [
                    1
                  ],
                  "yaxis": "y",
                  "type": "scatter"
                },
                {
                  "hovertemplate": "Booster Version=F9 FT B1019<br>Payload Mass (kg)=%{x}<br>class=%{y}<extra></extra>",
                  "legendgroup": "F9 FT B1019",
                  "marker": {
                    "color": "#FFA15A",
                    "symbol": "circle"
                  },
                  "mode": "markers",
                  "name": "F9 FT B1019",
                  "orientation": "v",
                  "showlegend": true,
                  "x": [
                    2034
                  ],
                  "xaxis": "x",
                  "y": [
                    1
                  ],
                  "yaxis": "y",
                  "type": "scatter"
                },
                {
                  "hovertemplate": "Booster Version=F9 FT B1020<br>Payload Mass (kg)=%{x}<br>class=%{y}<extra></extra>",
                  "legendgroup": "F9 FT B1020",
                  "marker": {
                    "color": "#19d3f3",
                    "symbol": "circle"
                  },
                  "mode": "markers",
                  "name": "F9 FT B1020",
                  "orientation": "v",
                  "showlegend": true,
                  "x": [
                    5271
                  ],
                  "xaxis": "x",
                  "y": [
                    0
                  ],
                  "yaxis": "y",
                  "type": "scatter"
                },
                {
                  "hovertemplate": "Booster Version=F9 FT B1021.1<br>Payload Mass (kg)=%{x}<br>class=%{y}<extra></extra>",
                  "legendgroup": "F9 FT B1021.1",
                  "marker": {
                    "color": "#FF6692",
                    "symbol": "circle"
                  },
                  "mode": "markers",
                  "name": "F9 FT B1021.1",
                  "orientation": "v",
                  "showlegend": true,
                  "x": [
                    3136
                  ],
                  "xaxis": "x",
                  "y": [
                    1
                  ],
                  "yaxis": "y",
                  "type": "scatter"
                },
                {
                  "hovertemplate": "Booster Version=F9 FT B1022<br>Payload Mass (kg)=%{x}<br>class=%{y}<extra></extra>",
                  "legendgroup": "F9 FT B1022",
                  "marker": {
                    "color": "#B6E880",
                    "symbol": "circle"
                  },
                  "mode": "markers",
                  "name": "F9 FT B1022",
                  "orientation": "v",
                  "showlegend": true,
                  "x": [
                    4696
                  ],
                  "xaxis": "x",
                  "y": [
                    1
                  ],
                  "yaxis": "y",
                  "type": "scatter"
                },
                {
                  "hovertemplate": "Booster Version=F9 FT B1023.1<br>Payload Mass (kg)=%{x}<br>class=%{y}<extra></extra>",
                  "legendgroup": "F9 FT B1023.1",
                  "marker": {
                    "color": "#FF97FF",
                    "symbol": "circle"
                  },
                  "mode": "markers",
                  "name": "F9 FT B1023.1",
                  "orientation": "v",
                  "showlegend": true,
                  "x": [
                    3100
                  ],
                  "xaxis": "x",
                  "y": [
                    1
                  ],
                  "yaxis": "y",
                  "type": "scatter"
                },
                {
                  "hovertemplate": "Booster Version=F9 FT B1024<br>Payload Mass (kg)=%{x}<br>class=%{y}<extra></extra>",
                  "legendgroup": "F9 FT B1024",
                  "marker": {
                    "color": "#FECB52",
                    "symbol": "circle"
                  },
                  "mode": "markers",
                  "name": "F9 FT B1024",
                  "orientation": "v",
                  "showlegend": true,
                  "x": [
                    3600
                  ],
                  "xaxis": "x",
                  "y": [
                    0
                  ],
                  "yaxis": "y",
                  "type": "scatter"
                },
                {
                  "hovertemplate": "Booster Version=F9 FT B1025.1<br>Payload Mass (kg)=%{x}<br>class=%{y}<extra></extra>",
                  "legendgroup": "F9 FT B1025.1",
                  "marker": {
                    "color": "#636efa",
                    "symbol": "circle"
                  },
                  "mode": "markers",
                  "name": "F9 FT B1025.1",
                  "orientation": "v",
                  "showlegend": true,
                  "x": [
                    2257
                  ],
                  "xaxis": "x",
                  "y": [
                    1
                  ],
                  "yaxis": "y",
                  "type": "scatter"
                },
                {
                  "hovertemplate": "Booster Version=F9 FT B1026<br>Payload Mass (kg)=%{x}<br>class=%{y}<extra></extra>",
                  "legendgroup": "F9 FT B1026",
                  "marker": {
                    "color": "#EF553B",
                    "symbol": "circle"
                  },
                  "mode": "markers",
                  "name": "F9 FT B1026",
                  "orientation": "v",
                  "showlegend": true,
                  "x": [
                    4600
                  ],
                  "xaxis": "x",
                  "y": [
                    1
                  ],
                  "yaxis": "y",
                  "type": "scatter"
                },
                {
                  "hovertemplate": "Booster Version=F9 v1.1  B1003<br>Payload Mass (kg)=%{x}<br>class=%{y}<extra></extra>",
                  "legendgroup": "F9 v1.1  B1003",
                  "marker": {
                    "color": "#00cc96",
                    "symbol": "circle"
                  },
                  "mode": "markers",
                  "name": "F9 v1.1  B1003",
                  "orientation": "v",
                  "showlegend": true,
                  "x": [
                    500
                  ],
                  "xaxis": "x",
                  "y": [
                    0
                  ],
                  "yaxis": "y",
                  "type": "scatter"
                },
                {
                  "hovertemplate": "Booster Version=F9 v1.1 B1017<br>Payload Mass (kg)=%{x}<br>class=%{y}<extra></extra>",
                  "legendgroup": "F9 v1.1 B1017",
                  "marker": {
                    "color": "#ab63fa",
                    "symbol": "circle"
                  },
                  "mode": "markers",
                  "name": "F9 v1.1 B1017",
                  "orientation": "v",
                  "showlegend": true,
                  "x": [
                    553
                  ],
                  "xaxis": "x",
                  "y": [
                    0
                  ],
                  "yaxis": "y",
                  "type": "scatter"
                },
                {
                  "hovertemplate": "Booster Version=F9 FT B1029.1<br>Payload Mass (kg)=%{x}<br>class=%{y}<extra></extra>",
                  "legendgroup": "F9 FT B1029.1",
                  "marker": {
                    "color": "#FFA15A",
                    "symbol": "circle"
                  },
                  "mode": "markers",
                  "name": "F9 FT B1029.1",
                  "orientation": "v",
                  "showlegend": true,
                  "x": [
                    9600
                  ],
                  "xaxis": "x",
                  "y": [
                    1
                  ],
                  "yaxis": "y",
                  "type": "scatter"
                },
                {
                  "hovertemplate": "Booster Version=F9 FT B1036.1<br>Payload Mass (kg)=%{x}<br>class=%{y}<extra></extra>",
                  "legendgroup": "F9 FT B1036.1",
                  "marker": {
                    "color": "#19d3f3",
                    "symbol": "circle"
                  },
                  "mode": "markers",
                  "name": "F9 FT B1036.1",
                  "orientation": "v",
                  "showlegend": true,
                  "x": [
                    9600
                  ],
                  "xaxis": "x",
                  "y": [
                    1
                  ],
                  "yaxis": "y",
                  "type": "scatter"
                },
                {
                  "hovertemplate": "Booster Version=F9 FT B1038.1<br>Payload Mass (kg)=%{x}<br>class=%{y}<extra></extra>",
                  "legendgroup": "F9 FT B1038.1",
                  "marker": {
                    "color": "#FF6692",
                    "symbol": "circle"
                  },
                  "mode": "markers",
                  "name": "F9 FT B1038.1",
                  "orientation": "v",
                  "showlegend": true,
                  "x": [
                    475
                  ],
                  "xaxis": "x",
                  "y": [
                    1
                  ],
                  "yaxis": "y",
                  "type": "scatter"
                },
                {
                  "hovertemplate": "Booster Version=F9 B4 B1041.1<br>Payload Mass (kg)=%{x}<br>class=%{y}<extra></extra>",
                  "legendgroup": "F9 B4 B1041.1",
                  "marker": {
                    "color": "#B6E880",
                    "symbol": "circle"
                  },
                  "mode": "markers",
                  "name": "F9 B4 B1041.1",
                  "orientation": "v",
                  "showlegend": true,
                  "x": [
                    9600
                  ],
                  "xaxis": "x",
                  "y": [
                    1
                  ],
                  "yaxis": "y",
                  "type": "scatter"
                },
                {
                  "hovertemplate": "Booster Version=F9 FT  B1036.2<br>Payload Mass (kg)=%{x}<br>class=%{y}<extra></extra>",
                  "legendgroup": "F9 FT  B1036.2",
                  "marker": {
                    "color": "#FF97FF",
                    "symbol": "circle"
                  },
                  "mode": "markers",
                  "name": "F9 FT  B1036.2",
                  "orientation": "v",
                  "showlegend": true,
                  "x": [
                    9600
                  ],
                  "xaxis": "x",
                  "y": [
                    0
                  ],
                  "yaxis": "y",
                  "type": "scatter"
                },
                {
                  "hovertemplate": "Booster Version=F9 FT  B1038.2<br>Payload Mass (kg)=%{x}<br>class=%{y}<extra></extra>",
                  "legendgroup": "F9 FT  B1038.2",
                  "marker": {
                    "color": "#FECB52",
                    "symbol": "circle"
                  },
                  "mode": "markers",
                  "name": "F9 FT  B1038.2",
                  "orientation": "v",
                  "showlegend": true,
                  "x": [
                    2150
                  ],
                  "xaxis": "x",
                  "y": [
                    0
                  ],
                  "yaxis": "y",
                  "type": "scatter"
                },
                {
                  "hovertemplate": "Booster Version=F9 B4  B1041.2<br>Payload Mass (kg)=%{x}<br>class=%{y}<extra></extra>",
                  "legendgroup": "F9 B4  B1041.2",
                  "marker": {
                    "color": "#636efa",
                    "symbol": "circle"
                  },
                  "mode": "markers",
                  "name": "F9 B4  B1041.2",
                  "orientation": "v",
                  "showlegend": true,
                  "x": [
                    9600
                  ],
                  "xaxis": "x",
                  "y": [
                    0
                  ],
                  "yaxis": "y",
                  "type": "scatter"
                },
                {
                  "hovertemplate": "Booster Version=F9 B4  B1043.2<br>Payload Mass (kg)=%{x}<br>class=%{y}<extra></extra>",
                  "legendgroup": "F9 B4  B1043.2",
                  "marker": {
                    "color": "#EF553B",
                    "symbol": "circle"
                  },
                  "mode": "markers",
                  "name": "F9 B4  B1043.2",
                  "orientation": "v",
                  "showlegend": true,
                  "x": [
                    6460
                  ],
                  "xaxis": "x",
                  "y": [
                    0
                  ],
                  "yaxis": "y",
                  "type": "scatter"
                },
                {
                  "hovertemplate": "Booster Version=F9 FT B1031.1<br>Payload Mass (kg)=%{x}<br>class=%{y}<extra></extra>",
                  "legendgroup": "F9 FT B1031.1",
                  "marker": {
                    "color": "#00cc96",
                    "symbol": "circle"
                  },
                  "mode": "markers",
                  "name": "F9 FT B1031.1",
                  "orientation": "v",
                  "showlegend": true,
                  "x": [
                    2490
                  ],
                  "xaxis": "x",
                  "y": [
                    1
                  ],
                  "yaxis": "y",
                  "type": "scatter"
                },
                {
                  "hovertemplate": "Booster Version=F9 FT B1030<br>Payload Mass (kg)=%{x}<br>class=%{y}<extra></extra>",
                  "legendgroup": "F9 FT B1030",
                  "marker": {
                    "color": "#ab63fa",
                    "symbol": "circle"
                  },
                  "mode": "markers",
                  "name": "F9 FT B1030",
                  "orientation": "v",
                  "showlegend": true,
                  "x": [
                    5600
                  ],
                  "xaxis": "x",
                  "y": [
                    0
                  ],
                  "yaxis": "y",
                  "type": "scatter"
                },
                {
                  "hovertemplate": "Booster Version=F9 FT  B1021.2<br>Payload Mass (kg)=%{x}<br>class=%{y}<extra></extra>",
                  "legendgroup": "F9 FT  B1021.2",
                  "marker": {
                    "color": "#FFA15A",
                    "symbol": "circle"
                  },
                  "mode": "markers",
                  "name": "F9 FT  B1021.2",
                  "orientation": "v",
                  "showlegend": true,
                  "x": [
                    5300
                  ],
                  "xaxis": "x",
                  "y": [
                    1
                  ],
                  "yaxis": "y",
                  "type": "scatter"
                },
                {
                  "hovertemplate": "Booster Version=F9 FT B1032.1<br>Payload Mass (kg)=%{x}<br>class=%{y}<extra></extra>",
                  "legendgroup": "F9 FT B1032.1",
                  "marker": {
                    "color": "#19d3f3",
                    "symbol": "circle"
                  },
                  "mode": "markers",
                  "name": "F9 FT B1032.1",
                  "orientation": "v",
                  "showlegend": true,
                  "x": [
                    3696.65
                  ],
                  "xaxis": "x",
                  "y": [
                    1
                  ],
                  "yaxis": "y",
                  "type": "scatter"
                },
                {
                  "hovertemplate": "Booster Version=F9 FT B1034<br>Payload Mass (kg)=%{x}<br>class=%{y}<extra></extra>",
                  "legendgroup": "F9 FT B1034",
                  "marker": {
                    "color": "#FF6692",
                    "symbol": "circle"
                  },
                  "mode": "markers",
                  "name": "F9 FT B1034",
                  "orientation": "v",
                  "showlegend": true,
                  "x": [
                    6070
                  ],
                  "xaxis": "x",
                  "y": [
                    0
                  ],
                  "yaxis": "y",
                  "type": "scatter"
                },
                {
                  "hovertemplate": "Booster Version=F9 FT B1035.1<br>Payload Mass (kg)=%{x}<br>class=%{y}<extra></extra>",
                  "legendgroup": "F9 FT B1035.1",
                  "marker": {
                    "color": "#B6E880",
                    "symbol": "circle"
                  },
                  "mode": "markers",
                  "name": "F9 FT B1035.1",
                  "orientation": "v",
                  "showlegend": true,
                  "x": [
                    2708
                  ],
                  "xaxis": "x",
                  "y": [
                    1
                  ],
                  "yaxis": "y",
                  "type": "scatter"
                },
                {
                  "hovertemplate": "Booster Version=F9 FT  B1029.2<br>Payload Mass (kg)=%{x}<br>class=%{y}<extra></extra>",
                  "legendgroup": "F9 FT  B1029.2",
                  "marker": {
                    "color": "#FF97FF",
                    "symbol": "circle"
                  },
                  "mode": "markers",
                  "name": "F9 FT  B1029.2",
                  "orientation": "v",
                  "showlegend": true,
                  "x": [
                    3669
                  ],
                  "xaxis": "x",
                  "y": [
                    1
                  ],
                  "yaxis": "y",
                  "type": "scatter"
                },
                {
                  "hovertemplate": "Booster Version=F9 FT B1037<br>Payload Mass (kg)=%{x}<br>class=%{y}<extra></extra>",
                  "legendgroup": "F9 FT B1037",
                  "marker": {
                    "color": "#FECB52",
                    "symbol": "circle"
                  },
                  "mode": "markers",
                  "name": "F9 FT B1037",
                  "orientation": "v",
                  "showlegend": true,
                  "x": [
                    6761
                  ],
                  "xaxis": "x",
                  "y": [
                    0
                  ],
                  "yaxis": "y",
                  "type": "scatter"
                },
                {
                  "hovertemplate": "Booster Version=F9 B4 B1039.1<br>Payload Mass (kg)=%{x}<br>class=%{y}<extra></extra>",
                  "legendgroup": "F9 B4 B1039.1",
                  "marker": {
                    "color": "#636efa",
                    "symbol": "circle"
                  },
                  "mode": "markers",
                  "name": "F9 B4 B1039.1",
                  "orientation": "v",
                  "showlegend": true,
                  "x": [
                    3310
                  ],
                  "xaxis": "x",
                  "y": [
                    1
                  ],
                  "yaxis": "y",
                  "type": "scatter"
                },
                {
                  "hovertemplate": "Booster Version=F9 B4 B1040.1<br>Payload Mass (kg)=%{x}<br>class=%{y}<extra></extra>",
                  "legendgroup": "F9 B4 B1040.1",
                  "marker": {
                    "color": "#EF553B",
                    "symbol": "circle"
                  },
                  "mode": "markers",
                  "name": "F9 B4 B1040.1",
                  "orientation": "v",
                  "showlegend": true,
                  "x": [
                    4990
                  ],
                  "xaxis": "x",
                  "y": [
                    1
                  ],
                  "yaxis": "y",
                  "type": "scatter"
                },
                {
                  "hovertemplate": "Booster Version=F9 FT  B1031.2<br>Payload Mass (kg)=%{x}<br>class=%{y}<extra></extra>",
                  "legendgroup": "F9 FT  B1031.2",
                  "marker": {
                    "color": "#00cc96",
                    "symbol": "circle"
                  },
                  "mode": "markers",
                  "name": "F9 FT  B1031.2",
                  "orientation": "v",
                  "showlegend": true,
                  "x": [
                    5200
                  ],
                  "xaxis": "x",
                  "y": [
                    1
                  ],
                  "yaxis": "y",
                  "type": "scatter"
                },
                {
                  "hovertemplate": "Booster Version=F9 B4 B1042.1<br>Payload Mass (kg)=%{x}<br>class=%{y}<extra></extra>",
                  "legendgroup": "F9 B4 B1042.1",
                  "marker": {
                    "color": "#ab63fa",
                    "symbol": "circle"
                  },
                  "mode": "markers",
                  "name": "F9 B4 B1042.1",
                  "orientation": "v",
                  "showlegend": true,
                  "x": [
                    3500
                  ],
                  "xaxis": "x",
                  "y": [
                    1
                  ],
                  "yaxis": "y",
                  "type": "scatter"
                },
                {
                  "hovertemplate": "Booster Version=F9 B5  B1046.1<br>Payload Mass (kg)=%{x}<br>class=%{y}<extra></extra>",
                  "legendgroup": "F9 B5  B1046.1",
                  "marker": {
                    "color": "#FFA15A",
                    "symbol": "circle"
                  },
                  "mode": "markers",
                  "name": "F9 B5  B1046.1",
                  "orientation": "v",
                  "showlegend": true,
                  "x": [
                    3600
                  ],
                  "xaxis": "x",
                  "y": [
                    1
                  ],
                  "yaxis": "y",
                  "type": "scatter"
                },
                {
                  "hovertemplate": "Booster Version=F9 FT  B1035.2<br>Payload Mass (kg)=%{x}<br>class=%{y}<extra></extra>",
                  "legendgroup": "F9 FT  B1035.2",
                  "marker": {
                    "color": "#19d3f3",
                    "symbol": "circle"
                  },
                  "mode": "markers",
                  "name": "F9 FT  B1035.2",
                  "orientation": "v",
                  "showlegend": true,
                  "x": [
                    2205
                  ],
                  "xaxis": "x",
                  "y": [
                    1
                  ],
                  "yaxis": "y",
                  "type": "scatter"
                },
                {
                  "hovertemplate": "Booster Version=F9 B4 B1043.1<br>Payload Mass (kg)=%{x}<br>class=%{y}<extra></extra>",
                  "legendgroup": "F9 B4 B1043.1",
                  "marker": {
                    "color": "#FF6692",
                    "symbol": "circle"
                  },
                  "mode": "markers",
                  "name": "F9 B4 B1043.1",
                  "orientation": "v",
                  "showlegend": true,
                  "x": [
                    3696.65
                  ],
                  "xaxis": "x",
                  "y": [
                    1
                  ],
                  "yaxis": "y",
                  "type": "scatter"
                },
                {
                  "hovertemplate": "Booster Version=F9 FT  B1032.2<br>Payload Mass (kg)=%{x}<br>class=%{y}<extra></extra>",
                  "legendgroup": "F9 FT  B1032.2",
                  "marker": {
                    "color": "#B6E880",
                    "symbol": "circle"
                  },
                  "mode": "markers",
                  "name": "F9 FT  B1032.2",
                  "orientation": "v",
                  "showlegend": true,
                  "x": [
                    4230
                  ],
                  "xaxis": "x",
                  "y": [
                    0
                  ],
                  "yaxis": "y",
                  "type": "scatter"
                },
                {
                  "hovertemplate": "Booster Version=F9 B4 B1044<br>Payload Mass (kg)=%{x}<br>class=%{y}<extra></extra>",
                  "legendgroup": "F9 B4 B1044",
                  "marker": {
                    "color": "#FF97FF",
                    "symbol": "circle"
                  },
                  "mode": "markers",
                  "name": "F9 B4 B1044",
                  "orientation": "v",
                  "showlegend": true,
                  "x": [
                    6092
                  ],
                  "xaxis": "x",
                  "y": [
                    0
                  ],
                  "yaxis": "y",
                  "type": "scatter"
                },
                {
                  "hovertemplate": "Booster Version=F9 B4  B1039.2<br>Payload Mass (kg)=%{x}<br>class=%{y}<extra></extra>",
                  "legendgroup": "F9 B4  B1039.2",
                  "marker": {
                    "color": "#FECB52",
                    "symbol": "circle"
                  },
                  "mode": "markers",
                  "name": "F9 B4  B1039.2",
                  "orientation": "v",
                  "showlegend": true,
                  "x": [
                    2647
                  ],
                  "xaxis": "x",
                  "y": [
                    0
                  ],
                  "yaxis": "y",
                  "type": "scatter"
                },
                {
                  "hovertemplate": "Booster Version=F9 B4 B1045.1<br>Payload Mass (kg)=%{x}<br>class=%{y}<extra></extra>",
                  "legendgroup": "F9 B4 B1045.1",
                  "marker": {
                    "color": "#636efa",
                    "symbol": "circle"
                  },
                  "mode": "markers",
                  "name": "F9 B4 B1045.1",
                  "orientation": "v",
                  "showlegend": true,
                  "x": [
                    362
                  ],
                  "xaxis": "x",
                  "y": [
                    1
                  ],
                  "yaxis": "y",
                  "type": "scatter"
                },
                {
                  "hovertemplate": "Booster Version=F9 B4  B1040.2<br>Payload Mass (kg)=%{x}<br>class=%{y}<extra></extra>",
                  "legendgroup": "F9 B4  B1040.2",
                  "marker": {
                    "color": "#EF553B",
                    "symbol": "circle"
                  },
                  "mode": "markers",
                  "name": "F9 B4  B1040.2",
                  "orientation": "v",
                  "showlegend": true,
                  "x": [
                    5384
                  ],
                  "xaxis": "x",
                  "y": [
                    0
                  ],
                  "yaxis": "y",
                  "type": "scatter"
                }
              ],
              "layout": {
                "template": {
                  "data": {
                    "histogram2dcontour": [
                      {
                        "type": "histogram2dcontour",
                        "colorbar": {
                          "outlinewidth": 0,
                          "ticks": ""
                        },
                        "colorscale": [
                          [
                            0,
                            "#0d0887"
                          ],
                          [
                            0.1111111111111111,
                            "#46039f"
                          ],
                          [
                            0.2222222222222222,
                            "#7201a8"
                          ],
                          [
                            0.3333333333333333,
                            "#9c179e"
                          ],
                          [
                            0.4444444444444444,
                            "#bd3786"
                          ],
                          [
                            0.5555555555555556,
                            "#d8576b"
                          ],
                          [
                            0.6666666666666666,
                            "#ed7953"
                          ],
                          [
                            0.7777777777777778,
                            "#fb9f3a"
                          ],
                          [
                            0.8888888888888888,
                            "#fdca26"
                          ],
                          [
                            1,
                            "#f0f921"
                          ]
                        ]
                      }
                    ],
                    "choropleth": [
                      {
                        "type": "choropleth",
                        "colorbar": {
                          "outlinewidth": 0,
                          "ticks": ""
                        }
                      }
                    ],
                    "histogram2d": [
                      {
                        "type": "histogram2d",
                        "colorbar": {
                          "outlinewidth": 0,
                          "ticks": ""
                        },
                        "colorscale": [
                          [
                            0,
                            "#0d0887"
                          ],
                          [
                            0.1111111111111111,
                            "#46039f"
                          ],
                          [
                            0.2222222222222222,
                            "#7201a8"
                          ],
                          [
                            0.3333333333333333,
                            "#9c179e"
                          ],
                          [
                            0.4444444444444444,
                            "#bd3786"
                          ],
                          [
                            0.5555555555555556,
                            "#d8576b"
                          ],
                          [
                            0.6666666666666666,
                            "#ed7953"
                          ],
                          [
                            0.7777777777777778,
                            "#fb9f3a"
                          ],
                          [
                            0.8888888888888888,
                            "#fdca26"
                          ],
                          [
                            1,
                            "#f0f921"
                          ]
                        ]
                      }
                    ],
                    "heatmap": [
                      {
                        "type": "heatmap",
                        "colorbar": {
                          "outlinewidth": 0,
                          "ticks": ""
                        },
                        "colorscale": [
                          [
                            0,
                            "#0d0887"
                          ],
                          [
                            0.1111111111111111,
                            "#46039f"
                          ],
                          [
                            0.2222222222222222,
                            "#7201a8"
                          ],
                          [
                            0.3333333333333333,
                            "#9c179e"
                          ],
                          [
                            0.4444444444444444,
                            "#bd3786"
                          ],
                          [
                            0.5555555555555556,
                            "#d8576b"
                          ],
                          [
                            0.6666666666666666,
                            "#ed7953"
                          ],
                          [
                            0.7777777777777778,
                            "#fb9f3a"
                          ],
                          [
                            0.8888888888888888,
                            "#fdca26"
                          ],
                          [
                            1,
                            "#f0f921"
                          ]
                        ]
                      }
                    ],
                    "heatmapgl": [
                      {
                        "type": "heatmapgl",
                        "colorbar": {
                          "outlinewidth": 0,
                          "ticks": ""
                        },
                        "colorscale": [
                          [
                            0,
                            "#0d0887"
                          ],
                          [
                            0.1111111111111111,
                            "#46039f"
                          ],
                          [
                            0.2222222222222222,
                            "#7201a8"
                          ],
                          [
                            0.3333333333333333,
                            "#9c179e"
                          ],
                          [
                            0.4444444444444444,
                            "#bd3786"
                          ],
                          [
                            0.5555555555555556,
                            "#d8576b"
                          ],
                          [
                            0.6666666666666666,
                            "#ed7953"
                          ],
                          [
                            0.7777777777777778,
                            "#fb9f3a"
                          ],
                          [
                            0.8888888888888888,
                            "#fdca26"
                          ],
                          [
                            1,
                            "#f0f921"
                          ]
                        ]
                      }
                    ],
                    "contourcarpet": [
                      {
                        "type": "contourcarpet",
                        "colorbar": {
                          "outlinewidth": 0,
                          "ticks": ""
                        }
                      }
                    ],
                    "contour": [
                      {
                        "type": "contour",
                        "colorbar": {
                          "outlinewidth": 0,
                          "ticks": ""
                        },
                        "colorscale": [
                          [
                            0,
                            "#0d0887"
                          ],
                          [
                            0.1111111111111111,
                            "#46039f"
                          ],
                          [
                            0.2222222222222222,
                            "#7201a8"
                          ],
                          [
                            0.3333333333333333,
                            "#9c179e"
                          ],
                          [
                            0.4444444444444444,
                            "#bd3786"
                          ],
                          [
                            0.5555555555555556,
                            "#d8576b"
                          ],
                          [
                            0.6666666666666666,
                            "#ed7953"
                          ],
                          [
                            0.7777777777777778,
                            "#fb9f3a"
                          ],
                          [
                            0.8888888888888888,
                            "#fdca26"
                          ],
                          [
                            1,
                            "#f0f921"
                          ]
                        ]
                      }
                    ],
                    "surface": [
                      {
                        "type": "surface",
                        "colorbar": {
                          "outlinewidth": 0,
                          "ticks": ""
                        },
                        "colorscale": [
                          [
                            0,
                            "#0d0887"
                          ],
                          [
                            0.1111111111111111,
                            "#46039f"
                          ],
                          [
                            0.2222222222222222,
                            "#7201a8"
                          ],
                          [
                            0.3333333333333333,
                            "#9c179e"
                          ],
                          [
                            0.4444444444444444,
                            "#bd3786"
                          ],
                          [
                            0.5555555555555556,
                            "#d8576b"
                          ],
                          [
                            0.6666666666666666,
                            "#ed7953"
                          ],
                          [
                            0.7777777777777778,
                            "#fb9f3a"
                          ],
                          [
                            0.8888888888888888,
                            "#fdca26"
                          ],
                          [
                            1,
                            "#f0f921"
                          ]
                        ]
                      }
                    ],
                    "mesh3d": [
                      {
                        "type": "mesh3d",
                        "colorbar": {
                          "outlinewidth": 0,
                          "ticks": ""
                        }
                      }
                    ],
                    "scatter": [
                      {
                        "fillpattern": {
                          "fillmode": "overlay",
                          "size": 10,
                          "solidity": 0.2
                        },
                        "type": "scatter"
                      }
                    ],
                    "parcoords": [
                      {
                        "type": "parcoords",
                        "line": {
                          "colorbar": {
                            "outlinewidth": 0,
                            "ticks": ""
                          }
                        }
                      }
                    ],
                    "scatterpolargl": [
                      {
                        "type": "scatterpolargl",
                        "marker": {
                          "colorbar": {
                            "outlinewidth": 0,
                            "ticks": ""
                          }
                        }
                      }
                    ],
                    "bar": [
                      {
                        "error_x": {
                          "color": "#2a3f5f"
                        },
                        "error_y": {
                          "color": "#2a3f5f"
                        },
                        "marker": {
                          "line": {
                            "color": "#E5ECF6",
                            "width": 0.5
                          },
                          "pattern": {
                            "fillmode": "overlay",
                            "size": 10,
                            "solidity": 0.2
                          }
                        },
                        "type": "bar"
                      }
                    ],
                    "scattergeo": [
                      {
                        "type": "scattergeo",
                        "marker": {
                          "colorbar": {
                            "outlinewidth": 0,
                            "ticks": ""
                          }
                        }
                      }
                    ],
                    "scatterpolar": [
                      {
                        "type": "scatterpolar",
                        "marker": {
                          "colorbar": {
                            "outlinewidth": 0,
                            "ticks": ""
                          }
                        }
                      }
                    ],
                    "histogram": [
                      {
                        "marker": {
                          "pattern": {
                            "fillmode": "overlay",
                            "size": 10,
                            "solidity": 0.2
                          }
                        },
                        "type": "histogram"
                      }
                    ],
                    "scattergl": [
                      {
                        "type": "scattergl",
                        "marker": {
                          "colorbar": {
                            "outlinewidth": 0,
                            "ticks": ""
                          }
                        }
                      }
                    ],
                    "scatter3d": [
                      {
                        "type": "scatter3d",
                        "line": {
                          "colorbar": {
                            "outlinewidth": 0,
                            "ticks": ""
                          }
                        },
                        "marker": {
                          "colorbar": {
                            "outlinewidth": 0,
                            "ticks": ""
                          }
                        }
                      }
                    ],
                    "scattermapbox": [
                      {
                        "type": "scattermapbox",
                        "marker": {
                          "colorbar": {
                            "outlinewidth": 0,
                            "ticks": ""
                          }
                        }
                      }
                    ],
                    "scatterternary": [
                      {
                        "type": "scatterternary",
                        "marker": {
                          "colorbar": {
                            "outlinewidth": 0,
                            "ticks": ""
                          }
                        }
                      }
                    ],
                    "scattercarpet": [
                      {
                        "type": "scattercarpet",
                        "marker": {
                          "colorbar": {
                            "outlinewidth": 0,
                            "ticks": ""
                          }
                        }
                      }
                    ],
                    "carpet": [
                      {
                        "aaxis": {
                          "endlinecolor": "#2a3f5f",
                          "gridcolor": "white",
                          "linecolor": "white",
                          "minorgridcolor": "white",
                          "startlinecolor": "#2a3f5f"
                        },
                        "baxis": {
                          "endlinecolor": "#2a3f5f",
                          "gridcolor": "white",
                          "linecolor": "white",
                          "minorgridcolor": "white",
                          "startlinecolor": "#2a3f5f"
                        },
                        "type": "carpet"
                      }
                    ],
                    "table": [
                      {
                        "cells": {
                          "fill": {
                            "color": "#EBF0F8"
                          },
                          "line": {
                            "color": "white"
                          }
                        },
                        "header": {
                          "fill": {
                            "color": "#C8D4E3"
                          },
                          "line": {
                            "color": "white"
                          }
                        },
                        "type": "table"
                      }
                    ],
                    "barpolar": [
                      {
                        "marker": {
                          "line": {
                            "color": "#E5ECF6",
                            "width": 0.5
                          },
                          "pattern": {
                            "fillmode": "overlay",
                            "size": 10,
                            "solidity": 0.2
                          }
                        },
                        "type": "barpolar"
                      }
                    ],
                    "pie": [
                      {
                        "automargin": true,
                        "type": "pie"
                      }
                    ]
                  },
                  "layout": {
                    "autotypenumbers": "strict",
                    "colorway": [
                      "#636efa",
                      "#EF553B",
                      "#00cc96",
                      "#ab63fa",
                      "#FFA15A",
                      "#19d3f3",
                      "#FF6692",
                      "#B6E880",
                      "#FF97FF",
                      "#FECB52"
                    ],
                    "font": {
                      "color": "#2a3f5f"
                    },
                    "hovermode": "closest",
                    "hoverlabel": {
                      "align": "left"
                    },
                    "paper_bgcolor": "white",
                    "plot_bgcolor": "#E5ECF6",
                    "polar": {
                      "bgcolor": "#E5ECF6",
                      "angularaxis": {
                        "gridcolor": "white",
                        "linecolor": "white",
                        "ticks": ""
                      },
                      "radialaxis": {
                        "gridcolor": "white",
                        "linecolor": "white",
                        "ticks": ""
                      }
                    },
                    "ternary": {
                      "bgcolor": "#E5ECF6",
                      "aaxis": {
                        "gridcolor": "white",
                        "linecolor": "white",
                        "ticks": ""
                      },
                      "baxis": {
                        "gridcolor": "white",
                        "linecolor": "white",
                        "ticks": ""
                      },
                      "caxis": {
                        "gridcolor": "white",
                        "linecolor": "white",
                        "ticks": ""
                      }
                    },
                    "coloraxis": {
                      "colorbar": {
                        "outlinewidth": 0,
                        "ticks": ""
                      }
                    },
                    "colorscale": {
                      "sequential": [
                        [
                          0,
                          "#0d0887"
                        ],
                        [
                          0.1111111111111111,
                          "#46039f"
                        ],
                        [
                          0.2222222222222222,
                          "#7201a8"
                        ],
                        [
                          0.3333333333333333,
                          "#9c179e"
                        ],
                        [
                          0.4444444444444444,
                          "#bd3786"
                        ],
                        [
                          0.5555555555555556,
                          "#d8576b"
                        ],
                        [
                          0.6666666666666666,
                          "#ed7953"
                        ],
                        [
                          0.7777777777777778,
                          "#fb9f3a"
                        ],
                        [
                          0.8888888888888888,
                          "#fdca26"
                        ],
                        [
                          1,
                          "#f0f921"
                        ]
                      ],
                      "sequentialminus": [
                        [
                          0,
                          "#0d0887"
                        ],
                        [
                          0.1111111111111111,
                          "#46039f"
                        ],
                        [
                          0.2222222222222222,
                          "#7201a8"
                        ],
                        [
                          0.3333333333333333,
                          "#9c179e"
                        ],
                        [
                          0.4444444444444444,
                          "#bd3786"
                        ],
                        [
                          0.5555555555555556,
                          "#d8576b"
                        ],
                        [
                          0.6666666666666666,
                          "#ed7953"
                        ],
                        [
                          0.7777777777777778,
                          "#fb9f3a"
                        ],
                        [
                          0.8888888888888888,
                          "#fdca26"
                        ],
                        [
                          1,
                          "#f0f921"
                        ]
                      ],
                      "diverging": [
                        [
                          0,
                          "#8e0152"
                        ],
                        [
                          0.1,
                          "#c51b7d"
                        ],
                        [
                          0.2,
                          "#de77ae"
                        ],
                        [
                          0.3,
                          "#f1b6da"
                        ],
                        [
                          0.4,
                          "#fde0ef"
                        ],
                        [
                          0.5,
                          "#f7f7f7"
                        ],
                        [
                          0.6,
                          "#e6f5d0"
                        ],
                        [
                          0.7,
                          "#b8e186"
                        ],
                        [
                          0.8,
                          "#7fbc41"
                        ],
                        [
                          0.9,
                          "#4d9221"
                        ],
                        [
                          1,
                          "#276419"
                        ]
                      ]
                    },
                    "xaxis": {
                      "gridcolor": "white",
                      "linecolor": "white",
                      "ticks": "",
                      "title": {
                        "standoff": 15
                      },
                      "zerolinecolor": "white",
                      "automargin": true,
                      "zerolinewidth": 2
                    },
                    "yaxis": {
                      "gridcolor": "white",
                      "linecolor": "white",
                      "ticks": "",
                      "title": {
                        "standoff": 15
                      },
                      "zerolinecolor": "white",
                      "automargin": true,
                      "zerolinewidth": 2
                    },
                    "scene": {
                      "xaxis": {
                        "backgroundcolor": "#E5ECF6",
                        "gridcolor": "white",
                        "linecolor": "white",
                        "showbackground": true,
                        "ticks": "",
                        "zerolinecolor": "white",
                        "gridwidth": 2
                      },
                      "yaxis": {
                        "backgroundcolor": "#E5ECF6",
                        "gridcolor": "white",
                        "linecolor": "white",
                        "showbackground": true,
                        "ticks": "",
                        "zerolinecolor": "white",
                        "gridwidth": 2
                      },
                      "zaxis": {
                        "backgroundcolor": "#E5ECF6",
                        "gridcolor": "white",
                        "linecolor": "white",
                        "showbackground": true,
                        "ticks": "",
                        "zerolinecolor": "white",
                        "gridwidth": 2
                      }
                    },
                    "shapedefaults": {
                      "line": {
                        "color": "#2a3f5f"
                      }
                    },
                    "annotationdefaults": {
                      "arrowcolor": "#2a3f5f",
                      "arrowhead": 0,
                      "arrowwidth": 1
                    },
                    "geo": {
                      "bgcolor": "white",
                      "landcolor": "#E5ECF6",
                      "subunitcolor": "white",
                      "showland": true,
                      "showlakes": true,
                      "lakecolor": "white"
                    },
                    "title": {
                      "x": 0.05
                    },
                    "mapbox": {
                      "style": "light"
                    }
                  }
                },
                "xaxis": {
                  "anchor": "y",
                  "domain": [
                    0,
                    1
                  ],
                  "title": {
                    "text": "Payload Mass (kg)"
                  },
                  "type": "linear",
                  "range": [
                    -664.9555774925963,
                    10264.955577492596
                  ],
                  "autorange": true
                },
                "yaxis": {
                  "anchor": "x",
                  "domain": [
                    0,
                    1
                  ],
                  "title": {
                    "text": "class"
                  },
                  "type": "linear",
                  "range": [
                    -0.0774278215223097,
                    1.0774278215223096
                  ],
                  "autorange": true
                },
                "legend": {
                  "title": {
                    "text": "Booster Version"
                  },
                  "tracegroupgap": 0
                },
                "margin": {
                  "t": 60
                },
                "autosize": true
              },
              "config": {
                "plotlyServerURL": "https://plot.ly"
              }
            },
            "text/html": "<div>                            <div id=\"7bd9afee-a802-448b-a975-b99a9b2dd079\" class=\"plotly-graph-div\" style=\"height:525px; width:100%;\"></div>            <script type=\"text/javascript\">                require([\"plotly\"], function(Plotly) {                    window.PLOTLYENV=window.PLOTLYENV || {};                                    if (document.getElementById(\"7bd9afee-a802-448b-a975-b99a9b2dd079\")) {                    Plotly.newPlot(                        \"7bd9afee-a802-448b-a975-b99a9b2dd079\",                        [{\"hovertemplate\":\"Booster Version=F9 v1.0  B0003\\u003cbr\\u003ePayload Mass (kg)=%{x}\\u003cbr\\u003eclass=%{y}\\u003cextra\\u003e\\u003c\\u002fextra\\u003e\",\"legendgroup\":\"F9 v1.0  B0003\",\"marker\":{\"color\":\"#636efa\",\"symbol\":\"circle\"},\"mode\":\"markers\",\"name\":\"F9 v1.0  B0003\",\"orientation\":\"v\",\"showlegend\":true,\"x\":[0.0],\"xaxis\":\"x\",\"y\":[0],\"yaxis\":\"y\",\"type\":\"scatter\"},{\"hovertemplate\":\"Booster Version=F9 v1.0  B0004\\u003cbr\\u003ePayload Mass (kg)=%{x}\\u003cbr\\u003eclass=%{y}\\u003cextra\\u003e\\u003c\\u002fextra\\u003e\",\"legendgroup\":\"F9 v1.0  B0004\",\"marker\":{\"color\":\"#EF553B\",\"symbol\":\"circle\"},\"mode\":\"markers\",\"name\":\"F9 v1.0  B0004\",\"orientation\":\"v\",\"showlegend\":true,\"x\":[0.0],\"xaxis\":\"x\",\"y\":[0],\"yaxis\":\"y\",\"type\":\"scatter\"},{\"hovertemplate\":\"Booster Version=F9 v1.0  B0005\\u003cbr\\u003ePayload Mass (kg)=%{x}\\u003cbr\\u003eclass=%{y}\\u003cextra\\u003e\\u003c\\u002fextra\\u003e\",\"legendgroup\":\"F9 v1.0  B0005\",\"marker\":{\"color\":\"#00cc96\",\"symbol\":\"circle\"},\"mode\":\"markers\",\"name\":\"F9 v1.0  B0005\",\"orientation\":\"v\",\"showlegend\":true,\"x\":[525.0],\"xaxis\":\"x\",\"y\":[0],\"yaxis\":\"y\",\"type\":\"scatter\"},{\"hovertemplate\":\"Booster Version=F9 v1.0  B0006\\u003cbr\\u003ePayload Mass (kg)=%{x}\\u003cbr\\u003eclass=%{y}\\u003cextra\\u003e\\u003c\\u002fextra\\u003e\",\"legendgroup\":\"F9 v1.0  B0006\",\"marker\":{\"color\":\"#ab63fa\",\"symbol\":\"circle\"},\"mode\":\"markers\",\"name\":\"F9 v1.0  B0006\",\"orientation\":\"v\",\"showlegend\":true,\"x\":[500.0],\"xaxis\":\"x\",\"y\":[0],\"yaxis\":\"y\",\"type\":\"scatter\"},{\"hovertemplate\":\"Booster Version=F9 v1.0  B0007\\u003cbr\\u003ePayload Mass (kg)=%{x}\\u003cbr\\u003eclass=%{y}\\u003cextra\\u003e\\u003c\\u002fextra\\u003e\",\"legendgroup\":\"F9 v1.0  B0007\",\"marker\":{\"color\":\"#FFA15A\",\"symbol\":\"circle\"},\"mode\":\"markers\",\"name\":\"F9 v1.0  B0007\",\"orientation\":\"v\",\"showlegend\":true,\"x\":[677.0],\"xaxis\":\"x\",\"y\":[0],\"yaxis\":\"y\",\"type\":\"scatter\"},{\"hovertemplate\":\"Booster Version=F9 v1.1\\u003cbr\\u003ePayload Mass (kg)=%{x}\\u003cbr\\u003eclass=%{y}\\u003cextra\\u003e\\u003c\\u002fextra\\u003e\",\"legendgroup\":\"F9 v1.1\",\"marker\":{\"color\":\"#19d3f3\",\"symbol\":\"circle\"},\"mode\":\"markers\",\"name\":\"F9 v1.1\",\"orientation\":\"v\",\"showlegend\":true,\"x\":[3170.0,3325.0,2296.0,1316.0,4535.0],\"xaxis\":\"x\",\"y\":[0,0,0,0,0],\"yaxis\":\"y\",\"type\":\"scatter\"},{\"hovertemplate\":\"Booster Version=F9 v1.1 B1011\\u003cbr\\u003ePayload Mass (kg)=%{x}\\u003cbr\\u003eclass=%{y}\\u003cextra\\u003e\\u003c\\u002fextra\\u003e\",\"legendgroup\":\"F9 v1.1 B1011\",\"marker\":{\"color\":\"#FF6692\",\"symbol\":\"circle\"},\"mode\":\"markers\",\"name\":\"F9 v1.1 B1011\",\"orientation\":\"v\",\"showlegend\":true,\"x\":[4428.0],\"xaxis\":\"x\",\"y\":[0],\"yaxis\":\"y\",\"type\":\"scatter\"},{\"hovertemplate\":\"Booster Version=F9 v1.1 B1010\\u003cbr\\u003ePayload Mass (kg)=%{x}\\u003cbr\\u003eclass=%{y}\\u003cextra\\u003e\\u003c\\u002fextra\\u003e\",\"legendgroup\":\"F9 v1.1 B1010\",\"marker\":{\"color\":\"#B6E880\",\"symbol\":\"circle\"},\"mode\":\"markers\",\"name\":\"F9 v1.1 B1010\",\"orientation\":\"v\",\"showlegend\":true,\"x\":[2216.0],\"xaxis\":\"x\",\"y\":[0],\"yaxis\":\"y\",\"type\":\"scatter\"},{\"hovertemplate\":\"Booster Version=F9 v1.1 B1012\\u003cbr\\u003ePayload Mass (kg)=%{x}\\u003cbr\\u003eclass=%{y}\\u003cextra\\u003e\\u003c\\u002fextra\\u003e\",\"legendgroup\":\"F9 v1.1 B1012\",\"marker\":{\"color\":\"#FF97FF\",\"symbol\":\"circle\"},\"mode\":\"markers\",\"name\":\"F9 v1.1 B1012\",\"orientation\":\"v\",\"showlegend\":true,\"x\":[2395.0],\"xaxis\":\"x\",\"y\":[0],\"yaxis\":\"y\",\"type\":\"scatter\"},{\"hovertemplate\":\"Booster Version=F9 v1.1 B1013\\u003cbr\\u003ePayload Mass (kg)=%{x}\\u003cbr\\u003eclass=%{y}\\u003cextra\\u003e\\u003c\\u002fextra\\u003e\",\"legendgroup\":\"F9 v1.1 B1013\",\"marker\":{\"color\":\"#FECB52\",\"symbol\":\"circle\"},\"mode\":\"markers\",\"name\":\"F9 v1.1 B1013\",\"orientation\":\"v\",\"showlegend\":true,\"x\":[570.0],\"xaxis\":\"x\",\"y\":[0],\"yaxis\":\"y\",\"type\":\"scatter\"},{\"hovertemplate\":\"Booster Version=F9 v1.1 B1014\\u003cbr\\u003ePayload Mass (kg)=%{x}\\u003cbr\\u003eclass=%{y}\\u003cextra\\u003e\\u003c\\u002fextra\\u003e\",\"legendgroup\":\"F9 v1.1 B1014\",\"marker\":{\"color\":\"#636efa\",\"symbol\":\"circle\"},\"mode\":\"markers\",\"name\":\"F9 v1.1 B1014\",\"orientation\":\"v\",\"showlegend\":true,\"x\":[4159.0],\"xaxis\":\"x\",\"y\":[0],\"yaxis\":\"y\",\"type\":\"scatter\"},{\"hovertemplate\":\"Booster Version=F9 v1.1 B1015\\u003cbr\\u003ePayload Mass (kg)=%{x}\\u003cbr\\u003eclass=%{y}\\u003cextra\\u003e\\u003c\\u002fextra\\u003e\",\"legendgroup\":\"F9 v1.1 B1015\",\"marker\":{\"color\":\"#EF553B\",\"symbol\":\"circle\"},\"mode\":\"markers\",\"name\":\"F9 v1.1 B1015\",\"orientation\":\"v\",\"showlegend\":true,\"x\":[1898.0],\"xaxis\":\"x\",\"y\":[0],\"yaxis\":\"y\",\"type\":\"scatter\"},{\"hovertemplate\":\"Booster Version=F9 v1.1 B1016\\u003cbr\\u003ePayload Mass (kg)=%{x}\\u003cbr\\u003eclass=%{y}\\u003cextra\\u003e\\u003c\\u002fextra\\u003e\",\"legendgroup\":\"F9 v1.1 B1016\",\"marker\":{\"color\":\"#00cc96\",\"symbol\":\"circle\"},\"mode\":\"markers\",\"name\":\"F9 v1.1 B1016\",\"orientation\":\"v\",\"showlegend\":true,\"x\":[4707.0],\"xaxis\":\"x\",\"y\":[0],\"yaxis\":\"y\",\"type\":\"scatter\"},{\"hovertemplate\":\"Booster Version=F9 v1.1 B1018\\u003cbr\\u003ePayload Mass (kg)=%{x}\\u003cbr\\u003eclass=%{y}\\u003cextra\\u003e\\u003c\\u002fextra\\u003e\",\"legendgroup\":\"F9 v1.1 B1018\",\"marker\":{\"color\":\"#ab63fa\",\"symbol\":\"circle\"},\"mode\":\"markers\",\"name\":\"F9 v1.1 B1018\",\"orientation\":\"v\",\"showlegend\":true,\"x\":[1952.0],\"xaxis\":\"x\",\"y\":[1],\"yaxis\":\"y\",\"type\":\"scatter\"},{\"hovertemplate\":\"Booster Version=F9 FT B1019\\u003cbr\\u003ePayload Mass (kg)=%{x}\\u003cbr\\u003eclass=%{y}\\u003cextra\\u003e\\u003c\\u002fextra\\u003e\",\"legendgroup\":\"F9 FT B1019\",\"marker\":{\"color\":\"#FFA15A\",\"symbol\":\"circle\"},\"mode\":\"markers\",\"name\":\"F9 FT B1019\",\"orientation\":\"v\",\"showlegend\":true,\"x\":[2034.0],\"xaxis\":\"x\",\"y\":[1],\"yaxis\":\"y\",\"type\":\"scatter\"},{\"hovertemplate\":\"Booster Version=F9 FT B1020\\u003cbr\\u003ePayload Mass (kg)=%{x}\\u003cbr\\u003eclass=%{y}\\u003cextra\\u003e\\u003c\\u002fextra\\u003e\",\"legendgroup\":\"F9 FT B1020\",\"marker\":{\"color\":\"#19d3f3\",\"symbol\":\"circle\"},\"mode\":\"markers\",\"name\":\"F9 FT B1020\",\"orientation\":\"v\",\"showlegend\":true,\"x\":[5271.0],\"xaxis\":\"x\",\"y\":[0],\"yaxis\":\"y\",\"type\":\"scatter\"},{\"hovertemplate\":\"Booster Version=F9 FT B1021.1\\u003cbr\\u003ePayload Mass (kg)=%{x}\\u003cbr\\u003eclass=%{y}\\u003cextra\\u003e\\u003c\\u002fextra\\u003e\",\"legendgroup\":\"F9 FT B1021.1\",\"marker\":{\"color\":\"#FF6692\",\"symbol\":\"circle\"},\"mode\":\"markers\",\"name\":\"F9 FT B1021.1\",\"orientation\":\"v\",\"showlegend\":true,\"x\":[3136.0],\"xaxis\":\"x\",\"y\":[1],\"yaxis\":\"y\",\"type\":\"scatter\"},{\"hovertemplate\":\"Booster Version=F9 FT B1022\\u003cbr\\u003ePayload Mass (kg)=%{x}\\u003cbr\\u003eclass=%{y}\\u003cextra\\u003e\\u003c\\u002fextra\\u003e\",\"legendgroup\":\"F9 FT B1022\",\"marker\":{\"color\":\"#B6E880\",\"symbol\":\"circle\"},\"mode\":\"markers\",\"name\":\"F9 FT B1022\",\"orientation\":\"v\",\"showlegend\":true,\"x\":[4696.0],\"xaxis\":\"x\",\"y\":[1],\"yaxis\":\"y\",\"type\":\"scatter\"},{\"hovertemplate\":\"Booster Version=F9 FT B1023.1\\u003cbr\\u003ePayload Mass (kg)=%{x}\\u003cbr\\u003eclass=%{y}\\u003cextra\\u003e\\u003c\\u002fextra\\u003e\",\"legendgroup\":\"F9 FT B1023.1\",\"marker\":{\"color\":\"#FF97FF\",\"symbol\":\"circle\"},\"mode\":\"markers\",\"name\":\"F9 FT B1023.1\",\"orientation\":\"v\",\"showlegend\":true,\"x\":[3100.0],\"xaxis\":\"x\",\"y\":[1],\"yaxis\":\"y\",\"type\":\"scatter\"},{\"hovertemplate\":\"Booster Version=F9 FT B1024\\u003cbr\\u003ePayload Mass (kg)=%{x}\\u003cbr\\u003eclass=%{y}\\u003cextra\\u003e\\u003c\\u002fextra\\u003e\",\"legendgroup\":\"F9 FT B1024\",\"marker\":{\"color\":\"#FECB52\",\"symbol\":\"circle\"},\"mode\":\"markers\",\"name\":\"F9 FT B1024\",\"orientation\":\"v\",\"showlegend\":true,\"x\":[3600.0],\"xaxis\":\"x\",\"y\":[0],\"yaxis\":\"y\",\"type\":\"scatter\"},{\"hovertemplate\":\"Booster Version=F9 FT B1025.1\\u003cbr\\u003ePayload Mass (kg)=%{x}\\u003cbr\\u003eclass=%{y}\\u003cextra\\u003e\\u003c\\u002fextra\\u003e\",\"legendgroup\":\"F9 FT B1025.1\",\"marker\":{\"color\":\"#636efa\",\"symbol\":\"circle\"},\"mode\":\"markers\",\"name\":\"F9 FT B1025.1\",\"orientation\":\"v\",\"showlegend\":true,\"x\":[2257.0],\"xaxis\":\"x\",\"y\":[1],\"yaxis\":\"y\",\"type\":\"scatter\"},{\"hovertemplate\":\"Booster Version=F9 FT B1026\\u003cbr\\u003ePayload Mass (kg)=%{x}\\u003cbr\\u003eclass=%{y}\\u003cextra\\u003e\\u003c\\u002fextra\\u003e\",\"legendgroup\":\"F9 FT B1026\",\"marker\":{\"color\":\"#EF553B\",\"symbol\":\"circle\"},\"mode\":\"markers\",\"name\":\"F9 FT B1026\",\"orientation\":\"v\",\"showlegend\":true,\"x\":[4600.0],\"xaxis\":\"x\",\"y\":[1],\"yaxis\":\"y\",\"type\":\"scatter\"},{\"hovertemplate\":\"Booster Version=F9 v1.1  B1003\\u003cbr\\u003ePayload Mass (kg)=%{x}\\u003cbr\\u003eclass=%{y}\\u003cextra\\u003e\\u003c\\u002fextra\\u003e\",\"legendgroup\":\"F9 v1.1  B1003\",\"marker\":{\"color\":\"#00cc96\",\"symbol\":\"circle\"},\"mode\":\"markers\",\"name\":\"F9 v1.1  B1003\",\"orientation\":\"v\",\"showlegend\":true,\"x\":[500.0],\"xaxis\":\"x\",\"y\":[0],\"yaxis\":\"y\",\"type\":\"scatter\"},{\"hovertemplate\":\"Booster Version=F9 v1.1 B1017\\u003cbr\\u003ePayload Mass (kg)=%{x}\\u003cbr\\u003eclass=%{y}\\u003cextra\\u003e\\u003c\\u002fextra\\u003e\",\"legendgroup\":\"F9 v1.1 B1017\",\"marker\":{\"color\":\"#ab63fa\",\"symbol\":\"circle\"},\"mode\":\"markers\",\"name\":\"F9 v1.1 B1017\",\"orientation\":\"v\",\"showlegend\":true,\"x\":[553.0],\"xaxis\":\"x\",\"y\":[0],\"yaxis\":\"y\",\"type\":\"scatter\"},{\"hovertemplate\":\"Booster Version=F9 FT B1029.1\\u003cbr\\u003ePayload Mass (kg)=%{x}\\u003cbr\\u003eclass=%{y}\\u003cextra\\u003e\\u003c\\u002fextra\\u003e\",\"legendgroup\":\"F9 FT B1029.1\",\"marker\":{\"color\":\"#FFA15A\",\"symbol\":\"circle\"},\"mode\":\"markers\",\"name\":\"F9 FT B1029.1\",\"orientation\":\"v\",\"showlegend\":true,\"x\":[9600.0],\"xaxis\":\"x\",\"y\":[1],\"yaxis\":\"y\",\"type\":\"scatter\"},{\"hovertemplate\":\"Booster Version=F9 FT B1036.1\\u003cbr\\u003ePayload Mass (kg)=%{x}\\u003cbr\\u003eclass=%{y}\\u003cextra\\u003e\\u003c\\u002fextra\\u003e\",\"legendgroup\":\"F9 FT B1036.1\",\"marker\":{\"color\":\"#19d3f3\",\"symbol\":\"circle\"},\"mode\":\"markers\",\"name\":\"F9 FT B1036.1\",\"orientation\":\"v\",\"showlegend\":true,\"x\":[9600.0],\"xaxis\":\"x\",\"y\":[1],\"yaxis\":\"y\",\"type\":\"scatter\"},{\"hovertemplate\":\"Booster Version=F9 FT B1038.1\\u003cbr\\u003ePayload Mass (kg)=%{x}\\u003cbr\\u003eclass=%{y}\\u003cextra\\u003e\\u003c\\u002fextra\\u003e\",\"legendgroup\":\"F9 FT B1038.1\",\"marker\":{\"color\":\"#FF6692\",\"symbol\":\"circle\"},\"mode\":\"markers\",\"name\":\"F9 FT B1038.1\",\"orientation\":\"v\",\"showlegend\":true,\"x\":[475.0],\"xaxis\":\"x\",\"y\":[1],\"yaxis\":\"y\",\"type\":\"scatter\"},{\"hovertemplate\":\"Booster Version=F9 B4 B1041.1\\u003cbr\\u003ePayload Mass (kg)=%{x}\\u003cbr\\u003eclass=%{y}\\u003cextra\\u003e\\u003c\\u002fextra\\u003e\",\"legendgroup\":\"F9 B4 B1041.1\",\"marker\":{\"color\":\"#B6E880\",\"symbol\":\"circle\"},\"mode\":\"markers\",\"name\":\"F9 B4 B1041.1\",\"orientation\":\"v\",\"showlegend\":true,\"x\":[9600.0],\"xaxis\":\"x\",\"y\":[1],\"yaxis\":\"y\",\"type\":\"scatter\"},{\"hovertemplate\":\"Booster Version=F9 FT  B1036.2\\u003cbr\\u003ePayload Mass (kg)=%{x}\\u003cbr\\u003eclass=%{y}\\u003cextra\\u003e\\u003c\\u002fextra\\u003e\",\"legendgroup\":\"F9 FT  B1036.2\",\"marker\":{\"color\":\"#FF97FF\",\"symbol\":\"circle\"},\"mode\":\"markers\",\"name\":\"F9 FT  B1036.2\",\"orientation\":\"v\",\"showlegend\":true,\"x\":[9600.0],\"xaxis\":\"x\",\"y\":[0],\"yaxis\":\"y\",\"type\":\"scatter\"},{\"hovertemplate\":\"Booster Version=F9 FT  B1038.2\\u003cbr\\u003ePayload Mass (kg)=%{x}\\u003cbr\\u003eclass=%{y}\\u003cextra\\u003e\\u003c\\u002fextra\\u003e\",\"legendgroup\":\"F9 FT  B1038.2\",\"marker\":{\"color\":\"#FECB52\",\"symbol\":\"circle\"},\"mode\":\"markers\",\"name\":\"F9 FT  B1038.2\",\"orientation\":\"v\",\"showlegend\":true,\"x\":[2150.0],\"xaxis\":\"x\",\"y\":[0],\"yaxis\":\"y\",\"type\":\"scatter\"},{\"hovertemplate\":\"Booster Version=F9 B4  B1041.2\\u003cbr\\u003ePayload Mass (kg)=%{x}\\u003cbr\\u003eclass=%{y}\\u003cextra\\u003e\\u003c\\u002fextra\\u003e\",\"legendgroup\":\"F9 B4  B1041.2\",\"marker\":{\"color\":\"#636efa\",\"symbol\":\"circle\"},\"mode\":\"markers\",\"name\":\"F9 B4  B1041.2\",\"orientation\":\"v\",\"showlegend\":true,\"x\":[9600.0],\"xaxis\":\"x\",\"y\":[0],\"yaxis\":\"y\",\"type\":\"scatter\"},{\"hovertemplate\":\"Booster Version=F9 B4  B1043.2\\u003cbr\\u003ePayload Mass (kg)=%{x}\\u003cbr\\u003eclass=%{y}\\u003cextra\\u003e\\u003c\\u002fextra\\u003e\",\"legendgroup\":\"F9 B4  B1043.2\",\"marker\":{\"color\":\"#EF553B\",\"symbol\":\"circle\"},\"mode\":\"markers\",\"name\":\"F9 B4  B1043.2\",\"orientation\":\"v\",\"showlegend\":true,\"x\":[6460.0],\"xaxis\":\"x\",\"y\":[0],\"yaxis\":\"y\",\"type\":\"scatter\"},{\"hovertemplate\":\"Booster Version=F9 FT B1031.1\\u003cbr\\u003ePayload Mass (kg)=%{x}\\u003cbr\\u003eclass=%{y}\\u003cextra\\u003e\\u003c\\u002fextra\\u003e\",\"legendgroup\":\"F9 FT B1031.1\",\"marker\":{\"color\":\"#00cc96\",\"symbol\":\"circle\"},\"mode\":\"markers\",\"name\":\"F9 FT B1031.1\",\"orientation\":\"v\",\"showlegend\":true,\"x\":[2490.0],\"xaxis\":\"x\",\"y\":[1],\"yaxis\":\"y\",\"type\":\"scatter\"},{\"hovertemplate\":\"Booster Version=F9 FT B1030\\u003cbr\\u003ePayload Mass (kg)=%{x}\\u003cbr\\u003eclass=%{y}\\u003cextra\\u003e\\u003c\\u002fextra\\u003e\",\"legendgroup\":\"F9 FT B1030\",\"marker\":{\"color\":\"#ab63fa\",\"symbol\":\"circle\"},\"mode\":\"markers\",\"name\":\"F9 FT B1030\",\"orientation\":\"v\",\"showlegend\":true,\"x\":[5600.0],\"xaxis\":\"x\",\"y\":[0],\"yaxis\":\"y\",\"type\":\"scatter\"},{\"hovertemplate\":\"Booster Version=F9 FT  B1021.2\\u003cbr\\u003ePayload Mass (kg)=%{x}\\u003cbr\\u003eclass=%{y}\\u003cextra\\u003e\\u003c\\u002fextra\\u003e\",\"legendgroup\":\"F9 FT  B1021.2\",\"marker\":{\"color\":\"#FFA15A\",\"symbol\":\"circle\"},\"mode\":\"markers\",\"name\":\"F9 FT  B1021.2\",\"orientation\":\"v\",\"showlegend\":true,\"x\":[5300.0],\"xaxis\":\"x\",\"y\":[1],\"yaxis\":\"y\",\"type\":\"scatter\"},{\"hovertemplate\":\"Booster Version=F9 FT B1032.1\\u003cbr\\u003ePayload Mass (kg)=%{x}\\u003cbr\\u003eclass=%{y}\\u003cextra\\u003e\\u003c\\u002fextra\\u003e\",\"legendgroup\":\"F9 FT B1032.1\",\"marker\":{\"color\":\"#19d3f3\",\"symbol\":\"circle\"},\"mode\":\"markers\",\"name\":\"F9 FT B1032.1\",\"orientation\":\"v\",\"showlegend\":true,\"x\":[3696.65],\"xaxis\":\"x\",\"y\":[1],\"yaxis\":\"y\",\"type\":\"scatter\"},{\"hovertemplate\":\"Booster Version=F9 FT B1034\\u003cbr\\u003ePayload Mass (kg)=%{x}\\u003cbr\\u003eclass=%{y}\\u003cextra\\u003e\\u003c\\u002fextra\\u003e\",\"legendgroup\":\"F9 FT B1034\",\"marker\":{\"color\":\"#FF6692\",\"symbol\":\"circle\"},\"mode\":\"markers\",\"name\":\"F9 FT B1034\",\"orientation\":\"v\",\"showlegend\":true,\"x\":[6070.0],\"xaxis\":\"x\",\"y\":[0],\"yaxis\":\"y\",\"type\":\"scatter\"},{\"hovertemplate\":\"Booster Version=F9 FT B1035.1\\u003cbr\\u003ePayload Mass (kg)=%{x}\\u003cbr\\u003eclass=%{y}\\u003cextra\\u003e\\u003c\\u002fextra\\u003e\",\"legendgroup\":\"F9 FT B1035.1\",\"marker\":{\"color\":\"#B6E880\",\"symbol\":\"circle\"},\"mode\":\"markers\",\"name\":\"F9 FT B1035.1\",\"orientation\":\"v\",\"showlegend\":true,\"x\":[2708.0],\"xaxis\":\"x\",\"y\":[1],\"yaxis\":\"y\",\"type\":\"scatter\"},{\"hovertemplate\":\"Booster Version=F9 FT  B1029.2\\u003cbr\\u003ePayload Mass (kg)=%{x}\\u003cbr\\u003eclass=%{y}\\u003cextra\\u003e\\u003c\\u002fextra\\u003e\",\"legendgroup\":\"F9 FT  B1029.2\",\"marker\":{\"color\":\"#FF97FF\",\"symbol\":\"circle\"},\"mode\":\"markers\",\"name\":\"F9 FT  B1029.2\",\"orientation\":\"v\",\"showlegend\":true,\"x\":[3669.0],\"xaxis\":\"x\",\"y\":[1],\"yaxis\":\"y\",\"type\":\"scatter\"},{\"hovertemplate\":\"Booster Version=F9 FT B1037\\u003cbr\\u003ePayload Mass (kg)=%{x}\\u003cbr\\u003eclass=%{y}\\u003cextra\\u003e\\u003c\\u002fextra\\u003e\",\"legendgroup\":\"F9 FT B1037\",\"marker\":{\"color\":\"#FECB52\",\"symbol\":\"circle\"},\"mode\":\"markers\",\"name\":\"F9 FT B1037\",\"orientation\":\"v\",\"showlegend\":true,\"x\":[6761.0],\"xaxis\":\"x\",\"y\":[0],\"yaxis\":\"y\",\"type\":\"scatter\"},{\"hovertemplate\":\"Booster Version=F9 B4 B1039.1\\u003cbr\\u003ePayload Mass (kg)=%{x}\\u003cbr\\u003eclass=%{y}\\u003cextra\\u003e\\u003c\\u002fextra\\u003e\",\"legendgroup\":\"F9 B4 B1039.1\",\"marker\":{\"color\":\"#636efa\",\"symbol\":\"circle\"},\"mode\":\"markers\",\"name\":\"F9 B4 B1039.1\",\"orientation\":\"v\",\"showlegend\":true,\"x\":[3310.0],\"xaxis\":\"x\",\"y\":[1],\"yaxis\":\"y\",\"type\":\"scatter\"},{\"hovertemplate\":\"Booster Version=F9 B4 B1040.1\\u003cbr\\u003ePayload Mass (kg)=%{x}\\u003cbr\\u003eclass=%{y}\\u003cextra\\u003e\\u003c\\u002fextra\\u003e\",\"legendgroup\":\"F9 B4 B1040.1\",\"marker\":{\"color\":\"#EF553B\",\"symbol\":\"circle\"},\"mode\":\"markers\",\"name\":\"F9 B4 B1040.1\",\"orientation\":\"v\",\"showlegend\":true,\"x\":[4990.0],\"xaxis\":\"x\",\"y\":[1],\"yaxis\":\"y\",\"type\":\"scatter\"},{\"hovertemplate\":\"Booster Version=F9 FT  B1031.2\\u003cbr\\u003ePayload Mass (kg)=%{x}\\u003cbr\\u003eclass=%{y}\\u003cextra\\u003e\\u003c\\u002fextra\\u003e\",\"legendgroup\":\"F9 FT  B1031.2\",\"marker\":{\"color\":\"#00cc96\",\"symbol\":\"circle\"},\"mode\":\"markers\",\"name\":\"F9 FT  B1031.2\",\"orientation\":\"v\",\"showlegend\":true,\"x\":[5200.0],\"xaxis\":\"x\",\"y\":[1],\"yaxis\":\"y\",\"type\":\"scatter\"},{\"hovertemplate\":\"Booster Version=F9 B4 B1042.1\\u003cbr\\u003ePayload Mass (kg)=%{x}\\u003cbr\\u003eclass=%{y}\\u003cextra\\u003e\\u003c\\u002fextra\\u003e\",\"legendgroup\":\"F9 B4 B1042.1\",\"marker\":{\"color\":\"#ab63fa\",\"symbol\":\"circle\"},\"mode\":\"markers\",\"name\":\"F9 B4 B1042.1\",\"orientation\":\"v\",\"showlegend\":true,\"x\":[3500.0],\"xaxis\":\"x\",\"y\":[1],\"yaxis\":\"y\",\"type\":\"scatter\"},{\"hovertemplate\":\"Booster Version=F9 B5  B1046.1\\u003cbr\\u003ePayload Mass (kg)=%{x}\\u003cbr\\u003eclass=%{y}\\u003cextra\\u003e\\u003c\\u002fextra\\u003e\",\"legendgroup\":\"F9 B5  B1046.1\",\"marker\":{\"color\":\"#FFA15A\",\"symbol\":\"circle\"},\"mode\":\"markers\",\"name\":\"F9 B5  B1046.1\",\"orientation\":\"v\",\"showlegend\":true,\"x\":[3600.0],\"xaxis\":\"x\",\"y\":[1],\"yaxis\":\"y\",\"type\":\"scatter\"},{\"hovertemplate\":\"Booster Version=F9 FT  B1035.2\\u003cbr\\u003ePayload Mass (kg)=%{x}\\u003cbr\\u003eclass=%{y}\\u003cextra\\u003e\\u003c\\u002fextra\\u003e\",\"legendgroup\":\"F9 FT  B1035.2\",\"marker\":{\"color\":\"#19d3f3\",\"symbol\":\"circle\"},\"mode\":\"markers\",\"name\":\"F9 FT  B1035.2\",\"orientation\":\"v\",\"showlegend\":true,\"x\":[2205.0],\"xaxis\":\"x\",\"y\":[1],\"yaxis\":\"y\",\"type\":\"scatter\"},{\"hovertemplate\":\"Booster Version=F9 B4 B1043.1\\u003cbr\\u003ePayload Mass (kg)=%{x}\\u003cbr\\u003eclass=%{y}\\u003cextra\\u003e\\u003c\\u002fextra\\u003e\",\"legendgroup\":\"F9 B4 B1043.1\",\"marker\":{\"color\":\"#FF6692\",\"symbol\":\"circle\"},\"mode\":\"markers\",\"name\":\"F9 B4 B1043.1\",\"orientation\":\"v\",\"showlegend\":true,\"x\":[3696.65],\"xaxis\":\"x\",\"y\":[1],\"yaxis\":\"y\",\"type\":\"scatter\"},{\"hovertemplate\":\"Booster Version=F9 FT  B1032.2\\u003cbr\\u003ePayload Mass (kg)=%{x}\\u003cbr\\u003eclass=%{y}\\u003cextra\\u003e\\u003c\\u002fextra\\u003e\",\"legendgroup\":\"F9 FT  B1032.2\",\"marker\":{\"color\":\"#B6E880\",\"symbol\":\"circle\"},\"mode\":\"markers\",\"name\":\"F9 FT  B1032.2\",\"orientation\":\"v\",\"showlegend\":true,\"x\":[4230.0],\"xaxis\":\"x\",\"y\":[0],\"yaxis\":\"y\",\"type\":\"scatter\"},{\"hovertemplate\":\"Booster Version=F9 B4 B1044\\u003cbr\\u003ePayload Mass (kg)=%{x}\\u003cbr\\u003eclass=%{y}\\u003cextra\\u003e\\u003c\\u002fextra\\u003e\",\"legendgroup\":\"F9 B4 B1044\",\"marker\":{\"color\":\"#FF97FF\",\"symbol\":\"circle\"},\"mode\":\"markers\",\"name\":\"F9 B4 B1044\",\"orientation\":\"v\",\"showlegend\":true,\"x\":[6092.0],\"xaxis\":\"x\",\"y\":[0],\"yaxis\":\"y\",\"type\":\"scatter\"},{\"hovertemplate\":\"Booster Version=F9 B4  B1039.2\\u003cbr\\u003ePayload Mass (kg)=%{x}\\u003cbr\\u003eclass=%{y}\\u003cextra\\u003e\\u003c\\u002fextra\\u003e\",\"legendgroup\":\"F9 B4  B1039.2\",\"marker\":{\"color\":\"#FECB52\",\"symbol\":\"circle\"},\"mode\":\"markers\",\"name\":\"F9 B4  B1039.2\",\"orientation\":\"v\",\"showlegend\":true,\"x\":[2647.0],\"xaxis\":\"x\",\"y\":[0],\"yaxis\":\"y\",\"type\":\"scatter\"},{\"hovertemplate\":\"Booster Version=F9 B4 B1045.1\\u003cbr\\u003ePayload Mass (kg)=%{x}\\u003cbr\\u003eclass=%{y}\\u003cextra\\u003e\\u003c\\u002fextra\\u003e\",\"legendgroup\":\"F9 B4 B1045.1\",\"marker\":{\"color\":\"#636efa\",\"symbol\":\"circle\"},\"mode\":\"markers\",\"name\":\"F9 B4 B1045.1\",\"orientation\":\"v\",\"showlegend\":true,\"x\":[362.0],\"xaxis\":\"x\",\"y\":[1],\"yaxis\":\"y\",\"type\":\"scatter\"},{\"hovertemplate\":\"Booster Version=F9 B4  B1040.2\\u003cbr\\u003ePayload Mass (kg)=%{x}\\u003cbr\\u003eclass=%{y}\\u003cextra\\u003e\\u003c\\u002fextra\\u003e\",\"legendgroup\":\"F9 B4  B1040.2\",\"marker\":{\"color\":\"#EF553B\",\"symbol\":\"circle\"},\"mode\":\"markers\",\"name\":\"F9 B4  B1040.2\",\"orientation\":\"v\",\"showlegend\":true,\"x\":[5384.0],\"xaxis\":\"x\",\"y\":[0],\"yaxis\":\"y\",\"type\":\"scatter\"}],                        {\"template\":{\"data\":{\"histogram2dcontour\":[{\"type\":\"histogram2dcontour\",\"colorbar\":{\"outlinewidth\":0,\"ticks\":\"\"},\"colorscale\":[[0.0,\"#0d0887\"],[0.1111111111111111,\"#46039f\"],[0.2222222222222222,\"#7201a8\"],[0.3333333333333333,\"#9c179e\"],[0.4444444444444444,\"#bd3786\"],[0.5555555555555556,\"#d8576b\"],[0.6666666666666666,\"#ed7953\"],[0.7777777777777778,\"#fb9f3a\"],[0.8888888888888888,\"#fdca26\"],[1.0,\"#f0f921\"]]}],\"choropleth\":[{\"type\":\"choropleth\",\"colorbar\":{\"outlinewidth\":0,\"ticks\":\"\"}}],\"histogram2d\":[{\"type\":\"histogram2d\",\"colorbar\":{\"outlinewidth\":0,\"ticks\":\"\"},\"colorscale\":[[0.0,\"#0d0887\"],[0.1111111111111111,\"#46039f\"],[0.2222222222222222,\"#7201a8\"],[0.3333333333333333,\"#9c179e\"],[0.4444444444444444,\"#bd3786\"],[0.5555555555555556,\"#d8576b\"],[0.6666666666666666,\"#ed7953\"],[0.7777777777777778,\"#fb9f3a\"],[0.8888888888888888,\"#fdca26\"],[1.0,\"#f0f921\"]]}],\"heatmap\":[{\"type\":\"heatmap\",\"colorbar\":{\"outlinewidth\":0,\"ticks\":\"\"},\"colorscale\":[[0.0,\"#0d0887\"],[0.1111111111111111,\"#46039f\"],[0.2222222222222222,\"#7201a8\"],[0.3333333333333333,\"#9c179e\"],[0.4444444444444444,\"#bd3786\"],[0.5555555555555556,\"#d8576b\"],[0.6666666666666666,\"#ed7953\"],[0.7777777777777778,\"#fb9f3a\"],[0.8888888888888888,\"#fdca26\"],[1.0,\"#f0f921\"]]}],\"heatmapgl\":[{\"type\":\"heatmapgl\",\"colorbar\":{\"outlinewidth\":0,\"ticks\":\"\"},\"colorscale\":[[0.0,\"#0d0887\"],[0.1111111111111111,\"#46039f\"],[0.2222222222222222,\"#7201a8\"],[0.3333333333333333,\"#9c179e\"],[0.4444444444444444,\"#bd3786\"],[0.5555555555555556,\"#d8576b\"],[0.6666666666666666,\"#ed7953\"],[0.7777777777777778,\"#fb9f3a\"],[0.8888888888888888,\"#fdca26\"],[1.0,\"#f0f921\"]]}],\"contourcarpet\":[{\"type\":\"contourcarpet\",\"colorbar\":{\"outlinewidth\":0,\"ticks\":\"\"}}],\"contour\":[{\"type\":\"contour\",\"colorbar\":{\"outlinewidth\":0,\"ticks\":\"\"},\"colorscale\":[[0.0,\"#0d0887\"],[0.1111111111111111,\"#46039f\"],[0.2222222222222222,\"#7201a8\"],[0.3333333333333333,\"#9c179e\"],[0.4444444444444444,\"#bd3786\"],[0.5555555555555556,\"#d8576b\"],[0.6666666666666666,\"#ed7953\"],[0.7777777777777778,\"#fb9f3a\"],[0.8888888888888888,\"#fdca26\"],[1.0,\"#f0f921\"]]}],\"surface\":[{\"type\":\"surface\",\"colorbar\":{\"outlinewidth\":0,\"ticks\":\"\"},\"colorscale\":[[0.0,\"#0d0887\"],[0.1111111111111111,\"#46039f\"],[0.2222222222222222,\"#7201a8\"],[0.3333333333333333,\"#9c179e\"],[0.4444444444444444,\"#bd3786\"],[0.5555555555555556,\"#d8576b\"],[0.6666666666666666,\"#ed7953\"],[0.7777777777777778,\"#fb9f3a\"],[0.8888888888888888,\"#fdca26\"],[1.0,\"#f0f921\"]]}],\"mesh3d\":[{\"type\":\"mesh3d\",\"colorbar\":{\"outlinewidth\":0,\"ticks\":\"\"}}],\"scatter\":[{\"fillpattern\":{\"fillmode\":\"overlay\",\"size\":10,\"solidity\":0.2},\"type\":\"scatter\"}],\"parcoords\":[{\"type\":\"parcoords\",\"line\":{\"colorbar\":{\"outlinewidth\":0,\"ticks\":\"\"}}}],\"scatterpolargl\":[{\"type\":\"scatterpolargl\",\"marker\":{\"colorbar\":{\"outlinewidth\":0,\"ticks\":\"\"}}}],\"bar\":[{\"error_x\":{\"color\":\"#2a3f5f\"},\"error_y\":{\"color\":\"#2a3f5f\"},\"marker\":{\"line\":{\"color\":\"#E5ECF6\",\"width\":0.5},\"pattern\":{\"fillmode\":\"overlay\",\"size\":10,\"solidity\":0.2}},\"type\":\"bar\"}],\"scattergeo\":[{\"type\":\"scattergeo\",\"marker\":{\"colorbar\":{\"outlinewidth\":0,\"ticks\":\"\"}}}],\"scatterpolar\":[{\"type\":\"scatterpolar\",\"marker\":{\"colorbar\":{\"outlinewidth\":0,\"ticks\":\"\"}}}],\"histogram\":[{\"marker\":{\"pattern\":{\"fillmode\":\"overlay\",\"size\":10,\"solidity\":0.2}},\"type\":\"histogram\"}],\"scattergl\":[{\"type\":\"scattergl\",\"marker\":{\"colorbar\":{\"outlinewidth\":0,\"ticks\":\"\"}}}],\"scatter3d\":[{\"type\":\"scatter3d\",\"line\":{\"colorbar\":{\"outlinewidth\":0,\"ticks\":\"\"}},\"marker\":{\"colorbar\":{\"outlinewidth\":0,\"ticks\":\"\"}}}],\"scattermapbox\":[{\"type\":\"scattermapbox\",\"marker\":{\"colorbar\":{\"outlinewidth\":0,\"ticks\":\"\"}}}],\"scatterternary\":[{\"type\":\"scatterternary\",\"marker\":{\"colorbar\":{\"outlinewidth\":0,\"ticks\":\"\"}}}],\"scattercarpet\":[{\"type\":\"scattercarpet\",\"marker\":{\"colorbar\":{\"outlinewidth\":0,\"ticks\":\"\"}}}],\"carpet\":[{\"aaxis\":{\"endlinecolor\":\"#2a3f5f\",\"gridcolor\":\"white\",\"linecolor\":\"white\",\"minorgridcolor\":\"white\",\"startlinecolor\":\"#2a3f5f\"},\"baxis\":{\"endlinecolor\":\"#2a3f5f\",\"gridcolor\":\"white\",\"linecolor\":\"white\",\"minorgridcolor\":\"white\",\"startlinecolor\":\"#2a3f5f\"},\"type\":\"carpet\"}],\"table\":[{\"cells\":{\"fill\":{\"color\":\"#EBF0F8\"},\"line\":{\"color\":\"white\"}},\"header\":{\"fill\":{\"color\":\"#C8D4E3\"},\"line\":{\"color\":\"white\"}},\"type\":\"table\"}],\"barpolar\":[{\"marker\":{\"line\":{\"color\":\"#E5ECF6\",\"width\":0.5},\"pattern\":{\"fillmode\":\"overlay\",\"size\":10,\"solidity\":0.2}},\"type\":\"barpolar\"}],\"pie\":[{\"automargin\":true,\"type\":\"pie\"}]},\"layout\":{\"autotypenumbers\":\"strict\",\"colorway\":[\"#636efa\",\"#EF553B\",\"#00cc96\",\"#ab63fa\",\"#FFA15A\",\"#19d3f3\",\"#FF6692\",\"#B6E880\",\"#FF97FF\",\"#FECB52\"],\"font\":{\"color\":\"#2a3f5f\"},\"hovermode\":\"closest\",\"hoverlabel\":{\"align\":\"left\"},\"paper_bgcolor\":\"white\",\"plot_bgcolor\":\"#E5ECF6\",\"polar\":{\"bgcolor\":\"#E5ECF6\",\"angularaxis\":{\"gridcolor\":\"white\",\"linecolor\":\"white\",\"ticks\":\"\"},\"radialaxis\":{\"gridcolor\":\"white\",\"linecolor\":\"white\",\"ticks\":\"\"}},\"ternary\":{\"bgcolor\":\"#E5ECF6\",\"aaxis\":{\"gridcolor\":\"white\",\"linecolor\":\"white\",\"ticks\":\"\"},\"baxis\":{\"gridcolor\":\"white\",\"linecolor\":\"white\",\"ticks\":\"\"},\"caxis\":{\"gridcolor\":\"white\",\"linecolor\":\"white\",\"ticks\":\"\"}},\"coloraxis\":{\"colorbar\":{\"outlinewidth\":0,\"ticks\":\"\"}},\"colorscale\":{\"sequential\":[[0.0,\"#0d0887\"],[0.1111111111111111,\"#46039f\"],[0.2222222222222222,\"#7201a8\"],[0.3333333333333333,\"#9c179e\"],[0.4444444444444444,\"#bd3786\"],[0.5555555555555556,\"#d8576b\"],[0.6666666666666666,\"#ed7953\"],[0.7777777777777778,\"#fb9f3a\"],[0.8888888888888888,\"#fdca26\"],[1.0,\"#f0f921\"]],\"sequentialminus\":[[0.0,\"#0d0887\"],[0.1111111111111111,\"#46039f\"],[0.2222222222222222,\"#7201a8\"],[0.3333333333333333,\"#9c179e\"],[0.4444444444444444,\"#bd3786\"],[0.5555555555555556,\"#d8576b\"],[0.6666666666666666,\"#ed7953\"],[0.7777777777777778,\"#fb9f3a\"],[0.8888888888888888,\"#fdca26\"],[1.0,\"#f0f921\"]],\"diverging\":[[0,\"#8e0152\"],[0.1,\"#c51b7d\"],[0.2,\"#de77ae\"],[0.3,\"#f1b6da\"],[0.4,\"#fde0ef\"],[0.5,\"#f7f7f7\"],[0.6,\"#e6f5d0\"],[0.7,\"#b8e186\"],[0.8,\"#7fbc41\"],[0.9,\"#4d9221\"],[1,\"#276419\"]]},\"xaxis\":{\"gridcolor\":\"white\",\"linecolor\":\"white\",\"ticks\":\"\",\"title\":{\"standoff\":15},\"zerolinecolor\":\"white\",\"automargin\":true,\"zerolinewidth\":2},\"yaxis\":{\"gridcolor\":\"white\",\"linecolor\":\"white\",\"ticks\":\"\",\"title\":{\"standoff\":15},\"zerolinecolor\":\"white\",\"automargin\":true,\"zerolinewidth\":2},\"scene\":{\"xaxis\":{\"backgroundcolor\":\"#E5ECF6\",\"gridcolor\":\"white\",\"linecolor\":\"white\",\"showbackground\":true,\"ticks\":\"\",\"zerolinecolor\":\"white\",\"gridwidth\":2},\"yaxis\":{\"backgroundcolor\":\"#E5ECF6\",\"gridcolor\":\"white\",\"linecolor\":\"white\",\"showbackground\":true,\"ticks\":\"\",\"zerolinecolor\":\"white\",\"gridwidth\":2},\"zaxis\":{\"backgroundcolor\":\"#E5ECF6\",\"gridcolor\":\"white\",\"linecolor\":\"white\",\"showbackground\":true,\"ticks\":\"\",\"zerolinecolor\":\"white\",\"gridwidth\":2}},\"shapedefaults\":{\"line\":{\"color\":\"#2a3f5f\"}},\"annotationdefaults\":{\"arrowcolor\":\"#2a3f5f\",\"arrowhead\":0,\"arrowwidth\":1},\"geo\":{\"bgcolor\":\"white\",\"landcolor\":\"#E5ECF6\",\"subunitcolor\":\"white\",\"showland\":true,\"showlakes\":true,\"lakecolor\":\"white\"},\"title\":{\"x\":0.05},\"mapbox\":{\"style\":\"light\"}}},\"xaxis\":{\"anchor\":\"y\",\"domain\":[0.0,1.0],\"title\":{\"text\":\"Payload Mass (kg)\"}},\"yaxis\":{\"anchor\":\"x\",\"domain\":[0.0,1.0],\"title\":{\"text\":\"class\"}},\"legend\":{\"title\":{\"text\":\"Booster Version\"},\"tracegroupgap\":0},\"margin\":{\"t\":60}},                        {\"responsive\": true}                    ).then(function(){\n                            \nvar gd = document.getElementById('7bd9afee-a802-448b-a975-b99a9b2dd079');\nvar x = new MutationObserver(function (mutations, observer) {{\n        var display = window.getComputedStyle(gd).display;\n        if (!display || display === 'none') {{\n            console.log([gd, 'removed!']);\n            Plotly.purge(gd);\n            observer.disconnect();\n        }}\n}});\n\n// Listen for the removal of the full notebook cells\nvar notebookContainer = gd.closest('#notebook-container');\nif (notebookContainer) {{\n    x.observe(notebookContainer, {childList: true});\n}}\n\n// Listen for the clearing of the current output cell\nvar outputEl = gd.closest('.output');\nif (outputEl) {{\n    x.observe(outputEl, {childList: true});\n}}\n\n                        })                };                });            </script>        </div>",
            "image/png": "[encoded data removed]"
          },
          "metadata": {}
        }
      ],
      "execution_count": 8
    },
    {
      "cell_type": "code",
      "source": "df1=spacex_df['class'].value_counts()\ndf1\nfig=px.pie(df1,values=df1,names=df1.index,title='success-pie-chart')\nfig.show()",
      "metadata": {
        "trusted": true
      },
      "outputs": [
        {
          "output_type": "display_data",
          "data": {
            "application/vnd.plotly.v1+json": {
              "data": [
                {
                  "domain": {
                    "x": [
                      0,
                      1
                    ],
                    "y": [
                      0,
                      1
                    ]
                  },
                  "hovertemplate": "index=%{label}<br>value=%{value}<extra></extra>",
                  "labels": [
                    0,
                    1
                  ],
                  "legendgroup": "",
                  "name": "",
                  "showlegend": true,
                  "values": [
                    32,
                    24
                  ],
                  "type": "pie"
                }
              ],
              "layout": {
                "template": {
                  "data": {
                    "histogram2dcontour": [
                      {
                        "type": "histogram2dcontour",
                        "colorbar": {
                          "outlinewidth": 0,
                          "ticks": ""
                        },
                        "colorscale": [
                          [
                            0,
                            "#0d0887"
                          ],
                          [
                            0.1111111111111111,
                            "#46039f"
                          ],
                          [
                            0.2222222222222222,
                            "#7201a8"
                          ],
                          [
                            0.3333333333333333,
                            "#9c179e"
                          ],
                          [
                            0.4444444444444444,
                            "#bd3786"
                          ],
                          [
                            0.5555555555555556,
                            "#d8576b"
                          ],
                          [
                            0.6666666666666666,
                            "#ed7953"
                          ],
                          [
                            0.7777777777777778,
                            "#fb9f3a"
                          ],
                          [
                            0.8888888888888888,
                            "#fdca26"
                          ],
                          [
                            1,
                            "#f0f921"
                          ]
                        ]
                      }
                    ],
                    "choropleth": [
                      {
                        "type": "choropleth",
                        "colorbar": {
                          "outlinewidth": 0,
                          "ticks": ""
                        }
                      }
                    ],
                    "histogram2d": [
                      {
                        "type": "histogram2d",
                        "colorbar": {
                          "outlinewidth": 0,
                          "ticks": ""
                        },
                        "colorscale": [
                          [
                            0,
                            "#0d0887"
                          ],
                          [
                            0.1111111111111111,
                            "#46039f"
                          ],
                          [
                            0.2222222222222222,
                            "#7201a8"
                          ],
                          [
                            0.3333333333333333,
                            "#9c179e"
                          ],
                          [
                            0.4444444444444444,
                            "#bd3786"
                          ],
                          [
                            0.5555555555555556,
                            "#d8576b"
                          ],
                          [
                            0.6666666666666666,
                            "#ed7953"
                          ],
                          [
                            0.7777777777777778,
                            "#fb9f3a"
                          ],
                          [
                            0.8888888888888888,
                            "#fdca26"
                          ],
                          [
                            1,
                            "#f0f921"
                          ]
                        ]
                      }
                    ],
                    "heatmap": [
                      {
                        "type": "heatmap",
                        "colorbar": {
                          "outlinewidth": 0,
                          "ticks": ""
                        },
                        "colorscale": [
                          [
                            0,
                            "#0d0887"
                          ],
                          [
                            0.1111111111111111,
                            "#46039f"
                          ],
                          [
                            0.2222222222222222,
                            "#7201a8"
                          ],
                          [
                            0.3333333333333333,
                            "#9c179e"
                          ],
                          [
                            0.4444444444444444,
                            "#bd3786"
                          ],
                          [
                            0.5555555555555556,
                            "#d8576b"
                          ],
                          [
                            0.6666666666666666,
                            "#ed7953"
                          ],
                          [
                            0.7777777777777778,
                            "#fb9f3a"
                          ],
                          [
                            0.8888888888888888,
                            "#fdca26"
                          ],
                          [
                            1,
                            "#f0f921"
                          ]
                        ]
                      }
                    ],
                    "heatmapgl": [
                      {
                        "type": "heatmapgl",
                        "colorbar": {
                          "outlinewidth": 0,
                          "ticks": ""
                        },
                        "colorscale": [
                          [
                            0,
                            "#0d0887"
                          ],
                          [
                            0.1111111111111111,
                            "#46039f"
                          ],
                          [
                            0.2222222222222222,
                            "#7201a8"
                          ],
                          [
                            0.3333333333333333,
                            "#9c179e"
                          ],
                          [
                            0.4444444444444444,
                            "#bd3786"
                          ],
                          [
                            0.5555555555555556,
                            "#d8576b"
                          ],
                          [
                            0.6666666666666666,
                            "#ed7953"
                          ],
                          [
                            0.7777777777777778,
                            "#fb9f3a"
                          ],
                          [
                            0.8888888888888888,
                            "#fdca26"
                          ],
                          [
                            1,
                            "#f0f921"
                          ]
                        ]
                      }
                    ],
                    "contourcarpet": [
                      {
                        "type": "contourcarpet",
                        "colorbar": {
                          "outlinewidth": 0,
                          "ticks": ""
                        }
                      }
                    ],
                    "contour": [
                      {
                        "type": "contour",
                        "colorbar": {
                          "outlinewidth": 0,
                          "ticks": ""
                        },
                        "colorscale": [
                          [
                            0,
                            "#0d0887"
                          ],
                          [
                            0.1111111111111111,
                            "#46039f"
                          ],
                          [
                            0.2222222222222222,
                            "#7201a8"
                          ],
                          [
                            0.3333333333333333,
                            "#9c179e"
                          ],
                          [
                            0.4444444444444444,
                            "#bd3786"
                          ],
                          [
                            0.5555555555555556,
                            "#d8576b"
                          ],
                          [
                            0.6666666666666666,
                            "#ed7953"
                          ],
                          [
                            0.7777777777777778,
                            "#fb9f3a"
                          ],
                          [
                            0.8888888888888888,
                            "#fdca26"
                          ],
                          [
                            1,
                            "#f0f921"
                          ]
                        ]
                      }
                    ],
                    "surface": [
                      {
                        "type": "surface",
                        "colorbar": {
                          "outlinewidth": 0,
                          "ticks": ""
                        },
                        "colorscale": [
                          [
                            0,
                            "#0d0887"
                          ],
                          [
                            0.1111111111111111,
                            "#46039f"
                          ],
                          [
                            0.2222222222222222,
                            "#7201a8"
                          ],
                          [
                            0.3333333333333333,
                            "#9c179e"
                          ],
                          [
                            0.4444444444444444,
                            "#bd3786"
                          ],
                          [
                            0.5555555555555556,
                            "#d8576b"
                          ],
                          [
                            0.6666666666666666,
                            "#ed7953"
                          ],
                          [
                            0.7777777777777778,
                            "#fb9f3a"
                          ],
                          [
                            0.8888888888888888,
                            "#fdca26"
                          ],
                          [
                            1,
                            "#f0f921"
                          ]
                        ]
                      }
                    ],
                    "mesh3d": [
                      {
                        "type": "mesh3d",
                        "colorbar": {
                          "outlinewidth": 0,
                          "ticks": ""
                        }
                      }
                    ],
                    "scatter": [
                      {
                        "fillpattern": {
                          "fillmode": "overlay",
                          "size": 10,
                          "solidity": 0.2
                        },
                        "type": "scatter"
                      }
                    ],
                    "parcoords": [
                      {
                        "type": "parcoords",
                        "line": {
                          "colorbar": {
                            "outlinewidth": 0,
                            "ticks": ""
                          }
                        }
                      }
                    ],
                    "scatterpolargl": [
                      {
                        "type": "scatterpolargl",
                        "marker": {
                          "colorbar": {
                            "outlinewidth": 0,
                            "ticks": ""
                          }
                        }
                      }
                    ],
                    "bar": [
                      {
                        "error_x": {
                          "color": "#2a3f5f"
                        },
                        "error_y": {
                          "color": "#2a3f5f"
                        },
                        "marker": {
                          "line": {
                            "color": "#E5ECF6",
                            "width": 0.5
                          },
                          "pattern": {
                            "fillmode": "overlay",
                            "size": 10,
                            "solidity": 0.2
                          }
                        },
                        "type": "bar"
                      }
                    ],
                    "scattergeo": [
                      {
                        "type": "scattergeo",
                        "marker": {
                          "colorbar": {
                            "outlinewidth": 0,
                            "ticks": ""
                          }
                        }
                      }
                    ],
                    "scatterpolar": [
                      {
                        "type": "scatterpolar",
                        "marker": {
                          "colorbar": {
                            "outlinewidth": 0,
                            "ticks": ""
                          }
                        }
                      }
                    ],
                    "histogram": [
                      {
                        "marker": {
                          "pattern": {
                            "fillmode": "overlay",
                            "size": 10,
                            "solidity": 0.2
                          }
                        },
                        "type": "histogram"
                      }
                    ],
                    "scattergl": [
                      {
                        "type": "scattergl",
                        "marker": {
                          "colorbar": {
                            "outlinewidth": 0,
                            "ticks": ""
                          }
                        }
                      }
                    ],
                    "scatter3d": [
                      {
                        "type": "scatter3d",
                        "line": {
                          "colorbar": {
                            "outlinewidth": 0,
                            "ticks": ""
                          }
                        },
                        "marker": {
                          "colorbar": {
                            "outlinewidth": 0,
                            "ticks": ""
                          }
                        }
                      }
                    ],
                    "scattermapbox": [
                      {
                        "type": "scattermapbox",
                        "marker": {
                          "colorbar": {
                            "outlinewidth": 0,
                            "ticks": ""
                          }
                        }
                      }
                    ],
                    "scatterternary": [
                      {
                        "type": "scatterternary",
                        "marker": {
                          "colorbar": {
                            "outlinewidth": 0,
                            "ticks": ""
                          }
                        }
                      }
                    ],
                    "scattercarpet": [
                      {
                        "type": "scattercarpet",
                        "marker": {
                          "colorbar": {
                            "outlinewidth": 0,
                            "ticks": ""
                          }
                        }
                      }
                    ],
                    "carpet": [
                      {
                        "aaxis": {
                          "endlinecolor": "#2a3f5f",
                          "gridcolor": "white",
                          "linecolor": "white",
                          "minorgridcolor": "white",
                          "startlinecolor": "#2a3f5f"
                        },
                        "baxis": {
                          "endlinecolor": "#2a3f5f",
                          "gridcolor": "white",
                          "linecolor": "white",
                          "minorgridcolor": "white",
                          "startlinecolor": "#2a3f5f"
                        },
                        "type": "carpet"
                      }
                    ],
                    "table": [
                      {
                        "cells": {
                          "fill": {
                            "color": "#EBF0F8"
                          },
                          "line": {
                            "color": "white"
                          }
                        },
                        "header": {
                          "fill": {
                            "color": "#C8D4E3"
                          },
                          "line": {
                            "color": "white"
                          }
                        },
                        "type": "table"
                      }
                    ],
                    "barpolar": [
                      {
                        "marker": {
                          "line": {
                            "color": "#E5ECF6",
                            "width": 0.5
                          },
                          "pattern": {
                            "fillmode": "overlay",
                            "size": 10,
                            "solidity": 0.2
                          }
                        },
                        "type": "barpolar"
                      }
                    ],
                    "pie": [
                      {
                        "automargin": true,
                        "type": "pie"
                      }
                    ]
                  },
                  "layout": {
                    "autotypenumbers": "strict",
                    "colorway": [
                      "#636efa",
                      "#EF553B",
                      "#00cc96",
                      "#ab63fa",
                      "#FFA15A",
                      "#19d3f3",
                      "#FF6692",
                      "#B6E880",
                      "#FF97FF",
                      "#FECB52"
                    ],
                    "font": {
                      "color": "#2a3f5f"
                    },
                    "hovermode": "closest",
                    "hoverlabel": {
                      "align": "left"
                    },
                    "paper_bgcolor": "white",
                    "plot_bgcolor": "#E5ECF6",
                    "polar": {
                      "bgcolor": "#E5ECF6",
                      "angularaxis": {
                        "gridcolor": "white",
                        "linecolor": "white",
                        "ticks": ""
                      },
                      "radialaxis": {
                        "gridcolor": "white",
                        "linecolor": "white",
                        "ticks": ""
                      }
                    },
                    "ternary": {
                      "bgcolor": "#E5ECF6",
                      "aaxis": {
                        "gridcolor": "white",
                        "linecolor": "white",
                        "ticks": ""
                      },
                      "baxis": {
                        "gridcolor": "white",
                        "linecolor": "white",
                        "ticks": ""
                      },
                      "caxis": {
                        "gridcolor": "white",
                        "linecolor": "white",
                        "ticks": ""
                      }
                    },
                    "coloraxis": {
                      "colorbar": {
                        "outlinewidth": 0,
                        "ticks": ""
                      }
                    },
                    "colorscale": {
                      "sequential": [
                        [
                          0,
                          "#0d0887"
                        ],
                        [
                          0.1111111111111111,
                          "#46039f"
                        ],
                        [
                          0.2222222222222222,
                          "#7201a8"
                        ],
                        [
                          0.3333333333333333,
                          "#9c179e"
                        ],
                        [
                          0.4444444444444444,
                          "#bd3786"
                        ],
                        [
                          0.5555555555555556,
                          "#d8576b"
                        ],
                        [
                          0.6666666666666666,
                          "#ed7953"
                        ],
                        [
                          0.7777777777777778,
                          "#fb9f3a"
                        ],
                        [
                          0.8888888888888888,
                          "#fdca26"
                        ],
                        [
                          1,
                          "#f0f921"
                        ]
                      ],
                      "sequentialminus": [
                        [
                          0,
                          "#0d0887"
                        ],
                        [
                          0.1111111111111111,
                          "#46039f"
                        ],
                        [
                          0.2222222222222222,
                          "#7201a8"
                        ],
                        [
                          0.3333333333333333,
                          "#9c179e"
                        ],
                        [
                          0.4444444444444444,
                          "#bd3786"
                        ],
                        [
                          0.5555555555555556,
                          "#d8576b"
                        ],
                        [
                          0.6666666666666666,
                          "#ed7953"
                        ],
                        [
                          0.7777777777777778,
                          "#fb9f3a"
                        ],
                        [
                          0.8888888888888888,
                          "#fdca26"
                        ],
                        [
                          1,
                          "#f0f921"
                        ]
                      ],
                      "diverging": [
                        [
                          0,
                          "#8e0152"
                        ],
                        [
                          0.1,
                          "#c51b7d"
                        ],
                        [
                          0.2,
                          "#de77ae"
                        ],
                        [
                          0.3,
                          "#f1b6da"
                        ],
                        [
                          0.4,
                          "#fde0ef"
                        ],
                        [
                          0.5,
                          "#f7f7f7"
                        ],
                        [
                          0.6,
                          "#e6f5d0"
                        ],
                        [
                          0.7,
                          "#b8e186"
                        ],
                        [
                          0.8,
                          "#7fbc41"
                        ],
                        [
                          0.9,
                          "#4d9221"
                        ],
                        [
                          1,
                          "#276419"
                        ]
                      ]
                    },
                    "xaxis": {
                      "gridcolor": "white",
                      "linecolor": "white",
                      "ticks": "",
                      "title": {
                        "standoff": 15
                      },
                      "zerolinecolor": "white",
                      "automargin": true,
                      "zerolinewidth": 2
                    },
                    "yaxis": {
                      "gridcolor": "white",
                      "linecolor": "white",
                      "ticks": "",
                      "title": {
                        "standoff": 15
                      },
                      "zerolinecolor": "white",
                      "automargin": true,
                      "zerolinewidth": 2
                    },
                    "scene": {
                      "xaxis": {
                        "backgroundcolor": "#E5ECF6",
                        "gridcolor": "white",
                        "linecolor": "white",
                        "showbackground": true,
                        "ticks": "",
                        "zerolinecolor": "white",
                        "gridwidth": 2
                      },
                      "yaxis": {
                        "backgroundcolor": "#E5ECF6",
                        "gridcolor": "white",
                        "linecolor": "white",
                        "showbackground": true,
                        "ticks": "",
                        "zerolinecolor": "white",
                        "gridwidth": 2
                      },
                      "zaxis": {
                        "backgroundcolor": "#E5ECF6",
                        "gridcolor": "white",
                        "linecolor": "white",
                        "showbackground": true,
                        "ticks": "",
                        "zerolinecolor": "white",
                        "gridwidth": 2
                      }
                    },
                    "shapedefaults": {
                      "line": {
                        "color": "#2a3f5f"
                      }
                    },
                    "annotationdefaults": {
                      "arrowcolor": "#2a3f5f",
                      "arrowhead": 0,
                      "arrowwidth": 1
                    },
                    "geo": {
                      "bgcolor": "white",
                      "landcolor": "#E5ECF6",
                      "subunitcolor": "white",
                      "showland": true,
                      "showlakes": true,
                      "lakecolor": "white"
                    },
                    "title": {
                      "x": 0.05
                    },
                    "mapbox": {
                      "style": "light"
                    }
                  }
                },
                "legend": {
                  "tracegroupgap": 0
                },
                "title": {
                  "text": "success-pie-chart"
                },
                "autosize": true
              },
              "config": {
                "plotlyServerURL": "https://plot.ly"
              }
            },
            "text/html": "<div>                            <div id=\"0ea5a435-3f2f-4373-8248-bd6ba976fdbb\" class=\"plotly-graph-div\" style=\"height:525px; width:100%;\"></div>            <script type=\"text/javascript\">                require([\"plotly\"], function(Plotly) {                    window.PLOTLYENV=window.PLOTLYENV || {};                                    if (document.getElementById(\"0ea5a435-3f2f-4373-8248-bd6ba976fdbb\")) {                    Plotly.newPlot(                        \"0ea5a435-3f2f-4373-8248-bd6ba976fdbb\",                        [{\"domain\":{\"x\":[0.0,1.0],\"y\":[0.0,1.0]},\"hovertemplate\":\"index=%{label}\\u003cbr\\u003evalue=%{value}\\u003cextra\\u003e\\u003c\\u002fextra\\u003e\",\"labels\":[0,1],\"legendgroup\":\"\",\"name\":\"\",\"showlegend\":true,\"values\":[32,24],\"type\":\"pie\"}],                        {\"template\":{\"data\":{\"histogram2dcontour\":[{\"type\":\"histogram2dcontour\",\"colorbar\":{\"outlinewidth\":0,\"ticks\":\"\"},\"colorscale\":[[0.0,\"#0d0887\"],[0.1111111111111111,\"#46039f\"],[0.2222222222222222,\"#7201a8\"],[0.3333333333333333,\"#9c179e\"],[0.4444444444444444,\"#bd3786\"],[0.5555555555555556,\"#d8576b\"],[0.6666666666666666,\"#ed7953\"],[0.7777777777777778,\"#fb9f3a\"],[0.8888888888888888,\"#fdca26\"],[1.0,\"#f0f921\"]]}],\"choropleth\":[{\"type\":\"choropleth\",\"colorbar\":{\"outlinewidth\":0,\"ticks\":\"\"}}],\"histogram2d\":[{\"type\":\"histogram2d\",\"colorbar\":{\"outlinewidth\":0,\"ticks\":\"\"},\"colorscale\":[[0.0,\"#0d0887\"],[0.1111111111111111,\"#46039f\"],[0.2222222222222222,\"#7201a8\"],[0.3333333333333333,\"#9c179e\"],[0.4444444444444444,\"#bd3786\"],[0.5555555555555556,\"#d8576b\"],[0.6666666666666666,\"#ed7953\"],[0.7777777777777778,\"#fb9f3a\"],[0.8888888888888888,\"#fdca26\"],[1.0,\"#f0f921\"]]}],\"heatmap\":[{\"type\":\"heatmap\",\"colorbar\":{\"outlinewidth\":0,\"ticks\":\"\"},\"colorscale\":[[0.0,\"#0d0887\"],[0.1111111111111111,\"#46039f\"],[0.2222222222222222,\"#7201a8\"],[0.3333333333333333,\"#9c179e\"],[0.4444444444444444,\"#bd3786\"],[0.5555555555555556,\"#d8576b\"],[0.6666666666666666,\"#ed7953\"],[0.7777777777777778,\"#fb9f3a\"],[0.8888888888888888,\"#fdca26\"],[1.0,\"#f0f921\"]]}],\"heatmapgl\":[{\"type\":\"heatmapgl\",\"colorbar\":{\"outlinewidth\":0,\"ticks\":\"\"},\"colorscale\":[[0.0,\"#0d0887\"],[0.1111111111111111,\"#46039f\"],[0.2222222222222222,\"#7201a8\"],[0.3333333333333333,\"#9c179e\"],[0.4444444444444444,\"#bd3786\"],[0.5555555555555556,\"#d8576b\"],[0.6666666666666666,\"#ed7953\"],[0.7777777777777778,\"#fb9f3a\"],[0.8888888888888888,\"#fdca26\"],[1.0,\"#f0f921\"]]}],\"contourcarpet\":[{\"type\":\"contourcarpet\",\"colorbar\":{\"outlinewidth\":0,\"ticks\":\"\"}}],\"contour\":[{\"type\":\"contour\",\"colorbar\":{\"outlinewidth\":0,\"ticks\":\"\"},\"colorscale\":[[0.0,\"#0d0887\"],[0.1111111111111111,\"#46039f\"],[0.2222222222222222,\"#7201a8\"],[0.3333333333333333,\"#9c179e\"],[0.4444444444444444,\"#bd3786\"],[0.5555555555555556,\"#d8576b\"],[0.6666666666666666,\"#ed7953\"],[0.7777777777777778,\"#fb9f3a\"],[0.8888888888888888,\"#fdca26\"],[1.0,\"#f0f921\"]]}],\"surface\":[{\"type\":\"surface\",\"colorbar\":{\"outlinewidth\":0,\"ticks\":\"\"},\"colorscale\":[[0.0,\"#0d0887\"],[0.1111111111111111,\"#46039f\"],[0.2222222222222222,\"#7201a8\"],[0.3333333333333333,\"#9c179e\"],[0.4444444444444444,\"#bd3786\"],[0.5555555555555556,\"#d8576b\"],[0.6666666666666666,\"#ed7953\"],[0.7777777777777778,\"#fb9f3a\"],[0.8888888888888888,\"#fdca26\"],[1.0,\"#f0f921\"]]}],\"mesh3d\":[{\"type\":\"mesh3d\",\"colorbar\":{\"outlinewidth\":0,\"ticks\":\"\"}}],\"scatter\":[{\"fillpattern\":{\"fillmode\":\"overlay\",\"size\":10,\"solidity\":0.2},\"type\":\"scatter\"}],\"parcoords\":[{\"type\":\"parcoords\",\"line\":{\"colorbar\":{\"outlinewidth\":0,\"ticks\":\"\"}}}],\"scatterpolargl\":[{\"type\":\"scatterpolargl\",\"marker\":{\"colorbar\":{\"outlinewidth\":0,\"ticks\":\"\"}}}],\"bar\":[{\"error_x\":{\"color\":\"#2a3f5f\"},\"error_y\":{\"color\":\"#2a3f5f\"},\"marker\":{\"line\":{\"color\":\"#E5ECF6\",\"width\":0.5},\"pattern\":{\"fillmode\":\"overlay\",\"size\":10,\"solidity\":0.2}},\"type\":\"bar\"}],\"scattergeo\":[{\"type\":\"scattergeo\",\"marker\":{\"colorbar\":{\"outlinewidth\":0,\"ticks\":\"\"}}}],\"scatterpolar\":[{\"type\":\"scatterpolar\",\"marker\":{\"colorbar\":{\"outlinewidth\":0,\"ticks\":\"\"}}}],\"histogram\":[{\"marker\":{\"pattern\":{\"fillmode\":\"overlay\",\"size\":10,\"solidity\":0.2}},\"type\":\"histogram\"}],\"scattergl\":[{\"type\":\"scattergl\",\"marker\":{\"colorbar\":{\"outlinewidth\":0,\"ticks\":\"\"}}}],\"scatter3d\":[{\"type\":\"scatter3d\",\"line\":{\"colorbar\":{\"outlinewidth\":0,\"ticks\":\"\"}},\"marker\":{\"colorbar\":{\"outlinewidth\":0,\"ticks\":\"\"}}}],\"scattermapbox\":[{\"type\":\"scattermapbox\",\"marker\":{\"colorbar\":{\"outlinewidth\":0,\"ticks\":\"\"}}}],\"scatterternary\":[{\"type\":\"scatterternary\",\"marker\":{\"colorbar\":{\"outlinewidth\":0,\"ticks\":\"\"}}}],\"scattercarpet\":[{\"type\":\"scattercarpet\",\"marker\":{\"colorbar\":{\"outlinewidth\":0,\"ticks\":\"\"}}}],\"carpet\":[{\"aaxis\":{\"endlinecolor\":\"#2a3f5f\",\"gridcolor\":\"white\",\"linecolor\":\"white\",\"minorgridcolor\":\"white\",\"startlinecolor\":\"#2a3f5f\"},\"baxis\":{\"endlinecolor\":\"#2a3f5f\",\"gridcolor\":\"white\",\"linecolor\":\"white\",\"minorgridcolor\":\"white\",\"startlinecolor\":\"#2a3f5f\"},\"type\":\"carpet\"}],\"table\":[{\"cells\":{\"fill\":{\"color\":\"#EBF0F8\"},\"line\":{\"color\":\"white\"}},\"header\":{\"fill\":{\"color\":\"#C8D4E3\"},\"line\":{\"color\":\"white\"}},\"type\":\"table\"}],\"barpolar\":[{\"marker\":{\"line\":{\"color\":\"#E5ECF6\",\"width\":0.5},\"pattern\":{\"fillmode\":\"overlay\",\"size\":10,\"solidity\":0.2}},\"type\":\"barpolar\"}],\"pie\":[{\"automargin\":true,\"type\":\"pie\"}]},\"layout\":{\"autotypenumbers\":\"strict\",\"colorway\":[\"#636efa\",\"#EF553B\",\"#00cc96\",\"#ab63fa\",\"#FFA15A\",\"#19d3f3\",\"#FF6692\",\"#B6E880\",\"#FF97FF\",\"#FECB52\"],\"font\":{\"color\":\"#2a3f5f\"},\"hovermode\":\"closest\",\"hoverlabel\":{\"align\":\"left\"},\"paper_bgcolor\":\"white\",\"plot_bgcolor\":\"#E5ECF6\",\"polar\":{\"bgcolor\":\"#E5ECF6\",\"angularaxis\":{\"gridcolor\":\"white\",\"linecolor\":\"white\",\"ticks\":\"\"},\"radialaxis\":{\"gridcolor\":\"white\",\"linecolor\":\"white\",\"ticks\":\"\"}},\"ternary\":{\"bgcolor\":\"#E5ECF6\",\"aaxis\":{\"gridcolor\":\"white\",\"linecolor\":\"white\",\"ticks\":\"\"},\"baxis\":{\"gridcolor\":\"white\",\"linecolor\":\"white\",\"ticks\":\"\"},\"caxis\":{\"gridcolor\":\"white\",\"linecolor\":\"white\",\"ticks\":\"\"}},\"coloraxis\":{\"colorbar\":{\"outlinewidth\":0,\"ticks\":\"\"}},\"colorscale\":{\"sequential\":[[0.0,\"#0d0887\"],[0.1111111111111111,\"#46039f\"],[0.2222222222222222,\"#7201a8\"],[0.3333333333333333,\"#9c179e\"],[0.4444444444444444,\"#bd3786\"],[0.5555555555555556,\"#d8576b\"],[0.6666666666666666,\"#ed7953\"],[0.7777777777777778,\"#fb9f3a\"],[0.8888888888888888,\"#fdca26\"],[1.0,\"#f0f921\"]],\"sequentialminus\":[[0.0,\"#0d0887\"],[0.1111111111111111,\"#46039f\"],[0.2222222222222222,\"#7201a8\"],[0.3333333333333333,\"#9c179e\"],[0.4444444444444444,\"#bd3786\"],[0.5555555555555556,\"#d8576b\"],[0.6666666666666666,\"#ed7953\"],[0.7777777777777778,\"#fb9f3a\"],[0.8888888888888888,\"#fdca26\"],[1.0,\"#f0f921\"]],\"diverging\":[[0,\"#8e0152\"],[0.1,\"#c51b7d\"],[0.2,\"#de77ae\"],[0.3,\"#f1b6da\"],[0.4,\"#fde0ef\"],[0.5,\"#f7f7f7\"],[0.6,\"#e6f5d0\"],[0.7,\"#b8e186\"],[0.8,\"#7fbc41\"],[0.9,\"#4d9221\"],[1,\"#276419\"]]},\"xaxis\":{\"gridcolor\":\"white\",\"linecolor\":\"white\",\"ticks\":\"\",\"title\":{\"standoff\":15},\"zerolinecolor\":\"white\",\"automargin\":true,\"zerolinewidth\":2},\"yaxis\":{\"gridcolor\":\"white\",\"linecolor\":\"white\",\"ticks\":\"\",\"title\":{\"standoff\":15},\"zerolinecolor\":\"white\",\"automargin\":true,\"zerolinewidth\":2},\"scene\":{\"xaxis\":{\"backgroundcolor\":\"#E5ECF6\",\"gridcolor\":\"white\",\"linecolor\":\"white\",\"showbackground\":true,\"ticks\":\"\",\"zerolinecolor\":\"white\",\"gridwidth\":2},\"yaxis\":{\"backgroundcolor\":\"#E5ECF6\",\"gridcolor\":\"white\",\"linecolor\":\"white\",\"showbackground\":true,\"ticks\":\"\",\"zerolinecolor\":\"white\",\"gridwidth\":2},\"zaxis\":{\"backgroundcolor\":\"#E5ECF6\",\"gridcolor\":\"white\",\"linecolor\":\"white\",\"showbackground\":true,\"ticks\":\"\",\"zerolinecolor\":\"white\",\"gridwidth\":2}},\"shapedefaults\":{\"line\":{\"color\":\"#2a3f5f\"}},\"annotationdefaults\":{\"arrowcolor\":\"#2a3f5f\",\"arrowhead\":0,\"arrowwidth\":1},\"geo\":{\"bgcolor\":\"white\",\"landcolor\":\"#E5ECF6\",\"subunitcolor\":\"white\",\"showland\":true,\"showlakes\":true,\"lakecolor\":\"white\"},\"title\":{\"x\":0.05},\"mapbox\":{\"style\":\"light\"}}},\"legend\":{\"tracegroupgap\":0},\"title\":{\"text\":\"success-pie-chart\"}},                        {\"responsive\": true}                    ).then(function(){\n                            \nvar gd = document.getElementById('0ea5a435-3f2f-4373-8248-bd6ba976fdbb');\nvar x = new MutationObserver(function (mutations, observer) {{\n        var display = window.getComputedStyle(gd).display;\n        if (!display || display === 'none') {{\n            console.log([gd, 'removed!']);\n            Plotly.purge(gd);\n            observer.disconnect();\n        }}\n}});\n\n// Listen for the removal of the full notebook cells\nvar notebookContainer = gd.closest('#notebook-container');\nif (notebookContainer) {{\n    x.observe(notebookContainer, {childList: true});\n}}\n\n// Listen for the clearing of the current output cell\nvar outputEl = gd.closest('.output');\nif (outputEl) {{\n    x.observe(outputEl, {childList: true});\n}}\n\n                        })                };                });            </script>        </div>",
            "image/png": "[encoded data removed]"
          },
          "metadata": {}
        }
      ],
      "execution_count": 39
    },
    {
      "cell_type": "markdown",
      "source": "# Next Steps:\n\nNow you have discovered many interesting insights related to the launch sites' location using folium, in a very interactive way. Next, you will need to build a dashboard using Ploty Dash on detailed launch records.\n",
      "metadata": {}
    },
    {
      "cell_type": "markdown",
      "source": "## Authors\n",
      "metadata": {}
    },
    {
      "cell_type": "markdown",
      "source": "[Pratiksha Verma](https://www.linkedin.com/in/pratiksha-verma-6487561b1/?utm_medium=Exinfluencer&utm_source=Exinfluencer&utm_content=000026UJ&utm_term=10006555&utm_id=NA-SkillsNetwork-Channel-SkillsNetworkCoursesIBMDS0321ENSkillsNetwork865-2022-01-01)\n",
      "metadata": {}
    },
    {
      "cell_type": "markdown",
      "source": "## Change Log\n",
      "metadata": {}
    },
    {
      "cell_type": "markdown",
      "source": "| Date (YYYY-MM-DD) | Version | Changed By      | Change Description      |\n| ----------------- | ------- | -------------   | ----------------------- |\n| 2022-11-09        | 1.0     | Pratiksha Verma | Converted initial version to Jupyterlite|\n",
      "metadata": {}
    },
    {
      "cell_type": "markdown",
      "source": "### <h3 align=\"center\"> IBM Corporation 2022. All rights reserved. <h3/>\n",
      "metadata": {}
    }
  ]
}